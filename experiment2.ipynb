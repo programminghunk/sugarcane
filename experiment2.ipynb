{
  "metadata": {
    "kernelspec": {
      "language": "python",
      "display_name": "Python 3",
      "name": "python3"
    },
    "language_info": {
      "name": "python",
      "version": "3.10.13",
      "mimetype": "text/x-python",
      "codemirror_mode": {
        "name": "ipython",
        "version": 3
      },
      "pygments_lexer": "ipython3",
      "nbconvert_exporter": "python",
      "file_extension": ".py"
    },
    "kaggle": {
      "accelerator": "nvidiaTeslaT4",
      "dataSources": [],
      "dockerImageVersionId": 30747,
      "isInternetEnabled": true,
      "language": "python",
      "sourceType": "notebook",
      "isGpuEnabled": true
    },
    "colab": {
      "name": "experiment2",
      "provenance": [],
      "include_colab_link": true
    }
  },
  "nbformat_minor": 0,
  "nbformat": 4,
  "cells": [
    {
      "cell_type": "markdown",
      "metadata": {
        "id": "view-in-github",
        "colab_type": "text"
      },
      "source": [
        "<a href=\"https://colab.research.google.com/github/programminghunk/sugarcane/blob/main/experiment2.ipynb\" target=\"_parent\"><img src=\"https://colab.research.google.com/assets/colab-badge.svg\" alt=\"Open In Colab\"/></a>"
      ]
    },
    {
      "cell_type": "code",
      "source": [
        "!git clone https://github.com/ultralytics/ultralytics.git"
      ],
      "metadata": {
        "execution": {
          "iopub.status.busy": "2024-08-04T05:42:03.31364Z",
          "iopub.execute_input": "2024-08-04T05:42:03.314589Z",
          "iopub.status.idle": "2024-08-04T05:42:06.828081Z",
          "shell.execute_reply.started": "2024-08-04T05:42:03.314545Z",
          "shell.execute_reply": "2024-08-04T05:42:06.826962Z"
        },
        "trusted": true,
        "id": "TGsN70UATY4q",
        "outputId": "ff55e573-9311-4caf-cda3-d0f8dc780750"
      },
      "execution_count": null,
      "outputs": [
        {
          "name": "stdout",
          "text": "Cloning into 'ultralytics'...\nremote: Enumerating objects: 34960, done.\u001b[K\nremote: Counting objects: 100% (3537/3537), done.\u001b[K\nremote: Compressing objects: 100% (1527/1527), done.\u001b[K\nremote: Total 34960 (delta 2401), reused 3014 (delta 1996), pack-reused 31423\u001b[K\nReceiving objects: 100% (34960/34960), 29.57 MiB | 31.64 MiB/s, done.\nResolving deltas: 100% (25160/25160), done.\n",
          "output_type": "stream"
        }
      ]
    },
    {
      "cell_type": "code",
      "source": [
        "!nvdia-smi"
      ],
      "metadata": {
        "execution": {
          "iopub.status.busy": "2024-08-04T05:42:19.868613Z",
          "iopub.execute_input": "2024-08-04T05:42:19.868968Z",
          "iopub.status.idle": "2024-08-04T05:42:20.862053Z",
          "shell.execute_reply.started": "2024-08-04T05:42:19.86894Z",
          "shell.execute_reply": "2024-08-04T05:42:20.861098Z"
        },
        "trusted": true,
        "id": "1QffQGRrTY4v",
        "outputId": "c797b715-fbdd-4f7e-d825-ca7ae1bb49f3"
      },
      "execution_count": null,
      "outputs": [
        {
          "name": "stdout",
          "text": "/bin/bash: nvdia-smi: command not found\n",
          "output_type": "stream"
        }
      ]
    },
    {
      "cell_type": "code",
      "source": [
        "#%cd ..\n",
        "#!pip install -e '.[dev]'"
      ],
      "metadata": {
        "execution": {
          "iopub.status.busy": "2024-08-04T05:45:12.593351Z",
          "iopub.execute_input": "2024-08-04T05:45:12.594162Z",
          "iopub.status.idle": "2024-08-04T05:45:12.598021Z",
          "shell.execute_reply.started": "2024-08-04T05:45:12.594128Z",
          "shell.execute_reply": "2024-08-04T05:45:12.59701Z"
        },
        "trusted": true,
        "id": "-QhQ0yMqTY4w"
      },
      "execution_count": null,
      "outputs": []
    },
    {
      "cell_type": "code",
      "source": [
        "from IPython import display\n",
        "display.clear_output()\n",
        "\n",
        "import ultralytics\n",
        "ultralytics.checks()"
      ],
      "metadata": {
        "execution": {
          "iopub.status.busy": "2024-08-04T05:45:27.823074Z",
          "iopub.execute_input": "2024-08-04T05:45:27.823877Z",
          "iopub.status.idle": "2024-08-04T05:45:36.453751Z",
          "shell.execute_reply.started": "2024-08-04T05:45:27.823846Z",
          "shell.execute_reply": "2024-08-04T05:45:36.452913Z"
        },
        "trusted": true,
        "id": "02lhN5zXTY4y",
        "outputId": "e6b66cfa-2436-42ec-c5b0-7170732e95a7"
      },
      "execution_count": null,
      "outputs": [
        {
          "name": "stdout",
          "text": "Ultralytics YOLOv8.2.72 🚀 Python-3.10.13 torch-2.1.2 CUDA:0 (Tesla T4, 15095MiB)\nSetup complete ✅ (4 CPUs, 31.4 GB RAM, 5771.8/8062.4 GB disk)\n",
          "output_type": "stream"
        }
      ]
    },
    {
      "cell_type": "code",
      "source": [
        "%%writefile ultralytics/cfg/models/v8/backbonev9.yaml\n",
        "\n",
        "# Parameters\n",
        "nc: 2 # number of classes\n",
        "scales: # model compound scaling constants, i.e. 'model=yolov8n.yaml' will call yolov8.yaml with scale 'n'\n",
        "  # [depth, width, max_channels]\n",
        "  n: [0.33, 0.25, 1024] # YOLOv8n summary: 225 layers,  3157200 parameters,  3157184 gradients,   8.9 GFLOPs\n",
        "  s: [0.33, 0.50, 1024] # YOLOv8s summary: 225 layers, 11166560 parameters, 11166544 gradients,  28.8 GFLOPs\n",
        "  m: [0.67, 0.75, 768] # YOLOv8m summary: 295 layers, 25902640 parameters, 25902624 gradients,  79.3 GFLOPs\n",
        "  l: [1.00, 1.00, 512] # YOLOv8l summary: 365 layers, 43691520 parameters, 43691504 gradients, 165.7 GFLOPs\n",
        "  x: [1.00, 1.25, 512] # YOLOv8x summary: 365 layers, 68229648 parameters, 68229632 gradients, 258.5 GFLOPs\n",
        "\n",
        "# YOLOv8.0n backbone\n",
        "backbone:\n",
        "  # [from, repeats, module, args]\n",
        "  - [-1, 1, Conv, [32, 3, 2]] # 0-P1/2\n",
        "  - [-1, 1, Conv, [64, 3, 2]] # 1-P2/4\n",
        "  - [-1, 3, C2f, [64, True]]\n",
        "  - [-1, 1, Conv, [128, 3, 2]] # 3-P3/8\n",
        "  - [-1, 6, C2f, [128, True]]\n",
        "  - [-1, 1, SCDown, [256, 3, 2]] # 5-P4/16\n",
        "  - [-1, 6, C2f, [256, True]]\n",
        "  - [-1, 1, SCDown, [512, 3, 2]] # 7-P5/32\n",
        "  - [-1, 3, C2fCIB, [512, True, True]]\n",
        "  - [-1, 1, SPPF, [512, 5]] # 9\n",
        "\n",
        "# YOLOv8.0n head\n",
        "head:\n",
        "  - [-1, 1, nn.Upsample, [None, 2, \"nearest\"]]\n",
        "  - [[-1, 6], 1, Concat, [1]] # cat backbone P4\n",
        "  - [-1, 3, C2f, [512]] # 12\n",
        "\n",
        "  - [-1, 1, nn.Upsample, [None, 2, \"nearest\"]]\n",
        "  - [[-1, 4], 1, Concat, [1]] # cat backbone P3\n",
        "  - [-1, 3, C2f, [256]] # 15 (P3/8-small)\n",
        "\n",
        "  - [-1, 1, Conv, [256, 3, 2]]\n",
        "  - [[-1, 12], 1, Concat, [1]] # cat head P4\n",
        "  - [-1, 3, C2f, [512]] # 18 (P4/16-medium)\n",
        "\n",
        "  - [-1, 1, Conv, [512, 3, 2]]\n",
        "  - [[-1, 9], 1, Concat, [1]] # cat head P5\n",
        "  - [-1, 3, C2f, [1024]] # 21 (P5/32-large)\n",
        "\n",
        "  - [[15, 18, 21], 1, Detect, [nc]] # Detect(P3, P4, P5)\n"
      ],
      "metadata": {
        "execution": {
          "iopub.status.busy": "2024-08-04T05:53:02.262712Z",
          "iopub.execute_input": "2024-08-04T05:53:02.26344Z",
          "iopub.status.idle": "2024-08-04T05:53:02.269935Z",
          "shell.execute_reply.started": "2024-08-04T05:53:02.26341Z",
          "shell.execute_reply": "2024-08-04T05:53:02.269082Z"
        },
        "trusted": true,
        "id": "XOjp9hpCTY4z",
        "outputId": "314ffcfe-52d9-4070-8a9a-b142eb2ff6f1"
      },
      "execution_count": null,
      "outputs": [
        {
          "name": "stdout",
          "text": "Overwriting ultralytics/cfg/models/v8/backbonev9.yaml\n",
          "output_type": "stream"
        }
      ]
    },
    {
      "cell_type": "code",
      "source": [
        "%pwd"
      ],
      "metadata": {
        "execution": {
          "iopub.status.busy": "2024-08-04T05:51:55.749849Z",
          "iopub.execute_input": "2024-08-04T05:51:55.750205Z",
          "iopub.status.idle": "2024-08-04T05:51:55.757306Z",
          "shell.execute_reply.started": "2024-08-04T05:51:55.750177Z",
          "shell.execute_reply": "2024-08-04T05:51:55.75638Z"
        },
        "trusted": true,
        "id": "0_KPAtVGTY40",
        "outputId": "b45c4079-cf16-4a50-db13-fa435cc00dee"
      },
      "execution_count": null,
      "outputs": [
        {
          "execution_count": 13,
          "output_type": "execute_result",
          "data": {
            "text/plain": "'/kaggle/working/ultralytics'"
          },
          "metadata": {}
        }
      ]
    },
    {
      "cell_type": "code",
      "source": [
        "import ultralytics\n",
        "from ultralytics import YOLO\n",
        "\n",
        "model = YOLO(\"/kaggle/working/ultralytics/ultralytics/cfg/models/v8/backbonev9.yaml\")\n",
        "\n",
        "# Display model information (optional)\n",
        "model.info()"
      ],
      "metadata": {
        "execution": {
          "iopub.status.busy": "2024-08-04T05:53:09.836251Z",
          "iopub.execute_input": "2024-08-04T05:53:09.837125Z",
          "iopub.status.idle": "2024-08-04T05:53:10.042901Z",
          "shell.execute_reply.started": "2024-08-04T05:53:09.837093Z",
          "shell.execute_reply": "2024-08-04T05:53:10.042003Z"
        },
        "trusted": true,
        "id": "m3iotDT7TY41",
        "outputId": "0b12c048-3394-439b-aacf-c885ba0de242"
      },
      "execution_count": null,
      "outputs": [
        {
          "name": "stdout",
          "text": "WARNING ⚠️ no model scale passed. Assuming scale='n'.\nbackbonev9 summary: 252 layers, 1,871,038 parameters, 1,871,022 gradients, 5.6 GFLOPs\n",
          "output_type": "stream"
        },
        {
          "execution_count": 16,
          "output_type": "execute_result",
          "data": {
            "text/plain": "(252, 1871038, 1871022, 5.5895552)"
          },
          "metadata": {}
        }
      ]
    },
    {
      "cell_type": "code",
      "source": [
        "%cd .."
      ],
      "metadata": {
        "execution": {
          "iopub.status.busy": "2024-08-04T05:54:09.1923Z",
          "iopub.execute_input": "2024-08-04T05:54:09.193202Z",
          "iopub.status.idle": "2024-08-04T05:54:09.198721Z",
          "shell.execute_reply.started": "2024-08-04T05:54:09.19317Z",
          "shell.execute_reply": "2024-08-04T05:54:09.197706Z"
        },
        "trusted": true,
        "id": "r6UiUXxHTY42",
        "outputId": "42fb8fad-76b8-4d7e-996b-4744e78857a1"
      },
      "execution_count": null,
      "outputs": [
        {
          "name": "stdout",
          "text": "/kaggle/working\n",
          "output_type": "stream"
        }
      ]
    },
    {
      "cell_type": "code",
      "source": [
        "!pip install roboflow --quiet\n",
        "\n",
        "from roboflow import Roboflow\n",
        "rf = Roboflow(api_key=\"y4uzPDgeB6rEDxdHhxsW\")\n",
        "project = rf.workspace(\"buddetection\").project(\"np_mynp\")\n",
        "version = project.version(2)\n",
        "dataset = version.download(\"yolov8\")"
      ],
      "metadata": {
        "execution": {
          "iopub.status.busy": "2024-08-04T05:54:20.400519Z",
          "iopub.execute_input": "2024-08-04T05:54:20.40152Z",
          "iopub.status.idle": "2024-08-04T05:54:42.838499Z",
          "shell.execute_reply.started": "2024-08-04T05:54:20.401479Z",
          "shell.execute_reply": "2024-08-04T05:54:42.837451Z"
        },
        "trusted": true,
        "id": "XWffCuoqTY43",
        "outputId": "0b580572-45e7-46ce-b5ef-33b04fa0f0e6"
      },
      "execution_count": null,
      "outputs": [
        {
          "name": "stdout",
          "text": "\u001b[31mERROR: pip's dependency resolver does not currently take into account all the packages that are installed. This behaviour is the source of the following dependency conflicts.\ntensorflow-decision-forests 1.8.1 requires wurlitzer, which is not installed.\njupyterlab 4.2.3 requires jupyter-lsp>=2.0.0, but you have jupyter-lsp 1.5.1 which is incompatible.\njupyterlab-lsp 5.1.0 requires jupyter-lsp>=2.0.0, but you have jupyter-lsp 1.5.1 which is incompatible.\ntensorflow 2.15.0 requires keras<2.16,>=2.15.0, but you have keras 3.4.1 which is incompatible.\nydata-profiling 4.6.4 requires numpy<1.26,>=1.16.0, but you have numpy 1.26.4 which is incompatible.\u001b[0m\u001b[31m\nloading Roboflow workspace...\nloading Roboflow project...\nDependency ultralytics==8.0.196 is required but found version=8.2.72, to fix: `pip install ultralytics==8.0.196`\n",
          "output_type": "stream"
        },
        {
          "name": "stderr",
          "text": "Downloading Dataset Version Zip in np_mynp-2 to yolov8:: 100%|██████████| 251830/251830 [00:05<00:00, 43573.55it/s]",
          "output_type": "stream"
        },
        {
          "name": "stdout",
          "text": "\n",
          "output_type": "stream"
        },
        {
          "name": "stderr",
          "text": "\nExtracting Dataset Version Zip to np_mynp-2 in yolov8:: 100%|██████████| 6719/6719 [00:01<00:00, 6181.28it/s]\n",
          "output_type": "stream"
        }
      ]
    },
    {
      "cell_type": "code",
      "source": [
        "%%writefile np_mynp-2/data.yaml\n",
        "path: /kaggle/working\n",
        "names:\n",
        "- FIT\n",
        "- UNFIT\n",
        "nc: 2\n",
        "roboflow:\n",
        "  license: CC BY 4.0\n",
        "  project: np_mynp\n",
        "  url: https://universe.roboflow.com/buddetection/np_mynp/dataset/1\n",
        "  version: 2\n",
        "  workspace: buddetection\n",
        "test: np_mynp-2/test/images\n",
        "train: np_mynp-2/train/images\n",
        "val: np_mynp-2/test/images\n"
      ],
      "metadata": {
        "execution": {
          "iopub.status.busy": "2024-08-04T06:00:03.494593Z",
          "iopub.execute_input": "2024-08-04T06:00:03.494948Z",
          "iopub.status.idle": "2024-08-04T06:00:03.500924Z",
          "shell.execute_reply.started": "2024-08-04T06:00:03.49492Z",
          "shell.execute_reply": "2024-08-04T06:00:03.499947Z"
        },
        "trusted": true,
        "id": "Ds-QP36RTY44",
        "outputId": "0590820f-6071-4f0a-e45c-a78e45db4717"
      },
      "execution_count": null,
      "outputs": [
        {
          "name": "stdout",
          "text": "Overwriting np_mynp-2/data.yaml\n",
          "output_type": "stream"
        }
      ]
    },
    {
      "cell_type": "code",
      "source": [
        "%%writefile np_mynp-2/data.yaml\n",
        "path: kaggle/working\n",
        "names:\n",
        "- FIT\n",
        "- UNFIT\n",
        "nc: 2\n",
        "roboflow:\n",
        "  license: CC BY 4.0\n",
        "  project: np_mynp\n",
        "  url: https://universe.roboflow.com/buddetection/np_mynp/dataset/2\n",
        "  version: 2\n",
        "  workspace: buddetection\n",
        "test: np_mynp-2/test/images\n",
        "train: np_mynp-2/train/images\n",
        "val: np_mynp-2/test/images"
      ],
      "metadata": {
        "execution": {
          "iopub.status.busy": "2024-08-04T05:56:38.355547Z",
          "iopub.execute_input": "2024-08-04T05:56:38.35591Z",
          "iopub.status.idle": "2024-08-04T05:56:38.362823Z",
          "shell.execute_reply.started": "2024-08-04T05:56:38.355882Z",
          "shell.execute_reply": "2024-08-04T05:56:38.361857Z"
        },
        "trusted": true,
        "id": "4R7R3IY1TY45",
        "outputId": "bd086135-9b1d-4a0e-8793-be849d928ff2"
      },
      "execution_count": null,
      "outputs": [
        {
          "name": "stdout",
          "text": "Overwriting np_mynp-2/data.yaml\n",
          "output_type": "stream"
        }
      ]
    },
    {
      "cell_type": "code",
      "source": [
        "%pwd"
      ],
      "metadata": {
        "execution": {
          "iopub.status.busy": "2024-08-04T05:58:42.641659Z",
          "iopub.execute_input": "2024-08-04T05:58:42.642024Z",
          "iopub.status.idle": "2024-08-04T05:58:42.648368Z",
          "shell.execute_reply.started": "2024-08-04T05:58:42.641994Z",
          "shell.execute_reply": "2024-08-04T05:58:42.647453Z"
        },
        "trusted": true,
        "id": "qM1uNsSyTY46",
        "outputId": "000cd8e9-e9fa-4575-d538-6661e0c6d0ec"
      },
      "execution_count": null,
      "outputs": [
        {
          "execution_count": 24,
          "output_type": "execute_result",
          "data": {
            "text/plain": "'/kaggle/working'"
          },
          "metadata": {}
        }
      ]
    },
    {
      "cell_type": "code",
      "source": [
        "results = model.train(data=\"np_mynp-2/data.yaml\", epochs=100, imgsz=640)"
      ],
      "metadata": {
        "execution": {
          "iopub.status.busy": "2024-08-04T06:00:11.056695Z",
          "iopub.execute_input": "2024-08-04T06:00:11.057043Z",
          "iopub.status.idle": "2024-08-04T06:53:22.874349Z",
          "shell.execute_reply.started": "2024-08-04T06:00:11.057016Z",
          "shell.execute_reply": "2024-08-04T06:53:22.873249Z"
        },
        "trusted": true,
        "id": "i2clLceDTY47",
        "outputId": "b1401cfa-0fe9-4081-dd68-a0852942fb52"
      },
      "execution_count": null,
      "outputs": [
        {
          "name": "stdout",
          "text": "Ultralytics YOLOv8.2.72 🚀 Python-3.10.13 torch-2.1.2 CUDA:0 (Tesla T4, 15095MiB)\n\u001b[34m\u001b[1mengine/trainer: \u001b[0mtask=detect, mode=train, model=/kaggle/working/ultralytics/ultralytics/cfg/models/v8/backbonev9.yaml, data=np_mynp-2/data.yaml, epochs=100, time=None, patience=100, batch=16, imgsz=640, save=True, save_period=-1, cache=False, device=None, workers=8, project=None, name=train2, exist_ok=False, pretrained=True, optimizer=auto, verbose=True, seed=0, deterministic=True, single_cls=False, rect=False, cos_lr=False, close_mosaic=10, resume=False, amp=True, fraction=1.0, profile=False, freeze=None, multi_scale=False, overlap_mask=True, mask_ratio=4, dropout=0.0, val=True, split=val, save_json=False, save_hybrid=False, conf=None, iou=0.7, max_det=300, half=False, dnn=False, plots=True, source=None, vid_stride=1, stream_buffer=False, visualize=False, augment=False, agnostic_nms=False, classes=None, retina_masks=False, embed=None, show=False, save_frames=False, save_txt=False, save_conf=False, save_crop=False, show_labels=True, show_conf=True, show_boxes=True, line_width=None, format=torchscript, keras=False, optimize=False, int8=False, dynamic=False, simplify=False, opset=None, workspace=4, nms=False, lr0=0.01, lrf=0.01, momentum=0.937, weight_decay=0.0005, warmup_epochs=3.0, warmup_momentum=0.8, warmup_bias_lr=0.1, box=7.5, cls=0.5, dfl=1.5, pose=12.0, kobj=1.0, label_smoothing=0.0, nbs=64, hsv_h=0.015, hsv_s=0.7, hsv_v=0.4, degrees=0.0, translate=0.1, scale=0.5, shear=0.0, perspective=0.0, flipud=0.0, fliplr=0.5, bgr=0.0, mosaic=1.0, mixup=0.0, copy_paste=0.0, auto_augment=randaugment, erasing=0.4, crop_fraction=1.0, cfg=None, tracker=botsort.yaml, save_dir=/kaggle/working/ultralytics/runs/detect/train2\nDownloading https://ultralytics.com/assets/Arial.ttf to '/root/.config/Ultralytics/Arial.ttf'...\n",
          "output_type": "stream"
        },
        {
          "name": "stderr",
          "text": "100%|██████████| 755k/755k [00:00<00:00, 14.9MB/s]\n2024-08-04 06:00:12,827\tINFO util.py:124 -- Outdated packages:\n  ipywidgets==7.7.1 found, needs ipywidgets>=8\nRun `pip install -U ipywidgets`, then restart the notebook server for rich notebook output.\n2024-08-04 06:00:14,200\tINFO util.py:124 -- Outdated packages:\n  ipywidgets==7.7.1 found, needs ipywidgets>=8\nRun `pip install -U ipywidgets`, then restart the notebook server for rich notebook output.\n",
          "output_type": "stream"
        },
        {
          "name": "stdout",
          "text": "WARNING ⚠️ no model scale passed. Assuming scale='n'.\n\n                   from  n    params  module                                       arguments                     \n  0                  -1  1       232  ultralytics.nn.modules.conv.Conv             [3, 8, 3, 2]                  \n  1                  -1  1      1184  ultralytics.nn.modules.conv.Conv             [8, 16, 3, 2]                 \n  2                  -1  1      1888  ultralytics.nn.modules.block.C2f             [16, 16, 1, True]             \n  3                  -1  1      4672  ultralytics.nn.modules.conv.Conv             [16, 32, 3, 2]                \n  4                  -1  2     12544  ultralytics.nn.modules.block.C2f             [32, 32, 2, True]             \n  5                  -1  1      2880  ultralytics.nn.modules.block.SCDown          [32, 64, 3, 2]                \n  6                  -1  2     49664  ultralytics.nn.modules.block.C2f             [64, 64, 2, True]             \n  7                  -1  1      9856  ultralytics.nn.modules.block.SCDown          [64, 128, 3, 2]               \n  8                  -1  1     67584  ultralytics.nn.modules.block.C2fCIB          [128, 128, 1, True, True]     \n  9                  -1  1     41344  ultralytics.nn.modules.block.SPPF            [128, 128, 5]                 \n 10                  -1  1         0  torch.nn.modules.upsampling.Upsample         [None, 2, 'nearest']          \n 11             [-1, 6]  1         0  ultralytics.nn.modules.conv.Concat           [1]                           \n 12                  -1  1    123648  ultralytics.nn.modules.block.C2f             [192, 128, 1]                 \n 13                  -1  1         0  torch.nn.modules.upsampling.Upsample         [None, 2, 'nearest']          \n 14             [-1, 4]  1         0  ultralytics.nn.modules.conv.Concat           [1]                           \n 15                  -1  1     35200  ultralytics.nn.modules.block.C2f             [160, 64, 1]                  \n 16                  -1  1     36992  ultralytics.nn.modules.conv.Conv             [64, 64, 3, 2]                \n 17            [-1, 12]  1         0  ultralytics.nn.modules.conv.Concat           [1]                           \n 18                  -1  1    123648  ultralytics.nn.modules.block.C2f             [192, 128, 1]                 \n 19                  -1  1    147712  ultralytics.nn.modules.conv.Conv             [128, 128, 3, 2]              \n 20             [-1, 9]  1         0  ultralytics.nn.modules.conv.Concat           [1]                           \n 21                  -1  1    460288  ultralytics.nn.modules.block.C2f             [256, 256, 1]                 \n 22        [15, 18, 21]  1    751702  ultralytics.nn.modules.head.Detect           [2, [64, 128, 256]]           \nbackbonev9 summary: 252 layers, 1,871,038 parameters, 1,871,022 gradients, 5.6 GFLOPs\n\n\u001b[34m\u001b[1mTensorBoard: \u001b[0mStart with 'tensorboard --logdir /kaggle/working/ultralytics/runs/detect/train2', view at http://localhost:6006/\nFreezing layer 'model.22.dfl.conv.weight'\n\u001b[34m\u001b[1mAMP: \u001b[0mrunning Automatic Mixed Precision (AMP) checks with YOLOv8n...\nDownloading https://github.com/ultralytics/assets/releases/download/v8.2.0/yolov8n.pt to 'yolov8n.pt'...\n",
          "output_type": "stream"
        },
        {
          "name": "stderr",
          "text": "100%|██████████| 6.25M/6.25M [00:00<00:00, 75.0MB/s]\n",
          "output_type": "stream"
        },
        {
          "name": "stdout",
          "text": "\u001b[34m\u001b[1mAMP: \u001b[0mchecks passed ✅\n",
          "output_type": "stream"
        },
        {
          "name": "stderr",
          "text": "\u001b[34m\u001b[1mtrain: \u001b[0mScanning /kaggle/working/np_mynp-2/train/labels... 3087 images, 3 backgrounds, 0 corrupt: 100%|██████████| 3087/3087 [00:02<00:00, 1310.04it/s]\n",
          "output_type": "stream"
        },
        {
          "name": "stdout",
          "text": "\u001b[34m\u001b[1mtrain: \u001b[0mNew cache created: /kaggle/working/np_mynp-2/train/labels.cache\n\u001b[34m\u001b[1malbumentations: \u001b[0mBlur(p=0.01, blur_limit=(3, 7)), MedianBlur(p=0.01, blur_limit=(3, 7)), ToGray(p=0.01), CLAHE(p=0.01, clip_limit=(1, 4.0), tile_grid_size=(8, 8))\n",
          "output_type": "stream"
        },
        {
          "name": "stderr",
          "text": "os.fork() was called. os.fork() is incompatible with multithreaded code, and JAX is multithreaded, so this will likely lead to a deadlock.\n\u001b[34m\u001b[1mval: \u001b[0mScanning /kaggle/working/np_mynp-2/test/labels... 268 images, 1 backgrounds, 0 corrupt: 100%|██████████| 268/268 [00:00<00:00, 1176.16it/s]",
          "output_type": "stream"
        },
        {
          "name": "stdout",
          "text": "\u001b[34m\u001b[1mval: \u001b[0mNew cache created: /kaggle/working/np_mynp-2/test/labels.cache\n",
          "output_type": "stream"
        },
        {
          "name": "stderr",
          "text": "\n",
          "output_type": "stream"
        },
        {
          "name": "stdout",
          "text": "Plotting labels to /kaggle/working/ultralytics/runs/detect/train2/labels.jpg... \n\u001b[34m\u001b[1moptimizer:\u001b[0m 'optimizer=auto' found, ignoring 'lr0=0.01' and 'momentum=0.937' and determining best 'optimizer', 'lr0' and 'momentum' automatically... \n\u001b[34m\u001b[1moptimizer:\u001b[0m AdamW(lr=0.001667, momentum=0.9) with parameter groups 63 weight(decay=0.0), 70 weight(decay=0.0005), 69 bias(decay=0.0)\n\u001b[34m\u001b[1mTensorBoard: \u001b[0mmodel graph visualization added ✅\nImage sizes 640 train, 640 val\nUsing 2 dataloader workers\nLogging results to \u001b[1m/kaggle/working/ultralytics/runs/detect/train2\u001b[0m\nStarting training for 100 epochs...\n\n      Epoch    GPU_mem   box_loss   cls_loss   dfl_loss  Instances       Size\n",
          "output_type": "stream"
        },
        {
          "name": "stderr",
          "text": "      1/100      1.91G      3.282      3.755       3.77         46        640: 100%|██████████| 193/193 [00:33<00:00,  5.83it/s]\n                 Class     Images  Instances      Box(P          R      mAP50  mAP50-95): 100%|██████████| 9/9 [00:03<00:00,  2.74it/s]",
          "output_type": "stream"
        },
        {
          "name": "stdout",
          "text": "                   all        268        347      0.259      0.351      0.179     0.0457\n",
          "output_type": "stream"
        },
        {
          "name": "stderr",
          "text": "\n",
          "output_type": "stream"
        },
        {
          "name": "stdout",
          "text": "\n      Epoch    GPU_mem   box_loss   cls_loss   dfl_loss  Instances       Size\n",
          "output_type": "stream"
        },
        {
          "name": "stderr",
          "text": "      2/100      1.83G       2.47      3.133      2.929         52        640: 100%|██████████| 193/193 [00:29<00:00,  6.64it/s]\n                 Class     Images  Instances      Box(P          R      mAP50  mAP50-95): 100%|██████████| 9/9 [00:01<00:00,  5.58it/s]",
          "output_type": "stream"
        },
        {
          "name": "stdout",
          "text": "                   all        268        347      0.228      0.296      0.243     0.0905\n",
          "output_type": "stream"
        },
        {
          "name": "stderr",
          "text": "\n",
          "output_type": "stream"
        },
        {
          "name": "stdout",
          "text": "\n      Epoch    GPU_mem   box_loss   cls_loss   dfl_loss  Instances       Size\n",
          "output_type": "stream"
        },
        {
          "name": "stderr",
          "text": "      3/100      1.81G      2.119      2.649      2.475         46        640: 100%|██████████| 193/193 [00:28<00:00,  6.66it/s]\n                 Class     Images  Instances      Box(P          R      mAP50  mAP50-95): 100%|██████████| 9/9 [00:01<00:00,  5.69it/s]",
          "output_type": "stream"
        },
        {
          "name": "stdout",
          "text": "                   all        268        347      0.338      0.471       0.32     0.0965\n",
          "output_type": "stream"
        },
        {
          "name": "stderr",
          "text": "\n",
          "output_type": "stream"
        },
        {
          "name": "stdout",
          "text": "\n      Epoch    GPU_mem   box_loss   cls_loss   dfl_loss  Instances       Size\n",
          "output_type": "stream"
        },
        {
          "name": "stderr",
          "text": "      4/100      1.83G      1.792      2.081      2.094         50        640: 100%|██████████| 193/193 [00:29<00:00,  6.54it/s]\n                 Class     Images  Instances      Box(P          R      mAP50  mAP50-95): 100%|██████████| 9/9 [00:01<00:00,  5.80it/s]",
          "output_type": "stream"
        },
        {
          "name": "stdout",
          "text": "                   all        268        347      0.378      0.461      0.444      0.213\n",
          "output_type": "stream"
        },
        {
          "name": "stderr",
          "text": "\n",
          "output_type": "stream"
        },
        {
          "name": "stdout",
          "text": "\n      Epoch    GPU_mem   box_loss   cls_loss   dfl_loss  Instances       Size\n",
          "output_type": "stream"
        },
        {
          "name": "stderr",
          "text": "      5/100      1.81G      1.604      1.815      1.888         41        640: 100%|██████████| 193/193 [00:29<00:00,  6.58it/s]\n                 Class     Images  Instances      Box(P          R      mAP50  mAP50-95): 100%|██████████| 9/9 [00:01<00:00,  5.76it/s]",
          "output_type": "stream"
        },
        {
          "name": "stdout",
          "text": "                   all        268        347      0.602      0.558      0.573       0.33\n",
          "output_type": "stream"
        },
        {
          "name": "stderr",
          "text": "\n",
          "output_type": "stream"
        },
        {
          "name": "stdout",
          "text": "\n      Epoch    GPU_mem   box_loss   cls_loss   dfl_loss  Instances       Size\n",
          "output_type": "stream"
        },
        {
          "name": "stderr",
          "text": "      6/100      1.81G      1.497      1.708      1.787         38        640: 100%|██████████| 193/193 [00:29<00:00,  6.59it/s]\n                 Class     Images  Instances      Box(P          R      mAP50  mAP50-95): 100%|██████████| 9/9 [00:01<00:00,  5.74it/s]",
          "output_type": "stream"
        },
        {
          "name": "stdout",
          "text": "                   all        268        347      0.671      0.501      0.581       0.35\n",
          "output_type": "stream"
        },
        {
          "name": "stderr",
          "text": "\n",
          "output_type": "stream"
        },
        {
          "name": "stdout",
          "text": "\n      Epoch    GPU_mem   box_loss   cls_loss   dfl_loss  Instances       Size\n",
          "output_type": "stream"
        },
        {
          "name": "stderr",
          "text": "      7/100      1.81G      1.465        1.6      1.734         41        640: 100%|██████████| 193/193 [00:29<00:00,  6.60it/s]\n                 Class     Images  Instances      Box(P          R      mAP50  mAP50-95): 100%|██████████| 9/9 [00:01<00:00,  5.82it/s]",
          "output_type": "stream"
        },
        {
          "name": "stdout",
          "text": "                   all        268        347      0.615       0.62      0.648      0.384\n",
          "output_type": "stream"
        },
        {
          "name": "stderr",
          "text": "\n",
          "output_type": "stream"
        },
        {
          "name": "stdout",
          "text": "\n      Epoch    GPU_mem   box_loss   cls_loss   dfl_loss  Instances       Size\n",
          "output_type": "stream"
        },
        {
          "name": "stderr",
          "text": "      8/100      1.81G      1.407      1.525      1.677         32        640: 100%|██████████| 193/193 [00:28<00:00,  6.66it/s]\n                 Class     Images  Instances      Box(P          R      mAP50  mAP50-95): 100%|██████████| 9/9 [00:01<00:00,  5.73it/s]",
          "output_type": "stream"
        },
        {
          "name": "stdout",
          "text": "                   all        268        347      0.669      0.649       0.69      0.413\n",
          "output_type": "stream"
        },
        {
          "name": "stderr",
          "text": "\n",
          "output_type": "stream"
        },
        {
          "name": "stdout",
          "text": "\n      Epoch    GPU_mem   box_loss   cls_loss   dfl_loss  Instances       Size\n",
          "output_type": "stream"
        },
        {
          "name": "stderr",
          "text": "      9/100      1.83G      1.377      1.476      1.645         34        640: 100%|██████████| 193/193 [00:28<00:00,  6.68it/s]\n                 Class     Images  Instances      Box(P          R      mAP50  mAP50-95): 100%|██████████| 9/9 [00:01<00:00,  5.49it/s]",
          "output_type": "stream"
        },
        {
          "name": "stdout",
          "text": "                   all        268        347      0.667      0.676      0.723      0.437\n",
          "output_type": "stream"
        },
        {
          "name": "stderr",
          "text": "\n",
          "output_type": "stream"
        },
        {
          "name": "stdout",
          "text": "\n      Epoch    GPU_mem   box_loss   cls_loss   dfl_loss  Instances       Size\n",
          "output_type": "stream"
        },
        {
          "name": "stderr",
          "text": "     10/100      1.83G      1.345      1.467      1.601         51        640: 100%|██████████| 193/193 [00:29<00:00,  6.62it/s]\n                 Class     Images  Instances      Box(P          R      mAP50  mAP50-95): 100%|██████████| 9/9 [00:01<00:00,  5.77it/s]",
          "output_type": "stream"
        },
        {
          "name": "stdout",
          "text": "                   all        268        347      0.672      0.659      0.709      0.426\n",
          "output_type": "stream"
        },
        {
          "name": "stderr",
          "text": "\n",
          "output_type": "stream"
        },
        {
          "name": "stdout",
          "text": "\n      Epoch    GPU_mem   box_loss   cls_loss   dfl_loss  Instances       Size\n",
          "output_type": "stream"
        },
        {
          "name": "stderr",
          "text": "     11/100      1.81G      1.337      1.413      1.607         39        640: 100%|██████████| 193/193 [00:29<00:00,  6.63it/s]\n                 Class     Images  Instances      Box(P          R      mAP50  mAP50-95): 100%|██████████| 9/9 [00:01<00:00,  5.65it/s]",
          "output_type": "stream"
        },
        {
          "name": "stdout",
          "text": "                   all        268        347      0.609      0.608      0.667       0.41\n",
          "output_type": "stream"
        },
        {
          "name": "stderr",
          "text": "\n",
          "output_type": "stream"
        },
        {
          "name": "stdout",
          "text": "\n      Epoch    GPU_mem   box_loss   cls_loss   dfl_loss  Instances       Size\n",
          "output_type": "stream"
        },
        {
          "name": "stderr",
          "text": "     12/100      1.81G      1.298       1.36      1.554         47        640: 100%|██████████| 193/193 [00:29<00:00,  6.60it/s]\n                 Class     Images  Instances      Box(P          R      mAP50  mAP50-95): 100%|██████████| 9/9 [00:01<00:00,  5.79it/s]",
          "output_type": "stream"
        },
        {
          "name": "stdout",
          "text": "                   all        268        347      0.651      0.719      0.722       0.45\n",
          "output_type": "stream"
        },
        {
          "name": "stderr",
          "text": "\n",
          "output_type": "stream"
        },
        {
          "name": "stdout",
          "text": "\n      Epoch    GPU_mem   box_loss   cls_loss   dfl_loss  Instances       Size\n",
          "output_type": "stream"
        },
        {
          "name": "stderr",
          "text": "     13/100      1.83G      1.266      1.337      1.542         46        640: 100%|██████████| 193/193 [00:29<00:00,  6.62it/s]\n                 Class     Images  Instances      Box(P          R      mAP50  mAP50-95): 100%|██████████| 9/9 [00:01<00:00,  5.80it/s]",
          "output_type": "stream"
        },
        {
          "name": "stdout",
          "text": "                   all        268        347       0.73      0.621       0.74      0.434\n",
          "output_type": "stream"
        },
        {
          "name": "stderr",
          "text": "\n",
          "output_type": "stream"
        },
        {
          "name": "stdout",
          "text": "\n      Epoch    GPU_mem   box_loss   cls_loss   dfl_loss  Instances       Size\n",
          "output_type": "stream"
        },
        {
          "name": "stderr",
          "text": "     14/100      1.82G      1.278      1.346      1.554         37        640: 100%|██████████| 193/193 [00:29<00:00,  6.58it/s]\n                 Class     Images  Instances      Box(P          R      mAP50  mAP50-95): 100%|██████████| 9/9 [00:01<00:00,  5.71it/s]",
          "output_type": "stream"
        },
        {
          "name": "stdout",
          "text": "                   all        268        347      0.761      0.676      0.737      0.466\n",
          "output_type": "stream"
        },
        {
          "name": "stderr",
          "text": "\n",
          "output_type": "stream"
        },
        {
          "name": "stdout",
          "text": "\n      Epoch    GPU_mem   box_loss   cls_loss   dfl_loss  Instances       Size\n",
          "output_type": "stream"
        },
        {
          "name": "stderr",
          "text": "     15/100      1.81G      1.259       1.27      1.516         41        640: 100%|██████████| 193/193 [00:29<00:00,  6.56it/s]\n                 Class     Images  Instances      Box(P          R      mAP50  mAP50-95): 100%|██████████| 9/9 [00:01<00:00,  5.81it/s]",
          "output_type": "stream"
        },
        {
          "name": "stdout",
          "text": "                   all        268        347      0.727      0.726      0.772       0.49\n",
          "output_type": "stream"
        },
        {
          "name": "stderr",
          "text": "\n",
          "output_type": "stream"
        },
        {
          "name": "stdout",
          "text": "\n      Epoch    GPU_mem   box_loss   cls_loss   dfl_loss  Instances       Size\n",
          "output_type": "stream"
        },
        {
          "name": "stderr",
          "text": "     16/100      1.83G       1.24      1.257      1.509         54        640: 100%|██████████| 193/193 [00:29<00:00,  6.65it/s]\n                 Class     Images  Instances      Box(P          R      mAP50  mAP50-95): 100%|██████████| 9/9 [00:01<00:00,  5.59it/s]",
          "output_type": "stream"
        },
        {
          "name": "stdout",
          "text": "                   all        268        347       0.75      0.685      0.752      0.474\n",
          "output_type": "stream"
        },
        {
          "name": "stderr",
          "text": "\n",
          "output_type": "stream"
        },
        {
          "name": "stdout",
          "text": "\n      Epoch    GPU_mem   box_loss   cls_loss   dfl_loss  Instances       Size\n",
          "output_type": "stream"
        },
        {
          "name": "stderr",
          "text": "     17/100      1.83G      1.232      1.252      1.501         47        640: 100%|██████████| 193/193 [00:29<00:00,  6.64it/s]\n                 Class     Images  Instances      Box(P          R      mAP50  mAP50-95): 100%|██████████| 9/9 [00:01<00:00,  5.49it/s]",
          "output_type": "stream"
        },
        {
          "name": "stdout",
          "text": "                   all        268        347      0.745      0.665      0.745      0.486\n",
          "output_type": "stream"
        },
        {
          "name": "stderr",
          "text": "\n",
          "output_type": "stream"
        },
        {
          "name": "stdout",
          "text": "\n      Epoch    GPU_mem   box_loss   cls_loss   dfl_loss  Instances       Size\n",
          "output_type": "stream"
        },
        {
          "name": "stderr",
          "text": "     18/100      1.83G      1.217      1.212      1.487         41        640: 100%|██████████| 193/193 [00:29<00:00,  6.64it/s]\n                 Class     Images  Instances      Box(P          R      mAP50  mAP50-95): 100%|██████████| 9/9 [00:01<00:00,  5.78it/s]",
          "output_type": "stream"
        },
        {
          "name": "stdout",
          "text": "                   all        268        347      0.781      0.696      0.764      0.482\n",
          "output_type": "stream"
        },
        {
          "name": "stderr",
          "text": "\n",
          "output_type": "stream"
        },
        {
          "name": "stdout",
          "text": "\n      Epoch    GPU_mem   box_loss   cls_loss   dfl_loss  Instances       Size\n",
          "output_type": "stream"
        },
        {
          "name": "stderr",
          "text": "     19/100      1.83G      1.202      1.213      1.484         44        640: 100%|██████████| 193/193 [00:29<00:00,  6.60it/s]\n                 Class     Images  Instances      Box(P          R      mAP50  mAP50-95): 100%|██████████| 9/9 [00:01<00:00,  5.75it/s]",
          "output_type": "stream"
        },
        {
          "name": "stdout",
          "text": "                   all        268        347      0.806      0.675      0.762      0.498\n",
          "output_type": "stream"
        },
        {
          "name": "stderr",
          "text": "\n",
          "output_type": "stream"
        },
        {
          "name": "stdout",
          "text": "\n      Epoch    GPU_mem   box_loss   cls_loss   dfl_loss  Instances       Size\n",
          "output_type": "stream"
        },
        {
          "name": "stderr",
          "text": "     20/100      1.83G        1.2      1.207       1.48         40        640: 100%|██████████| 193/193 [00:29<00:00,  6.53it/s]\n                 Class     Images  Instances      Box(P          R      mAP50  mAP50-95): 100%|██████████| 9/9 [00:01<00:00,  5.85it/s]",
          "output_type": "stream"
        },
        {
          "name": "stdout",
          "text": "                   all        268        347      0.784      0.677      0.777      0.511\n",
          "output_type": "stream"
        },
        {
          "name": "stderr",
          "text": "\n",
          "output_type": "stream"
        },
        {
          "name": "stdout",
          "text": "\n      Epoch    GPU_mem   box_loss   cls_loss   dfl_loss  Instances       Size\n",
          "output_type": "stream"
        },
        {
          "name": "stderr",
          "text": "     21/100      1.83G      1.172      1.195      1.461         53        640: 100%|██████████| 193/193 [00:29<00:00,  6.47it/s]\n                 Class     Images  Instances      Box(P          R      mAP50  mAP50-95): 100%|██████████| 9/9 [00:01<00:00,  5.99it/s]",
          "output_type": "stream"
        },
        {
          "name": "stdout",
          "text": "                   all        268        347      0.885      0.651      0.813      0.523\n",
          "output_type": "stream"
        },
        {
          "name": "stderr",
          "text": "\n",
          "output_type": "stream"
        },
        {
          "name": "stdout",
          "text": "\n      Epoch    GPU_mem   box_loss   cls_loss   dfl_loss  Instances       Size\n",
          "output_type": "stream"
        },
        {
          "name": "stderr",
          "text": "     22/100      1.82G       1.17      1.142      1.456         48        640: 100%|██████████| 193/193 [00:29<00:00,  6.60it/s]\n                 Class     Images  Instances      Box(P          R      mAP50  mAP50-95): 100%|██████████| 9/9 [00:01<00:00,  5.68it/s]",
          "output_type": "stream"
        },
        {
          "name": "stdout",
          "text": "                   all        268        347      0.826      0.712      0.811      0.525\n",
          "output_type": "stream"
        },
        {
          "name": "stderr",
          "text": "\n",
          "output_type": "stream"
        },
        {
          "name": "stdout",
          "text": "\n      Epoch    GPU_mem   box_loss   cls_loss   dfl_loss  Instances       Size\n",
          "output_type": "stream"
        },
        {
          "name": "stderr",
          "text": "     23/100      1.81G      1.159      1.139      1.442         36        640: 100%|██████████| 193/193 [00:29<00:00,  6.60it/s]\n                 Class     Images  Instances      Box(P          R      mAP50  mAP50-95): 100%|██████████| 9/9 [00:01<00:00,  5.79it/s]",
          "output_type": "stream"
        },
        {
          "name": "stdout",
          "text": "                   all        268        347      0.715      0.757       0.82      0.534\n",
          "output_type": "stream"
        },
        {
          "name": "stderr",
          "text": "\n",
          "output_type": "stream"
        },
        {
          "name": "stdout",
          "text": "\n      Epoch    GPU_mem   box_loss   cls_loss   dfl_loss  Instances       Size\n",
          "output_type": "stream"
        },
        {
          "name": "stderr",
          "text": "     24/100      1.83G       1.15      1.115      1.427         44        640: 100%|██████████| 193/193 [00:29<00:00,  6.59it/s]\n                 Class     Images  Instances      Box(P          R      mAP50  mAP50-95): 100%|██████████| 9/9 [00:01<00:00,  5.81it/s]",
          "output_type": "stream"
        },
        {
          "name": "stdout",
          "text": "                   all        268        347      0.788      0.669      0.781      0.519\n",
          "output_type": "stream"
        },
        {
          "name": "stderr",
          "text": "\n",
          "output_type": "stream"
        },
        {
          "name": "stdout",
          "text": "\n      Epoch    GPU_mem   box_loss   cls_loss   dfl_loss  Instances       Size\n",
          "output_type": "stream"
        },
        {
          "name": "stderr",
          "text": "     25/100      1.81G      1.129       1.09      1.431         48        640: 100%|██████████| 193/193 [00:29<00:00,  6.55it/s]\n                 Class     Images  Instances      Box(P          R      mAP50  mAP50-95): 100%|██████████| 9/9 [00:01<00:00,  5.97it/s]",
          "output_type": "stream"
        },
        {
          "name": "stdout",
          "text": "                   all        268        347      0.771      0.718      0.798      0.519\n",
          "output_type": "stream"
        },
        {
          "name": "stderr",
          "text": "\n",
          "output_type": "stream"
        },
        {
          "name": "stdout",
          "text": "\n      Epoch    GPU_mem   box_loss   cls_loss   dfl_loss  Instances       Size\n",
          "output_type": "stream"
        },
        {
          "name": "stderr",
          "text": "     26/100      1.81G      1.131      1.103      1.426         48        640: 100%|██████████| 193/193 [00:28<00:00,  6.71it/s]\n                 Class     Images  Instances      Box(P          R      mAP50  mAP50-95): 100%|██████████| 9/9 [00:01<00:00,  5.71it/s]",
          "output_type": "stream"
        },
        {
          "name": "stdout",
          "text": "                   all        268        347      0.843      0.763      0.854       0.56\n",
          "output_type": "stream"
        },
        {
          "name": "stderr",
          "text": "\n",
          "output_type": "stream"
        },
        {
          "name": "stdout",
          "text": "\n      Epoch    GPU_mem   box_loss   cls_loss   dfl_loss  Instances       Size\n",
          "output_type": "stream"
        },
        {
          "name": "stderr",
          "text": "     27/100      1.83G      1.133      1.089      1.424         41        640: 100%|██████████| 193/193 [00:28<00:00,  6.66it/s]\n                 Class     Images  Instances      Box(P          R      mAP50  mAP50-95): 100%|██████████| 9/9 [00:01<00:00,  5.51it/s]",
          "output_type": "stream"
        },
        {
          "name": "stdout",
          "text": "                   all        268        347      0.823      0.743      0.815      0.527\n",
          "output_type": "stream"
        },
        {
          "name": "stderr",
          "text": "\n",
          "output_type": "stream"
        },
        {
          "name": "stdout",
          "text": "\n      Epoch    GPU_mem   box_loss   cls_loss   dfl_loss  Instances       Size\n",
          "output_type": "stream"
        },
        {
          "name": "stderr",
          "text": "     28/100      1.83G      1.128      1.079      1.419         37        640: 100%|██████████| 193/193 [00:29<00:00,  6.61it/s]\n                 Class     Images  Instances      Box(P          R      mAP50  mAP50-95): 100%|██████████| 9/9 [00:01<00:00,  6.06it/s]",
          "output_type": "stream"
        },
        {
          "name": "stdout",
          "text": "                   all        268        347      0.821      0.722      0.822      0.555\n",
          "output_type": "stream"
        },
        {
          "name": "stderr",
          "text": "\n",
          "output_type": "stream"
        },
        {
          "name": "stdout",
          "text": "\n      Epoch    GPU_mem   box_loss   cls_loss   dfl_loss  Instances       Size\n",
          "output_type": "stream"
        },
        {
          "name": "stderr",
          "text": "     29/100      1.83G      1.122      1.068      1.412         45        640: 100%|██████████| 193/193 [00:28<00:00,  6.69it/s]\n                 Class     Images  Instances      Box(P          R      mAP50  mAP50-95): 100%|██████████| 9/9 [00:01<00:00,  5.76it/s]",
          "output_type": "stream"
        },
        {
          "name": "stdout",
          "text": "                   all        268        347      0.835      0.746       0.85      0.563\n",
          "output_type": "stream"
        },
        {
          "name": "stderr",
          "text": "\n",
          "output_type": "stream"
        },
        {
          "name": "stdout",
          "text": "\n      Epoch    GPU_mem   box_loss   cls_loss   dfl_loss  Instances       Size\n",
          "output_type": "stream"
        },
        {
          "name": "stderr",
          "text": "     30/100      1.81G      1.116      1.052      1.407         34        640: 100%|██████████| 193/193 [00:28<00:00,  6.67it/s]\n                 Class     Images  Instances      Box(P          R      mAP50  mAP50-95): 100%|██████████| 9/9 [00:01<00:00,  5.83it/s]",
          "output_type": "stream"
        },
        {
          "name": "stdout",
          "text": "                   all        268        347      0.831      0.762      0.854      0.577\n",
          "output_type": "stream"
        },
        {
          "name": "stderr",
          "text": "\n",
          "output_type": "stream"
        },
        {
          "name": "stdout",
          "text": "\n      Epoch    GPU_mem   box_loss   cls_loss   dfl_loss  Instances       Size\n",
          "output_type": "stream"
        },
        {
          "name": "stderr",
          "text": "     31/100      1.83G      1.109      1.048      1.402         51        640: 100%|██████████| 193/193 [00:29<00:00,  6.60it/s]\n                 Class     Images  Instances      Box(P          R      mAP50  mAP50-95): 100%|██████████| 9/9 [00:01<00:00,  5.88it/s]",
          "output_type": "stream"
        },
        {
          "name": "stdout",
          "text": "                   all        268        347      0.864      0.727      0.859      0.555\n",
          "output_type": "stream"
        },
        {
          "name": "stderr",
          "text": "\n",
          "output_type": "stream"
        },
        {
          "name": "stdout",
          "text": "\n      Epoch    GPU_mem   box_loss   cls_loss   dfl_loss  Instances       Size\n",
          "output_type": "stream"
        },
        {
          "name": "stderr",
          "text": "     32/100      1.83G      1.105      1.037      1.389         42        640: 100%|██████████| 193/193 [00:28<00:00,  6.67it/s]\n                 Class     Images  Instances      Box(P          R      mAP50  mAP50-95): 100%|██████████| 9/9 [00:01<00:00,  5.89it/s]",
          "output_type": "stream"
        },
        {
          "name": "stdout",
          "text": "                   all        268        347      0.807      0.798      0.859      0.572\n",
          "output_type": "stream"
        },
        {
          "name": "stderr",
          "text": "\n",
          "output_type": "stream"
        },
        {
          "name": "stdout",
          "text": "\n      Epoch    GPU_mem   box_loss   cls_loss   dfl_loss  Instances       Size\n",
          "output_type": "stream"
        },
        {
          "name": "stderr",
          "text": "     33/100      1.83G      1.094      1.017       1.39         37        640: 100%|██████████| 193/193 [00:29<00:00,  6.64it/s]\n                 Class     Images  Instances      Box(P          R      mAP50  mAP50-95): 100%|██████████| 9/9 [00:01<00:00,  5.97it/s]",
          "output_type": "stream"
        },
        {
          "name": "stdout",
          "text": "                   all        268        347      0.814      0.788      0.862      0.591\n",
          "output_type": "stream"
        },
        {
          "name": "stderr",
          "text": "\n",
          "output_type": "stream"
        },
        {
          "name": "stdout",
          "text": "\n      Epoch    GPU_mem   box_loss   cls_loss   dfl_loss  Instances       Size\n",
          "output_type": "stream"
        },
        {
          "name": "stderr",
          "text": "     34/100      1.82G      1.083      1.015      1.371         39        640: 100%|██████████| 193/193 [00:29<00:00,  6.59it/s]\n                 Class     Images  Instances      Box(P          R      mAP50  mAP50-95): 100%|██████████| 9/9 [00:01<00:00,  5.96it/s]",
          "output_type": "stream"
        },
        {
          "name": "stdout",
          "text": "                   all        268        347      0.801      0.741      0.817       0.53\n",
          "output_type": "stream"
        },
        {
          "name": "stderr",
          "text": "\n",
          "output_type": "stream"
        },
        {
          "name": "stdout",
          "text": "\n      Epoch    GPU_mem   box_loss   cls_loss   dfl_loss  Instances       Size\n",
          "output_type": "stream"
        },
        {
          "name": "stderr",
          "text": "     35/100      1.83G      1.084      1.017      1.384         38        640: 100%|██████████| 193/193 [00:29<00:00,  6.62it/s]\n                 Class     Images  Instances      Box(P          R      mAP50  mAP50-95): 100%|██████████| 9/9 [00:01<00:00,  5.90it/s]",
          "output_type": "stream"
        },
        {
          "name": "stdout",
          "text": "                   all        268        347      0.811       0.78      0.857      0.564\n",
          "output_type": "stream"
        },
        {
          "name": "stderr",
          "text": "\n",
          "output_type": "stream"
        },
        {
          "name": "stdout",
          "text": "\n      Epoch    GPU_mem   box_loss   cls_loss   dfl_loss  Instances       Size\n",
          "output_type": "stream"
        },
        {
          "name": "stderr",
          "text": "     36/100      1.83G      1.081      1.007      1.384         54        640: 100%|██████████| 193/193 [00:29<00:00,  6.63it/s]\n                 Class     Images  Instances      Box(P          R      mAP50  mAP50-95): 100%|██████████| 9/9 [00:01<00:00,  5.95it/s]",
          "output_type": "stream"
        },
        {
          "name": "stdout",
          "text": "                   all        268        347      0.809      0.812      0.844      0.559\n",
          "output_type": "stream"
        },
        {
          "name": "stderr",
          "text": "\n",
          "output_type": "stream"
        },
        {
          "name": "stdout",
          "text": "\n      Epoch    GPU_mem   box_loss   cls_loss   dfl_loss  Instances       Size\n",
          "output_type": "stream"
        },
        {
          "name": "stderr",
          "text": "     37/100      1.81G      1.065      1.001      1.368         46        640: 100%|██████████| 193/193 [00:29<00:00,  6.64it/s]\n                 Class     Images  Instances      Box(P          R      mAP50  mAP50-95): 100%|██████████| 9/9 [00:01<00:00,  6.08it/s]",
          "output_type": "stream"
        },
        {
          "name": "stdout",
          "text": "                   all        268        347      0.819      0.798      0.853      0.559\n",
          "output_type": "stream"
        },
        {
          "name": "stderr",
          "text": "\n",
          "output_type": "stream"
        },
        {
          "name": "stdout",
          "text": "\n      Epoch    GPU_mem   box_loss   cls_loss   dfl_loss  Instances       Size\n",
          "output_type": "stream"
        },
        {
          "name": "stderr",
          "text": "     38/100      1.82G      1.067     0.9601      1.367         48        640: 100%|██████████| 193/193 [00:29<00:00,  6.60it/s]\n                 Class     Images  Instances      Box(P          R      mAP50  mAP50-95): 100%|██████████| 9/9 [00:01<00:00,  5.85it/s]",
          "output_type": "stream"
        },
        {
          "name": "stdout",
          "text": "                   all        268        347      0.781      0.831      0.849      0.568\n",
          "output_type": "stream"
        },
        {
          "name": "stderr",
          "text": "\n",
          "output_type": "stream"
        },
        {
          "name": "stdout",
          "text": "\n      Epoch    GPU_mem   box_loss   cls_loss   dfl_loss  Instances       Size\n",
          "output_type": "stream"
        },
        {
          "name": "stderr",
          "text": "     39/100      1.83G      1.053     0.9736      1.363         43        640: 100%|██████████| 193/193 [00:29<00:00,  6.60it/s]\n                 Class     Images  Instances      Box(P          R      mAP50  mAP50-95): 100%|██████████| 9/9 [00:01<00:00,  5.77it/s]",
          "output_type": "stream"
        },
        {
          "name": "stdout",
          "text": "                   all        268        347      0.857      0.792      0.851      0.571\n",
          "output_type": "stream"
        },
        {
          "name": "stderr",
          "text": "\n",
          "output_type": "stream"
        },
        {
          "name": "stdout",
          "text": "\n      Epoch    GPU_mem   box_loss   cls_loss   dfl_loss  Instances       Size\n",
          "output_type": "stream"
        },
        {
          "name": "stderr",
          "text": "     40/100      1.81G      1.073     0.9806      1.365         41        640: 100%|██████████| 193/193 [00:28<00:00,  6.69it/s]\n                 Class     Images  Instances      Box(P          R      mAP50  mAP50-95): 100%|██████████| 9/9 [00:01<00:00,  5.64it/s]",
          "output_type": "stream"
        },
        {
          "name": "stdout",
          "text": "                   all        268        347      0.834      0.803      0.875      0.585\n",
          "output_type": "stream"
        },
        {
          "name": "stderr",
          "text": "\n",
          "output_type": "stream"
        },
        {
          "name": "stdout",
          "text": "\n      Epoch    GPU_mem   box_loss   cls_loss   dfl_loss  Instances       Size\n",
          "output_type": "stream"
        },
        {
          "name": "stderr",
          "text": "     41/100      1.81G      1.043     0.9607      1.353         43        640: 100%|██████████| 193/193 [00:29<00:00,  6.58it/s]\n                 Class     Images  Instances      Box(P          R      mAP50  mAP50-95): 100%|██████████| 9/9 [00:01<00:00,  6.13it/s]",
          "output_type": "stream"
        },
        {
          "name": "stdout",
          "text": "                   all        268        347      0.874      0.778      0.879       0.59\n",
          "output_type": "stream"
        },
        {
          "name": "stderr",
          "text": "\n",
          "output_type": "stream"
        },
        {
          "name": "stdout",
          "text": "\n      Epoch    GPU_mem   box_loss   cls_loss   dfl_loss  Instances       Size\n",
          "output_type": "stream"
        },
        {
          "name": "stderr",
          "text": "     42/100      1.82G      1.045      0.947      1.348         46        640: 100%|██████████| 193/193 [00:29<00:00,  6.62it/s]\n                 Class     Images  Instances      Box(P          R      mAP50  mAP50-95): 100%|██████████| 9/9 [00:01<00:00,  5.85it/s]",
          "output_type": "stream"
        },
        {
          "name": "stdout",
          "text": "                   all        268        347      0.866      0.797      0.879      0.584\n",
          "output_type": "stream"
        },
        {
          "name": "stderr",
          "text": "\n",
          "output_type": "stream"
        },
        {
          "name": "stdout",
          "text": "\n      Epoch    GPU_mem   box_loss   cls_loss   dfl_loss  Instances       Size\n",
          "output_type": "stream"
        },
        {
          "name": "stderr",
          "text": "     43/100      1.83G      1.047     0.9677      1.358         42        640: 100%|██████████| 193/193 [00:29<00:00,  6.64it/s]\n                 Class     Images  Instances      Box(P          R      mAP50  mAP50-95): 100%|██████████| 9/9 [00:01<00:00,  6.00it/s]",
          "output_type": "stream"
        },
        {
          "name": "stdout",
          "text": "                   all        268        347       0.85      0.804      0.884      0.596\n",
          "output_type": "stream"
        },
        {
          "name": "stderr",
          "text": "\n",
          "output_type": "stream"
        },
        {
          "name": "stdout",
          "text": "\n      Epoch    GPU_mem   box_loss   cls_loss   dfl_loss  Instances       Size\n",
          "output_type": "stream"
        },
        {
          "name": "stderr",
          "text": "     44/100      1.81G      1.053     0.9366      1.354         41        640: 100%|██████████| 193/193 [00:29<00:00,  6.59it/s]\n                 Class     Images  Instances      Box(P          R      mAP50  mAP50-95): 100%|██████████| 9/9 [00:01<00:00,  5.81it/s]",
          "output_type": "stream"
        },
        {
          "name": "stdout",
          "text": "                   all        268        347      0.837      0.822       0.86      0.574\n",
          "output_type": "stream"
        },
        {
          "name": "stderr",
          "text": "\n",
          "output_type": "stream"
        },
        {
          "name": "stdout",
          "text": "\n      Epoch    GPU_mem   box_loss   cls_loss   dfl_loss  Instances       Size\n",
          "output_type": "stream"
        },
        {
          "name": "stderr",
          "text": "     45/100      1.83G      1.053     0.9334      1.347         51        640: 100%|██████████| 193/193 [00:29<00:00,  6.64it/s]\n                 Class     Images  Instances      Box(P          R      mAP50  mAP50-95): 100%|██████████| 9/9 [00:01<00:00,  5.92it/s]",
          "output_type": "stream"
        },
        {
          "name": "stdout",
          "text": "                   all        268        347       0.84      0.806      0.853      0.566\n",
          "output_type": "stream"
        },
        {
          "name": "stderr",
          "text": "\n",
          "output_type": "stream"
        },
        {
          "name": "stdout",
          "text": "\n      Epoch    GPU_mem   box_loss   cls_loss   dfl_loss  Instances       Size\n",
          "output_type": "stream"
        },
        {
          "name": "stderr",
          "text": "     46/100      1.81G      1.033      0.926      1.347         43        640: 100%|██████████| 193/193 [00:28<00:00,  6.68it/s]\n                 Class     Images  Instances      Box(P          R      mAP50  mAP50-95): 100%|██████████| 9/9 [00:01<00:00,  5.62it/s]",
          "output_type": "stream"
        },
        {
          "name": "stdout",
          "text": "                   all        268        347       0.85      0.797      0.863      0.583\n",
          "output_type": "stream"
        },
        {
          "name": "stderr",
          "text": "\n",
          "output_type": "stream"
        },
        {
          "name": "stdout",
          "text": "\n      Epoch    GPU_mem   box_loss   cls_loss   dfl_loss  Instances       Size\n",
          "output_type": "stream"
        },
        {
          "name": "stderr",
          "text": "     47/100      1.81G      1.037     0.9207      1.338         42        640: 100%|██████████| 193/193 [00:29<00:00,  6.64it/s]\n                 Class     Images  Instances      Box(P          R      mAP50  mAP50-95): 100%|██████████| 9/9 [00:01<00:00,  6.09it/s]",
          "output_type": "stream"
        },
        {
          "name": "stdout",
          "text": "                   all        268        347      0.868      0.749       0.85      0.573\n",
          "output_type": "stream"
        },
        {
          "name": "stderr",
          "text": "\n",
          "output_type": "stream"
        },
        {
          "name": "stdout",
          "text": "\n      Epoch    GPU_mem   box_loss   cls_loss   dfl_loss  Instances       Size\n",
          "output_type": "stream"
        },
        {
          "name": "stderr",
          "text": "     48/100      1.83G      1.035     0.9174      1.348         41        640: 100%|██████████| 193/193 [00:29<00:00,  6.65it/s]\n                 Class     Images  Instances      Box(P          R      mAP50  mAP50-95): 100%|██████████| 9/9 [00:01<00:00,  5.81it/s]",
          "output_type": "stream"
        },
        {
          "name": "stdout",
          "text": "                   all        268        347      0.838      0.795      0.866      0.587\n",
          "output_type": "stream"
        },
        {
          "name": "stderr",
          "text": "\n",
          "output_type": "stream"
        },
        {
          "name": "stdout",
          "text": "\n      Epoch    GPU_mem   box_loss   cls_loss   dfl_loss  Instances       Size\n",
          "output_type": "stream"
        },
        {
          "name": "stderr",
          "text": "     49/100      1.81G      1.013     0.9152       1.33         36        640: 100%|██████████| 193/193 [00:29<00:00,  6.64it/s]\n                 Class     Images  Instances      Box(P          R      mAP50  mAP50-95): 100%|██████████| 9/9 [00:01<00:00,  5.98it/s]",
          "output_type": "stream"
        },
        {
          "name": "stdout",
          "text": "                   all        268        347      0.834      0.812      0.881      0.577\n",
          "output_type": "stream"
        },
        {
          "name": "stderr",
          "text": "\n",
          "output_type": "stream"
        },
        {
          "name": "stdout",
          "text": "\n      Epoch    GPU_mem   box_loss   cls_loss   dfl_loss  Instances       Size\n",
          "output_type": "stream"
        },
        {
          "name": "stderr",
          "text": "     50/100      1.81G      1.025     0.9126      1.337         44        640: 100%|██████████| 193/193 [00:28<00:00,  6.73it/s]\n                 Class     Images  Instances      Box(P          R      mAP50  mAP50-95): 100%|██████████| 9/9 [00:01<00:00,  6.02it/s]",
          "output_type": "stream"
        },
        {
          "name": "stdout",
          "text": "                   all        268        347      0.811      0.787      0.858      0.574\n",
          "output_type": "stream"
        },
        {
          "name": "stderr",
          "text": "\n",
          "output_type": "stream"
        },
        {
          "name": "stdout",
          "text": "\n      Epoch    GPU_mem   box_loss   cls_loss   dfl_loss  Instances       Size\n",
          "output_type": "stream"
        },
        {
          "name": "stderr",
          "text": "     51/100      1.81G      1.037      0.905      1.335         46        640: 100%|██████████| 193/193 [00:28<00:00,  6.74it/s]\n                 Class     Images  Instances      Box(P          R      mAP50  mAP50-95): 100%|██████████| 9/9 [00:01<00:00,  5.85it/s]",
          "output_type": "stream"
        },
        {
          "name": "stdout",
          "text": "                   all        268        347      0.843      0.817      0.886      0.599\n",
          "output_type": "stream"
        },
        {
          "name": "stderr",
          "text": "\n",
          "output_type": "stream"
        },
        {
          "name": "stdout",
          "text": "\n      Epoch    GPU_mem   box_loss   cls_loss   dfl_loss  Instances       Size\n",
          "output_type": "stream"
        },
        {
          "name": "stderr",
          "text": "     52/100      1.83G     0.9989     0.8959      1.325         38        640: 100%|██████████| 193/193 [00:29<00:00,  6.65it/s]\n                 Class     Images  Instances      Box(P          R      mAP50  mAP50-95): 100%|██████████| 9/9 [00:01<00:00,  5.87it/s]",
          "output_type": "stream"
        },
        {
          "name": "stdout",
          "text": "                   all        268        347      0.851      0.808      0.858      0.586\n",
          "output_type": "stream"
        },
        {
          "name": "stderr",
          "text": "\n",
          "output_type": "stream"
        },
        {
          "name": "stdout",
          "text": "\n      Epoch    GPU_mem   box_loss   cls_loss   dfl_loss  Instances       Size\n",
          "output_type": "stream"
        },
        {
          "name": "stderr",
          "text": "     53/100      1.81G      1.016      0.901      1.331         39        640: 100%|██████████| 193/193 [00:29<00:00,  6.61it/s]\n                 Class     Images  Instances      Box(P          R      mAP50  mAP50-95): 100%|██████████| 9/9 [00:01<00:00,  6.06it/s]",
          "output_type": "stream"
        },
        {
          "name": "stdout",
          "text": "                   all        268        347      0.858      0.814      0.872      0.595\n",
          "output_type": "stream"
        },
        {
          "name": "stderr",
          "text": "\n",
          "output_type": "stream"
        },
        {
          "name": "stdout",
          "text": "\n      Epoch    GPU_mem   box_loss   cls_loss   dfl_loss  Instances       Size\n",
          "output_type": "stream"
        },
        {
          "name": "stderr",
          "text": "     54/100      1.82G      1.004     0.8861      1.312         46        640: 100%|██████████| 193/193 [00:28<00:00,  6.67it/s]\n                 Class     Images  Instances      Box(P          R      mAP50  mAP50-95): 100%|██████████| 9/9 [00:01<00:00,  5.92it/s]",
          "output_type": "stream"
        },
        {
          "name": "stdout",
          "text": "                   all        268        347       0.87      0.838      0.875      0.603\n",
          "output_type": "stream"
        },
        {
          "name": "stderr",
          "text": "\n",
          "output_type": "stream"
        },
        {
          "name": "stdout",
          "text": "\n      Epoch    GPU_mem   box_loss   cls_loss   dfl_loss  Instances       Size\n",
          "output_type": "stream"
        },
        {
          "name": "stderr",
          "text": "     55/100      1.81G     0.9834     0.8645      1.309         42        640: 100%|██████████| 193/193 [00:29<00:00,  6.62it/s]\n                 Class     Images  Instances      Box(P          R      mAP50  mAP50-95): 100%|██████████| 9/9 [00:01<00:00,  5.87it/s]",
          "output_type": "stream"
        },
        {
          "name": "stdout",
          "text": "                   all        268        347      0.824      0.836      0.875      0.605\n",
          "output_type": "stream"
        },
        {
          "name": "stderr",
          "text": "\n",
          "output_type": "stream"
        },
        {
          "name": "stdout",
          "text": "\n      Epoch    GPU_mem   box_loss   cls_loss   dfl_loss  Instances       Size\n",
          "output_type": "stream"
        },
        {
          "name": "stderr",
          "text": "     56/100      1.81G      1.012     0.8671      1.323         46        640: 100%|██████████| 193/193 [00:28<00:00,  6.71it/s]\n                 Class     Images  Instances      Box(P          R      mAP50  mAP50-95): 100%|██████████| 9/9 [00:01<00:00,  5.82it/s]",
          "output_type": "stream"
        },
        {
          "name": "stdout",
          "text": "                   all        268        347      0.831      0.837      0.879        0.6\n",
          "output_type": "stream"
        },
        {
          "name": "stderr",
          "text": "\n",
          "output_type": "stream"
        },
        {
          "name": "stdout",
          "text": "\n      Epoch    GPU_mem   box_loss   cls_loss   dfl_loss  Instances       Size\n",
          "output_type": "stream"
        },
        {
          "name": "stderr",
          "text": "     57/100      1.83G      1.007     0.8837      1.321         46        640: 100%|██████████| 193/193 [00:29<00:00,  6.62it/s]\n                 Class     Images  Instances      Box(P          R      mAP50  mAP50-95): 100%|██████████| 9/9 [00:01<00:00,  6.07it/s]",
          "output_type": "stream"
        },
        {
          "name": "stdout",
          "text": "                   all        268        347       0.82      0.827      0.878      0.586\n",
          "output_type": "stream"
        },
        {
          "name": "stderr",
          "text": "\n",
          "output_type": "stream"
        },
        {
          "name": "stdout",
          "text": "\n      Epoch    GPU_mem   box_loss   cls_loss   dfl_loss  Instances       Size\n",
          "output_type": "stream"
        },
        {
          "name": "stderr",
          "text": "     58/100      1.82G     0.9849     0.8766      1.307         47        640: 100%|██████████| 193/193 [00:29<00:00,  6.64it/s]\n                 Class     Images  Instances      Box(P          R      mAP50  mAP50-95): 100%|██████████| 9/9 [00:01<00:00,  5.97it/s]",
          "output_type": "stream"
        },
        {
          "name": "stdout",
          "text": "                   all        268        347      0.858      0.826      0.891      0.613\n",
          "output_type": "stream"
        },
        {
          "name": "stderr",
          "text": "\n",
          "output_type": "stream"
        },
        {
          "name": "stdout",
          "text": "\n      Epoch    GPU_mem   box_loss   cls_loss   dfl_loss  Instances       Size\n",
          "output_type": "stream"
        },
        {
          "name": "stderr",
          "text": "     59/100      1.81G     0.9726     0.8433      1.298         40        640: 100%|██████████| 193/193 [00:29<00:00,  6.63it/s]\n                 Class     Images  Instances      Box(P          R      mAP50  mAP50-95): 100%|██████████| 9/9 [00:01<00:00,  5.81it/s]",
          "output_type": "stream"
        },
        {
          "name": "stdout",
          "text": "                   all        268        347      0.869      0.829      0.884      0.612\n",
          "output_type": "stream"
        },
        {
          "name": "stderr",
          "text": "\n",
          "output_type": "stream"
        },
        {
          "name": "stdout",
          "text": "\n      Epoch    GPU_mem   box_loss   cls_loss   dfl_loss  Instances       Size\n",
          "output_type": "stream"
        },
        {
          "name": "stderr",
          "text": "     60/100      1.83G     0.9989     0.8655      1.317         40        640: 100%|██████████| 193/193 [00:29<00:00,  6.65it/s]\n                 Class     Images  Instances      Box(P          R      mAP50  mAP50-95): 100%|██████████| 9/9 [00:01<00:00,  5.76it/s]",
          "output_type": "stream"
        },
        {
          "name": "stdout",
          "text": "                   all        268        347      0.855      0.829      0.893      0.609\n",
          "output_type": "stream"
        },
        {
          "name": "stderr",
          "text": "\n",
          "output_type": "stream"
        },
        {
          "name": "stdout",
          "text": "\n      Epoch    GPU_mem   box_loss   cls_loss   dfl_loss  Instances       Size\n",
          "output_type": "stream"
        },
        {
          "name": "stderr",
          "text": "     61/100      1.83G      0.988     0.8418      1.306         50        640: 100%|██████████| 193/193 [00:29<00:00,  6.65it/s]\n                 Class     Images  Instances      Box(P          R      mAP50  mAP50-95): 100%|██████████| 9/9 [00:01<00:00,  6.00it/s]",
          "output_type": "stream"
        },
        {
          "name": "stdout",
          "text": "                   all        268        347      0.868      0.824      0.873      0.599\n",
          "output_type": "stream"
        },
        {
          "name": "stderr",
          "text": "\n",
          "output_type": "stream"
        },
        {
          "name": "stdout",
          "text": "\n      Epoch    GPU_mem   box_loss   cls_loss   dfl_loss  Instances       Size\n",
          "output_type": "stream"
        },
        {
          "name": "stderr",
          "text": "     62/100      1.82G     0.9699     0.8274      1.295         50        640: 100%|██████████| 193/193 [00:28<00:00,  6.72it/s]\n                 Class     Images  Instances      Box(P          R      mAP50  mAP50-95): 100%|██████████| 9/9 [00:01<00:00,  5.80it/s]",
          "output_type": "stream"
        },
        {
          "name": "stdout",
          "text": "                   all        268        347      0.864      0.832      0.885      0.607\n",
          "output_type": "stream"
        },
        {
          "name": "stderr",
          "text": "\n",
          "output_type": "stream"
        },
        {
          "name": "stdout",
          "text": "\n      Epoch    GPU_mem   box_loss   cls_loss   dfl_loss  Instances       Size\n",
          "output_type": "stream"
        },
        {
          "name": "stderr",
          "text": "     63/100      1.81G     0.9789     0.8335      1.298         41        640: 100%|██████████| 193/193 [00:29<00:00,  6.59it/s]\n                 Class     Images  Instances      Box(P          R      mAP50  mAP50-95): 100%|██████████| 9/9 [00:01<00:00,  5.83it/s]",
          "output_type": "stream"
        },
        {
          "name": "stdout",
          "text": "                   all        268        347      0.869       0.85      0.886      0.603\n",
          "output_type": "stream"
        },
        {
          "name": "stderr",
          "text": "\n",
          "output_type": "stream"
        },
        {
          "name": "stdout",
          "text": "\n      Epoch    GPU_mem   box_loss   cls_loss   dfl_loss  Instances       Size\n",
          "output_type": "stream"
        },
        {
          "name": "stderr",
          "text": "     64/100      1.83G      0.986     0.8478      1.309         51        640: 100%|██████████| 193/193 [00:29<00:00,  6.64it/s]\n                 Class     Images  Instances      Box(P          R      mAP50  mAP50-95): 100%|██████████| 9/9 [00:01<00:00,  5.85it/s]",
          "output_type": "stream"
        },
        {
          "name": "stdout",
          "text": "                   all        268        347      0.876      0.828      0.887      0.604\n",
          "output_type": "stream"
        },
        {
          "name": "stderr",
          "text": "\n",
          "output_type": "stream"
        },
        {
          "name": "stdout",
          "text": "\n      Epoch    GPU_mem   box_loss   cls_loss   dfl_loss  Instances       Size\n",
          "output_type": "stream"
        },
        {
          "name": "stderr",
          "text": "     65/100      1.83G     0.9676     0.8371       1.29         48        640: 100%|██████████| 193/193 [00:29<00:00,  6.65it/s]\n                 Class     Images  Instances      Box(P          R      mAP50  mAP50-95): 100%|██████████| 9/9 [00:01<00:00,  5.85it/s]",
          "output_type": "stream"
        },
        {
          "name": "stdout",
          "text": "                   all        268        347      0.863      0.838      0.896      0.609\n",
          "output_type": "stream"
        },
        {
          "name": "stderr",
          "text": "\n",
          "output_type": "stream"
        },
        {
          "name": "stdout",
          "text": "\n      Epoch    GPU_mem   box_loss   cls_loss   dfl_loss  Instances       Size\n",
          "output_type": "stream"
        },
        {
          "name": "stderr",
          "text": "     66/100      1.83G     0.9667       0.83      1.293         39        640: 100%|██████████| 193/193 [00:29<00:00,  6.61it/s]\n                 Class     Images  Instances      Box(P          R      mAP50  mAP50-95): 100%|██████████| 9/9 [00:01<00:00,  5.94it/s]",
          "output_type": "stream"
        },
        {
          "name": "stdout",
          "text": "                   all        268        347      0.871      0.836      0.892      0.611\n",
          "output_type": "stream"
        },
        {
          "name": "stderr",
          "text": "\n",
          "output_type": "stream"
        },
        {
          "name": "stdout",
          "text": "\n      Epoch    GPU_mem   box_loss   cls_loss   dfl_loss  Instances       Size\n",
          "output_type": "stream"
        },
        {
          "name": "stderr",
          "text": "     67/100      1.83G     0.9526     0.8148      1.283         54        640: 100%|██████████| 193/193 [00:28<00:00,  6.68it/s]\n                 Class     Images  Instances      Box(P          R      mAP50  mAP50-95): 100%|██████████| 9/9 [00:01<00:00,  6.11it/s]",
          "output_type": "stream"
        },
        {
          "name": "stdout",
          "text": "                   all        268        347      0.862      0.832      0.878      0.595\n",
          "output_type": "stream"
        },
        {
          "name": "stderr",
          "text": "\n",
          "output_type": "stream"
        },
        {
          "name": "stdout",
          "text": "\n      Epoch    GPU_mem   box_loss   cls_loss   dfl_loss  Instances       Size\n",
          "output_type": "stream"
        },
        {
          "name": "stderr",
          "text": "     68/100      1.81G     0.9616     0.8295      1.292         65        640: 100%|██████████| 193/193 [00:28<00:00,  6.70it/s]\n                 Class     Images  Instances      Box(P          R      mAP50  mAP50-95): 100%|██████████| 9/9 [00:01<00:00,  5.77it/s]",
          "output_type": "stream"
        },
        {
          "name": "stdout",
          "text": "                   all        268        347      0.846       0.82      0.869        0.6\n",
          "output_type": "stream"
        },
        {
          "name": "stderr",
          "text": "\n",
          "output_type": "stream"
        },
        {
          "name": "stdout",
          "text": "\n      Epoch    GPU_mem   box_loss   cls_loss   dfl_loss  Instances       Size\n",
          "output_type": "stream"
        },
        {
          "name": "stderr",
          "text": "     69/100      1.81G     0.9512     0.8266      1.284         47        640: 100%|██████████| 193/193 [00:29<00:00,  6.54it/s]\n                 Class     Images  Instances      Box(P          R      mAP50  mAP50-95): 100%|██████████| 9/9 [00:01<00:00,  5.94it/s]",
          "output_type": "stream"
        },
        {
          "name": "stdout",
          "text": "                   all        268        347      0.857       0.82      0.892      0.615\n",
          "output_type": "stream"
        },
        {
          "name": "stderr",
          "text": "\n",
          "output_type": "stream"
        },
        {
          "name": "stdout",
          "text": "\n      Epoch    GPU_mem   box_loss   cls_loss   dfl_loss  Instances       Size\n",
          "output_type": "stream"
        },
        {
          "name": "stderr",
          "text": "     70/100      1.81G     0.9529     0.8143      1.283         43        640: 100%|██████████| 193/193 [00:29<00:00,  6.65it/s]\n                 Class     Images  Instances      Box(P          R      mAP50  mAP50-95): 100%|██████████| 9/9 [00:01<00:00,  6.17it/s]",
          "output_type": "stream"
        },
        {
          "name": "stdout",
          "text": "                   all        268        347      0.874      0.835      0.893      0.616\n",
          "output_type": "stream"
        },
        {
          "name": "stderr",
          "text": "\n",
          "output_type": "stream"
        },
        {
          "name": "stdout",
          "text": "\n      Epoch    GPU_mem   box_loss   cls_loss   dfl_loss  Instances       Size\n",
          "output_type": "stream"
        },
        {
          "name": "stderr",
          "text": "     71/100      1.83G     0.9525     0.8143      1.284         40        640: 100%|██████████| 193/193 [00:28<00:00,  6.75it/s]\n                 Class     Images  Instances      Box(P          R      mAP50  mAP50-95): 100%|██████████| 9/9 [00:01<00:00,  5.99it/s]",
          "output_type": "stream"
        },
        {
          "name": "stdout",
          "text": "                   all        268        347      0.897       0.79      0.891      0.623\n",
          "output_type": "stream"
        },
        {
          "name": "stderr",
          "text": "\n",
          "output_type": "stream"
        },
        {
          "name": "stdout",
          "text": "\n      Epoch    GPU_mem   box_loss   cls_loss   dfl_loss  Instances       Size\n",
          "output_type": "stream"
        },
        {
          "name": "stderr",
          "text": "     72/100      1.83G     0.9485     0.8023       1.28         44        640: 100%|██████████| 193/193 [00:29<00:00,  6.60it/s]\n                 Class     Images  Instances      Box(P          R      mAP50  mAP50-95): 100%|██████████| 9/9 [00:01<00:00,  5.81it/s]",
          "output_type": "stream"
        },
        {
          "name": "stdout",
          "text": "                   all        268        347      0.856      0.839      0.895      0.608\n",
          "output_type": "stream"
        },
        {
          "name": "stderr",
          "text": "\n",
          "output_type": "stream"
        },
        {
          "name": "stdout",
          "text": "\n      Epoch    GPU_mem   box_loss   cls_loss   dfl_loss  Instances       Size\n",
          "output_type": "stream"
        },
        {
          "name": "stderr",
          "text": "     73/100      1.83G     0.9505     0.7875      1.282         43        640: 100%|██████████| 193/193 [00:29<00:00,  6.56it/s]\n                 Class     Images  Instances      Box(P          R      mAP50  mAP50-95): 100%|██████████| 9/9 [00:01<00:00,  6.04it/s]",
          "output_type": "stream"
        },
        {
          "name": "stdout",
          "text": "                   all        268        347      0.892       0.81      0.888      0.609\n",
          "output_type": "stream"
        },
        {
          "name": "stderr",
          "text": "\n",
          "output_type": "stream"
        },
        {
          "name": "stdout",
          "text": "\n      Epoch    GPU_mem   box_loss   cls_loss   dfl_loss  Instances       Size\n",
          "output_type": "stream"
        },
        {
          "name": "stderr",
          "text": "     74/100      1.81G     0.9432      0.797      1.281         44        640: 100%|██████████| 193/193 [00:29<00:00,  6.60it/s]\n                 Class     Images  Instances      Box(P          R      mAP50  mAP50-95): 100%|██████████| 9/9 [00:01<00:00,  6.03it/s]",
          "output_type": "stream"
        },
        {
          "name": "stdout",
          "text": "                   all        268        347      0.821      0.863      0.895       0.61\n",
          "output_type": "stream"
        },
        {
          "name": "stderr",
          "text": "\n",
          "output_type": "stream"
        },
        {
          "name": "stdout",
          "text": "\n      Epoch    GPU_mem   box_loss   cls_loss   dfl_loss  Instances       Size\n",
          "output_type": "stream"
        },
        {
          "name": "stderr",
          "text": "     75/100      1.81G     0.9436      0.798      1.276         44        640: 100%|██████████| 193/193 [00:29<00:00,  6.63it/s]\n                 Class     Images  Instances      Box(P          R      mAP50  mAP50-95): 100%|██████████| 9/9 [00:01<00:00,  5.85it/s]",
          "output_type": "stream"
        },
        {
          "name": "stdout",
          "text": "                   all        268        347      0.855      0.819      0.892      0.616\n",
          "output_type": "stream"
        },
        {
          "name": "stderr",
          "text": "\n",
          "output_type": "stream"
        },
        {
          "name": "stdout",
          "text": "\n      Epoch    GPU_mem   box_loss   cls_loss   dfl_loss  Instances       Size\n",
          "output_type": "stream"
        },
        {
          "name": "stderr",
          "text": "     76/100      1.83G     0.9423     0.7915      1.274         50        640: 100%|██████████| 193/193 [00:28<00:00,  6.73it/s]\n                 Class     Images  Instances      Box(P          R      mAP50  mAP50-95): 100%|██████████| 9/9 [00:01<00:00,  5.85it/s]",
          "output_type": "stream"
        },
        {
          "name": "stdout",
          "text": "                   all        268        347      0.886      0.828      0.889       0.61\n",
          "output_type": "stream"
        },
        {
          "name": "stderr",
          "text": "\n",
          "output_type": "stream"
        },
        {
          "name": "stdout",
          "text": "\n      Epoch    GPU_mem   box_loss   cls_loss   dfl_loss  Instances       Size\n",
          "output_type": "stream"
        },
        {
          "name": "stderr",
          "text": "     77/100      1.83G     0.9369      0.785       1.27         47        640: 100%|██████████| 193/193 [00:28<00:00,  6.68it/s]\n                 Class     Images  Instances      Box(P          R      mAP50  mAP50-95): 100%|██████████| 9/9 [00:01<00:00,  5.89it/s]",
          "output_type": "stream"
        },
        {
          "name": "stdout",
          "text": "                   all        268        347      0.862      0.814      0.884      0.608\n",
          "output_type": "stream"
        },
        {
          "name": "stderr",
          "text": "\n",
          "output_type": "stream"
        },
        {
          "name": "stdout",
          "text": "\n      Epoch    GPU_mem   box_loss   cls_loss   dfl_loss  Instances       Size\n",
          "output_type": "stream"
        },
        {
          "name": "stderr",
          "text": "     78/100      1.83G     0.9276      0.772      1.272         53        640: 100%|██████████| 193/193 [00:28<00:00,  6.76it/s]\n                 Class     Images  Instances      Box(P          R      mAP50  mAP50-95): 100%|██████████| 9/9 [00:01<00:00,  5.84it/s]",
          "output_type": "stream"
        },
        {
          "name": "stdout",
          "text": "                   all        268        347       0.87      0.848      0.907      0.623\n",
          "output_type": "stream"
        },
        {
          "name": "stderr",
          "text": "\n",
          "output_type": "stream"
        },
        {
          "name": "stdout",
          "text": "\n      Epoch    GPU_mem   box_loss   cls_loss   dfl_loss  Instances       Size\n",
          "output_type": "stream"
        },
        {
          "name": "stderr",
          "text": "     79/100      1.81G     0.9327     0.7843      1.271         54        640: 100%|██████████| 193/193 [00:29<00:00,  6.60it/s]\n                 Class     Images  Instances      Box(P          R      mAP50  mAP50-95): 100%|██████████| 9/9 [00:01<00:00,  5.75it/s]",
          "output_type": "stream"
        },
        {
          "name": "stdout",
          "text": "                   all        268        347      0.902      0.837      0.903      0.619\n",
          "output_type": "stream"
        },
        {
          "name": "stderr",
          "text": "\n",
          "output_type": "stream"
        },
        {
          "name": "stdout",
          "text": "\n      Epoch    GPU_mem   box_loss   cls_loss   dfl_loss  Instances       Size\n",
          "output_type": "stream"
        },
        {
          "name": "stderr",
          "text": "     80/100      1.83G     0.9225     0.7812       1.26         42        640: 100%|██████████| 193/193 [00:28<00:00,  6.69it/s]\n                 Class     Images  Instances      Box(P          R      mAP50  mAP50-95): 100%|██████████| 9/9 [00:01<00:00,  6.11it/s]",
          "output_type": "stream"
        },
        {
          "name": "stdout",
          "text": "                   all        268        347      0.864      0.818      0.893      0.618\n",
          "output_type": "stream"
        },
        {
          "name": "stderr",
          "text": "\n",
          "output_type": "stream"
        },
        {
          "name": "stdout",
          "text": "\n      Epoch    GPU_mem   box_loss   cls_loss   dfl_loss  Instances       Size\n",
          "output_type": "stream"
        },
        {
          "name": "stderr",
          "text": "     81/100      1.83G     0.9216     0.7702      1.269         35        640: 100%|██████████| 193/193 [00:28<00:00,  6.68it/s]\n                 Class     Images  Instances      Box(P          R      mAP50  mAP50-95): 100%|██████████| 9/9 [00:01<00:00,  5.84it/s]",
          "output_type": "stream"
        },
        {
          "name": "stdout",
          "text": "                   all        268        347      0.851      0.861      0.897      0.617\n",
          "output_type": "stream"
        },
        {
          "name": "stderr",
          "text": "\n",
          "output_type": "stream"
        },
        {
          "name": "stdout",
          "text": "\n      Epoch    GPU_mem   box_loss   cls_loss   dfl_loss  Instances       Size\n",
          "output_type": "stream"
        },
        {
          "name": "stderr",
          "text": "     82/100      1.81G     0.9189     0.7629       1.26         48        640: 100%|██████████| 193/193 [00:28<00:00,  6.75it/s]\n                 Class     Images  Instances      Box(P          R      mAP50  mAP50-95): 100%|██████████| 9/9 [00:01<00:00,  6.02it/s]",
          "output_type": "stream"
        },
        {
          "name": "stdout",
          "text": "                   all        268        347      0.897       0.83      0.903      0.622\n",
          "output_type": "stream"
        },
        {
          "name": "stderr",
          "text": "\n",
          "output_type": "stream"
        },
        {
          "name": "stdout",
          "text": "\n      Epoch    GPU_mem   box_loss   cls_loss   dfl_loss  Instances       Size\n",
          "output_type": "stream"
        },
        {
          "name": "stderr",
          "text": "     83/100      1.81G     0.9205     0.7786      1.261         37        640: 100%|██████████| 193/193 [00:28<00:00,  6.74it/s]\n                 Class     Images  Instances      Box(P          R      mAP50  mAP50-95): 100%|██████████| 9/9 [00:01<00:00,  5.69it/s]",
          "output_type": "stream"
        },
        {
          "name": "stdout",
          "text": "                   all        268        347      0.871      0.831      0.896      0.619\n",
          "output_type": "stream"
        },
        {
          "name": "stderr",
          "text": "\n",
          "output_type": "stream"
        },
        {
          "name": "stdout",
          "text": "\n      Epoch    GPU_mem   box_loss   cls_loss   dfl_loss  Instances       Size\n",
          "output_type": "stream"
        },
        {
          "name": "stderr",
          "text": "     84/100      1.83G      0.912     0.7673      1.261         32        640: 100%|██████████| 193/193 [00:28<00:00,  6.75it/s]\n                 Class     Images  Instances      Box(P          R      mAP50  mAP50-95): 100%|██████████| 9/9 [00:01<00:00,  6.05it/s]",
          "output_type": "stream"
        },
        {
          "name": "stdout",
          "text": "                   all        268        347      0.867      0.826      0.893      0.617\n",
          "output_type": "stream"
        },
        {
          "name": "stderr",
          "text": "\n",
          "output_type": "stream"
        },
        {
          "name": "stdout",
          "text": "\n      Epoch    GPU_mem   box_loss   cls_loss   dfl_loss  Instances       Size\n",
          "output_type": "stream"
        },
        {
          "name": "stderr",
          "text": "     85/100      1.83G     0.9062     0.7535      1.256         46        640: 100%|██████████| 193/193 [00:28<00:00,  6.83it/s]\n                 Class     Images  Instances      Box(P          R      mAP50  mAP50-95): 100%|██████████| 9/9 [00:01<00:00,  6.10it/s]",
          "output_type": "stream"
        },
        {
          "name": "stdout",
          "text": "                   all        268        347      0.875      0.821      0.897      0.616\n",
          "output_type": "stream"
        },
        {
          "name": "stderr",
          "text": "\n",
          "output_type": "stream"
        },
        {
          "name": "stdout",
          "text": "\n      Epoch    GPU_mem   box_loss   cls_loss   dfl_loss  Instances       Size\n",
          "output_type": "stream"
        },
        {
          "name": "stderr",
          "text": "     86/100      1.83G     0.9086     0.7503      1.256         41        640: 100%|██████████| 193/193 [00:28<00:00,  6.78it/s]\n                 Class     Images  Instances      Box(P          R      mAP50  mAP50-95): 100%|██████████| 9/9 [00:01<00:00,  5.72it/s]",
          "output_type": "stream"
        },
        {
          "name": "stdout",
          "text": "                   all        268        347      0.892      0.822      0.897       0.62\n",
          "output_type": "stream"
        },
        {
          "name": "stderr",
          "text": "\n",
          "output_type": "stream"
        },
        {
          "name": "stdout",
          "text": "\n      Epoch    GPU_mem   box_loss   cls_loss   dfl_loss  Instances       Size\n",
          "output_type": "stream"
        },
        {
          "name": "stderr",
          "text": "     87/100      1.81G     0.9178     0.7658       1.26         41        640: 100%|██████████| 193/193 [00:29<00:00,  6.61it/s]\n                 Class     Images  Instances      Box(P          R      mAP50  mAP50-95): 100%|██████████| 9/9 [00:01<00:00,  5.80it/s]",
          "output_type": "stream"
        },
        {
          "name": "stdout",
          "text": "                   all        268        347      0.867      0.824      0.897      0.617\n",
          "output_type": "stream"
        },
        {
          "name": "stderr",
          "text": "\n",
          "output_type": "stream"
        },
        {
          "name": "stdout",
          "text": "\n      Epoch    GPU_mem   box_loss   cls_loss   dfl_loss  Instances       Size\n",
          "output_type": "stream"
        },
        {
          "name": "stderr",
          "text": "     88/100      1.83G     0.9055     0.7534      1.253         55        640: 100%|██████████| 193/193 [00:28<00:00,  6.76it/s]\n                 Class     Images  Instances      Box(P          R      mAP50  mAP50-95): 100%|██████████| 9/9 [00:01<00:00,  6.27it/s]",
          "output_type": "stream"
        },
        {
          "name": "stdout",
          "text": "                   all        268        347       0.88      0.826      0.898      0.611\n",
          "output_type": "stream"
        },
        {
          "name": "stderr",
          "text": "\n",
          "output_type": "stream"
        },
        {
          "name": "stdout",
          "text": "\n      Epoch    GPU_mem   box_loss   cls_loss   dfl_loss  Instances       Size\n",
          "output_type": "stream"
        },
        {
          "name": "stderr",
          "text": "     89/100      1.83G     0.9148     0.7519      1.252         46        640: 100%|██████████| 193/193 [00:28<00:00,  6.78it/s]\n                 Class     Images  Instances      Box(P          R      mAP50  mAP50-95): 100%|██████████| 9/9 [00:01<00:00,  6.04it/s]",
          "output_type": "stream"
        },
        {
          "name": "stdout",
          "text": "                   all        268        347      0.896      0.812      0.897      0.613\n",
          "output_type": "stream"
        },
        {
          "name": "stderr",
          "text": "\n",
          "output_type": "stream"
        },
        {
          "name": "stdout",
          "text": "\n      Epoch    GPU_mem   box_loss   cls_loss   dfl_loss  Instances       Size\n",
          "output_type": "stream"
        },
        {
          "name": "stderr",
          "text": "     90/100      1.82G     0.9066     0.7533      1.257         40        640: 100%|██████████| 193/193 [00:28<00:00,  6.74it/s]\n                 Class     Images  Instances      Box(P          R      mAP50  mAP50-95): 100%|██████████| 9/9 [00:01<00:00,  6.08it/s]",
          "output_type": "stream"
        },
        {
          "name": "stdout",
          "text": "                   all        268        347       0.88      0.827      0.889       0.61\n",
          "output_type": "stream"
        },
        {
          "name": "stderr",
          "text": "\n",
          "output_type": "stream"
        },
        {
          "name": "stdout",
          "text": "Closing dataloader mosaic\n\u001b[34m\u001b[1malbumentations: \u001b[0mBlur(p=0.01, blur_limit=(3, 7)), MedianBlur(p=0.01, blur_limit=(3, 7)), ToGray(p=0.01), CLAHE(p=0.01, clip_limit=(1, 4.0), tile_grid_size=(8, 8))\n",
          "output_type": "stream"
        },
        {
          "name": "stderr",
          "text": "os.fork() was called. os.fork() is incompatible with multithreaded code, and JAX is multithreaded, so this will likely lead to a deadlock.\nos.fork() was called. os.fork() is incompatible with multithreaded code, and JAX is multithreaded, so this will likely lead to a deadlock.\n",
          "output_type": "stream"
        },
        {
          "name": "stdout",
          "text": "\n      Epoch    GPU_mem   box_loss   cls_loss   dfl_loss  Instances       Size\n",
          "output_type": "stream"
        },
        {
          "name": "stderr",
          "text": "     91/100      1.95G     0.7972     0.5658       1.18         17        640: 100%|██████████| 193/193 [00:28<00:00,  6.77it/s]\n                 Class     Images  Instances      Box(P          R      mAP50  mAP50-95): 100%|██████████| 9/9 [00:01<00:00,  6.12it/s]",
          "output_type": "stream"
        },
        {
          "name": "stdout",
          "text": "                   all        268        347      0.871      0.808      0.893      0.614\n",
          "output_type": "stream"
        },
        {
          "name": "stderr",
          "text": "\n",
          "output_type": "stream"
        },
        {
          "name": "stdout",
          "text": "\n      Epoch    GPU_mem   box_loss   cls_loss   dfl_loss  Instances       Size\n",
          "output_type": "stream"
        },
        {
          "name": "stderr",
          "text": "     92/100      1.81G     0.7679     0.5283      1.166         21        640: 100%|██████████| 193/193 [00:27<00:00,  7.07it/s]\n                 Class     Images  Instances      Box(P          R      mAP50  mAP50-95): 100%|██████████| 9/9 [00:01<00:00,  5.96it/s]",
          "output_type": "stream"
        },
        {
          "name": "stdout",
          "text": "                   all        268        347      0.888      0.819      0.903      0.617\n",
          "output_type": "stream"
        },
        {
          "name": "stderr",
          "text": "\n",
          "output_type": "stream"
        },
        {
          "name": "stdout",
          "text": "\n      Epoch    GPU_mem   box_loss   cls_loss   dfl_loss  Instances       Size\n",
          "output_type": "stream"
        },
        {
          "name": "stderr",
          "text": "     93/100      1.81G     0.7643     0.5193      1.152         19        640: 100%|██████████| 193/193 [00:27<00:00,  7.04it/s]\n                 Class     Images  Instances      Box(P          R      mAP50  mAP50-95): 100%|██████████| 9/9 [00:01<00:00,  5.60it/s]",
          "output_type": "stream"
        },
        {
          "name": "stdout",
          "text": "                   all        268        347      0.888      0.814      0.904      0.623\n",
          "output_type": "stream"
        },
        {
          "name": "stderr",
          "text": "\n",
          "output_type": "stream"
        },
        {
          "name": "stdout",
          "text": "\n      Epoch    GPU_mem   box_loss   cls_loss   dfl_loss  Instances       Size\n",
          "output_type": "stream"
        },
        {
          "name": "stderr",
          "text": "     94/100      1.81G     0.7525     0.5096      1.152         22        640: 100%|██████████| 193/193 [00:26<00:00,  7.16it/s]\n                 Class     Images  Instances      Box(P          R      mAP50  mAP50-95): 100%|██████████| 9/9 [00:01<00:00,  5.72it/s]",
          "output_type": "stream"
        },
        {
          "name": "stdout",
          "text": "                   all        268        347      0.897      0.815      0.899      0.625\n",
          "output_type": "stream"
        },
        {
          "name": "stderr",
          "text": "\n",
          "output_type": "stream"
        },
        {
          "name": "stdout",
          "text": "\n      Epoch    GPU_mem   box_loss   cls_loss   dfl_loss  Instances       Size\n",
          "output_type": "stream"
        },
        {
          "name": "stderr",
          "text": "     95/100      1.81G     0.7464     0.5064      1.136         20        640: 100%|██████████| 193/193 [00:26<00:00,  7.16it/s]\n                 Class     Images  Instances      Box(P          R      mAP50  mAP50-95): 100%|██████████| 9/9 [00:01<00:00,  6.12it/s]",
          "output_type": "stream"
        },
        {
          "name": "stdout",
          "text": "                   all        268        347      0.883      0.824      0.899      0.624\n",
          "output_type": "stream"
        },
        {
          "name": "stderr",
          "text": "\n",
          "output_type": "stream"
        },
        {
          "name": "stdout",
          "text": "\n      Epoch    GPU_mem   box_loss   cls_loss   dfl_loss  Instances       Size\n",
          "output_type": "stream"
        },
        {
          "name": "stderr",
          "text": "     96/100      1.81G     0.7454     0.4984       1.14         25        640: 100%|██████████| 193/193 [00:27<00:00,  7.13it/s]\n                 Class     Images  Instances      Box(P          R      mAP50  mAP50-95): 100%|██████████| 9/9 [00:01<00:00,  6.18it/s]",
          "output_type": "stream"
        },
        {
          "name": "stdout",
          "text": "                   all        268        347      0.883      0.828      0.899       0.62\n",
          "output_type": "stream"
        },
        {
          "name": "stderr",
          "text": "\n",
          "output_type": "stream"
        },
        {
          "name": "stdout",
          "text": "\n      Epoch    GPU_mem   box_loss   cls_loss   dfl_loss  Instances       Size\n",
          "output_type": "stream"
        },
        {
          "name": "stderr",
          "text": "     97/100      1.81G     0.7331     0.4971      1.133         19        640: 100%|██████████| 193/193 [00:27<00:00,  6.99it/s]\n                 Class     Images  Instances      Box(P          R      mAP50  mAP50-95): 100%|██████████| 9/9 [00:01<00:00,  6.07it/s]",
          "output_type": "stream"
        },
        {
          "name": "stdout",
          "text": "                   all        268        347      0.901      0.802      0.894      0.623\n",
          "output_type": "stream"
        },
        {
          "name": "stderr",
          "text": "\n",
          "output_type": "stream"
        },
        {
          "name": "stdout",
          "text": "\n      Epoch    GPU_mem   box_loss   cls_loss   dfl_loss  Instances       Size\n",
          "output_type": "stream"
        },
        {
          "name": "stderr",
          "text": "     98/100      1.81G     0.7295     0.4915      1.134         17        640: 100%|██████████| 193/193 [00:26<00:00,  7.17it/s]\n                 Class     Images  Instances      Box(P          R      mAP50  mAP50-95): 100%|██████████| 9/9 [00:01<00:00,  5.87it/s]",
          "output_type": "stream"
        },
        {
          "name": "stdout",
          "text": "                   all        268        347      0.883      0.834      0.901       0.62\n",
          "output_type": "stream"
        },
        {
          "name": "stderr",
          "text": "\n",
          "output_type": "stream"
        },
        {
          "name": "stdout",
          "text": "\n      Epoch    GPU_mem   box_loss   cls_loss   dfl_loss  Instances       Size\n",
          "output_type": "stream"
        },
        {
          "name": "stderr",
          "text": "     99/100      1.81G     0.7184     0.4866      1.131         19        640: 100%|██████████| 193/193 [00:27<00:00,  6.99it/s]\n                 Class     Images  Instances      Box(P          R      mAP50  mAP50-95): 100%|██████████| 9/9 [00:01<00:00,  6.17it/s]",
          "output_type": "stream"
        },
        {
          "name": "stdout",
          "text": "                   all        268        347      0.892      0.825      0.907      0.626\n",
          "output_type": "stream"
        },
        {
          "name": "stderr",
          "text": "\n",
          "output_type": "stream"
        },
        {
          "name": "stdout",
          "text": "\n      Epoch    GPU_mem   box_loss   cls_loss   dfl_loss  Instances       Size\n",
          "output_type": "stream"
        },
        {
          "name": "stderr",
          "text": "    100/100      1.81G     0.7268     0.4825      1.136         22        640: 100%|██████████| 193/193 [00:26<00:00,  7.18it/s]\n                 Class     Images  Instances      Box(P          R      mAP50  mAP50-95): 100%|██████████| 9/9 [00:01<00:00,  5.89it/s]",
          "output_type": "stream"
        },
        {
          "name": "stdout",
          "text": "                   all        268        347      0.897      0.818      0.904      0.623\n",
          "output_type": "stream"
        },
        {
          "name": "stderr",
          "text": "\n",
          "output_type": "stream"
        },
        {
          "name": "stdout",
          "text": "\n100 epochs completed in 0.876 hours.\nOptimizer stripped from /kaggle/working/ultralytics/runs/detect/train2/weights/last.pt, 4.0MB\nOptimizer stripped from /kaggle/working/ultralytics/runs/detect/train2/weights/best.pt, 4.0MB\n\nValidating /kaggle/working/ultralytics/runs/detect/train2/weights/best.pt...\nUltralytics YOLOv8.2.72 🚀 Python-3.10.13 torch-2.1.2 CUDA:0 (Tesla T4, 15095MiB)\nbackbonev9 summary (fused): 184 layers, 1,865,174 parameters, 0 gradients, 5.5 GFLOPs\n",
          "output_type": "stream"
        },
        {
          "name": "stderr",
          "text": "                 Class     Images  Instances      Box(P          R      mAP50  mAP50-95): 100%|██████████| 9/9 [00:03<00:00,  2.69it/s]\n",
          "output_type": "stream"
        },
        {
          "name": "stdout",
          "text": "                   all        268        347      0.893      0.825      0.907      0.626\n                   FIT        125        162      0.888       0.79      0.894      0.665\n                 UNFIT        163        185      0.898      0.859      0.919      0.587\nSpeed: 0.2ms preprocess, 1.9ms inference, 0.0ms loss, 1.5ms postprocess per image\nResults saved to \u001b[1m/kaggle/working/ultralytics/runs/detect/train2\u001b[0m\n",
          "output_type": "stream"
        }
      ]
    },
    {
      "cell_type": "code",
      "source": [
        "model.val(data=\"np_mynp-2/data.yaml\")"
      ],
      "metadata": {
        "execution": {
          "iopub.status.busy": "2024-08-04T06:54:12.818544Z",
          "iopub.execute_input": "2024-08-04T06:54:12.818894Z",
          "iopub.status.idle": "2024-08-04T06:54:20.476543Z",
          "shell.execute_reply.started": "2024-08-04T06:54:12.818869Z",
          "shell.execute_reply": "2024-08-04T06:54:20.475421Z"
        },
        "trusted": true,
        "id": "u-RpKx2zTY48",
        "outputId": "64dc0338-0bb0-4819-b0ab-74760ab0e8ab"
      },
      "execution_count": null,
      "outputs": [
        {
          "name": "stdout",
          "text": "Ultralytics YOLOv8.2.72 🚀 Python-3.10.13 torch-2.1.2 CUDA:0 (Tesla T4, 15095MiB)\nbackbonev9 summary (fused): 184 layers, 1,865,174 parameters, 0 gradients, 5.5 GFLOPs\n",
          "output_type": "stream"
        },
        {
          "name": "stderr",
          "text": "\u001b[34m\u001b[1mval: \u001b[0mScanning /kaggle/working/np_mynp-2/test/labels.cache... 268 images, 1 backgrounds, 0 corrupt: 100%|██████████| 268/268 [00:00<?, ?it/s]\nos.fork() was called. os.fork() is incompatible with multithreaded code, and JAX is multithreaded, so this will likely lead to a deadlock.\n                 Class     Images  Instances      Box(P          R      mAP50  mAP50-95): 100%|██████████| 17/17 [00:03<00:00,  4.42it/s]\n",
          "output_type": "stream"
        },
        {
          "name": "stdout",
          "text": "                   all        268        347      0.893      0.825      0.907      0.626\n                   FIT        125        162      0.888       0.79      0.894      0.665\n                 UNFIT        163        185      0.898       0.86      0.919      0.587\nSpeed: 0.2ms preprocess, 3.6ms inference, 0.0ms loss, 4.7ms postprocess per image\nResults saved to \u001b[1m/kaggle/working/ultralytics/runs/detect/train22\u001b[0m\n",
          "output_type": "stream"
        },
        {
          "execution_count": 28,
          "output_type": "execute_result",
          "data": {
            "text/plain": "ultralytics.utils.metrics.DetMetrics object with attributes:\n\nap_class_index: array([0, 1])\nbox: ultralytics.utils.metrics.Metric object\nconfusion_matrix: <ultralytics.utils.metrics.ConfusionMatrix object at 0x7d7e7ecde5f0>\ncurves: ['Precision-Recall(B)', 'F1-Confidence(B)', 'Precision-Confidence(B)', 'Recall-Confidence(B)']\ncurves_results: [[array([          0,    0.001001,    0.002002,    0.003003,    0.004004,    0.005005,    0.006006,    0.007007,    0.008008,    0.009009,     0.01001,    0.011011,    0.012012,    0.013013,    0.014014,    0.015015,    0.016016,    0.017017,    0.018018,    0.019019,     0.02002,    0.021021,    0.022022,    0.023023,\n          0.024024,    0.025025,    0.026026,    0.027027,    0.028028,    0.029029,     0.03003,    0.031031,    0.032032,    0.033033,    0.034034,    0.035035,    0.036036,    0.037037,    0.038038,    0.039039,     0.04004,    0.041041,    0.042042,    0.043043,    0.044044,    0.045045,    0.046046,    0.047047,\n          0.048048,    0.049049,     0.05005,    0.051051,    0.052052,    0.053053,    0.054054,    0.055055,    0.056056,    0.057057,    0.058058,    0.059059,     0.06006,    0.061061,    0.062062,    0.063063,    0.064064,    0.065065,    0.066066,    0.067067,    0.068068,    0.069069,     0.07007,    0.071071,\n          0.072072,    0.073073,    0.074074,    0.075075,    0.076076,    0.077077,    0.078078,    0.079079,     0.08008,    0.081081,    0.082082,    0.083083,    0.084084,    0.085085,    0.086086,    0.087087,    0.088088,    0.089089,     0.09009,    0.091091,    0.092092,    0.093093,    0.094094,    0.095095,\n          0.096096,    0.097097,    0.098098,    0.099099,      0.1001,      0.1011,      0.1021,      0.1031,      0.1041,     0.10511,     0.10611,     0.10711,     0.10811,     0.10911,     0.11011,     0.11111,     0.11211,     0.11311,     0.11411,     0.11512,     0.11612,     0.11712,     0.11812,     0.11912,\n           0.12012,     0.12112,     0.12212,     0.12312,     0.12412,     0.12513,     0.12613,     0.12713,     0.12813,     0.12913,     0.13013,     0.13113,     0.13213,     0.13313,     0.13413,     0.13514,     0.13614,     0.13714,     0.13814,     0.13914,     0.14014,     0.14114,     0.14214,     0.14314,\n           0.14414,     0.14515,     0.14615,     0.14715,     0.14815,     0.14915,     0.15015,     0.15115,     0.15215,     0.15315,     0.15415,     0.15516,     0.15616,     0.15716,     0.15816,     0.15916,     0.16016,     0.16116,     0.16216,     0.16316,     0.16416,     0.16517,     0.16617,     0.16717,\n           0.16817,     0.16917,     0.17017,     0.17117,     0.17217,     0.17317,     0.17417,     0.17518,     0.17618,     0.17718,     0.17818,     0.17918,     0.18018,     0.18118,     0.18218,     0.18318,     0.18418,     0.18519,     0.18619,     0.18719,     0.18819,     0.18919,     0.19019,     0.19119,\n           0.19219,     0.19319,     0.19419,      0.1952,      0.1962,      0.1972,      0.1982,      0.1992,      0.2002,      0.2012,      0.2022,      0.2032,      0.2042,     0.20521,     0.20621,     0.20721,     0.20821,     0.20921,     0.21021,     0.21121,     0.21221,     0.21321,     0.21421,     0.21522,\n           0.21622,     0.21722,     0.21822,     0.21922,     0.22022,     0.22122,     0.22222,     0.22322,     0.22422,     0.22523,     0.22623,     0.22723,     0.22823,     0.22923,     0.23023,     0.23123,     0.23223,     0.23323,     0.23423,     0.23524,     0.23624,     0.23724,     0.23824,     0.23924,\n           0.24024,     0.24124,     0.24224,     0.24324,     0.24424,     0.24525,     0.24625,     0.24725,     0.24825,     0.24925,     0.25025,     0.25125,     0.25225,     0.25325,     0.25425,     0.25526,     0.25626,     0.25726,     0.25826,     0.25926,     0.26026,     0.26126,     0.26226,     0.26326,\n           0.26426,     0.26527,     0.26627,     0.26727,     0.26827,     0.26927,     0.27027,     0.27127,     0.27227,     0.27327,     0.27427,     0.27528,     0.27628,     0.27728,     0.27828,     0.27928,     0.28028,     0.28128,     0.28228,     0.28328,     0.28428,     0.28529,     0.28629,     0.28729,\n           0.28829,     0.28929,     0.29029,     0.29129,     0.29229,     0.29329,     0.29429,      0.2953,      0.2963,      0.2973,      0.2983,      0.2993,      0.3003,      0.3013,      0.3023,      0.3033,      0.3043,     0.30531,     0.30631,     0.30731,     0.30831,     0.30931,     0.31031,     0.31131,\n           0.31231,     0.31331,     0.31431,     0.31532,     0.31632,     0.31732,     0.31832,     0.31932,     0.32032,     0.32132,     0.32232,     0.32332,     0.32432,     0.32533,     0.32633,     0.32733,     0.32833,     0.32933,     0.33033,     0.33133,     0.33233,     0.33333,     0.33433,     0.33534,\n           0.33634,     0.33734,     0.33834,     0.33934,     0.34034,     0.34134,     0.34234,     0.34334,     0.34434,     0.34535,     0.34635,     0.34735,     0.34835,     0.34935,     0.35035,     0.35135,     0.35235,     0.35335,     0.35435,     0.35536,     0.35636,     0.35736,     0.35836,     0.35936,\n           0.36036,     0.36136,     0.36236,     0.36336,     0.36436,     0.36537,     0.36637,     0.36737,     0.36837,     0.36937,     0.37037,     0.37137,     0.37237,     0.37337,     0.37437,     0.37538,     0.37638,     0.37738,     0.37838,     0.37938,     0.38038,     0.38138,     0.38238,     0.38338,\n           0.38438,     0.38539,     0.38639,     0.38739,     0.38839,     0.38939,     0.39039,     0.39139,     0.39239,     0.39339,     0.39439,      0.3954,      0.3964,      0.3974,      0.3984,      0.3994,      0.4004,      0.4014,      0.4024,      0.4034,      0.4044,     0.40541,     0.40641,     0.40741,\n           0.40841,     0.40941,     0.41041,     0.41141,     0.41241,     0.41341,     0.41441,     0.41542,     0.41642,     0.41742,     0.41842,     0.41942,     0.42042,     0.42142,     0.42242,     0.42342,     0.42442,     0.42543,     0.42643,     0.42743,     0.42843,     0.42943,     0.43043,     0.43143,\n           0.43243,     0.43343,     0.43443,     0.43544,     0.43644,     0.43744,     0.43844,     0.43944,     0.44044,     0.44144,     0.44244,     0.44344,     0.44444,     0.44545,     0.44645,     0.44745,     0.44845,     0.44945,     0.45045,     0.45145,     0.45245,     0.45345,     0.45445,     0.45546,\n           0.45646,     0.45746,     0.45846,     0.45946,     0.46046,     0.46146,     0.46246,     0.46346,     0.46446,     0.46547,     0.46647,     0.46747,     0.46847,     0.46947,     0.47047,     0.47147,     0.47247,     0.47347,     0.47447,     0.47548,     0.47648,     0.47748,     0.47848,     0.47948,\n           0.48048,     0.48148,     0.48248,     0.48348,     0.48448,     0.48549,     0.48649,     0.48749,     0.48849,     0.48949,     0.49049,     0.49149,     0.49249,     0.49349,     0.49449,      0.4955,      0.4965,      0.4975,      0.4985,      0.4995,      0.5005,      0.5015,      0.5025,      0.5035,\n            0.5045,     0.50551,     0.50651,     0.50751,     0.50851,     0.50951,     0.51051,     0.51151,     0.51251,     0.51351,     0.51451,     0.51552,     0.51652,     0.51752,     0.51852,     0.51952,     0.52052,     0.52152,     0.52252,     0.52352,     0.52452,     0.52553,     0.52653,     0.52753,\n           0.52853,     0.52953,     0.53053,     0.53153,     0.53253,     0.53353,     0.53453,     0.53554,     0.53654,     0.53754,     0.53854,     0.53954,     0.54054,     0.54154,     0.54254,     0.54354,     0.54454,     0.54555,     0.54655,     0.54755,     0.54855,     0.54955,     0.55055,     0.55155,\n           0.55255,     0.55355,     0.55455,     0.55556,     0.55656,     0.55756,     0.55856,     0.55956,     0.56056,     0.56156,     0.56256,     0.56356,     0.56456,     0.56557,     0.56657,     0.56757,     0.56857,     0.56957,     0.57057,     0.57157,     0.57257,     0.57357,     0.57457,     0.57558,\n           0.57658,     0.57758,     0.57858,     0.57958,     0.58058,     0.58158,     0.58258,     0.58358,     0.58458,     0.58559,     0.58659,     0.58759,     0.58859,     0.58959,     0.59059,     0.59159,     0.59259,     0.59359,     0.59459,      0.5956,      0.5966,      0.5976,      0.5986,      0.5996,\n            0.6006,      0.6016,      0.6026,      0.6036,      0.6046,     0.60561,     0.60661,     0.60761,     0.60861,     0.60961,     0.61061,     0.61161,     0.61261,     0.61361,     0.61461,     0.61562,     0.61662,     0.61762,     0.61862,     0.61962,     0.62062,     0.62162,     0.62262,     0.62362,\n           0.62462,     0.62563,     0.62663,     0.62763,     0.62863,     0.62963,     0.63063,     0.63163,     0.63263,     0.63363,     0.63463,     0.63564,     0.63664,     0.63764,     0.63864,     0.63964,     0.64064,     0.64164,     0.64264,     0.64364,     0.64464,     0.64565,     0.64665,     0.64765,\n           0.64865,     0.64965,     0.65065,     0.65165,     0.65265,     0.65365,     0.65465,     0.65566,     0.65666,     0.65766,     0.65866,     0.65966,     0.66066,     0.66166,     0.66266,     0.66366,     0.66466,     0.66567,     0.66667,     0.66767,     0.66867,     0.66967,     0.67067,     0.67167,\n           0.67267,     0.67367,     0.67467,     0.67568,     0.67668,     0.67768,     0.67868,     0.67968,     0.68068,     0.68168,     0.68268,     0.68368,     0.68468,     0.68569,     0.68669,     0.68769,     0.68869,     0.68969,     0.69069,     0.69169,     0.69269,     0.69369,     0.69469,      0.6957,\n            0.6967,      0.6977,      0.6987,      0.6997,      0.7007,      0.7017,      0.7027,      0.7037,      0.7047,     0.70571,     0.70671,     0.70771,     0.70871,     0.70971,     0.71071,     0.71171,     0.71271,     0.71371,     0.71471,     0.71572,     0.71672,     0.71772,     0.71872,     0.71972,\n           0.72072,     0.72172,     0.72272,     0.72372,     0.72472,     0.72573,     0.72673,     0.72773,     0.72873,     0.72973,     0.73073,     0.73173,     0.73273,     0.73373,     0.73473,     0.73574,     0.73674,     0.73774,     0.73874,     0.73974,     0.74074,     0.74174,     0.74274,     0.74374,\n           0.74474,     0.74575,     0.74675,     0.74775,     0.74875,     0.74975,     0.75075,     0.75175,     0.75275,     0.75375,     0.75475,     0.75576,     0.75676,     0.75776,     0.75876,     0.75976,     0.76076,     0.76176,     0.76276,     0.76376,     0.76476,     0.76577,     0.76677,     0.76777,\n           0.76877,     0.76977,     0.77077,     0.77177,     0.77277,     0.77377,     0.77477,     0.77578,     0.77678,     0.77778,     0.77878,     0.77978,     0.78078,     0.78178,     0.78278,     0.78378,     0.78478,     0.78579,     0.78679,     0.78779,     0.78879,     0.78979,     0.79079,     0.79179,\n           0.79279,     0.79379,     0.79479,      0.7958,      0.7968,      0.7978,      0.7988,      0.7998,      0.8008,      0.8018,      0.8028,      0.8038,      0.8048,     0.80581,     0.80681,     0.80781,     0.80881,     0.80981,     0.81081,     0.81181,     0.81281,     0.81381,     0.81481,     0.81582,\n           0.81682,     0.81782,     0.81882,     0.81982,     0.82082,     0.82182,     0.82282,     0.82382,     0.82482,     0.82583,     0.82683,     0.82783,     0.82883,     0.82983,     0.83083,     0.83183,     0.83283,     0.83383,     0.83483,     0.83584,     0.83684,     0.83784,     0.83884,     0.83984,\n           0.84084,     0.84184,     0.84284,     0.84384,     0.84484,     0.84585,     0.84685,     0.84785,     0.84885,     0.84985,     0.85085,     0.85185,     0.85285,     0.85385,     0.85485,     0.85586,     0.85686,     0.85786,     0.85886,     0.85986,     0.86086,     0.86186,     0.86286,     0.86386,\n           0.86486,     0.86587,     0.86687,     0.86787,     0.86887,     0.86987,     0.87087,     0.87187,     0.87287,     0.87387,     0.87487,     0.87588,     0.87688,     0.87788,     0.87888,     0.87988,     0.88088,     0.88188,     0.88288,     0.88388,     0.88488,     0.88589,     0.88689,     0.88789,\n           0.88889,     0.88989,     0.89089,     0.89189,     0.89289,     0.89389,     0.89489,      0.8959,      0.8969,      0.8979,      0.8989,      0.8999,      0.9009,      0.9019,      0.9029,      0.9039,      0.9049,     0.90591,     0.90691,     0.90791,     0.90891,     0.90991,     0.91091,     0.91191,\n           0.91291,     0.91391,     0.91491,     0.91592,     0.91692,     0.91792,     0.91892,     0.91992,     0.92092,     0.92192,     0.92292,     0.92392,     0.92492,     0.92593,     0.92693,     0.92793,     0.92893,     0.92993,     0.93093,     0.93193,     0.93293,     0.93393,     0.93493,     0.93594,\n           0.93694,     0.93794,     0.93894,     0.93994,     0.94094,     0.94194,     0.94294,     0.94394,     0.94494,     0.94595,     0.94695,     0.94795,     0.94895,     0.94995,     0.95095,     0.95195,     0.95295,     0.95395,     0.95495,     0.95596,     0.95696,     0.95796,     0.95896,     0.95996,\n           0.96096,     0.96196,     0.96296,     0.96396,     0.96496,     0.96597,     0.96697,     0.96797,     0.96897,     0.96997,     0.97097,     0.97197,     0.97297,     0.97397,     0.97497,     0.97598,     0.97698,     0.97798,     0.97898,     0.97998,     0.98098,     0.98198,     0.98298,     0.98398,\n           0.98498,     0.98599,     0.98699,     0.98799,     0.98899,     0.98999,     0.99099,     0.99199,     0.99299,     0.99399,     0.99499,       0.996,       0.997,       0.998,       0.999,           1]), array([[          1,           1,           1, ...,    0.011573,   0.0057863,           0],\n       [          1,           1,           1, ...,    0.016881,   0.0084407,           0]]), 'Recall', 'Precision'], [array([          0,    0.001001,    0.002002,    0.003003,    0.004004,    0.005005,    0.006006,    0.007007,    0.008008,    0.009009,     0.01001,    0.011011,    0.012012,    0.013013,    0.014014,    0.015015,    0.016016,    0.017017,    0.018018,    0.019019,     0.02002,    0.021021,    0.022022,    0.023023,\n          0.024024,    0.025025,    0.026026,    0.027027,    0.028028,    0.029029,     0.03003,    0.031031,    0.032032,    0.033033,    0.034034,    0.035035,    0.036036,    0.037037,    0.038038,    0.039039,     0.04004,    0.041041,    0.042042,    0.043043,    0.044044,    0.045045,    0.046046,    0.047047,\n          0.048048,    0.049049,     0.05005,    0.051051,    0.052052,    0.053053,    0.054054,    0.055055,    0.056056,    0.057057,    0.058058,    0.059059,     0.06006,    0.061061,    0.062062,    0.063063,    0.064064,    0.065065,    0.066066,    0.067067,    0.068068,    0.069069,     0.07007,    0.071071,\n          0.072072,    0.073073,    0.074074,    0.075075,    0.076076,    0.077077,    0.078078,    0.079079,     0.08008,    0.081081,    0.082082,    0.083083,    0.084084,    0.085085,    0.086086,    0.087087,    0.088088,    0.089089,     0.09009,    0.091091,    0.092092,    0.093093,    0.094094,    0.095095,\n          0.096096,    0.097097,    0.098098,    0.099099,      0.1001,      0.1011,      0.1021,      0.1031,      0.1041,     0.10511,     0.10611,     0.10711,     0.10811,     0.10911,     0.11011,     0.11111,     0.11211,     0.11311,     0.11411,     0.11512,     0.11612,     0.11712,     0.11812,     0.11912,\n           0.12012,     0.12112,     0.12212,     0.12312,     0.12412,     0.12513,     0.12613,     0.12713,     0.12813,     0.12913,     0.13013,     0.13113,     0.13213,     0.13313,     0.13413,     0.13514,     0.13614,     0.13714,     0.13814,     0.13914,     0.14014,     0.14114,     0.14214,     0.14314,\n           0.14414,     0.14515,     0.14615,     0.14715,     0.14815,     0.14915,     0.15015,     0.15115,     0.15215,     0.15315,     0.15415,     0.15516,     0.15616,     0.15716,     0.15816,     0.15916,     0.16016,     0.16116,     0.16216,     0.16316,     0.16416,     0.16517,     0.16617,     0.16717,\n           0.16817,     0.16917,     0.17017,     0.17117,     0.17217,     0.17317,     0.17417,     0.17518,     0.17618,     0.17718,     0.17818,     0.17918,     0.18018,     0.18118,     0.18218,     0.18318,     0.18418,     0.18519,     0.18619,     0.18719,     0.18819,     0.18919,     0.19019,     0.19119,\n           0.19219,     0.19319,     0.19419,      0.1952,      0.1962,      0.1972,      0.1982,      0.1992,      0.2002,      0.2012,      0.2022,      0.2032,      0.2042,     0.20521,     0.20621,     0.20721,     0.20821,     0.20921,     0.21021,     0.21121,     0.21221,     0.21321,     0.21421,     0.21522,\n           0.21622,     0.21722,     0.21822,     0.21922,     0.22022,     0.22122,     0.22222,     0.22322,     0.22422,     0.22523,     0.22623,     0.22723,     0.22823,     0.22923,     0.23023,     0.23123,     0.23223,     0.23323,     0.23423,     0.23524,     0.23624,     0.23724,     0.23824,     0.23924,\n           0.24024,     0.24124,     0.24224,     0.24324,     0.24424,     0.24525,     0.24625,     0.24725,     0.24825,     0.24925,     0.25025,     0.25125,     0.25225,     0.25325,     0.25425,     0.25526,     0.25626,     0.25726,     0.25826,     0.25926,     0.26026,     0.26126,     0.26226,     0.26326,\n           0.26426,     0.26527,     0.26627,     0.26727,     0.26827,     0.26927,     0.27027,     0.27127,     0.27227,     0.27327,     0.27427,     0.27528,     0.27628,     0.27728,     0.27828,     0.27928,     0.28028,     0.28128,     0.28228,     0.28328,     0.28428,     0.28529,     0.28629,     0.28729,\n           0.28829,     0.28929,     0.29029,     0.29129,     0.29229,     0.29329,     0.29429,      0.2953,      0.2963,      0.2973,      0.2983,      0.2993,      0.3003,      0.3013,      0.3023,      0.3033,      0.3043,     0.30531,     0.30631,     0.30731,     0.30831,     0.30931,     0.31031,     0.31131,\n           0.31231,     0.31331,     0.31431,     0.31532,     0.31632,     0.31732,     0.31832,     0.31932,     0.32032,     0.32132,     0.32232,     0.32332,     0.32432,     0.32533,     0.32633,     0.32733,     0.32833,     0.32933,     0.33033,     0.33133,     0.33233,     0.33333,     0.33433,     0.33534,\n           0.33634,     0.33734,     0.33834,     0.33934,     0.34034,     0.34134,     0.34234,     0.34334,     0.34434,     0.34535,     0.34635,     0.34735,     0.34835,     0.34935,     0.35035,     0.35135,     0.35235,     0.35335,     0.35435,     0.35536,     0.35636,     0.35736,     0.35836,     0.35936,\n           0.36036,     0.36136,     0.36236,     0.36336,     0.36436,     0.36537,     0.36637,     0.36737,     0.36837,     0.36937,     0.37037,     0.37137,     0.37237,     0.37337,     0.37437,     0.37538,     0.37638,     0.37738,     0.37838,     0.37938,     0.38038,     0.38138,     0.38238,     0.38338,\n           0.38438,     0.38539,     0.38639,     0.38739,     0.38839,     0.38939,     0.39039,     0.39139,     0.39239,     0.39339,     0.39439,      0.3954,      0.3964,      0.3974,      0.3984,      0.3994,      0.4004,      0.4014,      0.4024,      0.4034,      0.4044,     0.40541,     0.40641,     0.40741,\n           0.40841,     0.40941,     0.41041,     0.41141,     0.41241,     0.41341,     0.41441,     0.41542,     0.41642,     0.41742,     0.41842,     0.41942,     0.42042,     0.42142,     0.42242,     0.42342,     0.42442,     0.42543,     0.42643,     0.42743,     0.42843,     0.42943,     0.43043,     0.43143,\n           0.43243,     0.43343,     0.43443,     0.43544,     0.43644,     0.43744,     0.43844,     0.43944,     0.44044,     0.44144,     0.44244,     0.44344,     0.44444,     0.44545,     0.44645,     0.44745,     0.44845,     0.44945,     0.45045,     0.45145,     0.45245,     0.45345,     0.45445,     0.45546,\n           0.45646,     0.45746,     0.45846,     0.45946,     0.46046,     0.46146,     0.46246,     0.46346,     0.46446,     0.46547,     0.46647,     0.46747,     0.46847,     0.46947,     0.47047,     0.47147,     0.47247,     0.47347,     0.47447,     0.47548,     0.47648,     0.47748,     0.47848,     0.47948,\n           0.48048,     0.48148,     0.48248,     0.48348,     0.48448,     0.48549,     0.48649,     0.48749,     0.48849,     0.48949,     0.49049,     0.49149,     0.49249,     0.49349,     0.49449,      0.4955,      0.4965,      0.4975,      0.4985,      0.4995,      0.5005,      0.5015,      0.5025,      0.5035,\n            0.5045,     0.50551,     0.50651,     0.50751,     0.50851,     0.50951,     0.51051,     0.51151,     0.51251,     0.51351,     0.51451,     0.51552,     0.51652,     0.51752,     0.51852,     0.51952,     0.52052,     0.52152,     0.52252,     0.52352,     0.52452,     0.52553,     0.52653,     0.52753,\n           0.52853,     0.52953,     0.53053,     0.53153,     0.53253,     0.53353,     0.53453,     0.53554,     0.53654,     0.53754,     0.53854,     0.53954,     0.54054,     0.54154,     0.54254,     0.54354,     0.54454,     0.54555,     0.54655,     0.54755,     0.54855,     0.54955,     0.55055,     0.55155,\n           0.55255,     0.55355,     0.55455,     0.55556,     0.55656,     0.55756,     0.55856,     0.55956,     0.56056,     0.56156,     0.56256,     0.56356,     0.56456,     0.56557,     0.56657,     0.56757,     0.56857,     0.56957,     0.57057,     0.57157,     0.57257,     0.57357,     0.57457,     0.57558,\n           0.57658,     0.57758,     0.57858,     0.57958,     0.58058,     0.58158,     0.58258,     0.58358,     0.58458,     0.58559,     0.58659,     0.58759,     0.58859,     0.58959,     0.59059,     0.59159,     0.59259,     0.59359,     0.59459,      0.5956,      0.5966,      0.5976,      0.5986,      0.5996,\n            0.6006,      0.6016,      0.6026,      0.6036,      0.6046,     0.60561,     0.60661,     0.60761,     0.60861,     0.60961,     0.61061,     0.61161,     0.61261,     0.61361,     0.61461,     0.61562,     0.61662,     0.61762,     0.61862,     0.61962,     0.62062,     0.62162,     0.62262,     0.62362,\n           0.62462,     0.62563,     0.62663,     0.62763,     0.62863,     0.62963,     0.63063,     0.63163,     0.63263,     0.63363,     0.63463,     0.63564,     0.63664,     0.63764,     0.63864,     0.63964,     0.64064,     0.64164,     0.64264,     0.64364,     0.64464,     0.64565,     0.64665,     0.64765,\n           0.64865,     0.64965,     0.65065,     0.65165,     0.65265,     0.65365,     0.65465,     0.65566,     0.65666,     0.65766,     0.65866,     0.65966,     0.66066,     0.66166,     0.66266,     0.66366,     0.66466,     0.66567,     0.66667,     0.66767,     0.66867,     0.66967,     0.67067,     0.67167,\n           0.67267,     0.67367,     0.67467,     0.67568,     0.67668,     0.67768,     0.67868,     0.67968,     0.68068,     0.68168,     0.68268,     0.68368,     0.68468,     0.68569,     0.68669,     0.68769,     0.68869,     0.68969,     0.69069,     0.69169,     0.69269,     0.69369,     0.69469,      0.6957,\n            0.6967,      0.6977,      0.6987,      0.6997,      0.7007,      0.7017,      0.7027,      0.7037,      0.7047,     0.70571,     0.70671,     0.70771,     0.70871,     0.70971,     0.71071,     0.71171,     0.71271,     0.71371,     0.71471,     0.71572,     0.71672,     0.71772,     0.71872,     0.71972,\n           0.72072,     0.72172,     0.72272,     0.72372,     0.72472,     0.72573,     0.72673,     0.72773,     0.72873,     0.72973,     0.73073,     0.73173,     0.73273,     0.73373,     0.73473,     0.73574,     0.73674,     0.73774,     0.73874,     0.73974,     0.74074,     0.74174,     0.74274,     0.74374,\n           0.74474,     0.74575,     0.74675,     0.74775,     0.74875,     0.74975,     0.75075,     0.75175,     0.75275,     0.75375,     0.75475,     0.75576,     0.75676,     0.75776,     0.75876,     0.75976,     0.76076,     0.76176,     0.76276,     0.76376,     0.76476,     0.76577,     0.76677,     0.76777,\n           0.76877,     0.76977,     0.77077,     0.77177,     0.77277,     0.77377,     0.77477,     0.77578,     0.77678,     0.77778,     0.77878,     0.77978,     0.78078,     0.78178,     0.78278,     0.78378,     0.78478,     0.78579,     0.78679,     0.78779,     0.78879,     0.78979,     0.79079,     0.79179,\n           0.79279,     0.79379,     0.79479,      0.7958,      0.7968,      0.7978,      0.7988,      0.7998,      0.8008,      0.8018,      0.8028,      0.8038,      0.8048,     0.80581,     0.80681,     0.80781,     0.80881,     0.80981,     0.81081,     0.81181,     0.81281,     0.81381,     0.81481,     0.81582,\n           0.81682,     0.81782,     0.81882,     0.81982,     0.82082,     0.82182,     0.82282,     0.82382,     0.82482,     0.82583,     0.82683,     0.82783,     0.82883,     0.82983,     0.83083,     0.83183,     0.83283,     0.83383,     0.83483,     0.83584,     0.83684,     0.83784,     0.83884,     0.83984,\n           0.84084,     0.84184,     0.84284,     0.84384,     0.84484,     0.84585,     0.84685,     0.84785,     0.84885,     0.84985,     0.85085,     0.85185,     0.85285,     0.85385,     0.85485,     0.85586,     0.85686,     0.85786,     0.85886,     0.85986,     0.86086,     0.86186,     0.86286,     0.86386,\n           0.86486,     0.86587,     0.86687,     0.86787,     0.86887,     0.86987,     0.87087,     0.87187,     0.87287,     0.87387,     0.87487,     0.87588,     0.87688,     0.87788,     0.87888,     0.87988,     0.88088,     0.88188,     0.88288,     0.88388,     0.88488,     0.88589,     0.88689,     0.88789,\n           0.88889,     0.88989,     0.89089,     0.89189,     0.89289,     0.89389,     0.89489,      0.8959,      0.8969,      0.8979,      0.8989,      0.8999,      0.9009,      0.9019,      0.9029,      0.9039,      0.9049,     0.90591,     0.90691,     0.90791,     0.90891,     0.90991,     0.91091,     0.91191,\n           0.91291,     0.91391,     0.91491,     0.91592,     0.91692,     0.91792,     0.91892,     0.91992,     0.92092,     0.92192,     0.92292,     0.92392,     0.92492,     0.92593,     0.92693,     0.92793,     0.92893,     0.92993,     0.93093,     0.93193,     0.93293,     0.93393,     0.93493,     0.93594,\n           0.93694,     0.93794,     0.93894,     0.93994,     0.94094,     0.94194,     0.94294,     0.94394,     0.94494,     0.94595,     0.94695,     0.94795,     0.94895,     0.94995,     0.95095,     0.95195,     0.95295,     0.95395,     0.95495,     0.95596,     0.95696,     0.95796,     0.95896,     0.95996,\n           0.96096,     0.96196,     0.96296,     0.96396,     0.96496,     0.96597,     0.96697,     0.96797,     0.96897,     0.96997,     0.97097,     0.97197,     0.97297,     0.97397,     0.97497,     0.97598,     0.97698,     0.97798,     0.97898,     0.97998,     0.98098,     0.98198,     0.98298,     0.98398,\n           0.98498,     0.98599,     0.98699,     0.98799,     0.98899,     0.98999,     0.99099,     0.99199,     0.99299,     0.99399,     0.99499,       0.996,       0.997,       0.998,       0.999,           1]), array([[    0.24901,     0.24901,     0.31581, ...,           0,           0,           0],\n       [    0.24011,     0.24011,     0.32921, ...,           0,           0,           0]]), 'Confidence', 'F1'], [array([          0,    0.001001,    0.002002,    0.003003,    0.004004,    0.005005,    0.006006,    0.007007,    0.008008,    0.009009,     0.01001,    0.011011,    0.012012,    0.013013,    0.014014,    0.015015,    0.016016,    0.017017,    0.018018,    0.019019,     0.02002,    0.021021,    0.022022,    0.023023,\n          0.024024,    0.025025,    0.026026,    0.027027,    0.028028,    0.029029,     0.03003,    0.031031,    0.032032,    0.033033,    0.034034,    0.035035,    0.036036,    0.037037,    0.038038,    0.039039,     0.04004,    0.041041,    0.042042,    0.043043,    0.044044,    0.045045,    0.046046,    0.047047,\n          0.048048,    0.049049,     0.05005,    0.051051,    0.052052,    0.053053,    0.054054,    0.055055,    0.056056,    0.057057,    0.058058,    0.059059,     0.06006,    0.061061,    0.062062,    0.063063,    0.064064,    0.065065,    0.066066,    0.067067,    0.068068,    0.069069,     0.07007,    0.071071,\n          0.072072,    0.073073,    0.074074,    0.075075,    0.076076,    0.077077,    0.078078,    0.079079,     0.08008,    0.081081,    0.082082,    0.083083,    0.084084,    0.085085,    0.086086,    0.087087,    0.088088,    0.089089,     0.09009,    0.091091,    0.092092,    0.093093,    0.094094,    0.095095,\n          0.096096,    0.097097,    0.098098,    0.099099,      0.1001,      0.1011,      0.1021,      0.1031,      0.1041,     0.10511,     0.10611,     0.10711,     0.10811,     0.10911,     0.11011,     0.11111,     0.11211,     0.11311,     0.11411,     0.11512,     0.11612,     0.11712,     0.11812,     0.11912,\n           0.12012,     0.12112,     0.12212,     0.12312,     0.12412,     0.12513,     0.12613,     0.12713,     0.12813,     0.12913,     0.13013,     0.13113,     0.13213,     0.13313,     0.13413,     0.13514,     0.13614,     0.13714,     0.13814,     0.13914,     0.14014,     0.14114,     0.14214,     0.14314,\n           0.14414,     0.14515,     0.14615,     0.14715,     0.14815,     0.14915,     0.15015,     0.15115,     0.15215,     0.15315,     0.15415,     0.15516,     0.15616,     0.15716,     0.15816,     0.15916,     0.16016,     0.16116,     0.16216,     0.16316,     0.16416,     0.16517,     0.16617,     0.16717,\n           0.16817,     0.16917,     0.17017,     0.17117,     0.17217,     0.17317,     0.17417,     0.17518,     0.17618,     0.17718,     0.17818,     0.17918,     0.18018,     0.18118,     0.18218,     0.18318,     0.18418,     0.18519,     0.18619,     0.18719,     0.18819,     0.18919,     0.19019,     0.19119,\n           0.19219,     0.19319,     0.19419,      0.1952,      0.1962,      0.1972,      0.1982,      0.1992,      0.2002,      0.2012,      0.2022,      0.2032,      0.2042,     0.20521,     0.20621,     0.20721,     0.20821,     0.20921,     0.21021,     0.21121,     0.21221,     0.21321,     0.21421,     0.21522,\n           0.21622,     0.21722,     0.21822,     0.21922,     0.22022,     0.22122,     0.22222,     0.22322,     0.22422,     0.22523,     0.22623,     0.22723,     0.22823,     0.22923,     0.23023,     0.23123,     0.23223,     0.23323,     0.23423,     0.23524,     0.23624,     0.23724,     0.23824,     0.23924,\n           0.24024,     0.24124,     0.24224,     0.24324,     0.24424,     0.24525,     0.24625,     0.24725,     0.24825,     0.24925,     0.25025,     0.25125,     0.25225,     0.25325,     0.25425,     0.25526,     0.25626,     0.25726,     0.25826,     0.25926,     0.26026,     0.26126,     0.26226,     0.26326,\n           0.26426,     0.26527,     0.26627,     0.26727,     0.26827,     0.26927,     0.27027,     0.27127,     0.27227,     0.27327,     0.27427,     0.27528,     0.27628,     0.27728,     0.27828,     0.27928,     0.28028,     0.28128,     0.28228,     0.28328,     0.28428,     0.28529,     0.28629,     0.28729,\n           0.28829,     0.28929,     0.29029,     0.29129,     0.29229,     0.29329,     0.29429,      0.2953,      0.2963,      0.2973,      0.2983,      0.2993,      0.3003,      0.3013,      0.3023,      0.3033,      0.3043,     0.30531,     0.30631,     0.30731,     0.30831,     0.30931,     0.31031,     0.31131,\n           0.31231,     0.31331,     0.31431,     0.31532,     0.31632,     0.31732,     0.31832,     0.31932,     0.32032,     0.32132,     0.32232,     0.32332,     0.32432,     0.32533,     0.32633,     0.32733,     0.32833,     0.32933,     0.33033,     0.33133,     0.33233,     0.33333,     0.33433,     0.33534,\n           0.33634,     0.33734,     0.33834,     0.33934,     0.34034,     0.34134,     0.34234,     0.34334,     0.34434,     0.34535,     0.34635,     0.34735,     0.34835,     0.34935,     0.35035,     0.35135,     0.35235,     0.35335,     0.35435,     0.35536,     0.35636,     0.35736,     0.35836,     0.35936,\n           0.36036,     0.36136,     0.36236,     0.36336,     0.36436,     0.36537,     0.36637,     0.36737,     0.36837,     0.36937,     0.37037,     0.37137,     0.37237,     0.37337,     0.37437,     0.37538,     0.37638,     0.37738,     0.37838,     0.37938,     0.38038,     0.38138,     0.38238,     0.38338,\n           0.38438,     0.38539,     0.38639,     0.38739,     0.38839,     0.38939,     0.39039,     0.39139,     0.39239,     0.39339,     0.39439,      0.3954,      0.3964,      0.3974,      0.3984,      0.3994,      0.4004,      0.4014,      0.4024,      0.4034,      0.4044,     0.40541,     0.40641,     0.40741,\n           0.40841,     0.40941,     0.41041,     0.41141,     0.41241,     0.41341,     0.41441,     0.41542,     0.41642,     0.41742,     0.41842,     0.41942,     0.42042,     0.42142,     0.42242,     0.42342,     0.42442,     0.42543,     0.42643,     0.42743,     0.42843,     0.42943,     0.43043,     0.43143,\n           0.43243,     0.43343,     0.43443,     0.43544,     0.43644,     0.43744,     0.43844,     0.43944,     0.44044,     0.44144,     0.44244,     0.44344,     0.44444,     0.44545,     0.44645,     0.44745,     0.44845,     0.44945,     0.45045,     0.45145,     0.45245,     0.45345,     0.45445,     0.45546,\n           0.45646,     0.45746,     0.45846,     0.45946,     0.46046,     0.46146,     0.46246,     0.46346,     0.46446,     0.46547,     0.46647,     0.46747,     0.46847,     0.46947,     0.47047,     0.47147,     0.47247,     0.47347,     0.47447,     0.47548,     0.47648,     0.47748,     0.47848,     0.47948,\n           0.48048,     0.48148,     0.48248,     0.48348,     0.48448,     0.48549,     0.48649,     0.48749,     0.48849,     0.48949,     0.49049,     0.49149,     0.49249,     0.49349,     0.49449,      0.4955,      0.4965,      0.4975,      0.4985,      0.4995,      0.5005,      0.5015,      0.5025,      0.5035,\n            0.5045,     0.50551,     0.50651,     0.50751,     0.50851,     0.50951,     0.51051,     0.51151,     0.51251,     0.51351,     0.51451,     0.51552,     0.51652,     0.51752,     0.51852,     0.51952,     0.52052,     0.52152,     0.52252,     0.52352,     0.52452,     0.52553,     0.52653,     0.52753,\n           0.52853,     0.52953,     0.53053,     0.53153,     0.53253,     0.53353,     0.53453,     0.53554,     0.53654,     0.53754,     0.53854,     0.53954,     0.54054,     0.54154,     0.54254,     0.54354,     0.54454,     0.54555,     0.54655,     0.54755,     0.54855,     0.54955,     0.55055,     0.55155,\n           0.55255,     0.55355,     0.55455,     0.55556,     0.55656,     0.55756,     0.55856,     0.55956,     0.56056,     0.56156,     0.56256,     0.56356,     0.56456,     0.56557,     0.56657,     0.56757,     0.56857,     0.56957,     0.57057,     0.57157,     0.57257,     0.57357,     0.57457,     0.57558,\n           0.57658,     0.57758,     0.57858,     0.57958,     0.58058,     0.58158,     0.58258,     0.58358,     0.58458,     0.58559,     0.58659,     0.58759,     0.58859,     0.58959,     0.59059,     0.59159,     0.59259,     0.59359,     0.59459,      0.5956,      0.5966,      0.5976,      0.5986,      0.5996,\n            0.6006,      0.6016,      0.6026,      0.6036,      0.6046,     0.60561,     0.60661,     0.60761,     0.60861,     0.60961,     0.61061,     0.61161,     0.61261,     0.61361,     0.61461,     0.61562,     0.61662,     0.61762,     0.61862,     0.61962,     0.62062,     0.62162,     0.62262,     0.62362,\n           0.62462,     0.62563,     0.62663,     0.62763,     0.62863,     0.62963,     0.63063,     0.63163,     0.63263,     0.63363,     0.63463,     0.63564,     0.63664,     0.63764,     0.63864,     0.63964,     0.64064,     0.64164,     0.64264,     0.64364,     0.64464,     0.64565,     0.64665,     0.64765,\n           0.64865,     0.64965,     0.65065,     0.65165,     0.65265,     0.65365,     0.65465,     0.65566,     0.65666,     0.65766,     0.65866,     0.65966,     0.66066,     0.66166,     0.66266,     0.66366,     0.66466,     0.66567,     0.66667,     0.66767,     0.66867,     0.66967,     0.67067,     0.67167,\n           0.67267,     0.67367,     0.67467,     0.67568,     0.67668,     0.67768,     0.67868,     0.67968,     0.68068,     0.68168,     0.68268,     0.68368,     0.68468,     0.68569,     0.68669,     0.68769,     0.68869,     0.68969,     0.69069,     0.69169,     0.69269,     0.69369,     0.69469,      0.6957,\n            0.6967,      0.6977,      0.6987,      0.6997,      0.7007,      0.7017,      0.7027,      0.7037,      0.7047,     0.70571,     0.70671,     0.70771,     0.70871,     0.70971,     0.71071,     0.71171,     0.71271,     0.71371,     0.71471,     0.71572,     0.71672,     0.71772,     0.71872,     0.71972,\n           0.72072,     0.72172,     0.72272,     0.72372,     0.72472,     0.72573,     0.72673,     0.72773,     0.72873,     0.72973,     0.73073,     0.73173,     0.73273,     0.73373,     0.73473,     0.73574,     0.73674,     0.73774,     0.73874,     0.73974,     0.74074,     0.74174,     0.74274,     0.74374,\n           0.74474,     0.74575,     0.74675,     0.74775,     0.74875,     0.74975,     0.75075,     0.75175,     0.75275,     0.75375,     0.75475,     0.75576,     0.75676,     0.75776,     0.75876,     0.75976,     0.76076,     0.76176,     0.76276,     0.76376,     0.76476,     0.76577,     0.76677,     0.76777,\n           0.76877,     0.76977,     0.77077,     0.77177,     0.77277,     0.77377,     0.77477,     0.77578,     0.77678,     0.77778,     0.77878,     0.77978,     0.78078,     0.78178,     0.78278,     0.78378,     0.78478,     0.78579,     0.78679,     0.78779,     0.78879,     0.78979,     0.79079,     0.79179,\n           0.79279,     0.79379,     0.79479,      0.7958,      0.7968,      0.7978,      0.7988,      0.7998,      0.8008,      0.8018,      0.8028,      0.8038,      0.8048,     0.80581,     0.80681,     0.80781,     0.80881,     0.80981,     0.81081,     0.81181,     0.81281,     0.81381,     0.81481,     0.81582,\n           0.81682,     0.81782,     0.81882,     0.81982,     0.82082,     0.82182,     0.82282,     0.82382,     0.82482,     0.82583,     0.82683,     0.82783,     0.82883,     0.82983,     0.83083,     0.83183,     0.83283,     0.83383,     0.83483,     0.83584,     0.83684,     0.83784,     0.83884,     0.83984,\n           0.84084,     0.84184,     0.84284,     0.84384,     0.84484,     0.84585,     0.84685,     0.84785,     0.84885,     0.84985,     0.85085,     0.85185,     0.85285,     0.85385,     0.85485,     0.85586,     0.85686,     0.85786,     0.85886,     0.85986,     0.86086,     0.86186,     0.86286,     0.86386,\n           0.86486,     0.86587,     0.86687,     0.86787,     0.86887,     0.86987,     0.87087,     0.87187,     0.87287,     0.87387,     0.87487,     0.87588,     0.87688,     0.87788,     0.87888,     0.87988,     0.88088,     0.88188,     0.88288,     0.88388,     0.88488,     0.88589,     0.88689,     0.88789,\n           0.88889,     0.88989,     0.89089,     0.89189,     0.89289,     0.89389,     0.89489,      0.8959,      0.8969,      0.8979,      0.8989,      0.8999,      0.9009,      0.9019,      0.9029,      0.9039,      0.9049,     0.90591,     0.90691,     0.90791,     0.90891,     0.90991,     0.91091,     0.91191,\n           0.91291,     0.91391,     0.91491,     0.91592,     0.91692,     0.91792,     0.91892,     0.91992,     0.92092,     0.92192,     0.92292,     0.92392,     0.92492,     0.92593,     0.92693,     0.92793,     0.92893,     0.92993,     0.93093,     0.93193,     0.93293,     0.93393,     0.93493,     0.93594,\n           0.93694,     0.93794,     0.93894,     0.93994,     0.94094,     0.94194,     0.94294,     0.94394,     0.94494,     0.94595,     0.94695,     0.94795,     0.94895,     0.94995,     0.95095,     0.95195,     0.95295,     0.95395,     0.95495,     0.95596,     0.95696,     0.95796,     0.95896,     0.95996,\n           0.96096,     0.96196,     0.96296,     0.96396,     0.96496,     0.96597,     0.96697,     0.96797,     0.96897,     0.96997,     0.97097,     0.97197,     0.97297,     0.97397,     0.97497,     0.97598,     0.97698,     0.97798,     0.97898,     0.97998,     0.98098,     0.98198,     0.98298,     0.98398,\n           0.98498,     0.98599,     0.98699,     0.98799,     0.98899,     0.98999,     0.99099,     0.99199,     0.99299,     0.99399,     0.99499,       0.996,       0.997,       0.998,       0.999,           1]), array([[    0.14273,     0.14273,     0.18841, ...,           1,           1,           1],\n       [    0.13674,     0.13674,     0.19812, ...,           1,           1,           1]]), 'Confidence', 'Precision'], [array([          0,    0.001001,    0.002002,    0.003003,    0.004004,    0.005005,    0.006006,    0.007007,    0.008008,    0.009009,     0.01001,    0.011011,    0.012012,    0.013013,    0.014014,    0.015015,    0.016016,    0.017017,    0.018018,    0.019019,     0.02002,    0.021021,    0.022022,    0.023023,\n          0.024024,    0.025025,    0.026026,    0.027027,    0.028028,    0.029029,     0.03003,    0.031031,    0.032032,    0.033033,    0.034034,    0.035035,    0.036036,    0.037037,    0.038038,    0.039039,     0.04004,    0.041041,    0.042042,    0.043043,    0.044044,    0.045045,    0.046046,    0.047047,\n          0.048048,    0.049049,     0.05005,    0.051051,    0.052052,    0.053053,    0.054054,    0.055055,    0.056056,    0.057057,    0.058058,    0.059059,     0.06006,    0.061061,    0.062062,    0.063063,    0.064064,    0.065065,    0.066066,    0.067067,    0.068068,    0.069069,     0.07007,    0.071071,\n          0.072072,    0.073073,    0.074074,    0.075075,    0.076076,    0.077077,    0.078078,    0.079079,     0.08008,    0.081081,    0.082082,    0.083083,    0.084084,    0.085085,    0.086086,    0.087087,    0.088088,    0.089089,     0.09009,    0.091091,    0.092092,    0.093093,    0.094094,    0.095095,\n          0.096096,    0.097097,    0.098098,    0.099099,      0.1001,      0.1011,      0.1021,      0.1031,      0.1041,     0.10511,     0.10611,     0.10711,     0.10811,     0.10911,     0.11011,     0.11111,     0.11211,     0.11311,     0.11411,     0.11512,     0.11612,     0.11712,     0.11812,     0.11912,\n           0.12012,     0.12112,     0.12212,     0.12312,     0.12412,     0.12513,     0.12613,     0.12713,     0.12813,     0.12913,     0.13013,     0.13113,     0.13213,     0.13313,     0.13413,     0.13514,     0.13614,     0.13714,     0.13814,     0.13914,     0.14014,     0.14114,     0.14214,     0.14314,\n           0.14414,     0.14515,     0.14615,     0.14715,     0.14815,     0.14915,     0.15015,     0.15115,     0.15215,     0.15315,     0.15415,     0.15516,     0.15616,     0.15716,     0.15816,     0.15916,     0.16016,     0.16116,     0.16216,     0.16316,     0.16416,     0.16517,     0.16617,     0.16717,\n           0.16817,     0.16917,     0.17017,     0.17117,     0.17217,     0.17317,     0.17417,     0.17518,     0.17618,     0.17718,     0.17818,     0.17918,     0.18018,     0.18118,     0.18218,     0.18318,     0.18418,     0.18519,     0.18619,     0.18719,     0.18819,     0.18919,     0.19019,     0.19119,\n           0.19219,     0.19319,     0.19419,      0.1952,      0.1962,      0.1972,      0.1982,      0.1992,      0.2002,      0.2012,      0.2022,      0.2032,      0.2042,     0.20521,     0.20621,     0.20721,     0.20821,     0.20921,     0.21021,     0.21121,     0.21221,     0.21321,     0.21421,     0.21522,\n           0.21622,     0.21722,     0.21822,     0.21922,     0.22022,     0.22122,     0.22222,     0.22322,     0.22422,     0.22523,     0.22623,     0.22723,     0.22823,     0.22923,     0.23023,     0.23123,     0.23223,     0.23323,     0.23423,     0.23524,     0.23624,     0.23724,     0.23824,     0.23924,\n           0.24024,     0.24124,     0.24224,     0.24324,     0.24424,     0.24525,     0.24625,     0.24725,     0.24825,     0.24925,     0.25025,     0.25125,     0.25225,     0.25325,     0.25425,     0.25526,     0.25626,     0.25726,     0.25826,     0.25926,     0.26026,     0.26126,     0.26226,     0.26326,\n           0.26426,     0.26527,     0.26627,     0.26727,     0.26827,     0.26927,     0.27027,     0.27127,     0.27227,     0.27327,     0.27427,     0.27528,     0.27628,     0.27728,     0.27828,     0.27928,     0.28028,     0.28128,     0.28228,     0.28328,     0.28428,     0.28529,     0.28629,     0.28729,\n           0.28829,     0.28929,     0.29029,     0.29129,     0.29229,     0.29329,     0.29429,      0.2953,      0.2963,      0.2973,      0.2983,      0.2993,      0.3003,      0.3013,      0.3023,      0.3033,      0.3043,     0.30531,     0.30631,     0.30731,     0.30831,     0.30931,     0.31031,     0.31131,\n           0.31231,     0.31331,     0.31431,     0.31532,     0.31632,     0.31732,     0.31832,     0.31932,     0.32032,     0.32132,     0.32232,     0.32332,     0.32432,     0.32533,     0.32633,     0.32733,     0.32833,     0.32933,     0.33033,     0.33133,     0.33233,     0.33333,     0.33433,     0.33534,\n           0.33634,     0.33734,     0.33834,     0.33934,     0.34034,     0.34134,     0.34234,     0.34334,     0.34434,     0.34535,     0.34635,     0.34735,     0.34835,     0.34935,     0.35035,     0.35135,     0.35235,     0.35335,     0.35435,     0.35536,     0.35636,     0.35736,     0.35836,     0.35936,\n           0.36036,     0.36136,     0.36236,     0.36336,     0.36436,     0.36537,     0.36637,     0.36737,     0.36837,     0.36937,     0.37037,     0.37137,     0.37237,     0.37337,     0.37437,     0.37538,     0.37638,     0.37738,     0.37838,     0.37938,     0.38038,     0.38138,     0.38238,     0.38338,\n           0.38438,     0.38539,     0.38639,     0.38739,     0.38839,     0.38939,     0.39039,     0.39139,     0.39239,     0.39339,     0.39439,      0.3954,      0.3964,      0.3974,      0.3984,      0.3994,      0.4004,      0.4014,      0.4024,      0.4034,      0.4044,     0.40541,     0.40641,     0.40741,\n           0.40841,     0.40941,     0.41041,     0.41141,     0.41241,     0.41341,     0.41441,     0.41542,     0.41642,     0.41742,     0.41842,     0.41942,     0.42042,     0.42142,     0.42242,     0.42342,     0.42442,     0.42543,     0.42643,     0.42743,     0.42843,     0.42943,     0.43043,     0.43143,\n           0.43243,     0.43343,     0.43443,     0.43544,     0.43644,     0.43744,     0.43844,     0.43944,     0.44044,     0.44144,     0.44244,     0.44344,     0.44444,     0.44545,     0.44645,     0.44745,     0.44845,     0.44945,     0.45045,     0.45145,     0.45245,     0.45345,     0.45445,     0.45546,\n           0.45646,     0.45746,     0.45846,     0.45946,     0.46046,     0.46146,     0.46246,     0.46346,     0.46446,     0.46547,     0.46647,     0.46747,     0.46847,     0.46947,     0.47047,     0.47147,     0.47247,     0.47347,     0.47447,     0.47548,     0.47648,     0.47748,     0.47848,     0.47948,\n           0.48048,     0.48148,     0.48248,     0.48348,     0.48448,     0.48549,     0.48649,     0.48749,     0.48849,     0.48949,     0.49049,     0.49149,     0.49249,     0.49349,     0.49449,      0.4955,      0.4965,      0.4975,      0.4985,      0.4995,      0.5005,      0.5015,      0.5025,      0.5035,\n            0.5045,     0.50551,     0.50651,     0.50751,     0.50851,     0.50951,     0.51051,     0.51151,     0.51251,     0.51351,     0.51451,     0.51552,     0.51652,     0.51752,     0.51852,     0.51952,     0.52052,     0.52152,     0.52252,     0.52352,     0.52452,     0.52553,     0.52653,     0.52753,\n           0.52853,     0.52953,     0.53053,     0.53153,     0.53253,     0.53353,     0.53453,     0.53554,     0.53654,     0.53754,     0.53854,     0.53954,     0.54054,     0.54154,     0.54254,     0.54354,     0.54454,     0.54555,     0.54655,     0.54755,     0.54855,     0.54955,     0.55055,     0.55155,\n           0.55255,     0.55355,     0.55455,     0.55556,     0.55656,     0.55756,     0.55856,     0.55956,     0.56056,     0.56156,     0.56256,     0.56356,     0.56456,     0.56557,     0.56657,     0.56757,     0.56857,     0.56957,     0.57057,     0.57157,     0.57257,     0.57357,     0.57457,     0.57558,\n           0.57658,     0.57758,     0.57858,     0.57958,     0.58058,     0.58158,     0.58258,     0.58358,     0.58458,     0.58559,     0.58659,     0.58759,     0.58859,     0.58959,     0.59059,     0.59159,     0.59259,     0.59359,     0.59459,      0.5956,      0.5966,      0.5976,      0.5986,      0.5996,\n            0.6006,      0.6016,      0.6026,      0.6036,      0.6046,     0.60561,     0.60661,     0.60761,     0.60861,     0.60961,     0.61061,     0.61161,     0.61261,     0.61361,     0.61461,     0.61562,     0.61662,     0.61762,     0.61862,     0.61962,     0.62062,     0.62162,     0.62262,     0.62362,\n           0.62462,     0.62563,     0.62663,     0.62763,     0.62863,     0.62963,     0.63063,     0.63163,     0.63263,     0.63363,     0.63463,     0.63564,     0.63664,     0.63764,     0.63864,     0.63964,     0.64064,     0.64164,     0.64264,     0.64364,     0.64464,     0.64565,     0.64665,     0.64765,\n           0.64865,     0.64965,     0.65065,     0.65165,     0.65265,     0.65365,     0.65465,     0.65566,     0.65666,     0.65766,     0.65866,     0.65966,     0.66066,     0.66166,     0.66266,     0.66366,     0.66466,     0.66567,     0.66667,     0.66767,     0.66867,     0.66967,     0.67067,     0.67167,\n           0.67267,     0.67367,     0.67467,     0.67568,     0.67668,     0.67768,     0.67868,     0.67968,     0.68068,     0.68168,     0.68268,     0.68368,     0.68468,     0.68569,     0.68669,     0.68769,     0.68869,     0.68969,     0.69069,     0.69169,     0.69269,     0.69369,     0.69469,      0.6957,\n            0.6967,      0.6977,      0.6987,      0.6997,      0.7007,      0.7017,      0.7027,      0.7037,      0.7047,     0.70571,     0.70671,     0.70771,     0.70871,     0.70971,     0.71071,     0.71171,     0.71271,     0.71371,     0.71471,     0.71572,     0.71672,     0.71772,     0.71872,     0.71972,\n           0.72072,     0.72172,     0.72272,     0.72372,     0.72472,     0.72573,     0.72673,     0.72773,     0.72873,     0.72973,     0.73073,     0.73173,     0.73273,     0.73373,     0.73473,     0.73574,     0.73674,     0.73774,     0.73874,     0.73974,     0.74074,     0.74174,     0.74274,     0.74374,\n           0.74474,     0.74575,     0.74675,     0.74775,     0.74875,     0.74975,     0.75075,     0.75175,     0.75275,     0.75375,     0.75475,     0.75576,     0.75676,     0.75776,     0.75876,     0.75976,     0.76076,     0.76176,     0.76276,     0.76376,     0.76476,     0.76577,     0.76677,     0.76777,\n           0.76877,     0.76977,     0.77077,     0.77177,     0.77277,     0.77377,     0.77477,     0.77578,     0.77678,     0.77778,     0.77878,     0.77978,     0.78078,     0.78178,     0.78278,     0.78378,     0.78478,     0.78579,     0.78679,     0.78779,     0.78879,     0.78979,     0.79079,     0.79179,\n           0.79279,     0.79379,     0.79479,      0.7958,      0.7968,      0.7978,      0.7988,      0.7998,      0.8008,      0.8018,      0.8028,      0.8038,      0.8048,     0.80581,     0.80681,     0.80781,     0.80881,     0.80981,     0.81081,     0.81181,     0.81281,     0.81381,     0.81481,     0.81582,\n           0.81682,     0.81782,     0.81882,     0.81982,     0.82082,     0.82182,     0.82282,     0.82382,     0.82482,     0.82583,     0.82683,     0.82783,     0.82883,     0.82983,     0.83083,     0.83183,     0.83283,     0.83383,     0.83483,     0.83584,     0.83684,     0.83784,     0.83884,     0.83984,\n           0.84084,     0.84184,     0.84284,     0.84384,     0.84484,     0.84585,     0.84685,     0.84785,     0.84885,     0.84985,     0.85085,     0.85185,     0.85285,     0.85385,     0.85485,     0.85586,     0.85686,     0.85786,     0.85886,     0.85986,     0.86086,     0.86186,     0.86286,     0.86386,\n           0.86486,     0.86587,     0.86687,     0.86787,     0.86887,     0.86987,     0.87087,     0.87187,     0.87287,     0.87387,     0.87487,     0.87588,     0.87688,     0.87788,     0.87888,     0.87988,     0.88088,     0.88188,     0.88288,     0.88388,     0.88488,     0.88589,     0.88689,     0.88789,\n           0.88889,     0.88989,     0.89089,     0.89189,     0.89289,     0.89389,     0.89489,      0.8959,      0.8969,      0.8979,      0.8989,      0.8999,      0.9009,      0.9019,      0.9029,      0.9039,      0.9049,     0.90591,     0.90691,     0.90791,     0.90891,     0.90991,     0.91091,     0.91191,\n           0.91291,     0.91391,     0.91491,     0.91592,     0.91692,     0.91792,     0.91892,     0.91992,     0.92092,     0.92192,     0.92292,     0.92392,     0.92492,     0.92593,     0.92693,     0.92793,     0.92893,     0.92993,     0.93093,     0.93193,     0.93293,     0.93393,     0.93493,     0.93594,\n           0.93694,     0.93794,     0.93894,     0.93994,     0.94094,     0.94194,     0.94294,     0.94394,     0.94494,     0.94595,     0.94695,     0.94795,     0.94895,     0.94995,     0.95095,     0.95195,     0.95295,     0.95395,     0.95495,     0.95596,     0.95696,     0.95796,     0.95896,     0.95996,\n           0.96096,     0.96196,     0.96296,     0.96396,     0.96496,     0.96597,     0.96697,     0.96797,     0.96897,     0.96997,     0.97097,     0.97197,     0.97297,     0.97397,     0.97497,     0.97598,     0.97698,     0.97798,     0.97898,     0.97998,     0.98098,     0.98198,     0.98298,     0.98398,\n           0.98498,     0.98599,     0.98699,     0.98799,     0.98899,     0.98999,     0.99099,     0.99199,     0.99299,     0.99399,     0.99499,       0.996,       0.997,       0.998,       0.999,           1]), array([[    0.97531,     0.97531,     0.97531, ...,           0,           0,           0],\n       [    0.98378,     0.98378,     0.97297, ...,           0,           0,           0]]), 'Confidence', 'Recall']]\nfitness: 0.6541446570803244\nkeys: ['metrics/precision(B)', 'metrics/recall(B)', 'metrics/mAP50(B)', 'metrics/mAP50-95(B)']\nmaps: array([    0.66541,     0.58677])\nnames: {0: 'FIT', 1: 'UNFIT'}\nplot: True\nresults_dict: {'metrics/precision(B)': 0.8929302612660517, 'metrics/recall(B)': 0.8248191341798166, 'metrics/mAP50(B)': 0.906618233455591, 'metrics/mAP50-95(B)': 0.6260920374830726, 'fitness': 0.6541446570803244}\nsave_dir: PosixPath('/kaggle/working/ultralytics/runs/detect/train22')\nspeed: {'preprocess': 0.2403250381128112, 'inference': 3.5633409201209223, 'loss': 0.0008558159443869519, 'postprocess': 4.720222594133063}\ntask: 'detect'"
          },
          "metadata": {}
        }
      ]
    },
    {
      "cell_type": "code",
      "source": [
        "!zip -r out.zip /kaggle/working/ultralytics/runs/detect"
      ],
      "metadata": {
        "execution": {
          "iopub.status.busy": "2024-08-04T06:55:27.539952Z",
          "iopub.execute_input": "2024-08-04T06:55:27.540347Z",
          "iopub.status.idle": "2024-08-04T06:55:29.676888Z",
          "shell.execute_reply.started": "2024-08-04T06:55:27.540309Z",
          "shell.execute_reply": "2024-08-04T06:55:29.675892Z"
        },
        "trusted": true,
        "id": "cdA3PXjkTY49",
        "outputId": "f73f8c68-2bd8-41ba-849f-191c9b129b17"
      },
      "execution_count": null,
      "outputs": [
        {
          "name": "stderr",
          "text": "os.fork() was called. os.fork() is incompatible with multithreaded code, and JAX is multithreaded, so this will likely lead to a deadlock.\n",
          "output_type": "stream"
        },
        {
          "name": "stdout",
          "text": "  adding: kaggle/working/ultralytics/runs/detect/ (stored 0%)\n  adding: kaggle/working/ultralytics/runs/detect/train22/ (stored 0%)\n  adding: kaggle/working/ultralytics/runs/detect/train22/F1_curve.png (deflated 12%)\n  adding: kaggle/working/ultralytics/runs/detect/train22/val_batch2_labels.jpg (deflated 5%)\n  adding: kaggle/working/ultralytics/runs/detect/train22/val_batch1_pred.jpg (deflated 5%)\n  adding: kaggle/working/ultralytics/runs/detect/train22/val_batch1_labels.jpg (deflated 5%)\n  adding: kaggle/working/ultralytics/runs/detect/train22/val_batch0_labels.jpg (deflated 4%)\n  adding: kaggle/working/ultralytics/runs/detect/train22/val_batch0_pred.jpg (deflated 4%)\n  adding: kaggle/working/ultralytics/runs/detect/train22/val_batch2_pred.jpg (deflated 4%)\n  adding: kaggle/working/ultralytics/runs/detect/train22/confusion_matrix_normalized.png (deflated 35%)\n  adding: kaggle/working/ultralytics/runs/detect/train22/P_curve.png (deflated 14%)\n  adding: kaggle/working/ultralytics/runs/detect/train22/confusion_matrix.png (deflated 36%)\n  adding: kaggle/working/ultralytics/runs/detect/train22/PR_curve.png (deflated 17%)\n  adding: kaggle/working/ultralytics/runs/detect/train22/R_curve.png (deflated 12%)\n  adding: kaggle/working/ultralytics/runs/detect/train/ (stored 0%)\n  adding: kaggle/working/ultralytics/runs/detect/train/weights/ (stored 0%)\n  adding: kaggle/working/ultralytics/runs/detect/train/args.yaml (deflated 53%)\n  adding: kaggle/working/ultralytics/runs/detect/train2/ (stored 0%)\n  adding: kaggle/working/ultralytics/runs/detect/train2/train_batch0.jpg (deflated 0%)\n  adding: kaggle/working/ultralytics/runs/detect/train2/F1_curve.png (deflated 12%)\n  adding: kaggle/working/ultralytics/runs/detect/train2/weights/ (stored 0%)\n  adding: kaggle/working/ultralytics/runs/detect/train2/weights/best.pt (deflated 11%)\n  adding: kaggle/working/ultralytics/runs/detect/train2/weights/last.pt (deflated 11%)\n  adding: kaggle/working/ultralytics/runs/detect/train2/labels_correlogram.jpg (deflated 41%)\n  adding: kaggle/working/ultralytics/runs/detect/train2/labels.jpg (deflated 37%)\n  adding: kaggle/working/ultralytics/runs/detect/train2/events.out.tfevents.1722751227.114803e44e5a.34.0 (deflated 87%)\n  adding: kaggle/working/ultralytics/runs/detect/train2/val_batch2_labels.jpg (deflated 4%)\n  adding: kaggle/working/ultralytics/runs/detect/train2/train_batch2.jpg (deflated 1%)\n  adding: kaggle/working/ultralytics/runs/detect/train2/train_batch1.jpg (deflated 1%)\n  adding: kaggle/working/ultralytics/runs/detect/train2/train_batch17371.jpg (deflated 3%)\n  adding: kaggle/working/ultralytics/runs/detect/train2/val_batch1_pred.jpg (deflated 4%)\n  adding: kaggle/working/ultralytics/runs/detect/train2/val_batch1_labels.jpg (deflated 5%)\n  adding: kaggle/working/ultralytics/runs/detect/train2/args.yaml (deflated 53%)\n  adding: kaggle/working/ultralytics/runs/detect/train2/val_batch0_labels.jpg (deflated 4%)\n  adding: kaggle/working/ultralytics/runs/detect/train2/results.png (deflated 8%)\n  adding: kaggle/working/ultralytics/runs/detect/train2/val_batch0_pred.jpg (deflated 4%)\n  adding: kaggle/working/ultralytics/runs/detect/train2/val_batch2_pred.jpg (deflated 4%)\n  adding: kaggle/working/ultralytics/runs/detect/train2/confusion_matrix_normalized.png (deflated 35%)\n  adding: kaggle/working/ultralytics/runs/detect/train2/P_curve.png (deflated 14%)\n  adding: kaggle/working/ultralytics/runs/detect/train2/train_batch17370.jpg (deflated 3%)\n  adding: kaggle/working/ultralytics/runs/detect/train2/results.csv (deflated 85%)\n  adding: kaggle/working/ultralytics/runs/detect/train2/confusion_matrix.png (deflated 36%)\n  adding: kaggle/working/ultralytics/runs/detect/train2/train_batch17372.jpg (deflated 2%)\n  adding: kaggle/working/ultralytics/runs/detect/train2/PR_curve.png (deflated 17%)\n  adding: kaggle/working/ultralytics/runs/detect/train2/R_curve.png (deflated 12%)\n",
          "output_type": "stream"
        }
      ]
    },
    {
      "cell_type": "code",
      "source": [
        "%ls"
      ],
      "metadata": {
        "execution": {
          "iopub.status.busy": "2024-08-04T06:55:43.399564Z",
          "iopub.execute_input": "2024-08-04T06:55:43.400355Z",
          "iopub.status.idle": "2024-08-04T06:55:44.449732Z",
          "shell.execute_reply.started": "2024-08-04T06:55:43.40032Z",
          "shell.execute_reply": "2024-08-04T06:55:44.448734Z"
        },
        "trusted": true,
        "id": "nXT_dHbDTY49",
        "outputId": "fc9781cc-3c1c-4376-fdaa-a9b9ecf96f03"
      },
      "execution_count": null,
      "outputs": [
        {
          "name": "stdout",
          "text": "\u001b[0m\u001b[01;34mnp_mynp-2\u001b[0m/  out.zip  \u001b[01;34multralytics\u001b[0m/  yolov8n.pt\n",
          "output_type": "stream"
        }
      ]
    },
    {
      "cell_type": "code",
      "source": [
        "from IPython.display import FileLink\n",
        "FileLink(r'out.zip')"
      ],
      "metadata": {
        "execution": {
          "iopub.status.busy": "2024-08-04T06:56:39.779258Z",
          "iopub.execute_input": "2024-08-04T06:56:39.780005Z",
          "iopub.status.idle": "2024-08-04T06:56:39.786797Z",
          "shell.execute_reply.started": "2024-08-04T06:56:39.779969Z",
          "shell.execute_reply": "2024-08-04T06:56:39.785805Z"
        },
        "trusted": true,
        "id": "ZbH6q496TY49",
        "outputId": "f6b33d09-dd23-41a0-a87c-78480344cd2b"
      },
      "execution_count": null,
      "outputs": [
        {
          "execution_count": 31,
          "output_type": "execute_result",
          "data": {
            "text/plain": "/kaggle/working/out.zip",
            "text/html": "<a href='out.zip' target='_blank'>out.zip</a><br>"
          },
          "metadata": {}
        }
      ]
    },
    {
      "cell_type": "code",
      "source": [
        "ls"
      ],
      "metadata": {
        "execution": {
          "iopub.status.busy": "2024-08-04T07:01:16.184317Z",
          "iopub.execute_input": "2024-08-04T07:01:16.185001Z",
          "iopub.status.idle": "2024-08-04T07:01:17.232156Z",
          "shell.execute_reply.started": "2024-08-04T07:01:16.184965Z",
          "shell.execute_reply": "2024-08-04T07:01:17.230709Z"
        },
        "trusted": true,
        "id": "srMbu9vbTY4-",
        "outputId": "8e9e07ec-d66b-4a13-c87c-b6434311a9ce"
      },
      "execution_count": null,
      "outputs": [
        {
          "name": "stdout",
          "text": "\u001b[0m\u001b[01;34mnp_mynp-2\u001b[0m/  out.zip  \u001b[01;34multralytics\u001b[0m/  yolov8n.pt\n",
          "output_type": "stream"
        }
      ]
    },
    {
      "cell_type": "code",
      "source": [],
      "metadata": {
        "id": "HeLsLfiFTY4-"
      },
      "execution_count": null,
      "outputs": []
    }
  ]
}