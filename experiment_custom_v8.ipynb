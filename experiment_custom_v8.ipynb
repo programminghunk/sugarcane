{
  "metadata": {
    "colab": {
      "provenance": [],
      "machine_shape": "hm",
      "name": "experiment1",
      "include_colab_link": true
    },
    "kernelspec": {
      "name": "python3",
      "display_name": "Python 3",
      "language": "python"
    },
    "accelerator": "GPU",
    "language_info": {
      "name": "python",
      "version": "3.10.13",
      "mimetype": "text/x-python",
      "codemirror_mode": {
        "name": "ipython",
        "version": 3
      },
      "pygments_lexer": "ipython3",
      "nbconvert_exporter": "python",
      "file_extension": ".py"
    },
    "kaggle": {
      "accelerator": "nvidiaTeslaT4",
      "dataSources": [],
      "dockerImageVersionId": 30747,
      "isInternetEnabled": true,
      "language": "python",
      "sourceType": "notebook",
      "isGpuEnabled": true
    }
  },
  "nbformat_minor": 0,
  "nbformat": 4,
  "cells": [
    {
      "cell_type": "markdown",
      "metadata": {
        "id": "view-in-github",
        "colab_type": "text"
      },
      "source": [
        "<a href=\"https://colab.research.google.com/github/programminghunk/sugarcane/blob/main/experiment_custom_v8.ipynb\" target=\"_parent\"><img src=\"https://colab.research.google.com/assets/colab-badge.svg\" alt=\"Open In Colab\"/></a>"
      ]
    },
    {
      "cell_type": "code",
      "source": [
        "#!git clone https://github.com/ultralytics/ultralytics.git"
      ],
      "metadata": {
        "id": "NjKzw2TvZrOQ",
        "execution": {
          "iopub.status.busy": "2024-08-04T03:07:46.043492Z",
          "iopub.execute_input": "2024-08-04T03:07:46.043853Z",
          "iopub.status.idle": "2024-08-04T03:07:46.047925Z",
          "shell.execute_reply.started": "2024-08-04T03:07:46.043826Z",
          "shell.execute_reply": "2024-08-04T03:07:46.046897Z"
        },
        "trusted": true
      },
      "execution_count": null,
      "outputs": []
    },
    {
      "cell_type": "code",
      "source": [
        "#%cd ultralytics\n",
        "#!pip install -e '.[dev]'"
      ],
      "metadata": {
        "execution": {
          "iopub.status.busy": "2024-08-04T03:07:41.174245Z",
          "iopub.execute_input": "2024-08-04T03:07:41.175129Z",
          "iopub.status.idle": "2024-08-04T03:07:41.179029Z",
          "shell.execute_reply.started": "2024-08-04T03:07:41.175087Z",
          "shell.execute_reply": "2024-08-04T03:07:41.178019Z"
        },
        "trusted": true,
        "id": "t2wFLo9eucm8"
      },
      "execution_count": null,
      "outputs": []
    },
    {
      "cell_type": "code",
      "source": [
        "from IPython import display\n",
        "display.clear_output()\n",
        "\n",
        "import ultralytics\n",
        "ultralytics.checks()"
      ],
      "metadata": {
        "execution": {
          "iopub.status.busy": "2024-08-04T03:07:53.972858Z",
          "iopub.execute_input": "2024-08-04T03:07:53.973237Z",
          "iopub.status.idle": "2024-08-04T03:08:02.743035Z",
          "shell.execute_reply.started": "2024-08-04T03:07:53.973189Z",
          "shell.execute_reply": "2024-08-04T03:08:02.742118Z"
        },
        "trusted": true,
        "id": "UMJqhu1Wucm9",
        "outputId": "ef02e502-5e6c-4426-f961-d7670a830f09"
      },
      "execution_count": null,
      "outputs": [
        {
          "name": "stdout",
          "text": "Ultralytics YOLOv8.2.72 🚀 Python-3.10.13 torch-2.1.2 CUDA:0 (Tesla T4, 15095MiB)\nSetup complete ✅ (4 CPUs, 31.4 GB RAM, 5771.8/8062.4 GB disk)\n",
          "output_type": "stream"
        }
      ]
    },
    {
      "cell_type": "code",
      "source": [
        "%cd ultralytics/cfg/models/v8"
      ],
      "metadata": {
        "execution": {
          "iopub.status.busy": "2024-08-04T03:08:39.347952Z",
          "iopub.execute_input": "2024-08-04T03:08:39.348651Z",
          "iopub.status.idle": "2024-08-04T03:08:39.353859Z",
          "shell.execute_reply.started": "2024-08-04T03:08:39.348597Z",
          "shell.execute_reply": "2024-08-04T03:08:39.353013Z"
        },
        "trusted": true,
        "id": "q_TisI8Tucm_",
        "outputId": "ce017e29-4f66-4f23-eec8-d4ca08169ef8"
      },
      "execution_count": null,
      "outputs": [
        {
          "name": "stdout",
          "text": "/kaggle/working/ultralytics/ultralytics/cfg/models/v8\n",
          "output_type": "stream"
        }
      ]
    },
    {
      "cell_type": "code",
      "source": [
        "%%writefile newconf.yaml\n",
        "\n",
        "# Parameters\n",
        "nc: 80 # number of classes\n",
        "scales: # model compound scaling constants, i.e. 'model=yolov8n.yaml' will call yolov8.yaml with scale 'n'\n",
        "  # [depth, width, max_channels]\n",
        "  n: [0.33, 0.25, 1024] # YOLOv8n summary: 225 layers,  3157200 parameters,  3157184 gradients,   8.9 GFLOPs\n",
        "  s: [0.33, 0.50, 1024] # YOLOv8s summary: 225 layers, 11166560 parameters, 11166544 gradients,  28.8 GFLOPs\n",
        "  m: [0.67, 0.75, 768] # YOLOv8m summary: 295 layers, 25902640 parameters, 25902624 gradients,  79.3 GFLOPs\n",
        "  l: [1.00, 1.00, 512] # YOLOv8l summary: 365 layers, 43691520 parameters, 43691504 gradients, 165.7 GFLOPs\n",
        "  x: [1.00, 1.25, 512] # YOLOv8x summary: 365 layers, 68229648 parameters, 68229632 gradients, 258.5 GFLOPs\n",
        "\n",
        "# YOLOv8.0n backbone\n",
        "backbone:\n",
        "  - [-1, 1, Conv, [16, 3, 2]] # 0-P1/2\n",
        "  - [-1, 1, Conv, [32, 3, 2]] # 1-P2/4\n",
        "  - [-1, 1, ELAN1, [32, 32, 16]] # 2\n",
        "  - [-1, 1, AConv, [64]] # 3-P3/8\n",
        "  - [-1, 1, RepNCSPELAN4, [64, 64, 32, 3]] # 4\n",
        "  - [-1, 1, AConv, [96]] # 5-P4/16\n",
        "  - [-1, 1, RepNCSPELAN4, [96, 96, 48, 3]] # 6\n",
        "  - [-1, 1, AConv, [128]] # 7-P5/32\n",
        "  - [-1, 1, RepNCSPELAN4, [128, 128, 64, 3]] # 8\n",
        "  - [-1, 1, SPPELAN, [128, 64]] # 9\n",
        "\n",
        "# YOLOv8.0n head\n",
        "head:\n",
        "  - [-1, 1, nn.Upsample, [None, 2, \"nearest\"]]\n",
        "  - [[-1, 6], 1, Concat, [1]] # cat backbone P4\n",
        "  - [-1, 3, C2f, [512]] # 12\n",
        "\n",
        "  - [-1, 1, nn.Upsample, [None, 2, \"nearest\"]]\n",
        "  - [[-1, 4], 1, Concat, [1]] # cat backbone P3\n",
        "  - [-1, 3, C2f, [256]] # 15 (P3/8-small)\n",
        "\n",
        "  - [-1, 1, Conv, [256, 3, 2]]\n",
        "  - [[-1, 12], 1, Concat, [1]] # cat head P4\n",
        "  - [-1, 3, C2f, [512]] # 18 (P4/16-medium)\n",
        "\n",
        "  - [-1, 1, Conv, [512, 3, 2]]\n",
        "  - [[-1, 9], 1, Concat, [1]] # cat head P5\n",
        "  - [-1, 3, C2f, [1024]] # 21 (P5/32-large)\n",
        "\n",
        "  - [[15, 18, 21], 1, Detect, [nc]] # Detect(P3, P4, P5)\n"
      ],
      "metadata": {
        "execution": {
          "iopub.status.busy": "2024-08-04T03:08:53.102725Z",
          "iopub.execute_input": "2024-08-04T03:08:53.103124Z",
          "iopub.status.idle": "2024-08-04T03:08:53.110801Z",
          "shell.execute_reply.started": "2024-08-04T03:08:53.103093Z",
          "shell.execute_reply": "2024-08-04T03:08:53.109761Z"
        },
        "trusted": true,
        "id": "5jc82j7kucm_",
        "outputId": "1d4c64c0-f6ce-44a1-9357-ee159ff98803"
      },
      "execution_count": null,
      "outputs": [
        {
          "name": "stdout",
          "text": "Writing newconf.yaml\n",
          "output_type": "stream"
        }
      ]
    },
    {
      "cell_type": "code",
      "source": [
        "# %load newconf.yaml\n",
        "\n",
        "# Parameters\n",
        "nc: 80 # number of classes\n",
        "scales: # model compound scaling constants, i.e. 'model=yolov8n.yaml' will call yolov8.yaml with scale 'n'\n",
        "  # [depth, width, max_channels]\n",
        "  n: [0.33, 0.25, 1024] # YOLOv8n summary: 225 layers,  3157200 parameters,  3157184 gradients,   8.9 GFLOPs\n",
        "  s: [0.33, 0.50, 1024] # YOLOv8s summary: 225 layers, 11166560 parameters, 11166544 gradients,  28.8 GFLOPs\n",
        "  m: [0.67, 0.75, 768] # YOLOv8m summary: 295 layers, 25902640 parameters, 25902624 gradients,  79.3 GFLOPs\n",
        "  l: [1.00, 1.00, 512] # YOLOv8l summary: 365 layers, 43691520 parameters, 43691504 gradients, 165.7 GFLOPs\n",
        "  x: [1.00, 1.25, 512] # YOLOv8x summary: 365 layers, 68229648 parameters, 68229632 gradients, 258.5 GFLOPs\n",
        "\n",
        "# YOLOv8.0n backbone\n",
        "backbone:\n",
        "  - [-1, 1, Conv, [16, 3, 2]] # 0-P1/2\n",
        "  - [-1, 1, Conv, [32, 3, 2]] # 1-P2/4\n",
        "  - [-1, 1, ELAN1, [32, 32, 16]] # 2\n",
        "  - [-1, 1, AConv, [64]] # 3-P3/8\n",
        "  - [-1, 1, RepNCSPELAN4, [64, 64, 32, 3]] # 4\n",
        "  - [-1, 1, AConv, [96]] # 5-P4/16\n",
        "  - [-1, 1, RepNCSPELAN4, [96, 96, 48, 3]] # 6\n",
        "  - [-1, 1, AConv, [128]] # 7-P5/32\n",
        "  - [-1, 1, RepNCSPELAN4, [128, 128, 64, 3]] # 8\n",
        "  - [-1, 1, SPPELAN, [128, 64]] # 9\n",
        "\n",
        "# YOLOv8.0n head\n",
        "head:\n",
        "  - [-1, 1, nn.Upsample, [None, 2, \"nearest\"]]\n",
        "  - [[-1, 6], 1, Concat, [1]] # cat backbone P4\n",
        "  - [-1, 3, C2f, [512]] # 12\n",
        "\n",
        "  - [-1, 1, nn.Upsample, [None, 2, \"nearest\"]]\n",
        "  - [[-1, 4], 1, Concat, [1]] # cat backbone P3\n",
        "  - [-1, 3, C2f, [256]] # 15 (P3/8-small)\n",
        "\n",
        "  - [-1, 1, Conv, [256, 3, 2]]\n",
        "  - [[-1, 12], 1, Concat, [1]] # cat head P4\n",
        "  - [-1, 3, C2f, [512]] # 18 (P4/16-medium)\n",
        "\n",
        "  - [-1, 1, Conv, [512, 3, 2]]\n",
        "  - [[-1, 9], 1, Concat, [1]] # cat head P5\n",
        "  - [-1, 3, C2f, [1024]] # 21 (P5/32-large)\n",
        "\n",
        "  - [[15, 18, 21], 1, Detect, [nc]] # Detect(P3, P4, P5)\n"
      ],
      "metadata": {
        "execution": {
          "iopub.status.busy": "2024-08-04T03:09:00.265369Z",
          "iopub.execute_input": "2024-08-04T03:09:00.265746Z",
          "iopub.status.idle": "2024-08-04T03:09:00.280901Z",
          "shell.execute_reply.started": "2024-08-04T03:09:00.265716Z",
          "shell.execute_reply": "2024-08-04T03:09:00.279566Z"
        },
        "trusted": true,
        "id": "H-8xg84NucnA",
        "outputId": "ba5f35dc-ae66-4acc-f9cf-796c3073baec"
      },
      "execution_count": null,
      "outputs": [
        {
          "traceback": [
            "\u001b[0;36m  Cell \u001b[0;32mIn[11], line 5\u001b[0;36m\u001b[0m\n\u001b[0;31m    scales: # model compound scaling constants, i.e. 'model=yolov8n.yaml' will call yolov8.yaml with scale 'n'\u001b[0m\n\u001b[0m            ^\u001b[0m\n\u001b[0;31mSyntaxError\u001b[0m\u001b[0;31m:\u001b[0m invalid syntax\n"
          ],
          "ename": "SyntaxError",
          "evalue": "invalid syntax (3766294738.py, line 5)",
          "output_type": "error"
        }
      ]
    },
    {
      "cell_type": "code",
      "source": [
        "%cd .."
      ],
      "metadata": {
        "execution": {
          "iopub.status.busy": "2024-08-04T03:09:35.79206Z",
          "iopub.execute_input": "2024-08-04T03:09:35.792874Z",
          "iopub.status.idle": "2024-08-04T03:09:35.798002Z",
          "shell.execute_reply.started": "2024-08-04T03:09:35.792843Z",
          "shell.execute_reply": "2024-08-04T03:09:35.797075Z"
        },
        "trusted": true,
        "id": "IgvRymoAucnB",
        "outputId": "aa364694-4822-43b2-eef1-1a35fa819432"
      },
      "execution_count": null,
      "outputs": [
        {
          "name": "stdout",
          "text": "/kaggle/working/ultralytics\n",
          "output_type": "stream"
        }
      ]
    },
    {
      "cell_type": "code",
      "source": [
        "import ultralytics\n",
        "from ultralytics import YOLO\n",
        "\n",
        "model = YOLO(\"/kaggle/working/ultralytics/ultralytics/cfg/models/v8/newconf.yaml\")\n",
        "\n",
        "# Display model information (optional)\n",
        "model.info()"
      ],
      "metadata": {
        "execution": {
          "iopub.status.busy": "2024-08-04T03:09:39.621602Z",
          "iopub.execute_input": "2024-08-04T03:09:39.622273Z",
          "iopub.status.idle": "2024-08-04T03:09:40.271784Z",
          "shell.execute_reply.started": "2024-08-04T03:09:39.62224Z",
          "shell.execute_reply": "2024-08-04T03:09:40.270969Z"
        },
        "trusted": true,
        "id": "W7UC1WVtucnC",
        "outputId": "b6be8cf2-f15d-4a87-f2fc-39ffdcd2be00"
      },
      "execution_count": null,
      "outputs": [
        {
          "name": "stdout",
          "text": "WARNING ⚠️ no model scale passed. Assuming scale='n'.\nnewconf summary: 515 layers, 2,212,808 parameters, 2,212,792 gradients, 7.1 GFLOPs\n",
          "output_type": "stream"
        },
        {
          "execution_count": 16,
          "output_type": "execute_result",
          "data": {
            "text/plain": "(515, 2212808, 2212792, 7.1403008)"
          },
          "metadata": {}
        }
      ]
    },
    {
      "cell_type": "code",
      "source": [
        "!pip install roboflow --quiet\n",
        "\n",
        "from roboflow import Roboflow\n",
        "rf = Roboflow(api_key=\"y4uzPDgeB6rEDxdHhxsW\")\n",
        "project = rf.workspace(\"buddetection\").project(\"np_mynp\")\n",
        "version = project.version(2)\n",
        "dataset = version.download(\"yolov8\")"
      ],
      "metadata": {
        "execution": {
          "iopub.status.busy": "2024-08-04T03:09:54.139413Z",
          "iopub.execute_input": "2024-08-04T03:09:54.140235Z",
          "iopub.status.idle": "2024-08-04T03:10:17.410576Z",
          "shell.execute_reply.started": "2024-08-04T03:09:54.140202Z",
          "shell.execute_reply": "2024-08-04T03:10:17.409468Z"
        },
        "trusted": true,
        "id": "hZJvJIqAucnD",
        "outputId": "994e4cdd-128b-421e-c540-fbcaa9d47790"
      },
      "execution_count": null,
      "outputs": [
        {
          "name": "stdout",
          "text": "\u001b[31mERROR: pip's dependency resolver does not currently take into account all the packages that are installed. This behaviour is the source of the following dependency conflicts.\ntensorflow-decision-forests 1.8.1 requires wurlitzer, which is not installed.\njupyterlab 4.2.3 requires jupyter-lsp>=2.0.0, but you have jupyter-lsp 1.5.1 which is incompatible.\njupyterlab-lsp 5.1.0 requires jupyter-lsp>=2.0.0, but you have jupyter-lsp 1.5.1 which is incompatible.\ntensorflow 2.15.0 requires keras<2.16,>=2.15.0, but you have keras 3.4.1 which is incompatible.\nydata-profiling 4.6.4 requires numpy<1.26,>=1.16.0, but you have numpy 1.26.4 which is incompatible.\u001b[0m\u001b[31m\nloading Roboflow workspace...\nloading Roboflow project...\nDependency ultralytics==8.0.196 is required but found version=8.2.72, to fix: `pip install ultralytics==8.0.196`\n",
          "output_type": "stream"
        },
        {
          "name": "stderr",
          "text": "Downloading Dataset Version Zip in np_mynp-2 to yolov8:: 100%|██████████| 251830/251830 [00:06<00:00, 36951.82it/s]",
          "output_type": "stream"
        },
        {
          "name": "stdout",
          "text": "\n",
          "output_type": "stream"
        },
        {
          "name": "stderr",
          "text": "\nExtracting Dataset Version Zip to np_mynp-2 in yolov8:: 100%|██████████| 6719/6719 [00:01<00:00, 6147.26it/s]\n",
          "output_type": "stream"
        }
      ]
    },
    {
      "cell_type": "code",
      "source": [
        "# %load np_mynp-2/data.yaml\n",
        "names:\n",
        "- FIT\n",
        "- UNFIT\n",
        "nc: 2\n",
        "roboflow:\n",
        "  license: CC BY 4.0\n",
        "  project: np_mynp\n",
        "  url: https://universe.roboflow.com/buddetection/np_mynp/dataset/2\n",
        "  version: 2\n",
        "  workspace: buddetection\n",
        "test: np_mynp-2/test/images\n",
        "train: np_mynp-2/train/images\n",
        "val: np_mynp-2/test/images\n"
      ],
      "metadata": {
        "execution": {
          "iopub.status.busy": "2024-08-04T03:11:27.732594Z",
          "iopub.execute_input": "2024-08-04T03:11:27.732971Z",
          "iopub.status.idle": "2024-08-04T03:11:27.738905Z",
          "shell.execute_reply.started": "2024-08-04T03:11:27.732937Z",
          "shell.execute_reply": "2024-08-04T03:11:27.737887Z"
        },
        "trusted": true,
        "id": "yQCiRO6rucnF"
      },
      "execution_count": null,
      "outputs": []
    },
    {
      "cell_type": "code",
      "source": [
        "%%writefile np_mynp-2/data.yaml\n",
        "path: /kaggle/working/ultralytics\n",
        "names:\n",
        "- FIT\n",
        "- UNFIT\n",
        "nc: 2\n",
        "roboflow:\n",
        "  license: CC BY 4.0\n",
        "  project: np_mynp\n",
        "  url: https://universe.roboflow.com/buddetection/np_mynp/dataset/1\n",
        "  version: 2\n",
        "  workspace: buddetection\n",
        "test: np_mynp-2/test/images\n",
        "train: np_mynp-2/train/images\n",
        "val: np_mynp-2/test/images"
      ],
      "metadata": {
        "execution": {
          "iopub.status.busy": "2024-08-04T03:12:46.125066Z",
          "iopub.execute_input": "2024-08-04T03:12:46.126103Z",
          "iopub.status.idle": "2024-08-04T03:12:46.132513Z",
          "shell.execute_reply.started": "2024-08-04T03:12:46.126066Z",
          "shell.execute_reply": "2024-08-04T03:12:46.131474Z"
        },
        "trusted": true,
        "id": "xjJ91xdGucnF",
        "outputId": "4ced9402-e1ce-4a92-cc47-70f4381e8ce9"
      },
      "execution_count": null,
      "outputs": [
        {
          "name": "stdout",
          "text": "Overwriting np_mynp-2/data.yaml\n",
          "output_type": "stream"
        }
      ]
    },
    {
      "cell_type": "code",
      "source": [
        "%pwd"
      ],
      "metadata": {
        "execution": {
          "iopub.status.busy": "2024-08-04T03:12:51.271519Z",
          "iopub.execute_input": "2024-08-04T03:12:51.272385Z",
          "iopub.status.idle": "2024-08-04T03:12:51.278194Z",
          "shell.execute_reply.started": "2024-08-04T03:12:51.272353Z",
          "shell.execute_reply": "2024-08-04T03:12:51.277286Z"
        },
        "trusted": true,
        "id": "J7nbIz9rucnG",
        "outputId": "f2ca54ed-677c-4a31-c9a4-a3990c4c424a"
      },
      "execution_count": null,
      "outputs": [
        {
          "execution_count": 23,
          "output_type": "execute_result",
          "data": {
            "text/plain": "'/kaggle/working/ultralytics'"
          },
          "metadata": {}
        }
      ]
    },
    {
      "cell_type": "code",
      "source": [
        "results = model.train(data=\"np_mynp-2/data.yaml\", epochs=100, imgsz=640)"
      ],
      "metadata": {
        "execution": {
          "iopub.status.busy": "2024-08-04T03:13:00.021066Z",
          "iopub.execute_input": "2024-08-04T03:13:00.021425Z",
          "iopub.status.idle": "2024-08-04T04:16:43.59874Z",
          "shell.execute_reply.started": "2024-08-04T03:13:00.021398Z",
          "shell.execute_reply": "2024-08-04T04:16:43.597839Z"
        },
        "trusted": true,
        "id": "7OiC5_g4ucnG",
        "outputId": "2a38ab03-2d5f-4343-92e4-19e1e9fd76e9"
      },
      "execution_count": null,
      "outputs": [
        {
          "name": "stdout",
          "text": "Ultralytics YOLOv8.2.72 🚀 Python-3.10.13 torch-2.1.2 CUDA:0 (Tesla T4, 15095MiB)\n\u001b[34m\u001b[1mengine/trainer: \u001b[0mtask=detect, mode=train, model=/kaggle/working/ultralytics/ultralytics/cfg/models/v8/newconf.yaml, data=np_mynp-2/data.yaml, epochs=100, time=None, patience=100, batch=16, imgsz=640, save=True, save_period=-1, cache=False, device=None, workers=8, project=None, name=train, exist_ok=False, pretrained=True, optimizer=auto, verbose=True, seed=0, deterministic=True, single_cls=False, rect=False, cos_lr=False, close_mosaic=10, resume=False, amp=True, fraction=1.0, profile=False, freeze=None, multi_scale=False, overlap_mask=True, mask_ratio=4, dropout=0.0, val=True, split=val, save_json=False, save_hybrid=False, conf=None, iou=0.7, max_det=300, half=False, dnn=False, plots=True, source=None, vid_stride=1, stream_buffer=False, visualize=False, augment=False, agnostic_nms=False, classes=None, retina_masks=False, embed=None, show=False, save_frames=False, save_txt=False, save_conf=False, save_crop=False, show_labels=True, show_conf=True, show_boxes=True, line_width=None, format=torchscript, keras=False, optimize=False, int8=False, dynamic=False, simplify=False, opset=None, workspace=4, nms=False, lr0=0.01, lrf=0.01, momentum=0.937, weight_decay=0.0005, warmup_epochs=3.0, warmup_momentum=0.8, warmup_bias_lr=0.1, box=7.5, cls=0.5, dfl=1.5, pose=12.0, kobj=1.0, label_smoothing=0.0, nbs=64, hsv_h=0.015, hsv_s=0.7, hsv_v=0.4, degrees=0.0, translate=0.1, scale=0.5, shear=0.0, perspective=0.0, flipud=0.0, fliplr=0.5, bgr=0.0, mosaic=1.0, mixup=0.0, copy_paste=0.0, auto_augment=randaugment, erasing=0.4, crop_fraction=1.0, cfg=None, tracker=botsort.yaml, save_dir=/kaggle/working/ultralytics/runs/detect/train\nDownloading https://ultralytics.com/assets/Arial.ttf to '/root/.config/Ultralytics/Arial.ttf'...\n",
          "output_type": "stream"
        },
        {
          "name": "stderr",
          "text": "100%|██████████| 755k/755k [00:00<00:00, 14.7MB/s]\n2024-08-04 03:13:01,820\tINFO util.py:124 -- Outdated packages:\n  ipywidgets==7.7.1 found, needs ipywidgets>=8\nRun `pip install -U ipywidgets`, then restart the notebook server for rich notebook output.\n2024-08-04 03:13:03,129\tINFO util.py:124 -- Outdated packages:\n  ipywidgets==7.7.1 found, needs ipywidgets>=8\nRun `pip install -U ipywidgets`, then restart the notebook server for rich notebook output.\n",
          "output_type": "stream"
        },
        {
          "name": "stdout",
          "text": "Overriding model.yaml nc=80 with nc=2\nWARNING ⚠️ no model scale passed. Assuming scale='n'.\n\n                   from  n    params  module                                       arguments                     \n  0                  -1  1       232  ultralytics.nn.modules.conv.Conv             [3, 8, 3, 2]                  \n  1                  -1  1       592  ultralytics.nn.modules.conv.Conv             [8, 8, 3, 2]                  \n  2                  -1  1      5520  ultralytics.nn.modules.block.ELAN1           [8, 8, 32, 16]                \n  3                  -1  1      1184  ultralytics.nn.modules.block.AConv           [8, 16]                       \n  4                  -1  1     55904  ultralytics.nn.modules.block.RepNCSPELAN4    [16, 16, 64, 32, 3]           \n  5                  -1  1      3504  ultralytics.nn.modules.block.AConv           [16, 24]                      \n  6                  -1  1    124944  ultralytics.nn.modules.block.RepNCSPELAN4    [24, 24, 96, 48, 3]           \n  7                  -1  1      6976  ultralytics.nn.modules.block.AConv           [24, 32]                      \n  8                  -1  1    221376  ultralytics.nn.modules.block.RepNCSPELAN4    [32, 32, 128, 64, 3]          \n  9                  -1  1     10432  ultralytics.nn.modules.block.SPPELAN         [32, 32, 64]                  \n 10                  -1  1         0  torch.nn.modules.upsampling.Upsample         [None, 2, 'nearest']          \n 11             [-1, 6]  1         0  ultralytics.nn.modules.conv.Concat           [1]                           \n 12                  -1  1    106240  ultralytics.nn.modules.block.C2f             [56, 128, 1]                  \n 13                  -1  1         0  torch.nn.modules.upsampling.Upsample         [None, 2, 'nearest']          \n 14             [-1, 4]  1         0  ultralytics.nn.modules.conv.Concat           [1]                           \n 15                  -1  1     34176  ultralytics.nn.modules.block.C2f             [144, 64, 1]                  \n 16                  -1  1     36992  ultralytics.nn.modules.conv.Conv             [64, 64, 3, 2]                \n 17            [-1, 12]  1         0  ultralytics.nn.modules.conv.Concat           [1]                           \n 18                  -1  1    123648  ultralytics.nn.modules.block.C2f             [192, 128, 1]                 \n 19                  -1  1    147712  ultralytics.nn.modules.conv.Conv             [128, 128, 3, 2]              \n 20             [-1, 9]  1         0  ultralytics.nn.modules.conv.Concat           [1]                           \n 21                  -1  1    435712  ultralytics.nn.modules.block.C2f             [160, 256, 1]                 \n 22        [15, 18, 21]  1    751702  ultralytics.nn.modules.head.Detect           [2, [64, 128, 256]]           \nnewconf summary: 515 layers, 2,066,846 parameters, 2,066,830 gradients, 6.5 GFLOPs\n\n\u001b[34m\u001b[1mTensorBoard: \u001b[0mStart with 'tensorboard --logdir /kaggle/working/ultralytics/runs/detect/train', view at http://localhost:6006/\nFreezing layer 'model.22.dfl.conv.weight'\n\u001b[34m\u001b[1mAMP: \u001b[0mrunning Automatic Mixed Precision (AMP) checks with YOLOv8n...\nDownloading https://github.com/ultralytics/assets/releases/download/v8.2.0/yolov8n.pt to 'yolov8n.pt'...\n",
          "output_type": "stream"
        },
        {
          "name": "stderr",
          "text": "100%|██████████| 6.25M/6.25M [00:00<00:00, 75.9MB/s]\n",
          "output_type": "stream"
        },
        {
          "name": "stdout",
          "text": "\u001b[34m\u001b[1mAMP: \u001b[0mchecks passed ✅\n",
          "output_type": "stream"
        },
        {
          "name": "stderr",
          "text": "\u001b[34m\u001b[1mtrain: \u001b[0mScanning /kaggle/working/ultralytics/np_mynp-2/train/labels... 3087 images, 3 backgrounds, 0 corrupt: 100%|██████████| 3087/3087 [00:02<00:00, 1263.19it/s]\n",
          "output_type": "stream"
        },
        {
          "name": "stdout",
          "text": "\u001b[34m\u001b[1mtrain: \u001b[0mNew cache created: /kaggle/working/ultralytics/np_mynp-2/train/labels.cache\n\u001b[34m\u001b[1malbumentations: \u001b[0mBlur(p=0.01, blur_limit=(3, 7)), MedianBlur(p=0.01, blur_limit=(3, 7)), ToGray(p=0.01), CLAHE(p=0.01, clip_limit=(1, 4.0), tile_grid_size=(8, 8))\n",
          "output_type": "stream"
        },
        {
          "name": "stderr",
          "text": "os.fork() was called. os.fork() is incompatible with multithreaded code, and JAX is multithreaded, so this will likely lead to a deadlock.\n\u001b[34m\u001b[1mval: \u001b[0mScanning /kaggle/working/ultralytics/np_mynp-2/test/labels... 268 images, 1 backgrounds, 0 corrupt: 100%|██████████| 268/268 [00:00<00:00, 1368.49it/s]\n",
          "output_type": "stream"
        },
        {
          "name": "stdout",
          "text": "\u001b[34m\u001b[1mval: \u001b[0mNew cache created: /kaggle/working/ultralytics/np_mynp-2/test/labels.cache\nPlotting labels to /kaggle/working/ultralytics/runs/detect/train/labels.jpg... \n\u001b[34m\u001b[1moptimizer:\u001b[0m 'optimizer=auto' found, ignoring 'lr0=0.01' and 'momentum=0.937' and determining best 'optimizer', 'lr0' and 'momentum' automatically... \n\u001b[34m\u001b[1moptimizer:\u001b[0m AdamW(lr=0.001667, momentum=0.9) with parameter groups 125 weight(decay=0.0), 132 weight(decay=0.0005), 131 bias(decay=0.0)\n\u001b[34m\u001b[1mTensorBoard: \u001b[0mmodel graph visualization added ✅\nImage sizes 640 train, 640 val\nUsing 2 dataloader workers\nLogging results to \u001b[1m/kaggle/working/ultralytics/runs/detect/train\u001b[0m\nStarting training for 100 epochs...\n\n      Epoch    GPU_mem   box_loss   cls_loss   dfl_loss  Instances       Size\n",
          "output_type": "stream"
        },
        {
          "name": "stderr",
          "text": "      1/100       2.2G      3.315      3.824      3.793         46        640: 100%|██████████| 193/193 [00:41<00:00,  4.66it/s]\n                 Class     Images  Instances      Box(P          R      mAP50  mAP50-95): 100%|██████████| 9/9 [00:03<00:00,  2.38it/s]",
          "output_type": "stream"
        },
        {
          "name": "stdout",
          "text": "                   all        268        347     0.0887      0.182      0.106     0.0224\n",
          "output_type": "stream"
        },
        {
          "name": "stderr",
          "text": "\n",
          "output_type": "stream"
        },
        {
          "name": "stdout",
          "text": "\n      Epoch    GPU_mem   box_loss   cls_loss   dfl_loss  Instances       Size\n",
          "output_type": "stream"
        },
        {
          "name": "stderr",
          "text": "      2/100      2.12G      2.474      3.058      2.843         52        640: 100%|██████████| 193/193 [00:36<00:00,  5.34it/s]\n                 Class     Images  Instances      Box(P          R      mAP50  mAP50-95): 100%|██████████| 9/9 [00:01<00:00,  5.48it/s]",
          "output_type": "stream"
        },
        {
          "name": "stdout",
          "text": "                   all        268        347      0.296      0.261      0.244     0.0989\n",
          "output_type": "stream"
        },
        {
          "name": "stderr",
          "text": "\n",
          "output_type": "stream"
        },
        {
          "name": "stdout",
          "text": "\n      Epoch    GPU_mem   box_loss   cls_loss   dfl_loss  Instances       Size\n",
          "output_type": "stream"
        },
        {
          "name": "stderr",
          "text": "      3/100      2.11G      2.136      2.534      2.417         46        640: 100%|██████████| 193/193 [00:35<00:00,  5.46it/s]\n                 Class     Images  Instances      Box(P          R      mAP50  mAP50-95): 100%|██████████| 9/9 [00:01<00:00,  5.65it/s]",
          "output_type": "stream"
        },
        {
          "name": "stdout",
          "text": "                   all        268        347      0.316      0.434       0.29      0.111\n",
          "output_type": "stream"
        },
        {
          "name": "stderr",
          "text": "\n",
          "output_type": "stream"
        },
        {
          "name": "stdout",
          "text": "\n      Epoch    GPU_mem   box_loss   cls_loss   dfl_loss  Instances       Size\n",
          "output_type": "stream"
        },
        {
          "name": "stderr",
          "text": "      4/100      2.12G      1.792      2.038       2.09         50        640: 100%|██████████| 193/193 [00:35<00:00,  5.51it/s]\n                 Class     Images  Instances      Box(P          R      mAP50  mAP50-95): 100%|██████████| 9/9 [00:01<00:00,  5.76it/s]",
          "output_type": "stream"
        },
        {
          "name": "stdout",
          "text": "                   all        268        347       0.41      0.455      0.431       0.24\n",
          "output_type": "stream"
        },
        {
          "name": "stderr",
          "text": "\n",
          "output_type": "stream"
        },
        {
          "name": "stdout",
          "text": "\n      Epoch    GPU_mem   box_loss   cls_loss   dfl_loss  Instances       Size\n",
          "output_type": "stream"
        },
        {
          "name": "stderr",
          "text": "      5/100      2.11G      1.618      1.809        1.9         41        640: 100%|██████████| 193/193 [00:35<00:00,  5.50it/s]\n                 Class     Images  Instances      Box(P          R      mAP50  mAP50-95): 100%|██████████| 9/9 [00:01<00:00,  5.68it/s]",
          "output_type": "stream"
        },
        {
          "name": "stdout",
          "text": "                   all        268        347      0.643       0.52      0.593      0.345\n",
          "output_type": "stream"
        },
        {
          "name": "stderr",
          "text": "\n",
          "output_type": "stream"
        },
        {
          "name": "stdout",
          "text": "\n      Epoch    GPU_mem   box_loss   cls_loss   dfl_loss  Instances       Size\n",
          "output_type": "stream"
        },
        {
          "name": "stderr",
          "text": "      6/100      2.11G      1.515      1.698      1.789         38        640: 100%|██████████| 193/193 [00:35<00:00,  5.51it/s]\n                 Class     Images  Instances      Box(P          R      mAP50  mAP50-95): 100%|██████████| 9/9 [00:01<00:00,  5.66it/s]",
          "output_type": "stream"
        },
        {
          "name": "stdout",
          "text": "                   all        268        347      0.625      0.562      0.563      0.315\n",
          "output_type": "stream"
        },
        {
          "name": "stderr",
          "text": "\n",
          "output_type": "stream"
        },
        {
          "name": "stdout",
          "text": "\n      Epoch    GPU_mem   box_loss   cls_loss   dfl_loss  Instances       Size\n",
          "output_type": "stream"
        },
        {
          "name": "stderr",
          "text": "      7/100      2.11G      1.481      1.601       1.75         41        640: 100%|██████████| 193/193 [00:34<00:00,  5.55it/s]\n                 Class     Images  Instances      Box(P          R      mAP50  mAP50-95): 100%|██████████| 9/9 [00:01<00:00,  5.59it/s]",
          "output_type": "stream"
        },
        {
          "name": "stdout",
          "text": "                   all        268        347      0.598      0.715      0.679      0.374\n",
          "output_type": "stream"
        },
        {
          "name": "stderr",
          "text": "\n",
          "output_type": "stream"
        },
        {
          "name": "stdout",
          "text": "\n      Epoch    GPU_mem   box_loss   cls_loss   dfl_loss  Instances       Size\n",
          "output_type": "stream"
        },
        {
          "name": "stderr",
          "text": "      8/100      2.11G      1.412      1.513      1.682         32        640: 100%|██████████| 193/193 [00:34<00:00,  5.56it/s]\n                 Class     Images  Instances      Box(P          R      mAP50  mAP50-95): 100%|██████████| 9/9 [00:01<00:00,  5.43it/s]",
          "output_type": "stream"
        },
        {
          "name": "stdout",
          "text": "                   all        268        347      0.454      0.707      0.548      0.326\n",
          "output_type": "stream"
        },
        {
          "name": "stderr",
          "text": "\n",
          "output_type": "stream"
        },
        {
          "name": "stdout",
          "text": "\n      Epoch    GPU_mem   box_loss   cls_loss   dfl_loss  Instances       Size\n",
          "output_type": "stream"
        },
        {
          "name": "stderr",
          "text": "      9/100      2.12G      1.367      1.463      1.639         34        640: 100%|██████████| 193/193 [00:34<00:00,  5.55it/s]\n                 Class     Images  Instances      Box(P          R      mAP50  mAP50-95): 100%|██████████| 9/9 [00:01<00:00,  5.76it/s]",
          "output_type": "stream"
        },
        {
          "name": "stdout",
          "text": "                   all        268        347      0.708      0.631      0.721      0.449\n",
          "output_type": "stream"
        },
        {
          "name": "stderr",
          "text": "\n",
          "output_type": "stream"
        },
        {
          "name": "stdout",
          "text": "\n      Epoch    GPU_mem   box_loss   cls_loss   dfl_loss  Instances       Size\n",
          "output_type": "stream"
        },
        {
          "name": "stderr",
          "text": "     10/100      2.12G      1.369       1.47      1.621         51        640: 100%|██████████| 193/193 [00:34<00:00,  5.56it/s]\n                 Class     Images  Instances      Box(P          R      mAP50  mAP50-95): 100%|██████████| 9/9 [00:01<00:00,  5.71it/s]",
          "output_type": "stream"
        },
        {
          "name": "stdout",
          "text": "                   all        268        347      0.622      0.635      0.607      0.357\n",
          "output_type": "stream"
        },
        {
          "name": "stderr",
          "text": "\n",
          "output_type": "stream"
        },
        {
          "name": "stdout",
          "text": "\n      Epoch    GPU_mem   box_loss   cls_loss   dfl_loss  Instances       Size\n",
          "output_type": "stream"
        },
        {
          "name": "stderr",
          "text": "     11/100      2.11G      1.334      1.417      1.596         39        640: 100%|██████████| 193/193 [00:35<00:00,  5.51it/s]\n                 Class     Images  Instances      Box(P          R      mAP50  mAP50-95): 100%|██████████| 9/9 [00:01<00:00,  5.42it/s]",
          "output_type": "stream"
        },
        {
          "name": "stdout",
          "text": "                   all        268        347      0.694      0.598      0.677      0.435\n",
          "output_type": "stream"
        },
        {
          "name": "stderr",
          "text": "\n",
          "output_type": "stream"
        },
        {
          "name": "stdout",
          "text": "\n      Epoch    GPU_mem   box_loss   cls_loss   dfl_loss  Instances       Size\n",
          "output_type": "stream"
        },
        {
          "name": "stderr",
          "text": "     12/100      2.11G      1.305      1.355      1.559         47        640: 100%|██████████| 193/193 [00:34<00:00,  5.55it/s]\n                 Class     Images  Instances      Box(P          R      mAP50  mAP50-95): 100%|██████████| 9/9 [00:01<00:00,  5.46it/s]",
          "output_type": "stream"
        },
        {
          "name": "stdout",
          "text": "                   all        268        347      0.669      0.685      0.706      0.435\n",
          "output_type": "stream"
        },
        {
          "name": "stderr",
          "text": "\n",
          "output_type": "stream"
        },
        {
          "name": "stdout",
          "text": "\n      Epoch    GPU_mem   box_loss   cls_loss   dfl_loss  Instances       Size\n",
          "output_type": "stream"
        },
        {
          "name": "stderr",
          "text": "     13/100      2.12G      1.266      1.326      1.537         46        640: 100%|██████████| 193/193 [00:34<00:00,  5.55it/s]\n                 Class     Images  Instances      Box(P          R      mAP50  mAP50-95): 100%|██████████| 9/9 [00:01<00:00,  5.77it/s]",
          "output_type": "stream"
        },
        {
          "name": "stdout",
          "text": "                   all        268        347      0.636      0.733      0.719      0.449\n",
          "output_type": "stream"
        },
        {
          "name": "stderr",
          "text": "\n",
          "output_type": "stream"
        },
        {
          "name": "stdout",
          "text": "\n      Epoch    GPU_mem   box_loss   cls_loss   dfl_loss  Instances       Size\n",
          "output_type": "stream"
        },
        {
          "name": "stderr",
          "text": "     14/100      2.12G      1.272      1.327      1.542         37        640: 100%|██████████| 193/193 [00:35<00:00,  5.51it/s]\n                 Class     Images  Instances      Box(P          R      mAP50  mAP50-95): 100%|██████████| 9/9 [00:01<00:00,  5.81it/s]",
          "output_type": "stream"
        },
        {
          "name": "stdout",
          "text": "                   all        268        347        0.7       0.68      0.717      0.454\n",
          "output_type": "stream"
        },
        {
          "name": "stderr",
          "text": "\n",
          "output_type": "stream"
        },
        {
          "name": "stdout",
          "text": "\n      Epoch    GPU_mem   box_loss   cls_loss   dfl_loss  Instances       Size\n",
          "output_type": "stream"
        },
        {
          "name": "stderr",
          "text": "     15/100      2.11G      1.247      1.239        1.5         41        640: 100%|██████████| 193/193 [00:34<00:00,  5.56it/s]\n                 Class     Images  Instances      Box(P          R      mAP50  mAP50-95): 100%|██████████| 9/9 [00:01<00:00,  5.67it/s]",
          "output_type": "stream"
        },
        {
          "name": "stdout",
          "text": "                   all        268        347       0.74      0.724      0.777      0.488\n",
          "output_type": "stream"
        },
        {
          "name": "stderr",
          "text": "\n",
          "output_type": "stream"
        },
        {
          "name": "stdout",
          "text": "\n      Epoch    GPU_mem   box_loss   cls_loss   dfl_loss  Instances       Size\n",
          "output_type": "stream"
        },
        {
          "name": "stderr",
          "text": "     16/100      2.12G      1.236      1.243      1.501         54        640: 100%|██████████| 193/193 [00:34<00:00,  5.59it/s]\n                 Class     Images  Instances      Box(P          R      mAP50  mAP50-95): 100%|██████████| 9/9 [00:01<00:00,  5.58it/s]",
          "output_type": "stream"
        },
        {
          "name": "stdout",
          "text": "                   all        268        347       0.74       0.74      0.768      0.494\n",
          "output_type": "stream"
        },
        {
          "name": "stderr",
          "text": "\n",
          "output_type": "stream"
        },
        {
          "name": "stdout",
          "text": "\n      Epoch    GPU_mem   box_loss   cls_loss   dfl_loss  Instances       Size\n",
          "output_type": "stream"
        },
        {
          "name": "stderr",
          "text": "     17/100      2.12G      1.229      1.241      1.494         47        640: 100%|██████████| 193/193 [00:34<00:00,  5.55it/s]\n                 Class     Images  Instances      Box(P          R      mAP50  mAP50-95): 100%|██████████| 9/9 [00:01<00:00,  5.85it/s]",
          "output_type": "stream"
        },
        {
          "name": "stdout",
          "text": "                   all        268        347      0.779      0.652      0.765      0.493\n",
          "output_type": "stream"
        },
        {
          "name": "stderr",
          "text": "\n",
          "output_type": "stream"
        },
        {
          "name": "stdout",
          "text": "\n      Epoch    GPU_mem   box_loss   cls_loss   dfl_loss  Instances       Size\n",
          "output_type": "stream"
        },
        {
          "name": "stderr",
          "text": "     18/100      2.12G      1.213      1.196      1.474         41        640: 100%|██████████| 193/193 [00:34<00:00,  5.57it/s]\n                 Class     Images  Instances      Box(P          R      mAP50  mAP50-95): 100%|██████████| 9/9 [00:01<00:00,  5.79it/s]",
          "output_type": "stream"
        },
        {
          "name": "stdout",
          "text": "                   all        268        347      0.788      0.728      0.795      0.519\n",
          "output_type": "stream"
        },
        {
          "name": "stderr",
          "text": "\n",
          "output_type": "stream"
        },
        {
          "name": "stdout",
          "text": "\n      Epoch    GPU_mem   box_loss   cls_loss   dfl_loss  Instances       Size\n",
          "output_type": "stream"
        },
        {
          "name": "stderr",
          "text": "     19/100      2.12G      1.212      1.194      1.477         44        640: 100%|██████████| 193/193 [00:34<00:00,  5.52it/s]\n                 Class     Images  Instances      Box(P          R      mAP50  mAP50-95): 100%|██████████| 9/9 [00:01<00:00,  5.69it/s]",
          "output_type": "stream"
        },
        {
          "name": "stdout",
          "text": "                   all        268        347      0.777      0.695      0.768      0.503\n",
          "output_type": "stream"
        },
        {
          "name": "stderr",
          "text": "\n",
          "output_type": "stream"
        },
        {
          "name": "stdout",
          "text": "\n      Epoch    GPU_mem   box_loss   cls_loss   dfl_loss  Instances       Size\n",
          "output_type": "stream"
        },
        {
          "name": "stderr",
          "text": "     20/100      2.12G      1.195      1.177      1.464         40        640: 100%|██████████| 193/193 [00:34<00:00,  5.52it/s]\n                 Class     Images  Instances      Box(P          R      mAP50  mAP50-95): 100%|██████████| 9/9 [00:01<00:00,  5.81it/s]",
          "output_type": "stream"
        },
        {
          "name": "stdout",
          "text": "                   all        268        347      0.816      0.753      0.828      0.545\n",
          "output_type": "stream"
        },
        {
          "name": "stderr",
          "text": "\n",
          "output_type": "stream"
        },
        {
          "name": "stdout",
          "text": "\n      Epoch    GPU_mem   box_loss   cls_loss   dfl_loss  Instances       Size\n",
          "output_type": "stream"
        },
        {
          "name": "stderr",
          "text": "     21/100      2.12G      1.173       1.17      1.444         53        640: 100%|██████████| 193/193 [00:34<00:00,  5.59it/s]\n                 Class     Images  Instances      Box(P          R      mAP50  mAP50-95): 100%|██████████| 9/9 [00:01<00:00,  5.77it/s]",
          "output_type": "stream"
        },
        {
          "name": "stdout",
          "text": "                   all        268        347      0.817      0.687      0.786      0.515\n",
          "output_type": "stream"
        },
        {
          "name": "stderr",
          "text": "\n",
          "output_type": "stream"
        },
        {
          "name": "stdout",
          "text": "\n      Epoch    GPU_mem   box_loss   cls_loss   dfl_loss  Instances       Size\n",
          "output_type": "stream"
        },
        {
          "name": "stderr",
          "text": "     22/100      2.12G       1.17       1.13      1.441         48        640: 100%|██████████| 193/193 [00:34<00:00,  5.58it/s]\n                 Class     Images  Instances      Box(P          R      mAP50  mAP50-95): 100%|██████████| 9/9 [00:01<00:00,  5.86it/s]",
          "output_type": "stream"
        },
        {
          "name": "stdout",
          "text": "                   all        268        347      0.817      0.737      0.809      0.516\n",
          "output_type": "stream"
        },
        {
          "name": "stderr",
          "text": "\n",
          "output_type": "stream"
        },
        {
          "name": "stdout",
          "text": "\n      Epoch    GPU_mem   box_loss   cls_loss   dfl_loss  Instances       Size\n",
          "output_type": "stream"
        },
        {
          "name": "stderr",
          "text": "     23/100      2.11G      1.156      1.122      1.433         36        640: 100%|██████████| 193/193 [00:34<00:00,  5.55it/s]\n                 Class     Images  Instances      Box(P          R      mAP50  mAP50-95): 100%|██████████| 9/9 [00:01<00:00,  5.76it/s]",
          "output_type": "stream"
        },
        {
          "name": "stdout",
          "text": "                   all        268        347      0.825       0.72      0.822      0.529\n",
          "output_type": "stream"
        },
        {
          "name": "stderr",
          "text": "\n",
          "output_type": "stream"
        },
        {
          "name": "stdout",
          "text": "\n      Epoch    GPU_mem   box_loss   cls_loss   dfl_loss  Instances       Size\n",
          "output_type": "stream"
        },
        {
          "name": "stderr",
          "text": "     24/100      2.12G      1.156      1.113       1.42         44        640: 100%|██████████| 193/193 [00:34<00:00,  5.52it/s]\n                 Class     Images  Instances      Box(P          R      mAP50  mAP50-95): 100%|██████████| 9/9 [00:01<00:00,  5.74it/s]",
          "output_type": "stream"
        },
        {
          "name": "stdout",
          "text": "                   all        268        347      0.833      0.729      0.816      0.537\n",
          "output_type": "stream"
        },
        {
          "name": "stderr",
          "text": "\n",
          "output_type": "stream"
        },
        {
          "name": "stdout",
          "text": "\n      Epoch    GPU_mem   box_loss   cls_loss   dfl_loss  Instances       Size\n",
          "output_type": "stream"
        },
        {
          "name": "stderr",
          "text": "     25/100      2.11G       1.13      1.087      1.418         48        640: 100%|██████████| 193/193 [00:35<00:00,  5.51it/s]\n                 Class     Images  Instances      Box(P          R      mAP50  mAP50-95): 100%|██████████| 9/9 [00:01<00:00,  5.50it/s]",
          "output_type": "stream"
        },
        {
          "name": "stdout",
          "text": "                   all        268        347       0.86      0.753      0.843      0.548\n",
          "output_type": "stream"
        },
        {
          "name": "stderr",
          "text": "\n",
          "output_type": "stream"
        },
        {
          "name": "stdout",
          "text": "\n      Epoch    GPU_mem   box_loss   cls_loss   dfl_loss  Instances       Size\n",
          "output_type": "stream"
        },
        {
          "name": "stderr",
          "text": "     26/100       2.1G       1.14      1.097      1.416         48        640: 100%|██████████| 193/193 [00:35<00:00,  5.51it/s]\n                 Class     Images  Instances      Box(P          R      mAP50  mAP50-95): 100%|██████████| 9/9 [00:01<00:00,  5.83it/s]",
          "output_type": "stream"
        },
        {
          "name": "stdout",
          "text": "                   all        268        347      0.795      0.759      0.829      0.541\n",
          "output_type": "stream"
        },
        {
          "name": "stderr",
          "text": "\n",
          "output_type": "stream"
        },
        {
          "name": "stdout",
          "text": "\n      Epoch    GPU_mem   box_loss   cls_loss   dfl_loss  Instances       Size\n",
          "output_type": "stream"
        },
        {
          "name": "stderr",
          "text": "     27/100      2.12G      1.136      1.086      1.419         41        640: 100%|██████████| 193/193 [00:35<00:00,  5.49it/s]\n                 Class     Images  Instances      Box(P          R      mAP50  mAP50-95): 100%|██████████| 9/9 [00:01<00:00,  5.80it/s]",
          "output_type": "stream"
        },
        {
          "name": "stdout",
          "text": "                   all        268        347      0.764      0.812      0.854      0.571\n",
          "output_type": "stream"
        },
        {
          "name": "stderr",
          "text": "\n",
          "output_type": "stream"
        },
        {
          "name": "stdout",
          "text": "\n      Epoch    GPU_mem   box_loss   cls_loss   dfl_loss  Instances       Size\n",
          "output_type": "stream"
        },
        {
          "name": "stderr",
          "text": "     28/100      2.13G      1.122      1.061      1.407         37        640: 100%|██████████| 193/193 [00:34<00:00,  5.55it/s]\n                 Class     Images  Instances      Box(P          R      mAP50  mAP50-95): 100%|██████████| 9/9 [00:01<00:00,  5.66it/s]",
          "output_type": "stream"
        },
        {
          "name": "stdout",
          "text": "                   all        268        347      0.814      0.778      0.848      0.557\n",
          "output_type": "stream"
        },
        {
          "name": "stderr",
          "text": "\n",
          "output_type": "stream"
        },
        {
          "name": "stdout",
          "text": "\n      Epoch    GPU_mem   box_loss   cls_loss   dfl_loss  Instances       Size\n",
          "output_type": "stream"
        },
        {
          "name": "stderr",
          "text": "     29/100      2.13G      1.111      1.051      1.395         45        640: 100%|██████████| 193/193 [00:35<00:00,  5.45it/s]\n                 Class     Images  Instances      Box(P          R      mAP50  mAP50-95): 100%|██████████| 9/9 [00:01<00:00,  5.82it/s]",
          "output_type": "stream"
        },
        {
          "name": "stdout",
          "text": "                   all        268        347      0.791      0.828      0.858      0.587\n",
          "output_type": "stream"
        },
        {
          "name": "stderr",
          "text": "\n",
          "output_type": "stream"
        },
        {
          "name": "stdout",
          "text": "\n      Epoch    GPU_mem   box_loss   cls_loss   dfl_loss  Instances       Size\n",
          "output_type": "stream"
        },
        {
          "name": "stderr",
          "text": "     30/100       2.1G      1.115      1.039      1.394         34        640: 100%|██████████| 193/193 [00:35<00:00,  5.51it/s]\n                 Class     Images  Instances      Box(P          R      mAP50  mAP50-95): 100%|██████████| 9/9 [00:01<00:00,  5.84it/s]",
          "output_type": "stream"
        },
        {
          "name": "stdout",
          "text": "                   all        268        347       0.84      0.798      0.868      0.566\n",
          "output_type": "stream"
        },
        {
          "name": "stderr",
          "text": "\n",
          "output_type": "stream"
        },
        {
          "name": "stdout",
          "text": "\n      Epoch    GPU_mem   box_loss   cls_loss   dfl_loss  Instances       Size\n",
          "output_type": "stream"
        },
        {
          "name": "stderr",
          "text": "     31/100      2.12G      1.108      1.041      1.391         51        640: 100%|██████████| 193/193 [00:34<00:00,  5.59it/s]\n                 Class     Images  Instances      Box(P          R      mAP50  mAP50-95): 100%|██████████| 9/9 [00:01<00:00,  5.81it/s]",
          "output_type": "stream"
        },
        {
          "name": "stdout",
          "text": "                   all        268        347      0.832      0.723      0.829      0.558\n",
          "output_type": "stream"
        },
        {
          "name": "stderr",
          "text": "\n",
          "output_type": "stream"
        },
        {
          "name": "stdout",
          "text": "\n      Epoch    GPU_mem   box_loss   cls_loss   dfl_loss  Instances       Size\n",
          "output_type": "stream"
        },
        {
          "name": "stderr",
          "text": "     32/100      2.12G      1.095      1.022      1.369         42        640: 100%|██████████| 193/193 [00:34<00:00,  5.60it/s]\n                 Class     Images  Instances      Box(P          R      mAP50  mAP50-95): 100%|██████████| 9/9 [00:01<00:00,  5.31it/s]",
          "output_type": "stream"
        },
        {
          "name": "stdout",
          "text": "                   all        268        347       0.83      0.824      0.872      0.578\n",
          "output_type": "stream"
        },
        {
          "name": "stderr",
          "text": "\n",
          "output_type": "stream"
        },
        {
          "name": "stdout",
          "text": "\n      Epoch    GPU_mem   box_loss   cls_loss   dfl_loss  Instances       Size\n",
          "output_type": "stream"
        },
        {
          "name": "stderr",
          "text": "     33/100      2.12G      1.088      1.007      1.377         37        640: 100%|██████████| 193/193 [00:34<00:00,  5.54it/s]\n                 Class     Images  Instances      Box(P          R      mAP50  mAP50-95): 100%|██████████| 9/9 [00:01<00:00,  5.79it/s]",
          "output_type": "stream"
        },
        {
          "name": "stdout",
          "text": "                   all        268        347      0.797      0.827      0.865      0.579\n",
          "output_type": "stream"
        },
        {
          "name": "stderr",
          "text": "\n",
          "output_type": "stream"
        },
        {
          "name": "stdout",
          "text": "\n      Epoch    GPU_mem   box_loss   cls_loss   dfl_loss  Instances       Size\n",
          "output_type": "stream"
        },
        {
          "name": "stderr",
          "text": "     34/100      2.12G      1.083      1.007      1.358         39        640: 100%|██████████| 193/193 [00:34<00:00,  5.55it/s]\n                 Class     Images  Instances      Box(P          R      mAP50  mAP50-95): 100%|██████████| 9/9 [00:01<00:00,  6.01it/s]",
          "output_type": "stream"
        },
        {
          "name": "stdout",
          "text": "                   all        268        347      0.862      0.765      0.854      0.577\n",
          "output_type": "stream"
        },
        {
          "name": "stderr",
          "text": "\n",
          "output_type": "stream"
        },
        {
          "name": "stdout",
          "text": "\n      Epoch    GPU_mem   box_loss   cls_loss   dfl_loss  Instances       Size\n",
          "output_type": "stream"
        },
        {
          "name": "stderr",
          "text": "     35/100      2.12G      1.086       1.01      1.372         38        640: 100%|██████████| 193/193 [00:34<00:00,  5.62it/s]\n                 Class     Images  Instances      Box(P          R      mAP50  mAP50-95): 100%|██████████| 9/9 [00:01<00:00,  5.66it/s]",
          "output_type": "stream"
        },
        {
          "name": "stdout",
          "text": "                   all        268        347      0.839      0.792      0.869      0.572\n",
          "output_type": "stream"
        },
        {
          "name": "stderr",
          "text": "\n",
          "output_type": "stream"
        },
        {
          "name": "stdout",
          "text": "\n      Epoch    GPU_mem   box_loss   cls_loss   dfl_loss  Instances       Size\n",
          "output_type": "stream"
        },
        {
          "name": "stderr",
          "text": "     36/100      2.12G      1.087      1.002      1.373         54        640: 100%|██████████| 193/193 [00:34<00:00,  5.61it/s]\n                 Class     Images  Instances      Box(P          R      mAP50  mAP50-95): 100%|██████████| 9/9 [00:01<00:00,  5.71it/s]",
          "output_type": "stream"
        },
        {
          "name": "stdout",
          "text": "                   all        268        347      0.853      0.775      0.858      0.584\n",
          "output_type": "stream"
        },
        {
          "name": "stderr",
          "text": "\n",
          "output_type": "stream"
        },
        {
          "name": "stdout",
          "text": "\n      Epoch    GPU_mem   box_loss   cls_loss   dfl_loss  Instances       Size\n",
          "output_type": "stream"
        },
        {
          "name": "stderr",
          "text": "     37/100      2.11G      1.062     0.9847      1.359         46        640: 100%|██████████| 193/193 [00:34<00:00,  5.53it/s]\n                 Class     Images  Instances      Box(P          R      mAP50  mAP50-95): 100%|██████████| 9/9 [00:01<00:00,  5.94it/s]",
          "output_type": "stream"
        },
        {
          "name": "stdout",
          "text": "                   all        268        347      0.845        0.8      0.868      0.563\n",
          "output_type": "stream"
        },
        {
          "name": "stderr",
          "text": "\n",
          "output_type": "stream"
        },
        {
          "name": "stdout",
          "text": "\n      Epoch    GPU_mem   box_loss   cls_loss   dfl_loss  Instances       Size\n",
          "output_type": "stream"
        },
        {
          "name": "stderr",
          "text": "     38/100      2.12G      1.066     0.9612       1.36         48        640: 100%|██████████| 193/193 [00:35<00:00,  5.51it/s]\n                 Class     Images  Instances      Box(P          R      mAP50  mAP50-95): 100%|██████████| 9/9 [00:01<00:00,  5.93it/s]",
          "output_type": "stream"
        },
        {
          "name": "stdout",
          "text": "                   all        268        347      0.888      0.791      0.887        0.6\n",
          "output_type": "stream"
        },
        {
          "name": "stderr",
          "text": "\n",
          "output_type": "stream"
        },
        {
          "name": "stdout",
          "text": "\n      Epoch    GPU_mem   box_loss   cls_loss   dfl_loss  Instances       Size\n",
          "output_type": "stream"
        },
        {
          "name": "stderr",
          "text": "     39/100      2.12G      1.053     0.9633      1.349         43        640: 100%|██████████| 193/193 [00:34<00:00,  5.54it/s]\n                 Class     Images  Instances      Box(P          R      mAP50  mAP50-95): 100%|██████████| 9/9 [00:01<00:00,  5.78it/s]",
          "output_type": "stream"
        },
        {
          "name": "stdout",
          "text": "                   all        268        347      0.834      0.822       0.89      0.602\n",
          "output_type": "stream"
        },
        {
          "name": "stderr",
          "text": "\n",
          "output_type": "stream"
        },
        {
          "name": "stdout",
          "text": "\n      Epoch    GPU_mem   box_loss   cls_loss   dfl_loss  Instances       Size\n",
          "output_type": "stream"
        },
        {
          "name": "stderr",
          "text": "     40/100      2.11G      1.065     0.9679      1.352         41        640: 100%|██████████| 193/193 [00:34<00:00,  5.56it/s]\n                 Class     Images  Instances      Box(P          R      mAP50  mAP50-95): 100%|██████████| 9/9 [00:01<00:00,  5.87it/s]",
          "output_type": "stream"
        },
        {
          "name": "stdout",
          "text": "                   all        268        347      0.822      0.819       0.88      0.595\n",
          "output_type": "stream"
        },
        {
          "name": "stderr",
          "text": "\n",
          "output_type": "stream"
        },
        {
          "name": "stdout",
          "text": "\n      Epoch    GPU_mem   box_loss   cls_loss   dfl_loss  Instances       Size\n",
          "output_type": "stream"
        },
        {
          "name": "stderr",
          "text": "     41/100      2.11G      1.052      0.961      1.347         43        640: 100%|██████████| 193/193 [00:34<00:00,  5.54it/s]\n                 Class     Images  Instances      Box(P          R      mAP50  mAP50-95): 100%|██████████| 9/9 [00:01<00:00,  6.03it/s]",
          "output_type": "stream"
        },
        {
          "name": "stdout",
          "text": "                   all        268        347       0.85      0.824      0.893      0.607\n",
          "output_type": "stream"
        },
        {
          "name": "stderr",
          "text": "\n",
          "output_type": "stream"
        },
        {
          "name": "stdout",
          "text": "\n      Epoch    GPU_mem   box_loss   cls_loss   dfl_loss  Instances       Size\n",
          "output_type": "stream"
        },
        {
          "name": "stderr",
          "text": "     42/100      2.12G      1.055       0.94      1.341         46        640: 100%|██████████| 193/193 [00:34<00:00,  5.59it/s]\n                 Class     Images  Instances      Box(P          R      mAP50  mAP50-95): 100%|██████████| 9/9 [00:01<00:00,  5.89it/s]",
          "output_type": "stream"
        },
        {
          "name": "stdout",
          "text": "                   all        268        347      0.862      0.798      0.878      0.582\n",
          "output_type": "stream"
        },
        {
          "name": "stderr",
          "text": "\n",
          "output_type": "stream"
        },
        {
          "name": "stdout",
          "text": "\n      Epoch    GPU_mem   box_loss   cls_loss   dfl_loss  Instances       Size\n",
          "output_type": "stream"
        },
        {
          "name": "stderr",
          "text": "     43/100      2.12G      1.042     0.9451      1.344         42        640: 100%|██████████| 193/193 [00:34<00:00,  5.56it/s]\n                 Class     Images  Instances      Box(P          R      mAP50  mAP50-95): 100%|██████████| 9/9 [00:01<00:00,  5.51it/s]",
          "output_type": "stream"
        },
        {
          "name": "stdout",
          "text": "                   all        268        347      0.856      0.823      0.891      0.608\n",
          "output_type": "stream"
        },
        {
          "name": "stderr",
          "text": "\n",
          "output_type": "stream"
        },
        {
          "name": "stdout",
          "text": "\n      Epoch    GPU_mem   box_loss   cls_loss   dfl_loss  Instances       Size\n",
          "output_type": "stream"
        },
        {
          "name": "stderr",
          "text": "     44/100      2.11G      1.047     0.9411      1.341         41        640: 100%|██████████| 193/193 [00:34<00:00,  5.54it/s]\n                 Class     Images  Instances      Box(P          R      mAP50  mAP50-95): 100%|██████████| 9/9 [00:01<00:00,  5.63it/s]",
          "output_type": "stream"
        },
        {
          "name": "stdout",
          "text": "                   all        268        347      0.812      0.832      0.877      0.594\n",
          "output_type": "stream"
        },
        {
          "name": "stderr",
          "text": "\n",
          "output_type": "stream"
        },
        {
          "name": "stdout",
          "text": "\n      Epoch    GPU_mem   box_loss   cls_loss   dfl_loss  Instances       Size\n",
          "output_type": "stream"
        },
        {
          "name": "stderr",
          "text": "     45/100      2.12G      1.041     0.9209      1.336         51        640: 100%|██████████| 193/193 [00:34<00:00,  5.55it/s]\n                 Class     Images  Instances      Box(P          R      mAP50  mAP50-95): 100%|██████████| 9/9 [00:01<00:00,  5.81it/s]",
          "output_type": "stream"
        },
        {
          "name": "stdout",
          "text": "                   all        268        347      0.843      0.789      0.865      0.593\n",
          "output_type": "stream"
        },
        {
          "name": "stderr",
          "text": "\n",
          "output_type": "stream"
        },
        {
          "name": "stdout",
          "text": "\n      Epoch    GPU_mem   box_loss   cls_loss   dfl_loss  Instances       Size\n",
          "output_type": "stream"
        },
        {
          "name": "stderr",
          "text": "     46/100       2.1G      1.028     0.9202      1.338         43        640: 100%|██████████| 193/193 [00:34<00:00,  5.54it/s]\n                 Class     Images  Instances      Box(P          R      mAP50  mAP50-95): 100%|██████████| 9/9 [00:01<00:00,  5.94it/s]",
          "output_type": "stream"
        },
        {
          "name": "stdout",
          "text": "                   all        268        347      0.876        0.8      0.883       0.59\n",
          "output_type": "stream"
        },
        {
          "name": "stderr",
          "text": "\n",
          "output_type": "stream"
        },
        {
          "name": "stdout",
          "text": "\n      Epoch    GPU_mem   box_loss   cls_loss   dfl_loss  Instances       Size\n",
          "output_type": "stream"
        },
        {
          "name": "stderr",
          "text": "     47/100      2.11G      1.027     0.9079      1.325         42        640: 100%|██████████| 193/193 [00:34<00:00,  5.57it/s]\n                 Class     Images  Instances      Box(P          R      mAP50  mAP50-95): 100%|██████████| 9/9 [00:01<00:00,  5.95it/s]",
          "output_type": "stream"
        },
        {
          "name": "stdout",
          "text": "                   all        268        347      0.847      0.795      0.866      0.594\n",
          "output_type": "stream"
        },
        {
          "name": "stderr",
          "text": "\n",
          "output_type": "stream"
        },
        {
          "name": "stdout",
          "text": "\n      Epoch    GPU_mem   box_loss   cls_loss   dfl_loss  Instances       Size\n",
          "output_type": "stream"
        },
        {
          "name": "stderr",
          "text": "     48/100      2.12G       1.03     0.9094      1.338         41        640: 100%|██████████| 193/193 [00:34<00:00,  5.62it/s]\n                 Class     Images  Instances      Box(P          R      mAP50  mAP50-95): 100%|██████████| 9/9 [00:01<00:00,  5.92it/s]",
          "output_type": "stream"
        },
        {
          "name": "stdout",
          "text": "                   all        268        347      0.827      0.808      0.881      0.605\n",
          "output_type": "stream"
        },
        {
          "name": "stderr",
          "text": "\n",
          "output_type": "stream"
        },
        {
          "name": "stdout",
          "text": "\n      Epoch    GPU_mem   box_loss   cls_loss   dfl_loss  Instances       Size\n",
          "output_type": "stream"
        },
        {
          "name": "stderr",
          "text": "     49/100      2.11G      1.012      0.913      1.323         36        640: 100%|██████████| 193/193 [00:34<00:00,  5.61it/s]\n                 Class     Images  Instances      Box(P          R      mAP50  mAP50-95): 100%|██████████| 9/9 [00:01<00:00,  5.96it/s]",
          "output_type": "stream"
        },
        {
          "name": "stdout",
          "text": "                   all        268        347      0.856       0.81      0.894      0.607\n",
          "output_type": "stream"
        },
        {
          "name": "stderr",
          "text": "\n",
          "output_type": "stream"
        },
        {
          "name": "stdout",
          "text": "\n      Epoch    GPU_mem   box_loss   cls_loss   dfl_loss  Instances       Size\n",
          "output_type": "stream"
        },
        {
          "name": "stderr",
          "text": "     50/100      2.11G      1.019     0.9055      1.325         44        640: 100%|██████████| 193/193 [00:34<00:00,  5.60it/s]\n                 Class     Images  Instances      Box(P          R      mAP50  mAP50-95): 100%|██████████| 9/9 [00:01<00:00,  5.92it/s]",
          "output_type": "stream"
        },
        {
          "name": "stdout",
          "text": "                   all        268        347       0.85      0.821      0.892      0.605\n",
          "output_type": "stream"
        },
        {
          "name": "stderr",
          "text": "\n",
          "output_type": "stream"
        },
        {
          "name": "stdout",
          "text": "\n      Epoch    GPU_mem   box_loss   cls_loss   dfl_loss  Instances       Size\n",
          "output_type": "stream"
        },
        {
          "name": "stderr",
          "text": "     51/100      2.11G      1.022     0.8956      1.321         46        640: 100%|██████████| 193/193 [00:34<00:00,  5.61it/s]\n                 Class     Images  Instances      Box(P          R      mAP50  mAP50-95): 100%|██████████| 9/9 [00:01<00:00,  5.92it/s]",
          "output_type": "stream"
        },
        {
          "name": "stdout",
          "text": "                   all        268        347      0.857      0.833       0.89      0.601\n",
          "output_type": "stream"
        },
        {
          "name": "stderr",
          "text": "\n",
          "output_type": "stream"
        },
        {
          "name": "stdout",
          "text": "\n      Epoch    GPU_mem   box_loss   cls_loss   dfl_loss  Instances       Size\n",
          "output_type": "stream"
        },
        {
          "name": "stderr",
          "text": "     52/100      2.12G     0.9957     0.8987      1.316         38        640: 100%|██████████| 193/193 [00:34<00:00,  5.65it/s]\n                 Class     Images  Instances      Box(P          R      mAP50  mAP50-95): 100%|██████████| 9/9 [00:01<00:00,  5.17it/s]",
          "output_type": "stream"
        },
        {
          "name": "stdout",
          "text": "                   all        268        347      0.864      0.827      0.893       0.61\n",
          "output_type": "stream"
        },
        {
          "name": "stderr",
          "text": "\n",
          "output_type": "stream"
        },
        {
          "name": "stdout",
          "text": "\n      Epoch    GPU_mem   box_loss   cls_loss   dfl_loss  Instances       Size\n",
          "output_type": "stream"
        },
        {
          "name": "stderr",
          "text": "     53/100      2.11G      1.017     0.8964      1.327         39        640: 100%|██████████| 193/193 [00:34<00:00,  5.53it/s]\n                 Class     Images  Instances      Box(P          R      mAP50  mAP50-95): 100%|██████████| 9/9 [00:01<00:00,  5.89it/s]",
          "output_type": "stream"
        },
        {
          "name": "stdout",
          "text": "                   all        268        347      0.847      0.831      0.889      0.605\n",
          "output_type": "stream"
        },
        {
          "name": "stderr",
          "text": "\n",
          "output_type": "stream"
        },
        {
          "name": "stdout",
          "text": "\n      Epoch    GPU_mem   box_loss   cls_loss   dfl_loss  Instances       Size\n",
          "output_type": "stream"
        },
        {
          "name": "stderr",
          "text": "     54/100      2.12G      1.004     0.8844      1.306         46        640: 100%|██████████| 193/193 [00:34<00:00,  5.60it/s]\n                 Class     Images  Instances      Box(P          R      mAP50  mAP50-95): 100%|██████████| 9/9 [00:01<00:00,  5.59it/s]",
          "output_type": "stream"
        },
        {
          "name": "stdout",
          "text": "                   all        268        347      0.868      0.854      0.893      0.613\n",
          "output_type": "stream"
        },
        {
          "name": "stderr",
          "text": "\n",
          "output_type": "stream"
        },
        {
          "name": "stdout",
          "text": "\n      Epoch    GPU_mem   box_loss   cls_loss   dfl_loss  Instances       Size\n",
          "output_type": "stream"
        },
        {
          "name": "stderr",
          "text": "     55/100      2.11G     0.9814     0.8622      1.304         42        640: 100%|██████████| 193/193 [00:34<00:00,  5.58it/s]\n                 Class     Images  Instances      Box(P          R      mAP50  mAP50-95): 100%|██████████| 9/9 [00:01<00:00,  5.99it/s]",
          "output_type": "stream"
        },
        {
          "name": "stdout",
          "text": "                   all        268        347      0.832      0.842      0.883      0.614\n",
          "output_type": "stream"
        },
        {
          "name": "stderr",
          "text": "\n",
          "output_type": "stream"
        },
        {
          "name": "stdout",
          "text": "\n      Epoch    GPU_mem   box_loss   cls_loss   dfl_loss  Instances       Size\n",
          "output_type": "stream"
        },
        {
          "name": "stderr",
          "text": "     56/100      2.11G      1.009     0.8612      1.316         46        640: 100%|██████████| 193/193 [00:34<00:00,  5.59it/s]\n                 Class     Images  Instances      Box(P          R      mAP50  mAP50-95): 100%|██████████| 9/9 [00:01<00:00,  5.60it/s]",
          "output_type": "stream"
        },
        {
          "name": "stdout",
          "text": "                   all        268        347      0.824      0.852      0.896       0.62\n",
          "output_type": "stream"
        },
        {
          "name": "stderr",
          "text": "\n",
          "output_type": "stream"
        },
        {
          "name": "stdout",
          "text": "\n      Epoch    GPU_mem   box_loss   cls_loss   dfl_loss  Instances       Size\n",
          "output_type": "stream"
        },
        {
          "name": "stderr",
          "text": "     57/100      2.12G          1      0.877      1.318         46        640: 100%|██████████| 193/193 [00:34<00:00,  5.62it/s]\n                 Class     Images  Instances      Box(P          R      mAP50  mAP50-95): 100%|██████████| 9/9 [00:01<00:00,  6.14it/s]",
          "output_type": "stream"
        },
        {
          "name": "stdout",
          "text": "                   all        268        347      0.854      0.843      0.892      0.606\n",
          "output_type": "stream"
        },
        {
          "name": "stderr",
          "text": "\n",
          "output_type": "stream"
        },
        {
          "name": "stdout",
          "text": "\n      Epoch    GPU_mem   box_loss   cls_loss   dfl_loss  Instances       Size\n",
          "output_type": "stream"
        },
        {
          "name": "stderr",
          "text": "     58/100      2.12G     0.9876     0.8626      1.306         47        640: 100%|██████████| 193/193 [00:34<00:00,  5.56it/s]\n                 Class     Images  Instances      Box(P          R      mAP50  mAP50-95): 100%|██████████| 9/9 [00:01<00:00,  5.88it/s]",
          "output_type": "stream"
        },
        {
          "name": "stdout",
          "text": "                   all        268        347      0.848      0.848      0.886       0.61\n",
          "output_type": "stream"
        },
        {
          "name": "stderr",
          "text": "\n",
          "output_type": "stream"
        },
        {
          "name": "stdout",
          "text": "\n      Epoch    GPU_mem   box_loss   cls_loss   dfl_loss  Instances       Size\n",
          "output_type": "stream"
        },
        {
          "name": "stderr",
          "text": "     59/100      2.11G     0.9752     0.8337      1.297         40        640: 100%|██████████| 193/193 [00:34<00:00,  5.57it/s]\n                 Class     Images  Instances      Box(P          R      mAP50  mAP50-95): 100%|██████████| 9/9 [00:01<00:00,  5.84it/s]",
          "output_type": "stream"
        },
        {
          "name": "stdout",
          "text": "                   all        268        347      0.855      0.851      0.903      0.629\n",
          "output_type": "stream"
        },
        {
          "name": "stderr",
          "text": "\n",
          "output_type": "stream"
        },
        {
          "name": "stdout",
          "text": "\n      Epoch    GPU_mem   box_loss   cls_loss   dfl_loss  Instances       Size\n",
          "output_type": "stream"
        },
        {
          "name": "stderr",
          "text": "     60/100      2.12G     0.9897     0.8514       1.31         40        640: 100%|██████████| 193/193 [00:34<00:00,  5.56it/s]\n                 Class     Images  Instances      Box(P          R      mAP50  mAP50-95): 100%|██████████| 9/9 [00:01<00:00,  5.68it/s]",
          "output_type": "stream"
        },
        {
          "name": "stdout",
          "text": "                   all        268        347      0.865      0.827      0.908      0.632\n",
          "output_type": "stream"
        },
        {
          "name": "stderr",
          "text": "\n",
          "output_type": "stream"
        },
        {
          "name": "stdout",
          "text": "\n      Epoch    GPU_mem   box_loss   cls_loss   dfl_loss  Instances       Size\n",
          "output_type": "stream"
        },
        {
          "name": "stderr",
          "text": "     61/100      2.12G     0.9881     0.8393      1.306         50        640: 100%|██████████| 193/193 [00:34<00:00,  5.60it/s]\n                 Class     Images  Instances      Box(P          R      mAP50  mAP50-95): 100%|██████████| 9/9 [00:01<00:00,  6.02it/s]",
          "output_type": "stream"
        },
        {
          "name": "stdout",
          "text": "                   all        268        347      0.856      0.813      0.899      0.621\n",
          "output_type": "stream"
        },
        {
          "name": "stderr",
          "text": "\n",
          "output_type": "stream"
        },
        {
          "name": "stdout",
          "text": "\n      Epoch    GPU_mem   box_loss   cls_loss   dfl_loss  Instances       Size\n",
          "output_type": "stream"
        },
        {
          "name": "stderr",
          "text": "     62/100      2.12G     0.9797      0.829      1.297         50        640: 100%|██████████| 193/193 [00:34<00:00,  5.61it/s]\n                 Class     Images  Instances      Box(P          R      mAP50  mAP50-95): 100%|██████████| 9/9 [00:01<00:00,  6.06it/s]",
          "output_type": "stream"
        },
        {
          "name": "stdout",
          "text": "                   all        268        347      0.901      0.782      0.892      0.609\n",
          "output_type": "stream"
        },
        {
          "name": "stderr",
          "text": "\n",
          "output_type": "stream"
        },
        {
          "name": "stdout",
          "text": "\n      Epoch    GPU_mem   box_loss   cls_loss   dfl_loss  Instances       Size\n",
          "output_type": "stream"
        },
        {
          "name": "stderr",
          "text": "     63/100      2.11G     0.9818     0.8356      1.299         41        640: 100%|██████████| 193/193 [00:34<00:00,  5.55it/s]\n                 Class     Images  Instances      Box(P          R      mAP50  mAP50-95): 100%|██████████| 9/9 [00:01<00:00,  5.78it/s]",
          "output_type": "stream"
        },
        {
          "name": "stdout",
          "text": "                   all        268        347      0.869      0.852      0.898      0.612\n",
          "output_type": "stream"
        },
        {
          "name": "stderr",
          "text": "\n",
          "output_type": "stream"
        },
        {
          "name": "stdout",
          "text": "\n      Epoch    GPU_mem   box_loss   cls_loss   dfl_loss  Instances       Size\n",
          "output_type": "stream"
        },
        {
          "name": "stderr",
          "text": "     64/100      2.12G     0.9829     0.8357      1.304         51        640: 100%|██████████| 193/193 [00:34<00:00,  5.60it/s]\n                 Class     Images  Instances      Box(P          R      mAP50  mAP50-95): 100%|██████████| 9/9 [00:01<00:00,  5.73it/s]",
          "output_type": "stream"
        },
        {
          "name": "stdout",
          "text": "                   all        268        347      0.889      0.856      0.905      0.629\n",
          "output_type": "stream"
        },
        {
          "name": "stderr",
          "text": "\n",
          "output_type": "stream"
        },
        {
          "name": "stdout",
          "text": "\n      Epoch    GPU_mem   box_loss   cls_loss   dfl_loss  Instances       Size\n",
          "output_type": "stream"
        },
        {
          "name": "stderr",
          "text": "     65/100      2.13G     0.9646     0.8282      1.284         48        640: 100%|██████████| 193/193 [00:34<00:00,  5.54it/s]\n                 Class     Images  Instances      Box(P          R      mAP50  mAP50-95): 100%|██████████| 9/9 [00:01<00:00,  5.62it/s]",
          "output_type": "stream"
        },
        {
          "name": "stdout",
          "text": "                   all        268        347      0.869      0.859       0.91      0.622\n",
          "output_type": "stream"
        },
        {
          "name": "stderr",
          "text": "\n",
          "output_type": "stream"
        },
        {
          "name": "stdout",
          "text": "\n      Epoch    GPU_mem   box_loss   cls_loss   dfl_loss  Instances       Size\n",
          "output_type": "stream"
        },
        {
          "name": "stderr",
          "text": "     66/100      2.12G     0.9513     0.8102      1.282         39        640: 100%|██████████| 193/193 [00:34<00:00,  5.58it/s]\n                 Class     Images  Instances      Box(P          R      mAP50  mAP50-95): 100%|██████████| 9/9 [00:01<00:00,  5.94it/s]",
          "output_type": "stream"
        },
        {
          "name": "stdout",
          "text": "                   all        268        347      0.883      0.841      0.895       0.62\n",
          "output_type": "stream"
        },
        {
          "name": "stderr",
          "text": "\n",
          "output_type": "stream"
        },
        {
          "name": "stdout",
          "text": "\n      Epoch    GPU_mem   box_loss   cls_loss   dfl_loss  Instances       Size\n",
          "output_type": "stream"
        },
        {
          "name": "stderr",
          "text": "     67/100      2.12G     0.9513     0.8112      1.283         54        640: 100%|██████████| 193/193 [00:34<00:00,  5.61it/s]\n                 Class     Images  Instances      Box(P          R      mAP50  mAP50-95): 100%|██████████| 9/9 [00:01<00:00,  5.91it/s]",
          "output_type": "stream"
        },
        {
          "name": "stdout",
          "text": "                   all        268        347      0.877      0.825      0.896      0.615\n",
          "output_type": "stream"
        },
        {
          "name": "stderr",
          "text": "\n",
          "output_type": "stream"
        },
        {
          "name": "stdout",
          "text": "\n      Epoch    GPU_mem   box_loss   cls_loss   dfl_loss  Instances       Size\n",
          "output_type": "stream"
        },
        {
          "name": "stderr",
          "text": "     68/100      2.11G     0.9547     0.8234      1.286         65        640: 100%|██████████| 193/193 [00:34<00:00,  5.60it/s]\n                 Class     Images  Instances      Box(P          R      mAP50  mAP50-95): 100%|██████████| 9/9 [00:01<00:00,  5.96it/s]",
          "output_type": "stream"
        },
        {
          "name": "stdout",
          "text": "                   all        268        347      0.851      0.835      0.898      0.619\n",
          "output_type": "stream"
        },
        {
          "name": "stderr",
          "text": "\n",
          "output_type": "stream"
        },
        {
          "name": "stdout",
          "text": "\n      Epoch    GPU_mem   box_loss   cls_loss   dfl_loss  Instances       Size\n",
          "output_type": "stream"
        },
        {
          "name": "stderr",
          "text": "     69/100      2.11G     0.9436     0.8197      1.278         47        640: 100%|██████████| 193/193 [00:34<00:00,  5.61it/s]\n                 Class     Images  Instances      Box(P          R      mAP50  mAP50-95): 100%|██████████| 9/9 [00:01<00:00,  5.92it/s]",
          "output_type": "stream"
        },
        {
          "name": "stdout",
          "text": "                   all        268        347      0.874      0.839      0.903      0.622\n",
          "output_type": "stream"
        },
        {
          "name": "stderr",
          "text": "\n",
          "output_type": "stream"
        },
        {
          "name": "stdout",
          "text": "\n      Epoch    GPU_mem   box_loss   cls_loss   dfl_loss  Instances       Size\n",
          "output_type": "stream"
        },
        {
          "name": "stderr",
          "text": "     70/100       2.1G     0.9477     0.8016      1.276         43        640: 100%|██████████| 193/193 [00:34<00:00,  5.57it/s]\n                 Class     Images  Instances      Box(P          R      mAP50  mAP50-95): 100%|██████████| 9/9 [00:01<00:00,  5.93it/s]",
          "output_type": "stream"
        },
        {
          "name": "stdout",
          "text": "                   all        268        347      0.868      0.833        0.9      0.604\n",
          "output_type": "stream"
        },
        {
          "name": "stderr",
          "text": "\n",
          "output_type": "stream"
        },
        {
          "name": "stdout",
          "text": "\n      Epoch    GPU_mem   box_loss   cls_loss   dfl_loss  Instances       Size\n",
          "output_type": "stream"
        },
        {
          "name": "stderr",
          "text": "     71/100      2.12G     0.9499     0.8006      1.279         40        640: 100%|██████████| 193/193 [00:34<00:00,  5.57it/s]\n                 Class     Images  Instances      Box(P          R      mAP50  mAP50-95): 100%|██████████| 9/9 [00:01<00:00,  6.04it/s]",
          "output_type": "stream"
        },
        {
          "name": "stdout",
          "text": "                   all        268        347      0.844      0.846      0.893      0.622\n",
          "output_type": "stream"
        },
        {
          "name": "stderr",
          "text": "\n",
          "output_type": "stream"
        },
        {
          "name": "stdout",
          "text": "\n      Epoch    GPU_mem   box_loss   cls_loss   dfl_loss  Instances       Size\n",
          "output_type": "stream"
        },
        {
          "name": "stderr",
          "text": "     72/100      2.12G     0.9478     0.7966      1.279         44        640: 100%|██████████| 193/193 [00:34<00:00,  5.62it/s]\n                 Class     Images  Instances      Box(P          R      mAP50  mAP50-95): 100%|██████████| 9/9 [00:01<00:00,  5.79it/s]",
          "output_type": "stream"
        },
        {
          "name": "stdout",
          "text": "                   all        268        347      0.875      0.814      0.888      0.615\n",
          "output_type": "stream"
        },
        {
          "name": "stderr",
          "text": "\n",
          "output_type": "stream"
        },
        {
          "name": "stdout",
          "text": "\n      Epoch    GPU_mem   box_loss   cls_loss   dfl_loss  Instances       Size\n",
          "output_type": "stream"
        },
        {
          "name": "stderr",
          "text": "     73/100      2.13G     0.9523     0.7873      1.282         43        640: 100%|██████████| 193/193 [00:34<00:00,  5.60it/s]\n                 Class     Images  Instances      Box(P          R      mAP50  mAP50-95): 100%|██████████| 9/9 [00:01<00:00,  5.91it/s]",
          "output_type": "stream"
        },
        {
          "name": "stdout",
          "text": "                   all        268        347      0.877      0.833      0.903       0.62\n",
          "output_type": "stream"
        },
        {
          "name": "stderr",
          "text": "\n",
          "output_type": "stream"
        },
        {
          "name": "stdout",
          "text": "\n      Epoch    GPU_mem   box_loss   cls_loss   dfl_loss  Instances       Size\n",
          "output_type": "stream"
        },
        {
          "name": "stderr",
          "text": "     74/100       2.1G     0.9342     0.7963      1.274         44        640: 100%|██████████| 193/193 [00:34<00:00,  5.57it/s]\n                 Class     Images  Instances      Box(P          R      mAP50  mAP50-95): 100%|██████████| 9/9 [00:01<00:00,  5.84it/s]",
          "output_type": "stream"
        },
        {
          "name": "stdout",
          "text": "                   all        268        347       0.84      0.867      0.908      0.626\n",
          "output_type": "stream"
        },
        {
          "name": "stderr",
          "text": "\n",
          "output_type": "stream"
        },
        {
          "name": "stdout",
          "text": "\n      Epoch    GPU_mem   box_loss   cls_loss   dfl_loss  Instances       Size\n",
          "output_type": "stream"
        },
        {
          "name": "stderr",
          "text": "     75/100      2.11G     0.9377     0.7877      1.269         44        640: 100%|██████████| 193/193 [00:34<00:00,  5.59it/s]\n                 Class     Images  Instances      Box(P          R      mAP50  mAP50-95): 100%|██████████| 9/9 [00:01<00:00,  5.90it/s]",
          "output_type": "stream"
        },
        {
          "name": "stdout",
          "text": "                   all        268        347      0.863       0.84      0.901      0.624\n",
          "output_type": "stream"
        },
        {
          "name": "stderr",
          "text": "\n",
          "output_type": "stream"
        },
        {
          "name": "stdout",
          "text": "\n      Epoch    GPU_mem   box_loss   cls_loss   dfl_loss  Instances       Size\n",
          "output_type": "stream"
        },
        {
          "name": "stderr",
          "text": "     76/100      2.12G     0.9356     0.7884      1.268         50        640: 100%|██████████| 193/193 [00:34<00:00,  5.57it/s]\n                 Class     Images  Instances      Box(P          R      mAP50  mAP50-95): 100%|██████████| 9/9 [00:01<00:00,  5.45it/s]",
          "output_type": "stream"
        },
        {
          "name": "stdout",
          "text": "                   all        268        347       0.88      0.824      0.904       0.63\n",
          "output_type": "stream"
        },
        {
          "name": "stderr",
          "text": "\n",
          "output_type": "stream"
        },
        {
          "name": "stdout",
          "text": "\n      Epoch    GPU_mem   box_loss   cls_loss   dfl_loss  Instances       Size\n",
          "output_type": "stream"
        },
        {
          "name": "stderr",
          "text": "     77/100      2.13G     0.9337     0.7757      1.268         47        640: 100%|██████████| 193/193 [00:35<00:00,  5.45it/s]\n                 Class     Images  Instances      Box(P          R      mAP50  mAP50-95): 100%|██████████| 9/9 [00:01<00:00,  5.93it/s]",
          "output_type": "stream"
        },
        {
          "name": "stdout",
          "text": "                   all        268        347      0.842      0.842      0.888      0.623\n",
          "output_type": "stream"
        },
        {
          "name": "stderr",
          "text": "\n",
          "output_type": "stream"
        },
        {
          "name": "stdout",
          "text": "\n      Epoch    GPU_mem   box_loss   cls_loss   dfl_loss  Instances       Size\n",
          "output_type": "stream"
        },
        {
          "name": "stderr",
          "text": "     78/100      2.12G     0.9262     0.7681      1.268         53        640: 100%|██████████| 193/193 [00:35<00:00,  5.50it/s]\n                 Class     Images  Instances      Box(P          R      mAP50  mAP50-95): 100%|██████████| 9/9 [00:01<00:00,  5.80it/s]",
          "output_type": "stream"
        },
        {
          "name": "stdout",
          "text": "                   all        268        347      0.875      0.857      0.904      0.633\n",
          "output_type": "stream"
        },
        {
          "name": "stderr",
          "text": "\n",
          "output_type": "stream"
        },
        {
          "name": "stdout",
          "text": "\n      Epoch    GPU_mem   box_loss   cls_loss   dfl_loss  Instances       Size\n",
          "output_type": "stream"
        },
        {
          "name": "stderr",
          "text": "     79/100      2.11G     0.9223     0.7728      1.264         54        640: 100%|██████████| 193/193 [00:34<00:00,  5.58it/s]\n                 Class     Images  Instances      Box(P          R      mAP50  mAP50-95): 100%|██████████| 9/9 [00:01<00:00,  5.88it/s]",
          "output_type": "stream"
        },
        {
          "name": "stdout",
          "text": "                   all        268        347      0.856      0.854      0.903      0.637\n",
          "output_type": "stream"
        },
        {
          "name": "stderr",
          "text": "\n",
          "output_type": "stream"
        },
        {
          "name": "stdout",
          "text": "\n      Epoch    GPU_mem   box_loss   cls_loss   dfl_loss  Instances       Size\n",
          "output_type": "stream"
        },
        {
          "name": "stderr",
          "text": "     80/100      2.12G     0.9153       0.77      1.255         42        640: 100%|██████████| 193/193 [00:34<00:00,  5.56it/s]\n                 Class     Images  Instances      Box(P          R      mAP50  mAP50-95): 100%|██████████| 9/9 [00:01<00:00,  5.95it/s]",
          "output_type": "stream"
        },
        {
          "name": "stdout",
          "text": "                   all        268        347      0.876      0.811      0.902      0.641\n",
          "output_type": "stream"
        },
        {
          "name": "stderr",
          "text": "\n",
          "output_type": "stream"
        },
        {
          "name": "stdout",
          "text": "\n      Epoch    GPU_mem   box_loss   cls_loss   dfl_loss  Instances       Size\n",
          "output_type": "stream"
        },
        {
          "name": "stderr",
          "text": "     81/100      2.12G     0.9156     0.7663      1.264         35        640: 100%|██████████| 193/193 [00:34<00:00,  5.58it/s]\n                 Class     Images  Instances      Box(P          R      mAP50  mAP50-95): 100%|██████████| 9/9 [00:01<00:00,  5.92it/s]",
          "output_type": "stream"
        },
        {
          "name": "stdout",
          "text": "                   all        268        347      0.861      0.838      0.911      0.645\n",
          "output_type": "stream"
        },
        {
          "name": "stderr",
          "text": "\n",
          "output_type": "stream"
        },
        {
          "name": "stdout",
          "text": "\n      Epoch    GPU_mem   box_loss   cls_loss   dfl_loss  Instances       Size\n",
          "output_type": "stream"
        },
        {
          "name": "stderr",
          "text": "     82/100      2.11G     0.9151     0.7453      1.256         48        640: 100%|██████████| 193/193 [00:34<00:00,  5.57it/s]\n                 Class     Images  Instances      Box(P          R      mAP50  mAP50-95): 100%|██████████| 9/9 [00:01<00:00,  6.00it/s]",
          "output_type": "stream"
        },
        {
          "name": "stdout",
          "text": "                   all        268        347      0.864      0.848      0.911      0.637\n",
          "output_type": "stream"
        },
        {
          "name": "stderr",
          "text": "\n",
          "output_type": "stream"
        },
        {
          "name": "stdout",
          "text": "\n      Epoch    GPU_mem   box_loss   cls_loss   dfl_loss  Instances       Size\n",
          "output_type": "stream"
        },
        {
          "name": "stderr",
          "text": "     83/100      2.11G     0.9232     0.7595       1.26         37        640: 100%|██████████| 193/193 [00:34<00:00,  5.57it/s]\n                 Class     Images  Instances      Box(P          R      mAP50  mAP50-95): 100%|██████████| 9/9 [00:01<00:00,  5.92it/s]",
          "output_type": "stream"
        },
        {
          "name": "stdout",
          "text": "                   all        268        347      0.832      0.865      0.907      0.634\n",
          "output_type": "stream"
        },
        {
          "name": "stderr",
          "text": "\n",
          "output_type": "stream"
        },
        {
          "name": "stdout",
          "text": "\n      Epoch    GPU_mem   box_loss   cls_loss   dfl_loss  Instances       Size\n",
          "output_type": "stream"
        },
        {
          "name": "stderr",
          "text": "     84/100      2.12G     0.9048     0.7588      1.254         32        640: 100%|██████████| 193/193 [00:34<00:00,  5.56it/s]\n                 Class     Images  Instances      Box(P          R      mAP50  mAP50-95): 100%|██████████| 9/9 [00:01<00:00,  5.82it/s]",
          "output_type": "stream"
        },
        {
          "name": "stdout",
          "text": "                   all        268        347      0.847      0.848      0.913      0.632\n",
          "output_type": "stream"
        },
        {
          "name": "stderr",
          "text": "\n",
          "output_type": "stream"
        },
        {
          "name": "stdout",
          "text": "\n      Epoch    GPU_mem   box_loss   cls_loss   dfl_loss  Instances       Size\n",
          "output_type": "stream"
        },
        {
          "name": "stderr",
          "text": "     85/100      2.12G     0.8997     0.7433      1.253         46        640: 100%|██████████| 193/193 [00:34<00:00,  5.57it/s]\n                 Class     Images  Instances      Box(P          R      mAP50  mAP50-95): 100%|██████████| 9/9 [00:01<00:00,  5.77it/s]",
          "output_type": "stream"
        },
        {
          "name": "stdout",
          "text": "                   all        268        347       0.85      0.849      0.907      0.635\n",
          "output_type": "stream"
        },
        {
          "name": "stderr",
          "text": "\n",
          "output_type": "stream"
        },
        {
          "name": "stdout",
          "text": "\n      Epoch    GPU_mem   box_loss   cls_loss   dfl_loss  Instances       Size\n",
          "output_type": "stream"
        },
        {
          "name": "stderr",
          "text": "     86/100      2.12G     0.9057     0.7394      1.252         41        640: 100%|██████████| 193/193 [00:34<00:00,  5.52it/s]\n                 Class     Images  Instances      Box(P          R      mAP50  mAP50-95): 100%|██████████| 9/9 [00:01<00:00,  5.68it/s]",
          "output_type": "stream"
        },
        {
          "name": "stdout",
          "text": "                   all        268        347      0.817      0.865      0.902      0.641\n",
          "output_type": "stream"
        },
        {
          "name": "stderr",
          "text": "\n",
          "output_type": "stream"
        },
        {
          "name": "stdout",
          "text": "\n      Epoch    GPU_mem   box_loss   cls_loss   dfl_loss  Instances       Size\n",
          "output_type": "stream"
        },
        {
          "name": "stderr",
          "text": "     87/100      2.11G     0.9112     0.7563      1.256         41        640: 100%|██████████| 193/193 [00:35<00:00,  5.50it/s]\n                 Class     Images  Instances      Box(P          R      mAP50  mAP50-95): 100%|██████████| 9/9 [00:01<00:00,  5.64it/s]",
          "output_type": "stream"
        },
        {
          "name": "stdout",
          "text": "                   all        268        347      0.883      0.818      0.904      0.639\n",
          "output_type": "stream"
        },
        {
          "name": "stderr",
          "text": "\n",
          "output_type": "stream"
        },
        {
          "name": "stdout",
          "text": "\n      Epoch    GPU_mem   box_loss   cls_loss   dfl_loss  Instances       Size\n",
          "output_type": "stream"
        },
        {
          "name": "stderr",
          "text": "     88/100      2.12G     0.8993     0.7459      1.246         55        640: 100%|██████████| 193/193 [00:34<00:00,  5.55it/s]\n                 Class     Images  Instances      Box(P          R      mAP50  mAP50-95): 100%|██████████| 9/9 [00:01<00:00,  6.08it/s]",
          "output_type": "stream"
        },
        {
          "name": "stdout",
          "text": "                   all        268        347      0.894      0.816      0.911      0.637\n",
          "output_type": "stream"
        },
        {
          "name": "stderr",
          "text": "\n",
          "output_type": "stream"
        },
        {
          "name": "stdout",
          "text": "\n      Epoch    GPU_mem   box_loss   cls_loss   dfl_loss  Instances       Size\n",
          "output_type": "stream"
        },
        {
          "name": "stderr",
          "text": "     89/100      2.12G     0.9081     0.7449      1.249         46        640: 100%|██████████| 193/193 [00:34<00:00,  5.59it/s]\n                 Class     Images  Instances      Box(P          R      mAP50  mAP50-95): 100%|██████████| 9/9 [00:01<00:00,  5.94it/s]",
          "output_type": "stream"
        },
        {
          "name": "stdout",
          "text": "                   all        268        347      0.867       0.83      0.898      0.632\n",
          "output_type": "stream"
        },
        {
          "name": "stderr",
          "text": "\n",
          "output_type": "stream"
        },
        {
          "name": "stdout",
          "text": "\n      Epoch    GPU_mem   box_loss   cls_loss   dfl_loss  Instances       Size\n",
          "output_type": "stream"
        },
        {
          "name": "stderr",
          "text": "     90/100      2.12G     0.8982       0.74      1.251         40        640: 100%|██████████| 193/193 [00:34<00:00,  5.60it/s]\n                 Class     Images  Instances      Box(P          R      mAP50  mAP50-95): 100%|██████████| 9/9 [00:01<00:00,  6.01it/s]",
          "output_type": "stream"
        },
        {
          "name": "stdout",
          "text": "                   all        268        347      0.855      0.854      0.908       0.64\n",
          "output_type": "stream"
        },
        {
          "name": "stderr",
          "text": "\n",
          "output_type": "stream"
        },
        {
          "name": "stdout",
          "text": "Closing dataloader mosaic\n\u001b[34m\u001b[1malbumentations: \u001b[0mBlur(p=0.01, blur_limit=(3, 7)), MedianBlur(p=0.01, blur_limit=(3, 7)), ToGray(p=0.01), CLAHE(p=0.01, clip_limit=(1, 4.0), tile_grid_size=(8, 8))\n",
          "output_type": "stream"
        },
        {
          "name": "stderr",
          "text": "os.fork() was called. os.fork() is incompatible with multithreaded code, and JAX is multithreaded, so this will likely lead to a deadlock.\nos.fork() was called. os.fork() is incompatible with multithreaded code, and JAX is multithreaded, so this will likely lead to a deadlock.\n",
          "output_type": "stream"
        },
        {
          "name": "stdout",
          "text": "\n      Epoch    GPU_mem   box_loss   cls_loss   dfl_loss  Instances       Size\n",
          "output_type": "stream"
        },
        {
          "name": "stderr",
          "text": "     91/100      2.38G     0.7946     0.5505      1.172         17        640: 100%|██████████| 193/193 [00:35<00:00,  5.49it/s]\n                 Class     Images  Instances      Box(P          R      mAP50  mAP50-95): 100%|██████████| 9/9 [00:01<00:00,  5.90it/s]",
          "output_type": "stream"
        },
        {
          "name": "stdout",
          "text": "                   all        268        347      0.867      0.853       0.92      0.651\n",
          "output_type": "stream"
        },
        {
          "name": "stderr",
          "text": "\n",
          "output_type": "stream"
        },
        {
          "name": "stdout",
          "text": "\n      Epoch    GPU_mem   box_loss   cls_loss   dfl_loss  Instances       Size\n",
          "output_type": "stream"
        },
        {
          "name": "stderr",
          "text": "     92/100      2.11G     0.7671     0.5158      1.158         21        640: 100%|██████████| 193/193 [00:34<00:00,  5.67it/s]\n                 Class     Images  Instances      Box(P          R      mAP50  mAP50-95): 100%|██████████| 9/9 [00:01<00:00,  5.85it/s]",
          "output_type": "stream"
        },
        {
          "name": "stdout",
          "text": "                   all        268        347      0.876      0.857      0.922      0.642\n",
          "output_type": "stream"
        },
        {
          "name": "stderr",
          "text": "\n",
          "output_type": "stream"
        },
        {
          "name": "stdout",
          "text": "\n      Epoch    GPU_mem   box_loss   cls_loss   dfl_loss  Instances       Size\n",
          "output_type": "stream"
        },
        {
          "name": "stderr",
          "text": "     93/100      2.11G     0.7562      0.507      1.138         19        640: 100%|██████████| 193/193 [00:33<00:00,  5.68it/s]\n                 Class     Images  Instances      Box(P          R      mAP50  mAP50-95): 100%|██████████| 9/9 [00:01<00:00,  5.85it/s]",
          "output_type": "stream"
        },
        {
          "name": "stdout",
          "text": "                   all        268        347      0.864      0.861      0.917      0.651\n",
          "output_type": "stream"
        },
        {
          "name": "stderr",
          "text": "\n",
          "output_type": "stream"
        },
        {
          "name": "stdout",
          "text": "\n      Epoch    GPU_mem   box_loss   cls_loss   dfl_loss  Instances       Size\n",
          "output_type": "stream"
        },
        {
          "name": "stderr",
          "text": "     94/100      2.11G     0.7593     0.4991       1.15         22        640: 100%|██████████| 193/193 [00:34<00:00,  5.64it/s]\n                 Class     Images  Instances      Box(P          R      mAP50  mAP50-95): 100%|██████████| 9/9 [00:01<00:00,  5.91it/s]",
          "output_type": "stream"
        },
        {
          "name": "stdout",
          "text": "                   all        268        347      0.877      0.857       0.92      0.651\n",
          "output_type": "stream"
        },
        {
          "name": "stderr",
          "text": "\n",
          "output_type": "stream"
        },
        {
          "name": "stdout",
          "text": "\n      Epoch    GPU_mem   box_loss   cls_loss   dfl_loss  Instances       Size\n",
          "output_type": "stream"
        },
        {
          "name": "stderr",
          "text": "     95/100      2.11G     0.7558     0.5004      1.136         20        640: 100%|██████████| 193/193 [00:34<00:00,  5.66it/s]\n                 Class     Images  Instances      Box(P          R      mAP50  mAP50-95): 100%|██████████| 9/9 [00:01<00:00,  5.91it/s]",
          "output_type": "stream"
        },
        {
          "name": "stdout",
          "text": "                   all        268        347      0.892      0.838      0.918      0.654\n",
          "output_type": "stream"
        },
        {
          "name": "stderr",
          "text": "\n",
          "output_type": "stream"
        },
        {
          "name": "stdout",
          "text": "\n      Epoch    GPU_mem   box_loss   cls_loss   dfl_loss  Instances       Size\n",
          "output_type": "stream"
        },
        {
          "name": "stderr",
          "text": "     96/100      2.11G     0.7473     0.4938      1.132         25        640: 100%|██████████| 193/193 [00:34<00:00,  5.67it/s]\n                 Class     Images  Instances      Box(P          R      mAP50  mAP50-95): 100%|██████████| 9/9 [00:01<00:00,  5.90it/s]",
          "output_type": "stream"
        },
        {
          "name": "stdout",
          "text": "                   all        268        347       0.87      0.863      0.918      0.649\n",
          "output_type": "stream"
        },
        {
          "name": "stderr",
          "text": "\n",
          "output_type": "stream"
        },
        {
          "name": "stdout",
          "text": "\n      Epoch    GPU_mem   box_loss   cls_loss   dfl_loss  Instances       Size\n",
          "output_type": "stream"
        },
        {
          "name": "stderr",
          "text": "     97/100      2.11G     0.7338     0.4839      1.125         19        640: 100%|██████████| 193/193 [00:34<00:00,  5.68it/s]\n                 Class     Images  Instances      Box(P          R      mAP50  mAP50-95): 100%|██████████| 9/9 [00:01<00:00,  5.96it/s]",
          "output_type": "stream"
        },
        {
          "name": "stdout",
          "text": "                   all        268        347      0.858      0.868      0.918      0.649\n",
          "output_type": "stream"
        },
        {
          "name": "stderr",
          "text": "\n",
          "output_type": "stream"
        },
        {
          "name": "stdout",
          "text": "\n      Epoch    GPU_mem   box_loss   cls_loss   dfl_loss  Instances       Size\n",
          "output_type": "stream"
        },
        {
          "name": "stderr",
          "text": "     98/100      2.11G     0.7261     0.4849      1.125         17        640: 100%|██████████| 193/193 [00:33<00:00,  5.70it/s]\n                 Class     Images  Instances      Box(P          R      mAP50  mAP50-95): 100%|██████████| 9/9 [00:01<00:00,  5.85it/s]",
          "output_type": "stream"
        },
        {
          "name": "stdout",
          "text": "                   all        268        347      0.875      0.863      0.923      0.655\n",
          "output_type": "stream"
        },
        {
          "name": "stderr",
          "text": "\n",
          "output_type": "stream"
        },
        {
          "name": "stdout",
          "text": "\n      Epoch    GPU_mem   box_loss   cls_loss   dfl_loss  Instances       Size\n",
          "output_type": "stream"
        },
        {
          "name": "stderr",
          "text": "     99/100      2.11G     0.7294     0.4755       1.13         19        640: 100%|██████████| 193/193 [00:33<00:00,  5.68it/s]\n                 Class     Images  Instances      Box(P          R      mAP50  mAP50-95): 100%|██████████| 9/9 [00:01<00:00,  6.06it/s]",
          "output_type": "stream"
        },
        {
          "name": "stdout",
          "text": "                   all        268        347      0.878       0.86      0.923      0.653\n",
          "output_type": "stream"
        },
        {
          "name": "stderr",
          "text": "\n",
          "output_type": "stream"
        },
        {
          "name": "stdout",
          "text": "\n      Epoch    GPU_mem   box_loss   cls_loss   dfl_loss  Instances       Size\n",
          "output_type": "stream"
        },
        {
          "name": "stderr",
          "text": "    100/100      2.11G     0.7332     0.4715      1.133         22        640: 100%|██████████| 193/193 [00:33<00:00,  5.68it/s]\n                 Class     Images  Instances      Box(P          R      mAP50  mAP50-95): 100%|██████████| 9/9 [00:01<00:00,  5.83it/s]",
          "output_type": "stream"
        },
        {
          "name": "stdout",
          "text": "                   all        268        347      0.881      0.864      0.923      0.655\n",
          "output_type": "stream"
        },
        {
          "name": "stderr",
          "text": "\n",
          "output_type": "stream"
        },
        {
          "name": "stdout",
          "text": "\n100 epochs completed in 1.051 hours.\nOptimizer stripped from /kaggle/working/ultralytics/runs/detect/train/weights/last.pt, 4.5MB\nOptimizer stripped from /kaggle/working/ultralytics/runs/detect/train/weights/best.pt, 4.5MB\n\nValidating /kaggle/working/ultralytics/runs/detect/train/weights/best.pt...\nUltralytics YOLOv8.2.72 🚀 Python-3.10.13 torch-2.1.2 CUDA:0 (Tesla T4, 15095MiB)\nnewconf summary (fused): 300 layers, 2,049,814 parameters, 0 gradients, 6.3 GFLOPs\n",
          "output_type": "stream"
        },
        {
          "name": "stderr",
          "text": "                 Class     Images  Instances      Box(P          R      mAP50  mAP50-95): 100%|██████████| 9/9 [00:03<00:00,  2.67it/s]\n",
          "output_type": "stream"
        },
        {
          "name": "stdout",
          "text": "                   all        268        347       0.88      0.864      0.923      0.656\n                   FIT        125        162      0.888      0.833      0.917      0.698\n                 UNFIT        163        185      0.873      0.895      0.929      0.613\nSpeed: 0.2ms preprocess, 2.1ms inference, 0.0ms loss, 1.4ms postprocess per image\nResults saved to \u001b[1m/kaggle/working/ultralytics/runs/detect/train\u001b[0m\n",
          "output_type": "stream"
        }
      ]
    },
    {
      "cell_type": "code",
      "source": [
        "!zip -r outf.zip /kaggle/working/ultralytics/runs/detect/train"
      ],
      "metadata": {
        "execution": {
          "iopub.status.busy": "2024-08-04T04:43:34.456746Z",
          "iopub.execute_input": "2024-08-04T04:43:34.457474Z",
          "iopub.status.idle": "2024-08-04T04:43:36.355464Z",
          "shell.execute_reply.started": "2024-08-04T04:43:34.457435Z",
          "shell.execute_reply": "2024-08-04T04:43:36.354521Z"
        },
        "trusted": true,
        "id": "p5wDIMtZucnH",
        "outputId": "4490b8f0-8915-45d4-f95e-4ead283d6b15"
      },
      "execution_count": null,
      "outputs": [
        {
          "name": "stdout",
          "text": "  adding: kaggle/working/ultralytics/runs/detect/train/ (stored 0%)\n  adding: kaggle/working/ultralytics/runs/detect/train/results.png (deflated 9%)\n  adding: kaggle/working/ultralytics/runs/detect/train/train_batch2.jpg (deflated 1%)\n  adding: kaggle/working/ultralytics/runs/detect/train/val_batch1_pred.jpg (deflated 4%)\n  adding: kaggle/working/ultralytics/runs/detect/train/train_batch1.jpg (deflated 1%)\n  adding: kaggle/working/ultralytics/runs/detect/train/val_batch1_labels.jpg (deflated 5%)\n  adding: kaggle/working/ultralytics/runs/detect/train/train_batch17372.jpg (deflated 2%)\n  adding: kaggle/working/ultralytics/runs/detect/train/train_batch0.jpg (deflated 0%)\n  adding: kaggle/working/ultralytics/runs/detect/train/args.yaml (deflated 53%)\n  adding: kaggle/working/ultralytics/runs/detect/train/weights/ (stored 0%)\n  adding: kaggle/working/ultralytics/runs/detect/train/weights/best.pt (deflated 13%)\n  adding: kaggle/working/ultralytics/runs/detect/train/weights/last.pt (deflated 13%)\n  adding: kaggle/working/ultralytics/runs/detect/train/train_batch17371.jpg (deflated 3%)\n  adding: kaggle/working/ultralytics/runs/detect/train/val_batch2_pred.jpg (deflated 4%)\n  adding: kaggle/working/ultralytics/runs/detect/train/results.csv (deflated 85%)\n  adding: kaggle/working/ultralytics/runs/detect/train/labels_correlogram.jpg (deflated 41%)\n  adding: kaggle/working/ultralytics/runs/detect/train/confusion_matrix.png (deflated 36%)\n  adding: kaggle/working/ultralytics/runs/detect/train/events.out.tfevents.1722741196.ad8b0f2eca34.34.0 (deflated 91%)\n  adding: kaggle/working/ultralytics/runs/detect/train/val_batch0_pred.jpg (deflated 4%)\n  adding: kaggle/working/ultralytics/runs/detect/train/P_curve.png (deflated 15%)\n  adding: kaggle/working/ultralytics/runs/detect/train/labels.jpg (deflated 37%)\n  adding: kaggle/working/ultralytics/runs/detect/train/confusion_matrix_normalized.png (deflated 35%)\n  adding: kaggle/working/ultralytics/runs/detect/train/val_batch2_labels.jpg (deflated 4%)\n  adding: kaggle/working/ultralytics/runs/detect/train/train_batch17370.jpg (deflated 3%)\n  adding: kaggle/working/ultralytics/runs/detect/train/R_curve.png (deflated 13%)\n  adding: kaggle/working/ultralytics/runs/detect/train/val_batch0_labels.jpg (deflated 4%)\n  adding: kaggle/working/ultralytics/runs/detect/train/F1_curve.png (deflated 13%)\n  adding: kaggle/working/ultralytics/runs/detect/train/PR_curve.png (deflated 18%)\n",
          "output_type": "stream"
        }
      ]
    },
    {
      "cell_type": "code",
      "source": [
        "from IPython.display import FileLink\n",
        "FileLink('outf.zip')"
      ],
      "metadata": {
        "execution": {
          "iopub.status.busy": "2024-08-04T04:44:03.298489Z",
          "iopub.execute_input": "2024-08-04T04:44:03.29939Z",
          "iopub.status.idle": "2024-08-04T04:44:03.305747Z",
          "shell.execute_reply.started": "2024-08-04T04:44:03.299352Z",
          "shell.execute_reply": "2024-08-04T04:44:03.304851Z"
        },
        "trusted": true,
        "id": "y076N3hlucnH",
        "outputId": "d9188135-bd95-49a0-feb4-1073deef1207"
      },
      "execution_count": null,
      "outputs": [
        {
          "execution_count": 73,
          "output_type": "execute_result",
          "data": {
            "text/plain": "/kaggle/working/outf.zip",
            "text/html": "<a href='outf.zip' target='_blank'>outf.zip</a><br>"
          },
          "metadata": {}
        }
      ]
    },
    {
      "cell_type": "code",
      "source": [
        "!cp /kaggle/working/ultralytics/out.zip /kaggle/working/\n"
      ],
      "metadata": {
        "execution": {
          "iopub.status.busy": "2024-08-04T04:36:26.452589Z",
          "iopub.execute_input": "2024-08-04T04:36:26.453524Z",
          "iopub.status.idle": "2024-08-04T04:36:27.513517Z",
          "shell.execute_reply.started": "2024-08-04T04:36:26.453483Z",
          "shell.execute_reply": "2024-08-04T04:36:27.512238Z"
        },
        "trusted": true,
        "id": "3zv1XE0IucnH"
      },
      "execution_count": null,
      "outputs": []
    },
    {
      "cell_type": "code",
      "source": [
        "import os\n",
        "\n",
        "# Define the file path\n",
        "file_path = '/kaggle/working/ultralytics/out.zip'\n",
        "\n",
        "# Check if the file exists and delete it\n",
        "if os.path.exists(file_path):\n",
        "    os.remove(file_path)\n",
        "    print(f\"{file_path} has been deleted.\")\n",
        "else:\n",
        "    print(f\"{file_path} does not exist.\")"
      ],
      "metadata": {
        "execution": {
          "iopub.status.busy": "2024-08-04T04:39:59.981726Z",
          "iopub.execute_input": "2024-08-04T04:39:59.982475Z",
          "iopub.status.idle": "2024-08-04T04:39:59.988443Z",
          "shell.execute_reply.started": "2024-08-04T04:39:59.982436Z",
          "shell.execute_reply": "2024-08-04T04:39:59.987481Z"
        },
        "trusted": true,
        "id": "VkQyw_twucnI",
        "outputId": "cec6c3a8-17de-4e58-eed1-02545d5d230b"
      },
      "execution_count": null,
      "outputs": [
        {
          "name": "stdout",
          "text": "/kaggle/working/ultralytics/out.zip does not exist.\n",
          "output_type": "stream"
        }
      ]
    },
    {
      "cell_type": "code",
      "source": [
        "!rm /kaggle/working/ultralytics/out1.zip"
      ],
      "metadata": {
        "execution": {
          "iopub.status.busy": "2024-08-04T04:42:30.230227Z",
          "iopub.execute_input": "2024-08-04T04:42:30.23064Z",
          "iopub.status.idle": "2024-08-04T04:42:31.294386Z",
          "shell.execute_reply.started": "2024-08-04T04:42:30.230599Z",
          "shell.execute_reply": "2024-08-04T04:42:31.293123Z"
        },
        "trusted": true,
        "id": "C1OH8NjoucnI"
      },
      "execution_count": null,
      "outputs": []
    },
    {
      "cell_type": "code",
      "source": [
        "%cd .."
      ],
      "metadata": {
        "execution": {
          "iopub.status.busy": "2024-08-04T04:43:11.336655Z",
          "iopub.execute_input": "2024-08-04T04:43:11.337071Z",
          "iopub.status.idle": "2024-08-04T04:43:11.343689Z",
          "shell.execute_reply.started": "2024-08-04T04:43:11.337027Z",
          "shell.execute_reply": "2024-08-04T04:43:11.342828Z"
        },
        "trusted": true,
        "id": "oe96IsagucnI",
        "outputId": "2429cd43-632b-4bc2-fa6b-7575cd5067a1"
      },
      "execution_count": null,
      "outputs": [
        {
          "name": "stdout",
          "text": "/kaggle/working\n",
          "output_type": "stream"
        }
      ]
    },
    {
      "cell_type": "code",
      "source": [
        "%ls"
      ],
      "metadata": {
        "execution": {
          "iopub.status.busy": "2024-08-04T04:43:42.621643Z",
          "iopub.execute_input": "2024-08-04T04:43:42.622046Z",
          "iopub.status.idle": "2024-08-04T04:43:43.675459Z",
          "shell.execute_reply.started": "2024-08-04T04:43:42.622008Z",
          "shell.execute_reply": "2024-08-04T04:43:43.674333Z"
        },
        "trusted": true,
        "id": "p7pS65C7ucnI",
        "outputId": "d9bcb36a-006d-446e-f4ee-5ed2c2796f65"
      },
      "execution_count": null,
      "outputs": [
        {
          "name": "stdout",
          "text": "outf.zip  \u001b[0m\u001b[01;34multralytics\u001b[0m/\n",
          "output_type": "stream"
        }
      ]
    }
  ]
}