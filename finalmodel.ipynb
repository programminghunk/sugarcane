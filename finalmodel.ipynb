{
  "metadata": {
    "kernelspec": {
      "language": "python",
      "display_name": "Python 3",
      "name": "python3"
    },
    "language_info": {
      "name": "python",
      "version": "3.10.13",
      "mimetype": "text/x-python",
      "codemirror_mode": {
        "name": "ipython",
        "version": 3
      },
      "pygments_lexer": "ipython3",
      "nbconvert_exporter": "python",
      "file_extension": ".py"
    },
    "kaggle": {
      "accelerator": "nvidiaTeslaT4",
      "dataSources": [],
      "dockerImageVersionId": 30747,
      "isInternetEnabled": true,
      "language": "python",
      "sourceType": "notebook",
      "isGpuEnabled": true
    },
    "colab": {
      "name": "finalmodel",
      "provenance": [],
      "include_colab_link": true
    }
  },
  "nbformat_minor": 0,
  "nbformat": 4,
  "cells": [
    {
      "cell_type": "markdown",
      "metadata": {
        "id": "view-in-github",
        "colab_type": "text"
      },
      "source": [
        "<a href=\"https://colab.research.google.com/github/programminghunk/sugarcane/blob/main/finalmodel.ipynb\" target=\"_parent\"><img src=\"https://colab.research.google.com/assets/colab-badge.svg\" alt=\"Open In Colab\"/></a>"
      ]
    },
    {
      "cell_type": "code",
      "source": [
        "!git clone https://github.com/ultralytics/ultralytics.git"
      ],
      "metadata": {
        "execution": {
          "iopub.status.busy": "2024-08-13T16:18:53.437835Z",
          "iopub.execute_input": "2024-08-13T16:18:53.438229Z",
          "iopub.status.idle": "2024-08-13T16:18:56.986893Z",
          "shell.execute_reply.started": "2024-08-13T16:18:53.438193Z",
          "shell.execute_reply": "2024-08-13T16:18:56.985665Z"
        },
        "trusted": true,
        "id": "LZQBS8jfyCW8",
        "outputId": "c003ad4a-8b8d-4c90-cb2a-591fae015869"
      },
      "execution_count": null,
      "outputs": [
        {
          "name": "stdout",
          "text": "Cloning into 'ultralytics'...\nremote: Enumerating objects: 36224, done.\u001b[K\nremote: Counting objects: 100% (153/153), done.\u001b[K\nremote: Compressing objects: 100% (104/104), done.\u001b[K\nremote: Total 36224 (delta 74), reused 109 (delta 49), pack-reused 36071 (from 1)\u001b[K\nReceiving objects: 100% (36224/36224), 29.32 MiB | 26.81 MiB/s, done.\nResolving deltas: 100% (26459/26459), done.\n",
          "output_type": "stream"
        }
      ]
    },
    {
      "cell_type": "code",
      "source": [
        "#%cd ultralytics\n",
        "#!pip install -e '.[dev]'"
      ],
      "metadata": {
        "execution": {
          "iopub.status.busy": "2024-08-13T16:21:56.644686Z",
          "iopub.execute_input": "2024-08-13T16:21:56.645542Z",
          "iopub.status.idle": "2024-08-13T16:21:56.649985Z",
          "shell.execute_reply.started": "2024-08-13T16:21:56.645495Z",
          "shell.execute_reply": "2024-08-13T16:21:56.64897Z"
        },
        "trusted": true,
        "id": "OqWRIRcUyCXB"
      },
      "execution_count": null,
      "outputs": []
    },
    {
      "cell_type": "code",
      "source": [
        "from IPython import display\n",
        "display.clear_output()\n",
        "\n",
        "import ultralytics\n",
        "ultralytics.checks()"
      ],
      "metadata": {
        "execution": {
          "iopub.status.busy": "2024-08-13T16:23:51.714469Z",
          "iopub.execute_input": "2024-08-13T16:23:51.715381Z",
          "iopub.status.idle": "2024-08-13T16:23:59.609232Z",
          "shell.execute_reply.started": "2024-08-13T16:23:51.715345Z",
          "shell.execute_reply": "2024-08-13T16:23:59.608365Z"
        },
        "trusted": true,
        "id": "gVsOQMOeyCXC",
        "outputId": "f25e03ef-216d-48ee-c914-8ae335a5792b"
      },
      "execution_count": null,
      "outputs": [
        {
          "name": "stdout",
          "text": "Ultralytics YOLOv8.2.76 🚀 Python-3.10.13 torch-2.1.2 CUDA:0 (Tesla T4, 15095MiB)\nSetup complete ✅ (4 CPUs, 31.4 GB RAM, 5771.8/8062.4 GB disk)\n",
          "output_type": "stream"
        }
      ]
    },
    {
      "cell_type": "code",
      "source": [
        "%cd ultralytics/cfg/models/v8"
      ],
      "metadata": {
        "execution": {
          "iopub.status.busy": "2024-08-13T16:24:05.232827Z",
          "iopub.execute_input": "2024-08-13T16:24:05.233411Z",
          "iopub.status.idle": "2024-08-13T16:24:05.239798Z",
          "shell.execute_reply.started": "2024-08-13T16:24:05.233375Z",
          "shell.execute_reply": "2024-08-13T16:24:05.238814Z"
        },
        "trusted": true,
        "id": "hRHdSOOQyCXD",
        "outputId": "c5b2b2e9-c229-445e-a432-4b3826ef4b77"
      },
      "execution_count": null,
      "outputs": [
        {
          "name": "stdout",
          "text": "/kaggle/working/ultralytics/ultralytics/cfg/models/v8\n",
          "output_type": "stream"
        }
      ]
    },
    {
      "cell_type": "code",
      "source": [
        "%%writefile newconf.yaml\n",
        "# Ultralytics YOLO 🚀, AGPL-3.0 license\n",
        "# YOLOv8 object detection model with P3-P5 outputs. For Usage examples see https://docs.ultralytics.com/tasks/detect\n",
        "\n",
        "# Parameters\n",
        "nc: 2 # number of classes\n",
        "scales: # model compound scaling constants, i.e. 'model=yolov8n.yaml' will call yolov8.yaml with scale 'n'\n",
        "  # [depth, width, max_channels]\n",
        "  n: [0.33, 0.25, 1024] # YOLOv8n summary: 225 layers,  3157200 parameters,  3157184 gradients,   8.9 GFLOPs\n",
        "  s: [0.33, 0.50, 1024] # YOLOv8s summary: 225 layers, 11166560 parameters, 11166544 gradients,  28.8 GFLOPs\n",
        "  m: [0.67, 0.75, 768] # YOLOv8m summary: 295 layers, 25902640 parameters, 25902624 gradients,  79.3 GFLOPs\n",
        "  l: [1.00, 1.00, 512] # YOLOv8l summary: 365 layers, 43691520 parameters, 43691504 gradients, 165.7 GFLOPs\n",
        "  x: [1.00, 1.25, 512] # YOLOv8x summary: 365 layers, 68229648 parameters, 68229632 gradients, 258.5 GFLOPs\n",
        "\n",
        "# YOLOv8.0n backbone\n",
        "backbone:\n",
        "  # [from, repeats, module, args]\n",
        "  - [-1, 1, Conv, [64, 3, 2]] # 0-P1/2\n",
        "  - [-1, 1, Conv, [128, 3, 2]] # 1-P2/4\n",
        "  - [-1, 3, C2f, [128, True]]\n",
        "  - [-1, 1, Conv, [256, 3, 2]] # 3-P3/8\n",
        "  - [-1, 1, RepNCSPELAN4, [64, 64, 32, 3]] # 4\n",
        "  - [-1, 1, Conv, [128,3,2]] # 5-P4/16\n",
        "  - [-1, 1, RepNCSPELAN4, [128, 128, 48, 3]] # 6\n",
        "  - [-1, 1, Conv, [256,3,2]] # 7-P5/32\n",
        "  - [-1, 1, RepNCSPELAN4, [256, 256, 64, 3]] # 8\n",
        "  - [-1, 1, SPPF, [256, 5]] # 9\n",
        "\n",
        "# YOLOv8.0n head\n",
        "head:\n",
        "  - [-1, 1, nn.Upsample, [None, 2, \"nearest\"]]\n",
        "  - [[-1, 6], 1, Concat, [1]] # cat backbone P4\n",
        "  - [-1, 3, C2f, [512]] # 12\n",
        "\n",
        "  - [-1, 1, nn.Upsample, [None, 2, \"nearest\"]]\n",
        "  - [[-1, 4], 1, Concat, [1]] # cat backbone P3\n",
        "  - [-1, 3, C2f, [256]] # 15 (P3/8-small)\n",
        "\n",
        "  - [-1, 1, Conv, [256, 3, 2]]\n",
        "  - [[-1, 12], 1, Concat, [1]] # cat head P4\n",
        "  - [-1, 3, C2f, [512]] # 18 (P4/16-medium)\n",
        "\n",
        "  - [-1, 1, Conv, [512, 3, 2]]\n",
        "  - [[-1, 9], 1, Concat, [1]] # cat head P5\n",
        "  - [-1, 3, C2f, [1024]] # 21 (P5/32-large)\n",
        "\n",
        "  - [[15, 18, 21], 1, Detect, [nc]] # Detect(P3, P4, P5)"
      ],
      "metadata": {
        "execution": {
          "iopub.status.busy": "2024-08-13T16:24:38.296807Z",
          "iopub.execute_input": "2024-08-13T16:24:38.297536Z",
          "iopub.status.idle": "2024-08-13T16:24:38.305033Z",
          "shell.execute_reply.started": "2024-08-13T16:24:38.2975Z",
          "shell.execute_reply": "2024-08-13T16:24:38.304172Z"
        },
        "trusted": true,
        "id": "aVDlylI2yCXE",
        "outputId": "6f6ada9c-7b9e-49fd-c6c4-a4a536aa679e"
      },
      "execution_count": null,
      "outputs": [
        {
          "name": "stdout",
          "text": "Writing newconf.yaml\n",
          "output_type": "stream"
        }
      ]
    },
    {
      "cell_type": "code",
      "source": [
        "%cd .."
      ],
      "metadata": {
        "execution": {
          "iopub.status.busy": "2024-08-13T16:25:14.464027Z",
          "iopub.execute_input": "2024-08-13T16:25:14.464838Z",
          "iopub.status.idle": "2024-08-13T16:25:14.470578Z",
          "shell.execute_reply.started": "2024-08-13T16:25:14.464802Z",
          "shell.execute_reply": "2024-08-13T16:25:14.469533Z"
        },
        "trusted": true,
        "id": "eivUBZWjyCXG",
        "outputId": "969ff232-ec40-41c7-96aa-9ba04874ad97"
      },
      "execution_count": null,
      "outputs": [
        {
          "name": "stdout",
          "text": "/kaggle/working\n",
          "output_type": "stream"
        }
      ]
    },
    {
      "cell_type": "code",
      "source": [
        "import ultralytics\n",
        "from ultralytics import YOLO\n",
        "\n",
        "model = YOLO(\"ultralytics/ultralytics/cfg/models/v8/newconf.yaml\")\n",
        "\n",
        "# Display model information (optional)\n",
        "model.info()"
      ],
      "metadata": {
        "execution": {
          "iopub.status.busy": "2024-08-13T16:25:19.777249Z",
          "iopub.execute_input": "2024-08-13T16:25:19.777843Z",
          "iopub.status.idle": "2024-08-13T16:25:20.468109Z",
          "shell.execute_reply.started": "2024-08-13T16:25:19.777812Z",
          "shell.execute_reply": "2024-08-13T16:25:20.467245Z"
        },
        "trusted": true,
        "id": "-_rjLO3hyCXH",
        "outputId": "dea8c803-f5ea-465f-9d85-f056e72ed60c"
      },
      "execution_count": null,
      "outputs": [
        {
          "name": "stdout",
          "text": "WARNING ⚠️ no model scale passed. Assuming scale='n'.\nnewconf summary: 512 layers, 2,157,798 parameters, 2,157,782 gradients, 7.2 GFLOPs\n",
          "output_type": "stream"
        },
        {
          "execution_count": 13,
          "output_type": "execute_result",
          "data": {
            "text/plain": "(512, 2157798, 2157782, 7.17952)"
          },
          "metadata": {}
        }
      ]
    },
    {
      "cell_type": "code",
      "source": [
        "%cd ultralytics"
      ],
      "metadata": {
        "execution": {
          "iopub.status.busy": "2024-08-13T16:25:29.629466Z",
          "iopub.execute_input": "2024-08-13T16:25:29.630167Z",
          "iopub.status.idle": "2024-08-13T16:25:29.635893Z",
          "shell.execute_reply.started": "2024-08-13T16:25:29.630134Z",
          "shell.execute_reply": "2024-08-13T16:25:29.634991Z"
        },
        "trusted": true,
        "id": "BZH7X-1yyCXI",
        "outputId": "f670202f-4429-46c5-daac-9967be24592c"
      },
      "execution_count": null,
      "outputs": [
        {
          "name": "stdout",
          "text": "/kaggle/working/ultralytics\n",
          "output_type": "stream"
        }
      ]
    },
    {
      "cell_type": "code",
      "source": [
        "!pip install roboflow --quiet\n",
        "\n",
        "from roboflow import Roboflow\n",
        "rf = Roboflow(api_key=\"y4uzPDgeB6rEDxdHhxsW\")\n",
        "project = rf.workspace(\"buddetection\").project(\"np_mynp\")\n",
        "version = project.version(2)\n",
        "dataset = version.download(\"yolov8\")"
      ],
      "metadata": {
        "execution": {
          "iopub.status.busy": "2024-08-13T16:25:33.430312Z",
          "iopub.execute_input": "2024-08-13T16:25:33.430954Z",
          "iopub.status.idle": "2024-08-13T16:25:57.029413Z",
          "shell.execute_reply.started": "2024-08-13T16:25:33.430917Z",
          "shell.execute_reply": "2024-08-13T16:25:57.028429Z"
        },
        "trusted": true,
        "id": "L8w5l8skyCXJ",
        "outputId": "f0e735a1-00ac-4051-e30b-0b14456a5718"
      },
      "execution_count": null,
      "outputs": [
        {
          "name": "stdout",
          "text": "\u001b[31mERROR: pip's dependency resolver does not currently take into account all the packages that are installed. This behaviour is the source of the following dependency conflicts.\ntensorflow-decision-forests 1.8.1 requires wurlitzer, which is not installed.\njupyterlab 4.2.3 requires jupyter-lsp>=2.0.0, but you have jupyter-lsp 1.5.1 which is incompatible.\njupyterlab-lsp 5.1.0 requires jupyter-lsp>=2.0.0, but you have jupyter-lsp 1.5.1 which is incompatible.\ntensorflow 2.15.0 requires keras<2.16,>=2.15.0, but you have keras 3.4.1 which is incompatible.\nydata-profiling 4.6.4 requires numpy<1.26,>=1.16.0, but you have numpy 1.26.4 which is incompatible.\u001b[0m\u001b[31m\nloading Roboflow workspace...\nloading Roboflow project...\nDependency ultralytics==8.0.196 is required but found version=8.2.76, to fix: `pip install ultralytics==8.0.196`\n",
          "output_type": "stream"
        },
        {
          "name": "stderr",
          "text": "Downloading Dataset Version Zip in np_mynp-2 to yolov8:: 100%|██████████| 251830/251830 [00:07<00:00, 35415.19it/s]",
          "output_type": "stream"
        },
        {
          "name": "stdout",
          "text": "\n",
          "output_type": "stream"
        },
        {
          "name": "stderr",
          "text": "\nExtracting Dataset Version Zip to np_mynp-2 in yolov8:: 100%|██████████| 6719/6719 [00:01<00:00, 5974.14it/s]\n",
          "output_type": "stream"
        }
      ]
    },
    {
      "cell_type": "code",
      "source": [
        "%%writefile np_mynp-2/data.yaml\n",
        "path: /kaggle/working/ultralytics\n",
        "names:\n",
        "- FIT\n",
        "- UNFIT\n",
        "nc: 2\n",
        "roboflow:\n",
        "  license: CC BY 4.0\n",
        "  project: np_mynp\n",
        "  url: https://universe.roboflow.com/buddetection/np_mynp/dataset/2\n",
        "  version: 2\n",
        "  workspace: buddetection\n",
        "test: np_mynp-2/test/images\n",
        "train: np_mynp-2/train/images\n",
        "val: np_mynp-2/test/images\n"
      ],
      "metadata": {
        "execution": {
          "iopub.status.busy": "2024-08-13T16:26:09.47674Z",
          "iopub.execute_input": "2024-08-13T16:26:09.477475Z",
          "iopub.status.idle": "2024-08-13T16:26:09.483244Z",
          "shell.execute_reply.started": "2024-08-13T16:26:09.477437Z",
          "shell.execute_reply": "2024-08-13T16:26:09.482317Z"
        },
        "trusted": true,
        "id": "K2NKddXMyCXJ",
        "outputId": "03d07564-8ebc-49bb-a90d-e7e6f184e4e1"
      },
      "execution_count": null,
      "outputs": [
        {
          "name": "stdout",
          "text": "Overwriting np_mynp-2/data.yaml\n",
          "output_type": "stream"
        }
      ]
    },
    {
      "cell_type": "code",
      "source": [],
      "metadata": {
        "id": "Ou5WjaTYyCXK"
      },
      "execution_count": null,
      "outputs": []
    },
    {
      "cell_type": "code",
      "source": [
        "results = model.train(data=\"np_mynp-2/data.yaml\", epochs=100, imgsz=640)"
      ],
      "metadata": {
        "execution": {
          "iopub.status.busy": "2024-08-13T16:26:39.231085Z",
          "iopub.execute_input": "2024-08-13T16:26:39.231829Z",
          "iopub.status.idle": "2024-08-13T17:34:43.999779Z",
          "shell.execute_reply.started": "2024-08-13T16:26:39.231782Z",
          "shell.execute_reply": "2024-08-13T17:34:43.998634Z"
        },
        "trusted": true,
        "id": "6imwpO9vyCXK",
        "outputId": "acf93d08-ec7b-4b84-ce51-da3b0a973b1e"
      },
      "execution_count": null,
      "outputs": [
        {
          "name": "stdout",
          "text": "Ultralytics YOLOv8.2.76 🚀 Python-3.10.13 torch-2.1.2 CUDA:0 (Tesla T4, 15095MiB)\n\u001b[34m\u001b[1mengine/trainer: \u001b[0mtask=detect, mode=train, model=ultralytics/ultralytics/cfg/models/v8/newconf.yaml, data=np_mynp-2/data.yaml, epochs=100, time=None, patience=100, batch=16, imgsz=640, save=True, save_period=-1, cache=False, device=None, workers=8, project=None, name=train, exist_ok=False, pretrained=True, optimizer=auto, verbose=True, seed=0, deterministic=True, single_cls=False, rect=False, cos_lr=False, close_mosaic=10, resume=False, amp=True, fraction=1.0, profile=False, freeze=None, multi_scale=False, overlap_mask=True, mask_ratio=4, dropout=0.0, val=True, split=val, save_json=False, save_hybrid=False, conf=None, iou=0.7, max_det=300, half=False, dnn=False, plots=True, source=None, vid_stride=1, stream_buffer=False, visualize=False, augment=False, agnostic_nms=False, classes=None, retina_masks=False, embed=None, show=False, save_frames=False, save_txt=False, save_conf=False, save_crop=False, show_labels=True, show_conf=True, show_boxes=True, line_width=None, format=torchscript, keras=False, optimize=False, int8=False, dynamic=False, simplify=False, opset=None, workspace=4, nms=False, lr0=0.01, lrf=0.01, momentum=0.937, weight_decay=0.0005, warmup_epochs=3.0, warmup_momentum=0.8, warmup_bias_lr=0.1, box=7.5, cls=0.5, dfl=1.5, pose=12.0, kobj=1.0, label_smoothing=0.0, nbs=64, hsv_h=0.015, hsv_s=0.7, hsv_v=0.4, degrees=0.0, translate=0.1, scale=0.5, shear=0.0, perspective=0.0, flipud=0.0, fliplr=0.5, bgr=0.0, mosaic=1.0, mixup=0.0, copy_paste=0.0, auto_augment=randaugment, erasing=0.4, crop_fraction=1.0, cfg=None, tracker=botsort.yaml, save_dir=/kaggle/working/ultralytics/runs/detect/train\nDownloading https://ultralytics.com/assets/Arial.ttf to '/root/.config/Ultralytics/Arial.ttf'...\n",
          "output_type": "stream"
        },
        {
          "name": "stderr",
          "text": "100%|██████████| 755k/755k [00:00<00:00, 14.0MB/s]\n2024-08-13 16:26:40,668\tINFO util.py:124 -- Outdated packages:\n  ipywidgets==7.7.1 found, needs ipywidgets>=8\nRun `pip install -U ipywidgets`, then restart the notebook server for rich notebook output.\n2024-08-13 16:26:41,986\tINFO util.py:124 -- Outdated packages:\n  ipywidgets==7.7.1 found, needs ipywidgets>=8\nRun `pip install -U ipywidgets`, then restart the notebook server for rich notebook output.\n",
          "output_type": "stream"
        },
        {
          "name": "stdout",
          "text": "WARNING ⚠️ no model scale passed. Assuming scale='n'.\n\n                   from  n    params  module                                       arguments                     \n  0                  -1  1       464  ultralytics.nn.modules.conv.Conv             [3, 16, 3, 2]                 \n  1                  -1  1      4672  ultralytics.nn.modules.conv.Conv             [16, 32, 3, 2]                \n  2                  -1  1      7360  ultralytics.nn.modules.block.C2f             [32, 32, 1, True]             \n  3                  -1  1     18560  ultralytics.nn.modules.conv.Conv             [32, 64, 3, 2]                \n  4                  -1  1     58976  ultralytics.nn.modules.block.RepNCSPELAN4    [64, 16, 64, 32, 3]           \n  5                  -1  1      4672  ultralytics.nn.modules.conv.Conv             [16, 32, 3, 2]                \n  6                  -1  1    130144  ultralytics.nn.modules.block.RepNCSPELAN4    [32, 32, 128, 48, 3]          \n  7                  -1  1     18560  ultralytics.nn.modules.conv.Conv             [32, 64, 3, 2]                \n  8                  -1  1    254464  ultralytics.nn.modules.block.RepNCSPELAN4    [64, 64, 256, 64, 3]          \n  9                  -1  1     10432  ultralytics.nn.modules.block.SPPF            [64, 64, 5]                   \n 10                  -1  1         0  torch.nn.modules.upsampling.Upsample         [None, 2, 'nearest']          \n 11             [-1, 6]  1         0  ultralytics.nn.modules.conv.Concat           [1]                           \n 12                  -1  1    111360  ultralytics.nn.modules.block.C2f             [96, 128, 1]                  \n 13                  -1  1         0  torch.nn.modules.upsampling.Upsample         [None, 2, 'nearest']          \n 14             [-1, 4]  1         0  ultralytics.nn.modules.conv.Concat           [1]                           \n 15                  -1  1     34176  ultralytics.nn.modules.block.C2f             [144, 64, 1]                  \n 16                  -1  1     36992  ultralytics.nn.modules.conv.Conv             [64, 64, 3, 2]                \n 17            [-1, 12]  1         0  ultralytics.nn.modules.conv.Concat           [1]                           \n 18                  -1  1    123648  ultralytics.nn.modules.block.C2f             [192, 128, 1]                 \n 19                  -1  1    147712  ultralytics.nn.modules.conv.Conv             [128, 128, 3, 2]              \n 20             [-1, 9]  1         0  ultralytics.nn.modules.conv.Concat           [1]                           \n 21                  -1  1    443904  ultralytics.nn.modules.block.C2f             [192, 256, 1]                 \n 22        [15, 18, 21]  1    751702  ultralytics.nn.modules.head.Detect           [2, [64, 128, 256]]           \nnewconf summary: 512 layers, 2,157,798 parameters, 2,157,782 gradients, 7.2 GFLOPs\n\n\u001b[34m\u001b[1mTensorBoard: \u001b[0mStart with 'tensorboard --logdir /kaggle/working/ultralytics/runs/detect/train', view at http://localhost:6006/\nFreezing layer 'model.22.dfl.conv.weight'\n\u001b[34m\u001b[1mAMP: \u001b[0mrunning Automatic Mixed Precision (AMP) checks with YOLOv8n...\nDownloading https://github.com/ultralytics/assets/releases/download/v8.2.0/yolov8n.pt to 'yolov8n.pt'...\n",
          "output_type": "stream"
        },
        {
          "name": "stderr",
          "text": "100%|██████████| 6.25M/6.25M [00:00<00:00, 73.0MB/s]\n",
          "output_type": "stream"
        },
        {
          "name": "stdout",
          "text": "\u001b[34m\u001b[1mAMP: \u001b[0mchecks passed ✅\n",
          "output_type": "stream"
        },
        {
          "name": "stderr",
          "text": "\u001b[34m\u001b[1mtrain: \u001b[0mScanning /kaggle/working/ultralytics/np_mynp-2/train/labels... 3087 images, 3 backgrounds, 0 corrupt: 100%|██████████| 3087/3087 [00:02<00:00, 1282.40it/s]\n",
          "output_type": "stream"
        },
        {
          "name": "stdout",
          "text": "\u001b[34m\u001b[1mtrain: \u001b[0mNew cache created: /kaggle/working/ultralytics/np_mynp-2/train/labels.cache\n\u001b[34m\u001b[1malbumentations: \u001b[0mBlur(p=0.01, blur_limit=(3, 7)), MedianBlur(p=0.01, blur_limit=(3, 7)), ToGray(p=0.01), CLAHE(p=0.01, clip_limit=(1, 4.0), tile_grid_size=(8, 8))\n",
          "output_type": "stream"
        },
        {
          "name": "stderr",
          "text": "os.fork() was called. os.fork() is incompatible with multithreaded code, and JAX is multithreaded, so this will likely lead to a deadlock.\n\u001b[34m\u001b[1mval: \u001b[0mScanning /kaggle/working/ultralytics/np_mynp-2/test/labels... 268 images, 1 backgrounds, 0 corrupt: 100%|██████████| 268/268 [00:00<00:00, 1329.32it/s]",
          "output_type": "stream"
        },
        {
          "name": "stdout",
          "text": "\u001b[34m\u001b[1mval: \u001b[0mNew cache created: /kaggle/working/ultralytics/np_mynp-2/test/labels.cache\n",
          "output_type": "stream"
        },
        {
          "name": "stderr",
          "text": "\n",
          "output_type": "stream"
        },
        {
          "name": "stdout",
          "text": "Plotting labels to /kaggle/working/ultralytics/runs/detect/train/labels.jpg... \n\u001b[34m\u001b[1moptimizer:\u001b[0m 'optimizer=auto' found, ignoring 'lr0=0.01' and 'momentum=0.937' and determining best 'optimizer', 'lr0' and 'momentum' automatically... \n\u001b[34m\u001b[1moptimizer:\u001b[0m AdamW(lr=0.001667, momentum=0.9) with parameter groups 125 weight(decay=0.0), 132 weight(decay=0.0005), 131 bias(decay=0.0)\n\u001b[34m\u001b[1mTensorBoard: \u001b[0mmodel graph visualization added ✅\nImage sizes 640 train, 640 val\nUsing 2 dataloader workers\nLogging results to \u001b[1m/kaggle/working/ultralytics/runs/detect/train\u001b[0m\nStarting training for 100 epochs...\n\n      Epoch    GPU_mem   box_loss   cls_loss   dfl_loss  Instances       Size\n",
          "output_type": "stream"
        },
        {
          "name": "stderr",
          "text": "      1/100      2.43G      3.277      3.802      3.768         46        640: 100%|██████████| 193/193 [00:43<00:00,  4.48it/s]\n                 Class     Images  Instances      Box(P          R      mAP50  mAP50-95): 100%|██████████| 9/9 [00:03<00:00,  2.63it/s]",
          "output_type": "stream"
        },
        {
          "name": "stdout",
          "text": "                   all        268        347      0.146       0.39      0.155     0.0363\n",
          "output_type": "stream"
        },
        {
          "name": "stderr",
          "text": "\n",
          "output_type": "stream"
        },
        {
          "name": "stdout",
          "text": "\n      Epoch    GPU_mem   box_loss   cls_loss   dfl_loss  Instances       Size\n",
          "output_type": "stream"
        },
        {
          "name": "stderr",
          "text": "      2/100      2.36G      2.387      3.026      2.774         52        640: 100%|██████████| 193/193 [00:37<00:00,  5.13it/s]\n                 Class     Images  Instances      Box(P          R      mAP50  mAP50-95): 100%|██████████| 9/9 [00:01<00:00,  5.19it/s]",
          "output_type": "stream"
        },
        {
          "name": "stdout",
          "text": "                   all        268        347      0.319      0.391      0.293      0.102\n",
          "output_type": "stream"
        },
        {
          "name": "stderr",
          "text": "\n",
          "output_type": "stream"
        },
        {
          "name": "stdout",
          "text": "\n      Epoch    GPU_mem   box_loss   cls_loss   dfl_loss  Instances       Size\n",
          "output_type": "stream"
        },
        {
          "name": "stderr",
          "text": "      3/100      2.34G      2.027      2.369      2.277         46        640: 100%|██████████| 193/193 [00:36<00:00,  5.22it/s]\n                 Class     Images  Instances      Box(P          R      mAP50  mAP50-95): 100%|██████████| 9/9 [00:01<00:00,  5.27it/s]",
          "output_type": "stream"
        },
        {
          "name": "stdout",
          "text": "                   all        268        347      0.474      0.451      0.429      0.153\n",
          "output_type": "stream"
        },
        {
          "name": "stderr",
          "text": "\n",
          "output_type": "stream"
        },
        {
          "name": "stdout",
          "text": "\n      Epoch    GPU_mem   box_loss   cls_loss   dfl_loss  Instances       Size\n",
          "output_type": "stream"
        },
        {
          "name": "stderr",
          "text": "      4/100      2.34G      1.706      1.938      1.942         50        640: 100%|██████████| 193/193 [00:36<00:00,  5.29it/s]\n                 Class     Images  Instances      Box(P          R      mAP50  mAP50-95): 100%|██████████| 9/9 [00:01<00:00,  5.30it/s]",
          "output_type": "stream"
        },
        {
          "name": "stdout",
          "text": "                   all        268        347      0.601      0.505      0.538      0.277\n",
          "output_type": "stream"
        },
        {
          "name": "stderr",
          "text": "\n",
          "output_type": "stream"
        },
        {
          "name": "stdout",
          "text": "\n      Epoch    GPU_mem   box_loss   cls_loss   dfl_loss  Instances       Size\n",
          "output_type": "stream"
        },
        {
          "name": "stderr",
          "text": "      5/100      2.34G       1.57      1.747      1.801         41        640: 100%|██████████| 193/193 [00:37<00:00,  5.21it/s]\n                 Class     Images  Instances      Box(P          R      mAP50  mAP50-95): 100%|██████████| 9/9 [00:01<00:00,  5.41it/s]",
          "output_type": "stream"
        },
        {
          "name": "stdout",
          "text": "                   all        268        347      0.495      0.582      0.533      0.285\n",
          "output_type": "stream"
        },
        {
          "name": "stderr",
          "text": "\n",
          "output_type": "stream"
        },
        {
          "name": "stdout",
          "text": "\n      Epoch    GPU_mem   box_loss   cls_loss   dfl_loss  Instances       Size\n",
          "output_type": "stream"
        },
        {
          "name": "stderr",
          "text": "      6/100      2.34G      1.487      1.656       1.72         38        640: 100%|██████████| 193/193 [00:36<00:00,  5.24it/s]\n                 Class     Images  Instances      Box(P          R      mAP50  mAP50-95): 100%|██████████| 9/9 [00:01<00:00,  5.32it/s]",
          "output_type": "stream"
        },
        {
          "name": "stdout",
          "text": "                   all        268        347      0.704      0.479      0.594      0.347\n",
          "output_type": "stream"
        },
        {
          "name": "stderr",
          "text": "\n",
          "output_type": "stream"
        },
        {
          "name": "stdout",
          "text": "\n      Epoch    GPU_mem   box_loss   cls_loss   dfl_loss  Instances       Size\n",
          "output_type": "stream"
        },
        {
          "name": "stderr",
          "text": "      7/100      2.34G      1.444       1.55      1.678         41        640: 100%|██████████| 193/193 [00:36<00:00,  5.30it/s]\n                 Class     Images  Instances      Box(P          R      mAP50  mAP50-95): 100%|██████████| 9/9 [00:01<00:00,  5.23it/s]",
          "output_type": "stream"
        },
        {
          "name": "stdout",
          "text": "                   all        268        347      0.625      0.671      0.663      0.386\n",
          "output_type": "stream"
        },
        {
          "name": "stderr",
          "text": "\n",
          "output_type": "stream"
        },
        {
          "name": "stdout",
          "text": "\n      Epoch    GPU_mem   box_loss   cls_loss   dfl_loss  Instances       Size\n",
          "output_type": "stream"
        },
        {
          "name": "stderr",
          "text": "      8/100      2.34G        1.4      1.474      1.626         32        640: 100%|██████████| 193/193 [00:36<00:00,  5.27it/s]\n                 Class     Images  Instances      Box(P          R      mAP50  mAP50-95): 100%|██████████| 9/9 [00:01<00:00,  5.17it/s]",
          "output_type": "stream"
        },
        {
          "name": "stdout",
          "text": "                   all        268        347      0.758      0.616        0.7      0.395\n",
          "output_type": "stream"
        },
        {
          "name": "stderr",
          "text": "\n",
          "output_type": "stream"
        },
        {
          "name": "stdout",
          "text": "\n      Epoch    GPU_mem   box_loss   cls_loss   dfl_loss  Instances       Size\n",
          "output_type": "stream"
        },
        {
          "name": "stderr",
          "text": "      9/100      2.34G      1.352      1.441      1.587         34        640: 100%|██████████| 193/193 [00:36<00:00,  5.27it/s]\n                 Class     Images  Instances      Box(P          R      mAP50  mAP50-95): 100%|██████████| 9/9 [00:01<00:00,  5.26it/s]",
          "output_type": "stream"
        },
        {
          "name": "stdout",
          "text": "                   all        268        347       0.68      0.703      0.744       0.47\n",
          "output_type": "stream"
        },
        {
          "name": "stderr",
          "text": "\n",
          "output_type": "stream"
        },
        {
          "name": "stdout",
          "text": "\n      Epoch    GPU_mem   box_loss   cls_loss   dfl_loss  Instances       Size\n",
          "output_type": "stream"
        },
        {
          "name": "stderr",
          "text": "     10/100      2.36G      1.319      1.416      1.548         51        640: 100%|██████████| 193/193 [00:36<00:00,  5.28it/s]\n                 Class     Images  Instances      Box(P          R      mAP50  mAP50-95): 100%|██████████| 9/9 [00:01<00:00,  5.32it/s]",
          "output_type": "stream"
        },
        {
          "name": "stdout",
          "text": "                   all        268        347      0.745      0.623      0.736      0.458\n",
          "output_type": "stream"
        },
        {
          "name": "stderr",
          "text": "\n",
          "output_type": "stream"
        },
        {
          "name": "stdout",
          "text": "\n      Epoch    GPU_mem   box_loss   cls_loss   dfl_loss  Instances       Size\n",
          "output_type": "stream"
        },
        {
          "name": "stderr",
          "text": "     11/100      2.34G      1.321      1.371      1.548         39        640: 100%|██████████| 193/193 [00:36<00:00,  5.27it/s]\n                 Class     Images  Instances      Box(P          R      mAP50  mAP50-95): 100%|██████████| 9/9 [00:01<00:00,  5.32it/s]",
          "output_type": "stream"
        },
        {
          "name": "stdout",
          "text": "                   all        268        347      0.583      0.638      0.666      0.431\n",
          "output_type": "stream"
        },
        {
          "name": "stderr",
          "text": "\n",
          "output_type": "stream"
        },
        {
          "name": "stdout",
          "text": "\n      Epoch    GPU_mem   box_loss   cls_loss   dfl_loss  Instances       Size\n",
          "output_type": "stream"
        },
        {
          "name": "stderr",
          "text": "     12/100      2.34G      1.294      1.331      1.507         47        640: 100%|██████████| 193/193 [00:36<00:00,  5.24it/s]\n                 Class     Images  Instances      Box(P          R      mAP50  mAP50-95): 100%|██████████| 9/9 [00:01<00:00,  5.26it/s]",
          "output_type": "stream"
        },
        {
          "name": "stdout",
          "text": "                   all        268        347      0.701      0.676      0.739      0.474\n",
          "output_type": "stream"
        },
        {
          "name": "stderr",
          "text": "\n",
          "output_type": "stream"
        },
        {
          "name": "stdout",
          "text": "\n      Epoch    GPU_mem   box_loss   cls_loss   dfl_loss  Instances       Size\n",
          "output_type": "stream"
        },
        {
          "name": "stderr",
          "text": "     13/100      2.34G      1.239      1.283      1.475         46        640: 100%|██████████| 193/193 [00:37<00:00,  5.21it/s]\n                 Class     Images  Instances      Box(P          R      mAP50  mAP50-95): 100%|██████████| 9/9 [00:01<00:00,  5.41it/s]",
          "output_type": "stream"
        },
        {
          "name": "stdout",
          "text": "                   all        268        347      0.686      0.703      0.748      0.472\n",
          "output_type": "stream"
        },
        {
          "name": "stderr",
          "text": "\n",
          "output_type": "stream"
        },
        {
          "name": "stdout",
          "text": "\n      Epoch    GPU_mem   box_loss   cls_loss   dfl_loss  Instances       Size\n",
          "output_type": "stream"
        },
        {
          "name": "stderr",
          "text": "     14/100      2.36G       1.26      1.301      1.494         37        640: 100%|██████████| 193/193 [00:36<00:00,  5.27it/s]\n                 Class     Images  Instances      Box(P          R      mAP50  mAP50-95): 100%|██████████| 9/9 [00:01<00:00,  5.47it/s]",
          "output_type": "stream"
        },
        {
          "name": "stdout",
          "text": "                   all        268        347      0.724      0.713      0.747      0.461\n",
          "output_type": "stream"
        },
        {
          "name": "stderr",
          "text": "\n",
          "output_type": "stream"
        },
        {
          "name": "stdout",
          "text": "\n      Epoch    GPU_mem   box_loss   cls_loss   dfl_loss  Instances       Size\n",
          "output_type": "stream"
        },
        {
          "name": "stderr",
          "text": "     15/100      2.34G      1.226      1.226      1.455         41        640: 100%|██████████| 193/193 [00:36<00:00,  5.29it/s]\n                 Class     Images  Instances      Box(P          R      mAP50  mAP50-95): 100%|██████████| 9/9 [00:01<00:00,  5.30it/s]",
          "output_type": "stream"
        },
        {
          "name": "stdout",
          "text": "                   all        268        347      0.697      0.742      0.761      0.479\n",
          "output_type": "stream"
        },
        {
          "name": "stderr",
          "text": "\n",
          "output_type": "stream"
        },
        {
          "name": "stdout",
          "text": "\n      Epoch    GPU_mem   box_loss   cls_loss   dfl_loss  Instances       Size\n",
          "output_type": "stream"
        },
        {
          "name": "stderr",
          "text": "     16/100      2.36G       1.23      1.207      1.459         54        640: 100%|██████████| 193/193 [00:36<00:00,  5.22it/s]\n                 Class     Images  Instances      Box(P          R      mAP50  mAP50-95): 100%|██████████| 9/9 [00:01<00:00,  5.25it/s]",
          "output_type": "stream"
        },
        {
          "name": "stdout",
          "text": "                   all        268        347      0.763      0.716       0.78      0.506\n",
          "output_type": "stream"
        },
        {
          "name": "stderr",
          "text": "\n",
          "output_type": "stream"
        },
        {
          "name": "stdout",
          "text": "\n      Epoch    GPU_mem   box_loss   cls_loss   dfl_loss  Instances       Size\n",
          "output_type": "stream"
        },
        {
          "name": "stderr",
          "text": "     17/100      2.34G      1.196      1.196      1.431         47        640: 100%|██████████| 193/193 [00:36<00:00,  5.25it/s]\n                 Class     Images  Instances      Box(P          R      mAP50  mAP50-95): 100%|██████████| 9/9 [00:01<00:00,  5.39it/s]",
          "output_type": "stream"
        },
        {
          "name": "stdout",
          "text": "                   all        268        347      0.747      0.776      0.804      0.494\n",
          "output_type": "stream"
        },
        {
          "name": "stderr",
          "text": "\n",
          "output_type": "stream"
        },
        {
          "name": "stdout",
          "text": "\n      Epoch    GPU_mem   box_loss   cls_loss   dfl_loss  Instances       Size\n",
          "output_type": "stream"
        },
        {
          "name": "stderr",
          "text": "     18/100      2.36G      1.194      1.167      1.424         41        640: 100%|██████████| 193/193 [00:36<00:00,  5.32it/s]\n                 Class     Images  Instances      Box(P          R      mAP50  mAP50-95): 100%|██████████| 9/9 [00:01<00:00,  5.43it/s]",
          "output_type": "stream"
        },
        {
          "name": "stdout",
          "text": "                   all        268        347      0.793      0.758      0.814      0.523\n",
          "output_type": "stream"
        },
        {
          "name": "stderr",
          "text": "\n",
          "output_type": "stream"
        },
        {
          "name": "stdout",
          "text": "\n      Epoch    GPU_mem   box_loss   cls_loss   dfl_loss  Instances       Size\n",
          "output_type": "stream"
        },
        {
          "name": "stderr",
          "text": "     19/100      2.34G      1.184      1.155      1.423         44        640: 100%|██████████| 193/193 [00:36<00:00,  5.32it/s]\n                 Class     Images  Instances      Box(P          R      mAP50  mAP50-95): 100%|██████████| 9/9 [00:01<00:00,  5.47it/s]",
          "output_type": "stream"
        },
        {
          "name": "stdout",
          "text": "                   all        268        347      0.765      0.742      0.805      0.518\n",
          "output_type": "stream"
        },
        {
          "name": "stderr",
          "text": "\n",
          "output_type": "stream"
        },
        {
          "name": "stdout",
          "text": "\n      Epoch    GPU_mem   box_loss   cls_loss   dfl_loss  Instances       Size\n",
          "output_type": "stream"
        },
        {
          "name": "stderr",
          "text": "     20/100      2.34G      1.181      1.156      1.417         40        640: 100%|██████████| 193/193 [00:36<00:00,  5.26it/s]\n                 Class     Images  Instances      Box(P          R      mAP50  mAP50-95): 100%|██████████| 9/9 [00:01<00:00,  5.39it/s]",
          "output_type": "stream"
        },
        {
          "name": "stdout",
          "text": "                   all        268        347      0.752      0.739      0.789      0.509\n",
          "output_type": "stream"
        },
        {
          "name": "stderr",
          "text": "\n",
          "output_type": "stream"
        },
        {
          "name": "stdout",
          "text": "\n      Epoch    GPU_mem   box_loss   cls_loss   dfl_loss  Instances       Size\n",
          "output_type": "stream"
        },
        {
          "name": "stderr",
          "text": "     21/100      2.36G      1.164      1.141      1.405         53        640: 100%|██████████| 193/193 [00:36<00:00,  5.33it/s]\n                 Class     Images  Instances      Box(P          R      mAP50  mAP50-95): 100%|██████████| 9/9 [00:01<00:00,  5.46it/s]",
          "output_type": "stream"
        },
        {
          "name": "stdout",
          "text": "                   all        268        347      0.815      0.741      0.822       0.53\n",
          "output_type": "stream"
        },
        {
          "name": "stderr",
          "text": "\n",
          "output_type": "stream"
        },
        {
          "name": "stdout",
          "text": "\n      Epoch    GPU_mem   box_loss   cls_loss   dfl_loss  Instances       Size\n",
          "output_type": "stream"
        },
        {
          "name": "stderr",
          "text": "     22/100      2.34G      1.148      1.095      1.396         48        640: 100%|██████████| 193/193 [00:36<00:00,  5.25it/s]\n                 Class     Images  Instances      Box(P          R      mAP50  mAP50-95): 100%|██████████| 9/9 [00:01<00:00,  5.42it/s]",
          "output_type": "stream"
        },
        {
          "name": "stdout",
          "text": "                   all        268        347      0.831      0.744       0.84      0.546\n",
          "output_type": "stream"
        },
        {
          "name": "stderr",
          "text": "\n",
          "output_type": "stream"
        },
        {
          "name": "stdout",
          "text": "\n      Epoch    GPU_mem   box_loss   cls_loss   dfl_loss  Instances       Size\n",
          "output_type": "stream"
        },
        {
          "name": "stderr",
          "text": "     23/100      2.34G      1.143      1.082      1.389         36        640: 100%|██████████| 193/193 [00:36<00:00,  5.27it/s]\n                 Class     Images  Instances      Box(P          R      mAP50  mAP50-95): 100%|██████████| 9/9 [00:01<00:00,  5.51it/s]",
          "output_type": "stream"
        },
        {
          "name": "stdout",
          "text": "                   all        268        347      0.759      0.746      0.826      0.532\n",
          "output_type": "stream"
        },
        {
          "name": "stderr",
          "text": "\n",
          "output_type": "stream"
        },
        {
          "name": "stdout",
          "text": "\n      Epoch    GPU_mem   box_loss   cls_loss   dfl_loss  Instances       Size\n",
          "output_type": "stream"
        },
        {
          "name": "stderr",
          "text": "     24/100      2.36G      1.133       1.07      1.373         44        640: 100%|██████████| 193/193 [00:36<00:00,  5.29it/s]\n                 Class     Images  Instances      Box(P          R      mAP50  mAP50-95): 100%|██████████| 9/9 [00:01<00:00,  5.52it/s]",
          "output_type": "stream"
        },
        {
          "name": "stdout",
          "text": "                   all        268        347      0.735       0.78      0.807      0.521\n",
          "output_type": "stream"
        },
        {
          "name": "stderr",
          "text": "\n",
          "output_type": "stream"
        },
        {
          "name": "stdout",
          "text": "\n      Epoch    GPU_mem   box_loss   cls_loss   dfl_loss  Instances       Size\n",
          "output_type": "stream"
        },
        {
          "name": "stderr",
          "text": "     25/100      2.34G      1.113      1.052      1.374         48        640: 100%|██████████| 193/193 [00:36<00:00,  5.25it/s]\n                 Class     Images  Instances      Box(P          R      mAP50  mAP50-95): 100%|██████████| 9/9 [00:01<00:00,  5.26it/s]",
          "output_type": "stream"
        },
        {
          "name": "stdout",
          "text": "                   all        268        347      0.854      0.743      0.849      0.568\n",
          "output_type": "stream"
        },
        {
          "name": "stderr",
          "text": "\n",
          "output_type": "stream"
        },
        {
          "name": "stdout",
          "text": "\n      Epoch    GPU_mem   box_loss   cls_loss   dfl_loss  Instances       Size\n",
          "output_type": "stream"
        },
        {
          "name": "stderr",
          "text": "     26/100      2.34G      1.117      1.052      1.372         48        640: 100%|██████████| 193/193 [00:36<00:00,  5.29it/s]\n                 Class     Images  Instances      Box(P          R      mAP50  mAP50-95): 100%|██████████| 9/9 [00:01<00:00,  5.52it/s]",
          "output_type": "stream"
        },
        {
          "name": "stdout",
          "text": "                   all        268        347      0.821      0.783      0.855      0.563\n",
          "output_type": "stream"
        },
        {
          "name": "stderr",
          "text": "\n",
          "output_type": "stream"
        },
        {
          "name": "stdout",
          "text": "\n      Epoch    GPU_mem   box_loss   cls_loss   dfl_loss  Instances       Size\n",
          "output_type": "stream"
        },
        {
          "name": "stderr",
          "text": "     27/100      2.36G      1.114       1.05      1.373         41        640: 100%|██████████| 193/193 [00:36<00:00,  5.26it/s]\n                 Class     Images  Instances      Box(P          R      mAP50  mAP50-95): 100%|██████████| 9/9 [00:01<00:00,  5.43it/s]",
          "output_type": "stream"
        },
        {
          "name": "stdout",
          "text": "                   all        268        347       0.82      0.762      0.852       0.57\n",
          "output_type": "stream"
        },
        {
          "name": "stderr",
          "text": "\n",
          "output_type": "stream"
        },
        {
          "name": "stdout",
          "text": "\n      Epoch    GPU_mem   box_loss   cls_loss   dfl_loss  Instances       Size\n",
          "output_type": "stream"
        },
        {
          "name": "stderr",
          "text": "     28/100      2.36G        1.1      1.023      1.359         37        640: 100%|██████████| 193/193 [00:36<00:00,  5.24it/s]\n                 Class     Images  Instances      Box(P          R      mAP50  mAP50-95): 100%|██████████| 9/9 [00:01<00:00,  5.37it/s]",
          "output_type": "stream"
        },
        {
          "name": "stdout",
          "text": "                   all        268        347       0.83      0.776      0.844      0.569\n",
          "output_type": "stream"
        },
        {
          "name": "stderr",
          "text": "\n",
          "output_type": "stream"
        },
        {
          "name": "stdout",
          "text": "\n      Epoch    GPU_mem   box_loss   cls_loss   dfl_loss  Instances       Size\n",
          "output_type": "stream"
        },
        {
          "name": "stderr",
          "text": "     29/100      2.36G      1.097      1.017      1.355         45        640: 100%|██████████| 193/193 [00:36<00:00,  5.30it/s]\n                 Class     Images  Instances      Box(P          R      mAP50  mAP50-95): 100%|██████████| 9/9 [00:01<00:00,  5.38it/s]",
          "output_type": "stream"
        },
        {
          "name": "stdout",
          "text": "                   all        268        347      0.804      0.775      0.846      0.556\n",
          "output_type": "stream"
        },
        {
          "name": "stderr",
          "text": "\n",
          "output_type": "stream"
        },
        {
          "name": "stdout",
          "text": "\n      Epoch    GPU_mem   box_loss   cls_loss   dfl_loss  Instances       Size\n",
          "output_type": "stream"
        },
        {
          "name": "stderr",
          "text": "     30/100      2.34G      1.098     0.9973      1.354         34        640: 100%|██████████| 193/193 [00:36<00:00,  5.26it/s]\n                 Class     Images  Instances      Box(P          R      mAP50  mAP50-95): 100%|██████████| 9/9 [00:01<00:00,  5.54it/s]",
          "output_type": "stream"
        },
        {
          "name": "stdout",
          "text": "                   all        268        347      0.845      0.804      0.866      0.581\n",
          "output_type": "stream"
        },
        {
          "name": "stderr",
          "text": "\n",
          "output_type": "stream"
        },
        {
          "name": "stdout",
          "text": "\n      Epoch    GPU_mem   box_loss   cls_loss   dfl_loss  Instances       Size\n",
          "output_type": "stream"
        },
        {
          "name": "stderr",
          "text": "     31/100      2.36G      1.085      1.003      1.345         51        640: 100%|██████████| 193/193 [00:36<00:00,  5.29it/s]\n                 Class     Images  Instances      Box(P          R      mAP50  mAP50-95): 100%|██████████| 9/9 [00:01<00:00,  5.52it/s]",
          "output_type": "stream"
        },
        {
          "name": "stdout",
          "text": "                   all        268        347      0.829      0.809      0.873      0.578\n",
          "output_type": "stream"
        },
        {
          "name": "stderr",
          "text": "\n",
          "output_type": "stream"
        },
        {
          "name": "stdout",
          "text": "\n      Epoch    GPU_mem   box_loss   cls_loss   dfl_loss  Instances       Size\n",
          "output_type": "stream"
        },
        {
          "name": "stderr",
          "text": "     32/100      2.34G      1.074     0.9863      1.327         42        640: 100%|██████████| 193/193 [00:36<00:00,  5.23it/s]\n                 Class     Images  Instances      Box(P          R      mAP50  mAP50-95): 100%|██████████| 9/9 [00:01<00:00,  5.09it/s]",
          "output_type": "stream"
        },
        {
          "name": "stdout",
          "text": "                   all        268        347      0.819      0.777      0.851      0.559\n",
          "output_type": "stream"
        },
        {
          "name": "stderr",
          "text": "\n",
          "output_type": "stream"
        },
        {
          "name": "stdout",
          "text": "\n      Epoch    GPU_mem   box_loss   cls_loss   dfl_loss  Instances       Size\n",
          "output_type": "stream"
        },
        {
          "name": "stderr",
          "text": "     33/100      2.34G      1.054     0.9593      1.323         37        640: 100%|██████████| 193/193 [00:36<00:00,  5.33it/s]\n                 Class     Images  Instances      Box(P          R      mAP50  mAP50-95): 100%|██████████| 9/9 [00:01<00:00,  5.53it/s]",
          "output_type": "stream"
        },
        {
          "name": "stdout",
          "text": "                   all        268        347      0.836      0.792      0.866      0.588\n",
          "output_type": "stream"
        },
        {
          "name": "stderr",
          "text": "\n",
          "output_type": "stream"
        },
        {
          "name": "stdout",
          "text": "\n      Epoch    GPU_mem   box_loss   cls_loss   dfl_loss  Instances       Size\n",
          "output_type": "stream"
        },
        {
          "name": "stderr",
          "text": "     34/100      2.34G      1.061      0.967      1.317         39        640: 100%|██████████| 193/193 [00:36<00:00,  5.34it/s]\n                 Class     Images  Instances      Box(P          R      mAP50  mAP50-95): 100%|██████████| 9/9 [00:01<00:00,  5.60it/s]",
          "output_type": "stream"
        },
        {
          "name": "stdout",
          "text": "                   all        268        347      0.785      0.762      0.823      0.552\n",
          "output_type": "stream"
        },
        {
          "name": "stderr",
          "text": "\n",
          "output_type": "stream"
        },
        {
          "name": "stdout",
          "text": "\n      Epoch    GPU_mem   box_loss   cls_loss   dfl_loss  Instances       Size\n",
          "output_type": "stream"
        },
        {
          "name": "stderr",
          "text": "     35/100      2.34G      1.067     0.9713      1.328         38        640: 100%|██████████| 193/193 [00:36<00:00,  5.35it/s]\n                 Class     Images  Instances      Box(P          R      mAP50  mAP50-95): 100%|██████████| 9/9 [00:01<00:00,  5.41it/s]",
          "output_type": "stream"
        },
        {
          "name": "stdout",
          "text": "                   all        268        347      0.818       0.82      0.865      0.581\n",
          "output_type": "stream"
        },
        {
          "name": "stderr",
          "text": "\n",
          "output_type": "stream"
        },
        {
          "name": "stdout",
          "text": "\n      Epoch    GPU_mem   box_loss   cls_loss   dfl_loss  Instances       Size\n",
          "output_type": "stream"
        },
        {
          "name": "stderr",
          "text": "     36/100      2.36G      1.068     0.9732      1.333         54        640: 100%|██████████| 193/193 [00:36<00:00,  5.31it/s]\n                 Class     Images  Instances      Box(P          R      mAP50  mAP50-95): 100%|██████████| 9/9 [00:01<00:00,  5.33it/s]",
          "output_type": "stream"
        },
        {
          "name": "stdout",
          "text": "                   all        268        347      0.818      0.785       0.85      0.575\n",
          "output_type": "stream"
        },
        {
          "name": "stderr",
          "text": "\n",
          "output_type": "stream"
        },
        {
          "name": "stdout",
          "text": "\n      Epoch    GPU_mem   box_loss   cls_loss   dfl_loss  Instances       Size\n",
          "output_type": "stream"
        },
        {
          "name": "stderr",
          "text": "     37/100      2.34G      1.044     0.9516      1.311         46        640: 100%|██████████| 193/193 [00:37<00:00,  5.21it/s]\n                 Class     Images  Instances      Box(P          R      mAP50  mAP50-95): 100%|██████████| 9/9 [00:01<00:00,  5.43it/s]",
          "output_type": "stream"
        },
        {
          "name": "stdout",
          "text": "                   all        268        347      0.859      0.798      0.878      0.596\n",
          "output_type": "stream"
        },
        {
          "name": "stderr",
          "text": "\n",
          "output_type": "stream"
        },
        {
          "name": "stdout",
          "text": "\n      Epoch    GPU_mem   box_loss   cls_loss   dfl_loss  Instances       Size\n",
          "output_type": "stream"
        },
        {
          "name": "stderr",
          "text": "     38/100      2.36G      1.043     0.9251      1.313         48        640: 100%|██████████| 193/193 [00:37<00:00,  5.12it/s]\n                 Class     Images  Instances      Box(P          R      mAP50  mAP50-95): 100%|██████████| 9/9 [00:01<00:00,  5.22it/s]",
          "output_type": "stream"
        },
        {
          "name": "stdout",
          "text": "                   all        268        347      0.839      0.827       0.88      0.591\n",
          "output_type": "stream"
        },
        {
          "name": "stderr",
          "text": "\n",
          "output_type": "stream"
        },
        {
          "name": "stdout",
          "text": "\n      Epoch    GPU_mem   box_loss   cls_loss   dfl_loss  Instances       Size\n",
          "output_type": "stream"
        },
        {
          "name": "stderr",
          "text": "     39/100      2.34G      1.028     0.9197      1.303         43        640: 100%|██████████| 193/193 [00:38<00:00,  5.01it/s]\n                 Class     Images  Instances      Box(P          R      mAP50  mAP50-95): 100%|██████████| 9/9 [00:01<00:00,  5.17it/s]",
          "output_type": "stream"
        },
        {
          "name": "stdout",
          "text": "                   all        268        347      0.861      0.805      0.881      0.595\n",
          "output_type": "stream"
        },
        {
          "name": "stderr",
          "text": "\n",
          "output_type": "stream"
        },
        {
          "name": "stdout",
          "text": "\n      Epoch    GPU_mem   box_loss   cls_loss   dfl_loss  Instances       Size\n",
          "output_type": "stream"
        },
        {
          "name": "stderr",
          "text": "     40/100      2.34G       1.04     0.9247      1.307         41        640: 100%|██████████| 193/193 [00:37<00:00,  5.10it/s]\n                 Class     Images  Instances      Box(P          R      mAP50  mAP50-95): 100%|██████████| 9/9 [00:01<00:00,  5.41it/s]",
          "output_type": "stream"
        },
        {
          "name": "stdout",
          "text": "                   all        268        347      0.828      0.848      0.886      0.601\n",
          "output_type": "stream"
        },
        {
          "name": "stderr",
          "text": "\n",
          "output_type": "stream"
        },
        {
          "name": "stdout",
          "text": "\n      Epoch    GPU_mem   box_loss   cls_loss   dfl_loss  Instances       Size\n",
          "output_type": "stream"
        },
        {
          "name": "stderr",
          "text": "     41/100      2.34G      1.023     0.9175        1.3         43        640: 100%|██████████| 193/193 [00:37<00:00,  5.21it/s]\n                 Class     Images  Instances      Box(P          R      mAP50  mAP50-95): 100%|██████████| 9/9 [00:01<00:00,  5.55it/s]",
          "output_type": "stream"
        },
        {
          "name": "stdout",
          "text": "                   all        268        347      0.858      0.812      0.889       0.61\n",
          "output_type": "stream"
        },
        {
          "name": "stderr",
          "text": "\n",
          "output_type": "stream"
        },
        {
          "name": "stdout",
          "text": "\n      Epoch    GPU_mem   box_loss   cls_loss   dfl_loss  Instances       Size\n",
          "output_type": "stream"
        },
        {
          "name": "stderr",
          "text": "     42/100      2.36G      1.027     0.9001      1.291         46        640: 100%|██████████| 193/193 [00:36<00:00,  5.24it/s]\n                 Class     Images  Instances      Box(P          R      mAP50  mAP50-95): 100%|██████████| 9/9 [00:01<00:00,  5.44it/s]",
          "output_type": "stream"
        },
        {
          "name": "stdout",
          "text": "                   all        268        347      0.811      0.819      0.885      0.594\n",
          "output_type": "stream"
        },
        {
          "name": "stderr",
          "text": "\n",
          "output_type": "stream"
        },
        {
          "name": "stdout",
          "text": "\n      Epoch    GPU_mem   box_loss   cls_loss   dfl_loss  Instances       Size\n",
          "output_type": "stream"
        },
        {
          "name": "stderr",
          "text": "     43/100      2.34G      1.026       0.91      1.303         42        640: 100%|██████████| 193/193 [00:36<00:00,  5.24it/s]\n                 Class     Images  Instances      Box(P          R      mAP50  mAP50-95): 100%|██████████| 9/9 [00:01<00:00,  5.32it/s]",
          "output_type": "stream"
        },
        {
          "name": "stdout",
          "text": "                   all        268        347      0.865      0.774      0.866      0.575\n",
          "output_type": "stream"
        },
        {
          "name": "stderr",
          "text": "\n",
          "output_type": "stream"
        },
        {
          "name": "stdout",
          "text": "\n      Epoch    GPU_mem   box_loss   cls_loss   dfl_loss  Instances       Size\n",
          "output_type": "stream"
        },
        {
          "name": "stderr",
          "text": "     44/100      2.34G      1.024     0.8939      1.298         41        640: 100%|██████████| 193/193 [00:36<00:00,  5.24it/s]\n                 Class     Images  Instances      Box(P          R      mAP50  mAP50-95): 100%|██████████| 9/9 [00:01<00:00,  5.44it/s]",
          "output_type": "stream"
        },
        {
          "name": "stdout",
          "text": "                   all        268        347       0.86      0.811      0.882      0.603\n",
          "output_type": "stream"
        },
        {
          "name": "stderr",
          "text": "\n",
          "output_type": "stream"
        },
        {
          "name": "stdout",
          "text": "\n      Epoch    GPU_mem   box_loss   cls_loss   dfl_loss  Instances       Size\n",
          "output_type": "stream"
        },
        {
          "name": "stderr",
          "text": "     45/100      2.34G      1.017     0.8869       1.29         51        640: 100%|██████████| 193/193 [00:36<00:00,  5.33it/s]\n                 Class     Images  Instances      Box(P          R      mAP50  mAP50-95): 100%|██████████| 9/9 [00:01<00:00,  5.51it/s]",
          "output_type": "stream"
        },
        {
          "name": "stdout",
          "text": "                   all        268        347      0.866      0.808      0.884       0.59\n",
          "output_type": "stream"
        },
        {
          "name": "stderr",
          "text": "\n",
          "output_type": "stream"
        },
        {
          "name": "stdout",
          "text": "\n      Epoch    GPU_mem   box_loss   cls_loss   dfl_loss  Instances       Size\n",
          "output_type": "stream"
        },
        {
          "name": "stderr",
          "text": "     46/100      2.34G      1.007     0.8802      1.295         43        640: 100%|██████████| 193/193 [00:36<00:00,  5.31it/s]\n                 Class     Images  Instances      Box(P          R      mAP50  mAP50-95): 100%|██████████| 9/9 [00:01<00:00,  5.40it/s]",
          "output_type": "stream"
        },
        {
          "name": "stdout",
          "text": "                   all        268        347      0.861      0.797      0.873      0.597\n",
          "output_type": "stream"
        },
        {
          "name": "stderr",
          "text": "\n",
          "output_type": "stream"
        },
        {
          "name": "stdout",
          "text": "\n      Epoch    GPU_mem   box_loss   cls_loss   dfl_loss  Instances       Size\n",
          "output_type": "stream"
        },
        {
          "name": "stderr",
          "text": "     47/100      2.34G      1.007     0.8592      1.279         42        640: 100%|██████████| 193/193 [00:36<00:00,  5.27it/s]\n                 Class     Images  Instances      Box(P          R      mAP50  mAP50-95): 100%|██████████| 9/9 [00:01<00:00,  5.58it/s]",
          "output_type": "stream"
        },
        {
          "name": "stdout",
          "text": "                   all        268        347      0.869      0.827      0.887      0.609\n",
          "output_type": "stream"
        },
        {
          "name": "stderr",
          "text": "\n",
          "output_type": "stream"
        },
        {
          "name": "stdout",
          "text": "\n      Epoch    GPU_mem   box_loss   cls_loss   dfl_loss  Instances       Size\n",
          "output_type": "stream"
        },
        {
          "name": "stderr",
          "text": "     48/100      2.34G      1.011     0.8749      1.292         41        640: 100%|██████████| 193/193 [00:36<00:00,  5.31it/s]\n                 Class     Images  Instances      Box(P          R      mAP50  mAP50-95): 100%|██████████| 9/9 [00:01<00:00,  5.08it/s]",
          "output_type": "stream"
        },
        {
          "name": "stdout",
          "text": "                   all        268        347      0.855      0.838      0.898      0.602\n",
          "output_type": "stream"
        },
        {
          "name": "stderr",
          "text": "\n",
          "output_type": "stream"
        },
        {
          "name": "stdout",
          "text": "\n      Epoch    GPU_mem   box_loss   cls_loss   dfl_loss  Instances       Size\n",
          "output_type": "stream"
        },
        {
          "name": "stderr",
          "text": "     49/100      2.34G     0.9888     0.8693      1.277         36        640: 100%|██████████| 193/193 [00:36<00:00,  5.34it/s]\n                 Class     Images  Instances      Box(P          R      mAP50  mAP50-95): 100%|██████████| 9/9 [00:01<00:00,  5.64it/s]",
          "output_type": "stream"
        },
        {
          "name": "stdout",
          "text": "                   all        268        347      0.865       0.78      0.878        0.6\n",
          "output_type": "stream"
        },
        {
          "name": "stderr",
          "text": "\n",
          "output_type": "stream"
        },
        {
          "name": "stdout",
          "text": "\n      Epoch    GPU_mem   box_loss   cls_loss   dfl_loss  Instances       Size\n",
          "output_type": "stream"
        },
        {
          "name": "stderr",
          "text": "     50/100      2.34G      0.993     0.8547      1.276         44        640: 100%|██████████| 193/193 [00:36<00:00,  5.34it/s]\n                 Class     Images  Instances      Box(P          R      mAP50  mAP50-95): 100%|██████████| 9/9 [00:01<00:00,  5.62it/s]",
          "output_type": "stream"
        },
        {
          "name": "stdout",
          "text": "                   all        268        347      0.832       0.86       0.89      0.605\n",
          "output_type": "stream"
        },
        {
          "name": "stderr",
          "text": "\n",
          "output_type": "stream"
        },
        {
          "name": "stdout",
          "text": "\n      Epoch    GPU_mem   box_loss   cls_loss   dfl_loss  Instances       Size\n",
          "output_type": "stream"
        },
        {
          "name": "stderr",
          "text": "     51/100      2.34G       1.01     0.8592      1.281         46        640: 100%|██████████| 193/193 [00:35<00:00,  5.40it/s]\n                 Class     Images  Instances      Box(P          R      mAP50  mAP50-95): 100%|██████████| 9/9 [00:01<00:00,  5.53it/s]",
          "output_type": "stream"
        },
        {
          "name": "stdout",
          "text": "                   all        268        347      0.874      0.829      0.904      0.606\n",
          "output_type": "stream"
        },
        {
          "name": "stderr",
          "text": "\n",
          "output_type": "stream"
        },
        {
          "name": "stdout",
          "text": "\n      Epoch    GPU_mem   box_loss   cls_loss   dfl_loss  Instances       Size\n",
          "output_type": "stream"
        },
        {
          "name": "stderr",
          "text": "     52/100      2.34G     0.9692     0.8524      1.268         38        640: 100%|██████████| 193/193 [00:35<00:00,  5.39it/s]\n                 Class     Images  Instances      Box(P          R      mAP50  mAP50-95): 100%|██████████| 9/9 [00:01<00:00,  5.59it/s]",
          "output_type": "stream"
        },
        {
          "name": "stdout",
          "text": "                   all        268        347       0.88      0.814      0.891      0.611\n",
          "output_type": "stream"
        },
        {
          "name": "stderr",
          "text": "\n",
          "output_type": "stream"
        },
        {
          "name": "stdout",
          "text": "\n      Epoch    GPU_mem   box_loss   cls_loss   dfl_loss  Instances       Size\n",
          "output_type": "stream"
        },
        {
          "name": "stderr",
          "text": "     53/100      2.34G     0.9912     0.8491      1.281         39        640: 100%|██████████| 193/193 [00:36<00:00,  5.28it/s]\n                 Class     Images  Instances      Box(P          R      mAP50  mAP50-95): 100%|██████████| 9/9 [00:01<00:00,  5.54it/s]",
          "output_type": "stream"
        },
        {
          "name": "stdout",
          "text": "                   all        268        347       0.87      0.818        0.9      0.616\n",
          "output_type": "stream"
        },
        {
          "name": "stderr",
          "text": "\n",
          "output_type": "stream"
        },
        {
          "name": "stdout",
          "text": "\n      Epoch    GPU_mem   box_loss   cls_loss   dfl_loss  Instances       Size\n",
          "output_type": "stream"
        },
        {
          "name": "stderr",
          "text": "     54/100      2.36G     0.9806     0.8337       1.26         46        640: 100%|██████████| 193/193 [00:37<00:00,  5.12it/s]\n                 Class     Images  Instances      Box(P          R      mAP50  mAP50-95): 100%|██████████| 9/9 [00:01<00:00,  5.32it/s]",
          "output_type": "stream"
        },
        {
          "name": "stdout",
          "text": "                   all        268        347      0.882      0.815      0.888      0.609\n",
          "output_type": "stream"
        },
        {
          "name": "stderr",
          "text": "\n",
          "output_type": "stream"
        },
        {
          "name": "stdout",
          "text": "\n      Epoch    GPU_mem   box_loss   cls_loss   dfl_loss  Instances       Size\n",
          "output_type": "stream"
        },
        {
          "name": "stderr",
          "text": "     55/100      2.34G     0.9655      0.816      1.255         42        640: 100%|██████████| 193/193 [00:37<00:00,  5.13it/s]\n                 Class     Images  Instances      Box(P          R      mAP50  mAP50-95): 100%|██████████| 9/9 [00:01<00:00,  5.26it/s]",
          "output_type": "stream"
        },
        {
          "name": "stdout",
          "text": "                   all        268        347      0.911      0.819      0.902      0.627\n",
          "output_type": "stream"
        },
        {
          "name": "stderr",
          "text": "\n",
          "output_type": "stream"
        },
        {
          "name": "stdout",
          "text": "\n      Epoch    GPU_mem   box_loss   cls_loss   dfl_loss  Instances       Size\n",
          "output_type": "stream"
        },
        {
          "name": "stderr",
          "text": "     56/100      2.34G     0.9839      0.825      1.271         46        640: 100%|██████████| 193/193 [00:38<00:00,  5.02it/s]\n                 Class     Images  Instances      Box(P          R      mAP50  mAP50-95): 100%|██████████| 9/9 [00:01<00:00,  4.70it/s]",
          "output_type": "stream"
        },
        {
          "name": "stdout",
          "text": "                   all        268        347      0.891      0.845      0.905      0.634\n",
          "output_type": "stream"
        },
        {
          "name": "stderr",
          "text": "\n",
          "output_type": "stream"
        },
        {
          "name": "stdout",
          "text": "\n      Epoch    GPU_mem   box_loss   cls_loss   dfl_loss  Instances       Size\n",
          "output_type": "stream"
        },
        {
          "name": "stderr",
          "text": "     57/100      2.34G     0.9821     0.8381      1.269         46        640: 100%|██████████| 193/193 [00:38<00:00,  5.02it/s]\n                 Class     Images  Instances      Box(P          R      mAP50  mAP50-95): 100%|██████████| 9/9 [00:01<00:00,  5.19it/s]",
          "output_type": "stream"
        },
        {
          "name": "stdout",
          "text": "                   all        268        347      0.882      0.815      0.899      0.615\n",
          "output_type": "stream"
        },
        {
          "name": "stderr",
          "text": "\n",
          "output_type": "stream"
        },
        {
          "name": "stdout",
          "text": "\n      Epoch    GPU_mem   box_loss   cls_loss   dfl_loss  Instances       Size\n",
          "output_type": "stream"
        },
        {
          "name": "stderr",
          "text": "     58/100      2.34G     0.9639     0.8193      1.258         47        640: 100%|██████████| 193/193 [00:37<00:00,  5.18it/s]\n                 Class     Images  Instances      Box(P          R      mAP50  mAP50-95): 100%|██████████| 9/9 [00:01<00:00,  5.44it/s]",
          "output_type": "stream"
        },
        {
          "name": "stdout",
          "text": "                   all        268        347      0.878      0.816      0.893       0.62\n",
          "output_type": "stream"
        },
        {
          "name": "stderr",
          "text": "\n",
          "output_type": "stream"
        },
        {
          "name": "stdout",
          "text": "\n      Epoch    GPU_mem   box_loss   cls_loss   dfl_loss  Instances       Size\n",
          "output_type": "stream"
        },
        {
          "name": "stderr",
          "text": "     59/100      2.34G     0.9519     0.8013      1.252         40        640: 100%|██████████| 193/193 [00:37<00:00,  5.11it/s]\n                 Class     Images  Instances      Box(P          R      mAP50  mAP50-95): 100%|██████████| 9/9 [00:01<00:00,  5.06it/s]",
          "output_type": "stream"
        },
        {
          "name": "stdout",
          "text": "                   all        268        347      0.886       0.82      0.898      0.638\n",
          "output_type": "stream"
        },
        {
          "name": "stderr",
          "text": "\n",
          "output_type": "stream"
        },
        {
          "name": "stdout",
          "text": "\n      Epoch    GPU_mem   box_loss   cls_loss   dfl_loss  Instances       Size\n",
          "output_type": "stream"
        },
        {
          "name": "stderr",
          "text": "     60/100      2.36G     0.9612     0.8042       1.26         40        640: 100%|██████████| 193/193 [00:38<00:00,  5.04it/s]\n                 Class     Images  Instances      Box(P          R      mAP50  mAP50-95): 100%|██████████| 9/9 [00:01<00:00,  5.39it/s]",
          "output_type": "stream"
        },
        {
          "name": "stdout",
          "text": "                   all        268        347      0.865      0.842      0.898      0.607\n",
          "output_type": "stream"
        },
        {
          "name": "stderr",
          "text": "\n",
          "output_type": "stream"
        },
        {
          "name": "stdout",
          "text": "\n      Epoch    GPU_mem   box_loss   cls_loss   dfl_loss  Instances       Size\n",
          "output_type": "stream"
        },
        {
          "name": "stderr",
          "text": "     61/100      2.36G     0.9657     0.8011      1.257         50        640: 100%|██████████| 193/193 [00:37<00:00,  5.14it/s]\n                 Class     Images  Instances      Box(P          R      mAP50  mAP50-95): 100%|██████████| 9/9 [00:01<00:00,  5.36it/s]",
          "output_type": "stream"
        },
        {
          "name": "stdout",
          "text": "                   all        268        347      0.807       0.88        0.9      0.621\n",
          "output_type": "stream"
        },
        {
          "name": "stderr",
          "text": "\n",
          "output_type": "stream"
        },
        {
          "name": "stdout",
          "text": "\n      Epoch    GPU_mem   box_loss   cls_loss   dfl_loss  Instances       Size\n",
          "output_type": "stream"
        },
        {
          "name": "stderr",
          "text": "     62/100      2.36G     0.9515     0.7837      1.245         50        640: 100%|██████████| 193/193 [00:37<00:00,  5.11it/s]\n                 Class     Images  Instances      Box(P          R      mAP50  mAP50-95): 100%|██████████| 9/9 [00:01<00:00,  5.32it/s]",
          "output_type": "stream"
        },
        {
          "name": "stdout",
          "text": "                   all        268        347      0.903      0.806      0.912      0.631\n",
          "output_type": "stream"
        },
        {
          "name": "stderr",
          "text": "\n",
          "output_type": "stream"
        },
        {
          "name": "stdout",
          "text": "\n      Epoch    GPU_mem   box_loss   cls_loss   dfl_loss  Instances       Size\n",
          "output_type": "stream"
        },
        {
          "name": "stderr",
          "text": "     63/100      2.34G     0.9625     0.8011      1.252         41        640: 100%|██████████| 193/193 [00:37<00:00,  5.16it/s]\n                 Class     Images  Instances      Box(P          R      mAP50  mAP50-95): 100%|██████████| 9/9 [00:01<00:00,  4.72it/s]",
          "output_type": "stream"
        },
        {
          "name": "stdout",
          "text": "                   all        268        347      0.878      0.829      0.895      0.612\n",
          "output_type": "stream"
        },
        {
          "name": "stderr",
          "text": "\n",
          "output_type": "stream"
        },
        {
          "name": "stdout",
          "text": "\n      Epoch    GPU_mem   box_loss   cls_loss   dfl_loss  Instances       Size\n",
          "output_type": "stream"
        },
        {
          "name": "stderr",
          "text": "     64/100      2.36G     0.9554     0.7975      1.254         51        640: 100%|██████████| 193/193 [00:39<00:00,  4.88it/s]\n                 Class     Images  Instances      Box(P          R      mAP50  mAP50-95): 100%|██████████| 9/9 [00:01<00:00,  5.11it/s]",
          "output_type": "stream"
        },
        {
          "name": "stdout",
          "text": "                   all        268        347      0.884      0.849      0.899      0.619\n",
          "output_type": "stream"
        },
        {
          "name": "stderr",
          "text": "\n",
          "output_type": "stream"
        },
        {
          "name": "stdout",
          "text": "\n      Epoch    GPU_mem   box_loss   cls_loss   dfl_loss  Instances       Size\n",
          "output_type": "stream"
        },
        {
          "name": "stderr",
          "text": "     65/100      2.36G     0.9386     0.7817      1.237         48        640: 100%|██████████| 193/193 [00:39<00:00,  4.93it/s]\n                 Class     Images  Instances      Box(P          R      mAP50  mAP50-95): 100%|██████████| 9/9 [00:01<00:00,  5.14it/s]",
          "output_type": "stream"
        },
        {
          "name": "stdout",
          "text": "                   all        268        347      0.852      0.851      0.905      0.619\n",
          "output_type": "stream"
        },
        {
          "name": "stderr",
          "text": "\n",
          "output_type": "stream"
        },
        {
          "name": "stdout",
          "text": "\n      Epoch    GPU_mem   box_loss   cls_loss   dfl_loss  Instances       Size\n",
          "output_type": "stream"
        },
        {
          "name": "stderr",
          "text": "     66/100      2.36G     0.9393     0.7756      1.238         39        640: 100%|██████████| 193/193 [00:37<00:00,  5.17it/s]\n                 Class     Images  Instances      Box(P          R      mAP50  mAP50-95): 100%|██████████| 9/9 [00:01<00:00,  5.19it/s]",
          "output_type": "stream"
        },
        {
          "name": "stdout",
          "text": "                   all        268        347      0.856      0.854       0.89      0.607\n",
          "output_type": "stream"
        },
        {
          "name": "stderr",
          "text": "\n",
          "output_type": "stream"
        },
        {
          "name": "stdout",
          "text": "\n      Epoch    GPU_mem   box_loss   cls_loss   dfl_loss  Instances       Size\n",
          "output_type": "stream"
        },
        {
          "name": "stderr",
          "text": "     67/100      2.34G     0.9274     0.7694      1.234         54        640: 100%|██████████| 193/193 [00:37<00:00,  5.16it/s]\n                 Class     Images  Instances      Box(P          R      mAP50  mAP50-95): 100%|██████████| 9/9 [00:01<00:00,  5.37it/s]",
          "output_type": "stream"
        },
        {
          "name": "stdout",
          "text": "                   all        268        347      0.913      0.812      0.904      0.625\n",
          "output_type": "stream"
        },
        {
          "name": "stderr",
          "text": "\n",
          "output_type": "stream"
        },
        {
          "name": "stdout",
          "text": "\n      Epoch    GPU_mem   box_loss   cls_loss   dfl_loss  Instances       Size\n",
          "output_type": "stream"
        },
        {
          "name": "stderr",
          "text": "     68/100      2.34G     0.9324     0.7842      1.239         65        640: 100%|██████████| 193/193 [00:37<00:00,  5.18it/s]\n                 Class     Images  Instances      Box(P          R      mAP50  mAP50-95): 100%|██████████| 9/9 [00:01<00:00,  5.49it/s]",
          "output_type": "stream"
        },
        {
          "name": "stdout",
          "text": "                   all        268        347      0.867      0.844      0.898       0.62\n",
          "output_type": "stream"
        },
        {
          "name": "stderr",
          "text": "\n",
          "output_type": "stream"
        },
        {
          "name": "stdout",
          "text": "\n      Epoch    GPU_mem   box_loss   cls_loss   dfl_loss  Instances       Size\n",
          "output_type": "stream"
        },
        {
          "name": "stderr",
          "text": "     69/100      2.34G     0.9253     0.7744      1.231         47        640: 100%|██████████| 193/193 [00:37<00:00,  5.11it/s]\n                 Class     Images  Instances      Box(P          R      mAP50  mAP50-95): 100%|██████████| 9/9 [00:01<00:00,  5.52it/s]",
          "output_type": "stream"
        },
        {
          "name": "stdout",
          "text": "                   all        268        347      0.902      0.821      0.908      0.626\n",
          "output_type": "stream"
        },
        {
          "name": "stderr",
          "text": "\n",
          "output_type": "stream"
        },
        {
          "name": "stdout",
          "text": "\n      Epoch    GPU_mem   box_loss   cls_loss   dfl_loss  Instances       Size\n",
          "output_type": "stream"
        },
        {
          "name": "stderr",
          "text": "     70/100      2.34G     0.9218     0.7631      1.228         43        640: 100%|██████████| 193/193 [00:36<00:00,  5.23it/s]\n                 Class     Images  Instances      Box(P          R      mAP50  mAP50-95): 100%|██████████| 9/9 [00:01<00:00,  5.17it/s]",
          "output_type": "stream"
        },
        {
          "name": "stdout",
          "text": "                   all        268        347      0.854      0.851      0.899      0.613\n",
          "output_type": "stream"
        },
        {
          "name": "stderr",
          "text": "\n",
          "output_type": "stream"
        },
        {
          "name": "stdout",
          "text": "\n      Epoch    GPU_mem   box_loss   cls_loss   dfl_loss  Instances       Size\n",
          "output_type": "stream"
        },
        {
          "name": "stderr",
          "text": "     71/100      2.36G     0.9278     0.7693       1.23         40        640: 100%|██████████| 193/193 [00:37<00:00,  5.21it/s]\n                 Class     Images  Instances      Box(P          R      mAP50  mAP50-95): 100%|██████████| 9/9 [00:01<00:00,  5.41it/s]",
          "output_type": "stream"
        },
        {
          "name": "stdout",
          "text": "                   all        268        347      0.882      0.832      0.895      0.624\n",
          "output_type": "stream"
        },
        {
          "name": "stderr",
          "text": "\n",
          "output_type": "stream"
        },
        {
          "name": "stdout",
          "text": "\n      Epoch    GPU_mem   box_loss   cls_loss   dfl_loss  Instances       Size\n",
          "output_type": "stream"
        },
        {
          "name": "stderr",
          "text": "     72/100      2.36G     0.9246       0.75      1.228         44        640: 100%|██████████| 193/193 [00:37<00:00,  5.15it/s]\n                 Class     Images  Instances      Box(P          R      mAP50  mAP50-95): 100%|██████████| 9/9 [00:01<00:00,  5.16it/s]",
          "output_type": "stream"
        },
        {
          "name": "stdout",
          "text": "                   all        268        347      0.871      0.843      0.903      0.625\n",
          "output_type": "stream"
        },
        {
          "name": "stderr",
          "text": "\n",
          "output_type": "stream"
        },
        {
          "name": "stdout",
          "text": "\n      Epoch    GPU_mem   box_loss   cls_loss   dfl_loss  Instances       Size\n",
          "output_type": "stream"
        },
        {
          "name": "stderr",
          "text": "     73/100      2.36G     0.9255     0.7389      1.235         43        640: 100%|██████████| 193/193 [00:39<00:00,  4.86it/s]\n                 Class     Images  Instances      Box(P          R      mAP50  mAP50-95): 100%|██████████| 9/9 [00:01<00:00,  5.40it/s]",
          "output_type": "stream"
        },
        {
          "name": "stdout",
          "text": "                   all        268        347      0.877       0.82      0.907      0.631\n",
          "output_type": "stream"
        },
        {
          "name": "stderr",
          "text": "\n",
          "output_type": "stream"
        },
        {
          "name": "stdout",
          "text": "\n      Epoch    GPU_mem   box_loss   cls_loss   dfl_loss  Instances       Size\n",
          "output_type": "stream"
        },
        {
          "name": "stderr",
          "text": "     74/100      2.34G     0.9122     0.7533      1.228         44        640: 100%|██████████| 193/193 [00:37<00:00,  5.13it/s]\n                 Class     Images  Instances      Box(P          R      mAP50  mAP50-95): 100%|██████████| 9/9 [00:01<00:00,  5.03it/s]",
          "output_type": "stream"
        },
        {
          "name": "stdout",
          "text": "                   all        268        347      0.888      0.843      0.907      0.637\n",
          "output_type": "stream"
        },
        {
          "name": "stderr",
          "text": "\n",
          "output_type": "stream"
        },
        {
          "name": "stdout",
          "text": "\n      Epoch    GPU_mem   box_loss   cls_loss   dfl_loss  Instances       Size\n",
          "output_type": "stream"
        },
        {
          "name": "stderr",
          "text": "     75/100      2.34G     0.9166     0.7502      1.225         44        640: 100%|██████████| 193/193 [00:37<00:00,  5.20it/s]\n                 Class     Images  Instances      Box(P          R      mAP50  mAP50-95): 100%|██████████| 9/9 [00:01<00:00,  5.36it/s]",
          "output_type": "stream"
        },
        {
          "name": "stdout",
          "text": "                   all        268        347      0.869      0.859      0.906      0.641\n",
          "output_type": "stream"
        },
        {
          "name": "stderr",
          "text": "\n",
          "output_type": "stream"
        },
        {
          "name": "stdout",
          "text": "\n      Epoch    GPU_mem   box_loss   cls_loss   dfl_loss  Instances       Size\n",
          "output_type": "stream"
        },
        {
          "name": "stderr",
          "text": "     76/100      2.34G     0.9096     0.7448      1.221         50        640: 100%|██████████| 193/193 [00:37<00:00,  5.21it/s]\n                 Class     Images  Instances      Box(P          R      mAP50  mAP50-95): 100%|██████████| 9/9 [00:01<00:00,  5.32it/s]",
          "output_type": "stream"
        },
        {
          "name": "stdout",
          "text": "                   all        268        347      0.873      0.856      0.902      0.631\n",
          "output_type": "stream"
        },
        {
          "name": "stderr",
          "text": "\n",
          "output_type": "stream"
        },
        {
          "name": "stdout",
          "text": "\n      Epoch    GPU_mem   box_loss   cls_loss   dfl_loss  Instances       Size\n",
          "output_type": "stream"
        },
        {
          "name": "stderr",
          "text": "     77/100      2.36G      0.906     0.7329      1.214         47        640: 100%|██████████| 193/193 [00:37<00:00,  5.12it/s]\n                 Class     Images  Instances      Box(P          R      mAP50  mAP50-95): 100%|██████████| 9/9 [00:01<00:00,  5.43it/s]",
          "output_type": "stream"
        },
        {
          "name": "stdout",
          "text": "                   all        268        347      0.873      0.867      0.912      0.636\n",
          "output_type": "stream"
        },
        {
          "name": "stderr",
          "text": "\n",
          "output_type": "stream"
        },
        {
          "name": "stdout",
          "text": "\n      Epoch    GPU_mem   box_loss   cls_loss   dfl_loss  Instances       Size\n",
          "output_type": "stream"
        },
        {
          "name": "stderr",
          "text": "     78/100      2.36G     0.9011     0.7271      1.223         53        640: 100%|██████████| 193/193 [00:37<00:00,  5.17it/s]\n                 Class     Images  Instances      Box(P          R      mAP50  mAP50-95): 100%|██████████| 9/9 [00:01<00:00,  5.42it/s]",
          "output_type": "stream"
        },
        {
          "name": "stdout",
          "text": "                   all        268        347      0.895      0.859      0.912      0.639\n",
          "output_type": "stream"
        },
        {
          "name": "stderr",
          "text": "\n",
          "output_type": "stream"
        },
        {
          "name": "stdout",
          "text": "\n      Epoch    GPU_mem   box_loss   cls_loss   dfl_loss  Instances       Size\n",
          "output_type": "stream"
        },
        {
          "name": "stderr",
          "text": "     79/100      2.34G      0.903     0.7268      1.216         54        640: 100%|██████████| 193/193 [00:37<00:00,  5.17it/s]\n                 Class     Images  Instances      Box(P          R      mAP50  mAP50-95): 100%|██████████| 9/9 [00:01<00:00,  5.30it/s]",
          "output_type": "stream"
        },
        {
          "name": "stdout",
          "text": "                   all        268        347      0.879      0.856      0.914      0.645\n",
          "output_type": "stream"
        },
        {
          "name": "stderr",
          "text": "\n",
          "output_type": "stream"
        },
        {
          "name": "stdout",
          "text": "\n      Epoch    GPU_mem   box_loss   cls_loss   dfl_loss  Instances       Size\n",
          "output_type": "stream"
        },
        {
          "name": "stderr",
          "text": "     80/100      2.34G     0.8885     0.7379      1.205         42        640: 100%|██████████| 193/193 [00:37<00:00,  5.20it/s]\n                 Class     Images  Instances      Box(P          R      mAP50  mAP50-95): 100%|██████████| 9/9 [00:01<00:00,  5.35it/s]",
          "output_type": "stream"
        },
        {
          "name": "stdout",
          "text": "                   all        268        347      0.881      0.848      0.906      0.638\n",
          "output_type": "stream"
        },
        {
          "name": "stderr",
          "text": "\n",
          "output_type": "stream"
        },
        {
          "name": "stdout",
          "text": "\n      Epoch    GPU_mem   box_loss   cls_loss   dfl_loss  Instances       Size\n",
          "output_type": "stream"
        },
        {
          "name": "stderr",
          "text": "     81/100      2.34G      0.896      0.731      1.219         35        640: 100%|██████████| 193/193 [00:38<00:00,  5.06it/s]\n                 Class     Images  Instances      Box(P          R      mAP50  mAP50-95): 100%|██████████| 9/9 [00:01<00:00,  5.44it/s]",
          "output_type": "stream"
        },
        {
          "name": "stdout",
          "text": "                   all        268        347      0.879      0.874      0.911      0.637\n",
          "output_type": "stream"
        },
        {
          "name": "stderr",
          "text": "\n",
          "output_type": "stream"
        },
        {
          "name": "stdout",
          "text": "\n      Epoch    GPU_mem   box_loss   cls_loss   dfl_loss  Instances       Size\n",
          "output_type": "stream"
        },
        {
          "name": "stderr",
          "text": "     82/100      2.34G     0.8896     0.7111      1.205         48        640: 100%|██████████| 193/193 [00:38<00:00,  5.03it/s]\n                 Class     Images  Instances      Box(P          R      mAP50  mAP50-95): 100%|██████████| 9/9 [00:01<00:00,  5.38it/s]",
          "output_type": "stream"
        },
        {
          "name": "stdout",
          "text": "                   all        268        347      0.866      0.875       0.91      0.645\n",
          "output_type": "stream"
        },
        {
          "name": "stderr",
          "text": "\n",
          "output_type": "stream"
        },
        {
          "name": "stdout",
          "text": "\n      Epoch    GPU_mem   box_loss   cls_loss   dfl_loss  Instances       Size\n",
          "output_type": "stream"
        },
        {
          "name": "stderr",
          "text": "     83/100      2.34G     0.8925     0.7231      1.206         37        640: 100%|██████████| 193/193 [00:36<00:00,  5.27it/s]\n                 Class     Images  Instances      Box(P          R      mAP50  mAP50-95): 100%|██████████| 9/9 [00:01<00:00,  5.16it/s]",
          "output_type": "stream"
        },
        {
          "name": "stdout",
          "text": "                   all        268        347      0.884      0.843      0.914      0.641\n",
          "output_type": "stream"
        },
        {
          "name": "stderr",
          "text": "\n",
          "output_type": "stream"
        },
        {
          "name": "stdout",
          "text": "\n      Epoch    GPU_mem   box_loss   cls_loss   dfl_loss  Instances       Size\n",
          "output_type": "stream"
        },
        {
          "name": "stderr",
          "text": "     84/100      2.34G     0.8852     0.7131      1.204         32        640: 100%|██████████| 193/193 [00:37<00:00,  5.16it/s]\n                 Class     Images  Instances      Box(P          R      mAP50  mAP50-95): 100%|██████████| 9/9 [00:01<00:00,  5.54it/s]",
          "output_type": "stream"
        },
        {
          "name": "stdout",
          "text": "                   all        268        347       0.86      0.859       0.91       0.64\n",
          "output_type": "stream"
        },
        {
          "name": "stderr",
          "text": "\n",
          "output_type": "stream"
        },
        {
          "name": "stdout",
          "text": "\n      Epoch    GPU_mem   box_loss   cls_loss   dfl_loss  Instances       Size\n",
          "output_type": "stream"
        },
        {
          "name": "stderr",
          "text": "     85/100      2.36G     0.8809      0.706      1.207         46        640: 100%|██████████| 193/193 [00:37<00:00,  5.20it/s]\n                 Class     Images  Instances      Box(P          R      mAP50  mAP50-95): 100%|██████████| 9/9 [00:01<00:00,  4.68it/s]",
          "output_type": "stream"
        },
        {
          "name": "stdout",
          "text": "                   all        268        347      0.897      0.846      0.914      0.636\n",
          "output_type": "stream"
        },
        {
          "name": "stderr",
          "text": "\n",
          "output_type": "stream"
        },
        {
          "name": "stdout",
          "text": "\n      Epoch    GPU_mem   box_loss   cls_loss   dfl_loss  Instances       Size\n",
          "output_type": "stream"
        },
        {
          "name": "stderr",
          "text": "     86/100      2.36G     0.8811     0.7032      1.204         41        640: 100%|██████████| 193/193 [00:37<00:00,  5.15it/s]\n                 Class     Images  Instances      Box(P          R      mAP50  mAP50-95): 100%|██████████| 9/9 [00:01<00:00,  5.07it/s]",
          "output_type": "stream"
        },
        {
          "name": "stdout",
          "text": "                   all        268        347      0.894      0.884      0.927       0.65\n",
          "output_type": "stream"
        },
        {
          "name": "stderr",
          "text": "\n",
          "output_type": "stream"
        },
        {
          "name": "stdout",
          "text": "\n      Epoch    GPU_mem   box_loss   cls_loss   dfl_loss  Instances       Size\n",
          "output_type": "stream"
        },
        {
          "name": "stderr",
          "text": "     87/100      2.34G     0.8792     0.7099      1.201         41        640: 100%|██████████| 193/193 [00:38<00:00,  5.07it/s]\n                 Class     Images  Instances      Box(P          R      mAP50  mAP50-95): 100%|██████████| 9/9 [00:01<00:00,  5.47it/s]",
          "output_type": "stream"
        },
        {
          "name": "stdout",
          "text": "                   all        268        347      0.901      0.862      0.917      0.639\n",
          "output_type": "stream"
        },
        {
          "name": "stderr",
          "text": "\n",
          "output_type": "stream"
        },
        {
          "name": "stdout",
          "text": "\n      Epoch    GPU_mem   box_loss   cls_loss   dfl_loss  Instances       Size\n",
          "output_type": "stream"
        },
        {
          "name": "stderr",
          "text": "     88/100      2.34G     0.8719     0.7044      1.196         55        640: 100%|██████████| 193/193 [00:37<00:00,  5.12it/s]\n                 Class     Images  Instances      Box(P          R      mAP50  mAP50-95): 100%|██████████| 9/9 [00:01<00:00,  5.34it/s]",
          "output_type": "stream"
        },
        {
          "name": "stdout",
          "text": "                   all        268        347      0.908      0.847      0.917      0.638\n",
          "output_type": "stream"
        },
        {
          "name": "stderr",
          "text": "\n",
          "output_type": "stream"
        },
        {
          "name": "stdout",
          "text": "\n      Epoch    GPU_mem   box_loss   cls_loss   dfl_loss  Instances       Size\n",
          "output_type": "stream"
        },
        {
          "name": "stderr",
          "text": "     89/100      2.36G     0.8814      0.705      1.198         46        640: 100%|██████████| 193/193 [00:37<00:00,  5.13it/s]\n                 Class     Images  Instances      Box(P          R      mAP50  mAP50-95): 100%|██████████| 9/9 [00:01<00:00,  5.47it/s]",
          "output_type": "stream"
        },
        {
          "name": "stdout",
          "text": "                   all        268        347      0.894      0.848      0.914      0.632\n",
          "output_type": "stream"
        },
        {
          "name": "stderr",
          "text": "\n",
          "output_type": "stream"
        },
        {
          "name": "stdout",
          "text": "\n      Epoch    GPU_mem   box_loss   cls_loss   dfl_loss  Instances       Size\n",
          "output_type": "stream"
        },
        {
          "name": "stderr",
          "text": "     90/100      2.36G     0.8758     0.6995        1.2         40        640: 100%|██████████| 193/193 [00:37<00:00,  5.18it/s]\n                 Class     Images  Instances      Box(P          R      mAP50  mAP50-95): 100%|██████████| 9/9 [00:01<00:00,  5.39it/s]",
          "output_type": "stream"
        },
        {
          "name": "stdout",
          "text": "                   all        268        347      0.887      0.885       0.92       0.64\n",
          "output_type": "stream"
        },
        {
          "name": "stderr",
          "text": "\n",
          "output_type": "stream"
        },
        {
          "name": "stdout",
          "text": "Closing dataloader mosaic\n\u001b[34m\u001b[1malbumentations: \u001b[0mBlur(p=0.01, blur_limit=(3, 7)), MedianBlur(p=0.01, blur_limit=(3, 7)), ToGray(p=0.01), CLAHE(p=0.01, clip_limit=(1, 4.0), tile_grid_size=(8, 8))\n",
          "output_type": "stream"
        },
        {
          "name": "stderr",
          "text": "os.fork() was called. os.fork() is incompatible with multithreaded code, and JAX is multithreaded, so this will likely lead to a deadlock.\nos.fork() was called. os.fork() is incompatible with multithreaded code, and JAX is multithreaded, so this will likely lead to a deadlock.\n",
          "output_type": "stream"
        },
        {
          "name": "stdout",
          "text": "\n      Epoch    GPU_mem   box_loss   cls_loss   dfl_loss  Instances       Size\n",
          "output_type": "stream"
        },
        {
          "name": "stderr",
          "text": "     91/100      2.34G     0.7811     0.5253      1.157         17        640: 100%|██████████| 193/193 [00:38<00:00,  4.99it/s]\n                 Class     Images  Instances      Box(P          R      mAP50  mAP50-95): 100%|██████████| 9/9 [00:01<00:00,  5.25it/s]",
          "output_type": "stream"
        },
        {
          "name": "stdout",
          "text": "                   all        268        347      0.887      0.864      0.923      0.646\n",
          "output_type": "stream"
        },
        {
          "name": "stderr",
          "text": "\n",
          "output_type": "stream"
        },
        {
          "name": "stdout",
          "text": "\n      Epoch    GPU_mem   box_loss   cls_loss   dfl_loss  Instances       Size\n",
          "output_type": "stream"
        },
        {
          "name": "stderr",
          "text": "     92/100      2.34G     0.7454     0.4938      1.137         21        640: 100%|██████████| 193/193 [00:38<00:00,  5.04it/s]\n                 Class     Images  Instances      Box(P          R      mAP50  mAP50-95): 100%|██████████| 9/9 [00:02<00:00,  4.39it/s]",
          "output_type": "stream"
        },
        {
          "name": "stdout",
          "text": "                   all        268        347      0.856      0.878       0.91      0.642\n",
          "output_type": "stream"
        },
        {
          "name": "stderr",
          "text": "\n",
          "output_type": "stream"
        },
        {
          "name": "stdout",
          "text": "\n      Epoch    GPU_mem   box_loss   cls_loss   dfl_loss  Instances       Size\n",
          "output_type": "stream"
        },
        {
          "name": "stderr",
          "text": "     93/100      2.34G     0.7322     0.4779      1.119         19        640: 100%|██████████| 193/193 [00:36<00:00,  5.23it/s]\n                 Class     Images  Instances      Box(P          R      mAP50  mAP50-95): 100%|██████████| 9/9 [00:01<00:00,  5.39it/s]",
          "output_type": "stream"
        },
        {
          "name": "stdout",
          "text": "                   all        268        347      0.852      0.845      0.911      0.638\n",
          "output_type": "stream"
        },
        {
          "name": "stderr",
          "text": "\n",
          "output_type": "stream"
        },
        {
          "name": "stdout",
          "text": "\n      Epoch    GPU_mem   box_loss   cls_loss   dfl_loss  Instances       Size\n",
          "output_type": "stream"
        },
        {
          "name": "stderr",
          "text": "     94/100      2.34G     0.7336     0.4766       1.13         22        640: 100%|██████████| 193/193 [00:37<00:00,  5.21it/s]\n                 Class     Images  Instances      Box(P          R      mAP50  mAP50-95): 100%|██████████| 9/9 [00:01<00:00,  5.40it/s]",
          "output_type": "stream"
        },
        {
          "name": "stdout",
          "text": "                   all        268        347      0.888      0.871      0.921       0.64\n",
          "output_type": "stream"
        },
        {
          "name": "stderr",
          "text": "\n",
          "output_type": "stream"
        },
        {
          "name": "stdout",
          "text": "\n      Epoch    GPU_mem   box_loss   cls_loss   dfl_loss  Instances       Size\n",
          "output_type": "stream"
        },
        {
          "name": "stderr",
          "text": "     95/100      2.34G     0.7345     0.4758       1.12         20        640: 100%|██████████| 193/193 [00:36<00:00,  5.23it/s]\n                 Class     Images  Instances      Box(P          R      mAP50  mAP50-95): 100%|██████████| 9/9 [00:01<00:00,  5.25it/s]",
          "output_type": "stream"
        },
        {
          "name": "stdout",
          "text": "                   all        268        347      0.888      0.855      0.915      0.643\n",
          "output_type": "stream"
        },
        {
          "name": "stderr",
          "text": "\n",
          "output_type": "stream"
        },
        {
          "name": "stdout",
          "text": "\n      Epoch    GPU_mem   box_loss   cls_loss   dfl_loss  Instances       Size\n",
          "output_type": "stream"
        },
        {
          "name": "stderr",
          "text": "     96/100      2.34G     0.7207     0.4643      1.111         25        640: 100%|██████████| 193/193 [00:37<00:00,  5.20it/s]\n                 Class     Images  Instances      Box(P          R      mAP50  mAP50-95): 100%|██████████| 9/9 [00:01<00:00,  5.11it/s]",
          "output_type": "stream"
        },
        {
          "name": "stdout",
          "text": "                   all        268        347      0.877       0.85      0.914       0.65\n",
          "output_type": "stream"
        },
        {
          "name": "stderr",
          "text": "\n",
          "output_type": "stream"
        },
        {
          "name": "stdout",
          "text": "\n      Epoch    GPU_mem   box_loss   cls_loss   dfl_loss  Instances       Size\n",
          "output_type": "stream"
        },
        {
          "name": "stderr",
          "text": "     97/100      2.34G     0.7092     0.4606      1.104         19        640: 100%|██████████| 193/193 [00:36<00:00,  5.30it/s]\n                 Class     Images  Instances      Box(P          R      mAP50  mAP50-95): 100%|██████████| 9/9 [00:01<00:00,  5.53it/s]",
          "output_type": "stream"
        },
        {
          "name": "stdout",
          "text": "                   all        268        347      0.887      0.854      0.915      0.644\n",
          "output_type": "stream"
        },
        {
          "name": "stderr",
          "text": "\n",
          "output_type": "stream"
        },
        {
          "name": "stdout",
          "text": "\n      Epoch    GPU_mem   box_loss   cls_loss   dfl_loss  Instances       Size\n",
          "output_type": "stream"
        },
        {
          "name": "stderr",
          "text": "     98/100      2.34G      0.702      0.453      1.104         17        640: 100%|██████████| 193/193 [00:35<00:00,  5.42it/s]\n                 Class     Images  Instances      Box(P          R      mAP50  mAP50-95): 100%|██████████| 9/9 [00:01<00:00,  5.49it/s]",
          "output_type": "stream"
        },
        {
          "name": "stdout",
          "text": "                   all        268        347      0.882      0.863      0.919      0.648\n",
          "output_type": "stream"
        },
        {
          "name": "stderr",
          "text": "\n",
          "output_type": "stream"
        },
        {
          "name": "stdout",
          "text": "\n      Epoch    GPU_mem   box_loss   cls_loss   dfl_loss  Instances       Size\n",
          "output_type": "stream"
        },
        {
          "name": "stderr",
          "text": "     99/100      2.34G     0.7031     0.4517      1.107         19        640: 100%|██████████| 193/193 [00:35<00:00,  5.40it/s]\n                 Class     Images  Instances      Box(P          R      mAP50  mAP50-95): 100%|██████████| 9/9 [00:01<00:00,  5.47it/s]",
          "output_type": "stream"
        },
        {
          "name": "stdout",
          "text": "                   all        268        347      0.887      0.856      0.924      0.648\n",
          "output_type": "stream"
        },
        {
          "name": "stderr",
          "text": "\n",
          "output_type": "stream"
        },
        {
          "name": "stdout",
          "text": "\n      Epoch    GPU_mem   box_loss   cls_loss   dfl_loss  Instances       Size\n",
          "output_type": "stream"
        },
        {
          "name": "stderr",
          "text": "    100/100      2.34G     0.7041     0.4479      1.112         22        640: 100%|██████████| 193/193 [00:35<00:00,  5.46it/s]\n                 Class     Images  Instances      Box(P          R      mAP50  mAP50-95): 100%|██████████| 9/9 [00:01<00:00,  5.52it/s]",
          "output_type": "stream"
        },
        {
          "name": "stdout",
          "text": "                   all        268        347      0.888      0.866      0.924      0.646\n",
          "output_type": "stream"
        },
        {
          "name": "stderr",
          "text": "\n",
          "output_type": "stream"
        },
        {
          "name": "stdout",
          "text": "\n100 epochs completed in 1.124 hours.\nOptimizer stripped from /kaggle/working/ultralytics/runs/detect/train/weights/last.pt, 4.7MB\nOptimizer stripped from /kaggle/working/ultralytics/runs/detect/train/weights/best.pt, 4.7MB\n\nValidating /kaggle/working/ultralytics/runs/detect/train/weights/best.pt...\nUltralytics YOLOv8.2.76 🚀 Python-3.10.13 torch-2.1.2 CUDA:0 (Tesla T4, 15095MiB)\nnewconf summary (fused): 297 layers, 2,140,422 parameters, 0 gradients, 7.0 GFLOPs\n",
          "output_type": "stream"
        },
        {
          "name": "stderr",
          "text": "                 Class     Images  Instances      Box(P          R      mAP50  mAP50-95): 100%|██████████| 9/9 [00:03<00:00,  2.57it/s]\n",
          "output_type": "stream"
        },
        {
          "name": "stdout",
          "text": "                   all        268        347      0.894      0.884      0.928      0.649\n                   FIT        125        162      0.902      0.849      0.921        0.7\n                 UNFIT        163        185      0.885      0.919      0.934      0.599\nSpeed: 0.2ms preprocess, 2.3ms inference, 0.0ms loss, 1.7ms postprocess per image\nResults saved to \u001b[1m/kaggle/working/ultralytics/runs/detect/train\u001b[0m\n",
          "output_type": "stream"
        }
      ]
    },
    {
      "cell_type": "code",
      "source": [
        "%cd .."
      ],
      "metadata": {
        "execution": {
          "iopub.status.busy": "2024-08-13T17:35:22.711435Z",
          "iopub.execute_input": "2024-08-13T17:35:22.711796Z",
          "iopub.status.idle": "2024-08-13T17:35:22.717859Z",
          "shell.execute_reply.started": "2024-08-13T17:35:22.711769Z",
          "shell.execute_reply": "2024-08-13T17:35:22.716918Z"
        },
        "trusted": true,
        "id": "OFo9ST46yCXL",
        "outputId": "8747571c-20c4-4140-ce34-d88a7ea71dad"
      },
      "execution_count": null,
      "outputs": [
        {
          "name": "stdout",
          "text": "/kaggle/working\n",
          "output_type": "stream"
        }
      ]
    },
    {
      "cell_type": "code",
      "source": [
        "!zip -r file.zip /kaggle/working/ultralytics/runs/detect/train\n",
        "from IPython.display import FileLink\n",
        "FileLink(r'file.zip')"
      ],
      "metadata": {
        "execution": {
          "iopub.status.busy": "2024-08-13T17:35:25.231788Z",
          "iopub.execute_input": "2024-08-13T17:35:25.232149Z",
          "iopub.status.idle": "2024-08-13T17:35:27.161244Z",
          "shell.execute_reply.started": "2024-08-13T17:35:25.232101Z",
          "shell.execute_reply": "2024-08-13T17:35:27.160267Z"
        },
        "trusted": true,
        "id": "yAEjtuTJyCXM",
        "outputId": "ad6d0f5b-0b3e-4dec-e542-0450d0ccc8ec"
      },
      "execution_count": null,
      "outputs": [
        {
          "name": "stderr",
          "text": "os.fork() was called. os.fork() is incompatible with multithreaded code, and JAX is multithreaded, so this will likely lead to a deadlock.\n",
          "output_type": "stream"
        },
        {
          "name": "stdout",
          "text": "  adding: kaggle/working/ultralytics/runs/detect/train/ (stored 0%)\n  adding: kaggle/working/ultralytics/runs/detect/train/confusion_matrix.png (deflated 37%)\n  adding: kaggle/working/ultralytics/runs/detect/train/train_batch1.jpg (deflated 1%)\n  adding: kaggle/working/ultralytics/runs/detect/train/labels.jpg (deflated 37%)\n  adding: kaggle/working/ultralytics/runs/detect/train/R_curve.png (deflated 12%)\n  adding: kaggle/working/ultralytics/runs/detect/train/val_batch1_labels.jpg (deflated 5%)\n  adding: kaggle/working/ultralytics/runs/detect/train/weights/ (stored 0%)\n  adding: kaggle/working/ultralytics/runs/detect/train/weights/best.pt (deflated 13%)\n  adding: kaggle/working/ultralytics/runs/detect/train/weights/last.pt (deflated 13%)\n  adding: kaggle/working/ultralytics/runs/detect/train/results.csv (deflated 85%)\n  adding: kaggle/working/ultralytics/runs/detect/train/F1_curve.png (deflated 12%)\n  adding: kaggle/working/ultralytics/runs/detect/train/val_batch2_labels.jpg (deflated 4%)\n  adding: kaggle/working/ultralytics/runs/detect/train/PR_curve.png (deflated 19%)\n  adding: kaggle/working/ultralytics/runs/detect/train/val_batch0_pred.jpg (deflated 4%)\n  adding: kaggle/working/ultralytics/runs/detect/train/confusion_matrix_normalized.png (deflated 35%)\n  adding: kaggle/working/ultralytics/runs/detect/train/train_batch17370.jpg (deflated 3%)\n  adding: kaggle/working/ultralytics/runs/detect/train/events.out.tfevents.1723566413.a310e710ffbb.34.0 (deflated 91%)\n  adding: kaggle/working/ultralytics/runs/detect/train/train_batch17371.jpg (deflated 3%)\n  adding: kaggle/working/ultralytics/runs/detect/train/val_batch2_pred.jpg (deflated 4%)\n  adding: kaggle/working/ultralytics/runs/detect/train/labels_correlogram.jpg (deflated 41%)\n  adding: kaggle/working/ultralytics/runs/detect/train/val_batch0_labels.jpg (deflated 4%)\n  adding: kaggle/working/ultralytics/runs/detect/train/P_curve.png (deflated 15%)\n  adding: kaggle/working/ultralytics/runs/detect/train/val_batch1_pred.jpg (deflated 4%)\n  adding: kaggle/working/ultralytics/runs/detect/train/results.png (deflated 9%)\n  adding: kaggle/working/ultralytics/runs/detect/train/args.yaml (deflated 53%)\n  adding: kaggle/working/ultralytics/runs/detect/train/train_batch0.jpg (deflated 0%)\n  adding: kaggle/working/ultralytics/runs/detect/train/train_batch2.jpg (deflated 1%)\n  adding: kaggle/working/ultralytics/runs/detect/train/train_batch17372.jpg (deflated 2%)\n",
          "output_type": "stream"
        },
        {
          "execution_count": 21,
          "output_type": "execute_result",
          "data": {
            "text/plain": "/kaggle/working/file.zip",
            "text/html": "<a href='file.zip' target='_blank'>file.zip</a><br>"
          },
          "metadata": {}
        }
      ]
    },
    {
      "cell_type": "code",
      "source": [
        "%pwd"
      ],
      "metadata": {
        "execution": {
          "iopub.status.busy": "2024-08-12T08:54:57.213433Z",
          "iopub.execute_input": "2024-08-12T08:54:57.21382Z",
          "iopub.status.idle": "2024-08-12T08:54:57.220769Z",
          "shell.execute_reply.started": "2024-08-12T08:54:57.213788Z",
          "shell.execute_reply": "2024-08-12T08:54:57.219705Z"
        },
        "trusted": true,
        "id": "rN4wOQJ6yCXM",
        "outputId": "1b13a4e1-b904-41bf-818a-5ef783bd046d"
      },
      "execution_count": null,
      "outputs": [
        {
          "execution_count": 26,
          "output_type": "execute_result",
          "data": {
            "text/plain": "'/kaggle/working'"
          },
          "metadata": {}
        }
      ]
    },
    {
      "cell_type": "code",
      "source": [
        "from ultralytics.utils.benchmarks import benchmark\n",
        "\n",
        "# Benchmark on GPU\n",
        "benchmark(model=\"ultralytics/runs/detect/train/weights/best.pt\", data=\"data.yaml\", imgsz=640, half=False, device=0)"
      ],
      "metadata": {
        "execution": {
          "iopub.status.busy": "2024-08-12T08:57:00.519313Z",
          "iopub.execute_input": "2024-08-12T08:57:00.519663Z"
        },
        "trusted": true,
        "id": "V-pWs6fXyCXN",
        "outputId": "2ab926d4-fae8-4188-f456-ace7927ca5bf"
      },
      "execution_count": null,
      "outputs": [
        {
          "name": "stdout",
          "text": "\nimage 1/1 /kaggle/working/ultralytics/ultralytics/assets/bus.jpg: 640x480 2 UNFITs, 84.7ms\nSpeed: 2.9ms preprocess, 84.7ms inference, 2.0ms postprocess per image at shape (1, 3, 640, 480)\nERROR ❌️ Benchmark failure for PyTorch: 'data.yaml' does not exist\n\n\u001b[34m\u001b[1mPyTorch:\u001b[0m starting from 'ultralytics/runs/detect/train/weights/best.pt' with input shape (1, 3, 640, 640) BCHW and output shape(s) (1, 6, 8400) (4.4 MB)\n\n\u001b[34m\u001b[1mTorchScript:\u001b[0m starting export with torch 2.1.2...\n\u001b[34m\u001b[1mTorchScript:\u001b[0m export success ✅ 2.8s, saved as 'ultralytics/runs/detect/train/weights/best.torchscript' (8.7 MB)\n\nExport complete (2.8s)\nResults saved to \u001b[1m/kaggle/working/ultralytics/runs/detect/train/weights\u001b[0m\nPredict:         yolo predict task=detect model=ultralytics/runs/detect/train/weights/best.torchscript imgsz=640  \nValidate:        yolo val task=detect model=ultralytics/runs/detect/train/weights/best.torchscript imgsz=640 data=np_mynp-2/data.yaml  \nVisualize:       https://netron.app\nLoading ultralytics/runs/detect/train/weights/best.torchscript for TorchScript inference...\n\nimage 1/1 /kaggle/working/ultralytics/ultralytics/assets/bus.jpg: 640x640 2 UNFITs, 8.0ms\nSpeed: 2.5ms preprocess, 8.0ms inference, 1.6ms postprocess per image at shape (1, 3, 640, 640)\nLoading ultralytics/runs/detect/train/weights/best.torchscript for TorchScript inference...\nERROR ❌️ Benchmark failure for TorchScript: 'data.yaml' does not exist\n\n\u001b[34m\u001b[1mPyTorch:\u001b[0m starting from 'ultralytics/runs/detect/train/weights/best.pt' with input shape (1, 3, 640, 640) BCHW and output shape(s) (1, 6, 8400) (4.4 MB)\n\n\u001b[34m\u001b[1mONNX:\u001b[0m starting export with onnx 1.16.1 opset 17...\n\u001b[34m\u001b[1mONNX:\u001b[0m export success ✅ 1.5s, saved as 'ultralytics/runs/detect/train/weights/best.onnx' (8.3 MB)\n\nExport complete (1.6s)\nResults saved to \u001b[1m/kaggle/working/ultralytics/runs/detect/train/weights\u001b[0m\nPredict:         yolo predict task=detect model=ultralytics/runs/detect/train/weights/best.onnx imgsz=640  \nValidate:        yolo val task=detect model=ultralytics/runs/detect/train/weights/best.onnx imgsz=640 data=np_mynp-2/data.yaml  \nVisualize:       https://netron.app\nLoading ultralytics/runs/detect/train/weights/best.onnx for ONNX Runtime inference...\n\u001b[31m\u001b[1mrequirements:\u001b[0m Ultralytics requirement ['onnxruntime-gpu'] not found, attempting AutoUpdate...\nCollecting onnxruntime-gpu\n  Downloading onnxruntime_gpu-1.18.1-cp310-cp310-manylinux_2_27_x86_64.manylinux_2_28_x86_64.whl.metadata (4.4 kB)\nCollecting coloredlogs (from onnxruntime-gpu)\n  Downloading coloredlogs-15.0.1-py2.py3-none-any.whl.metadata (12 kB)\nRequirement already satisfied: flatbuffers in /opt/conda/lib/python3.10/site-packages (from onnxruntime-gpu) (23.5.26)\nRequirement already satisfied: numpy<2.0,>=1.21.6 in /opt/conda/lib/python3.10/site-packages (from onnxruntime-gpu) (1.26.4)\nRequirement already satisfied: packaging in /opt/conda/lib/python3.10/site-packages (from onnxruntime-gpu) (21.3)\nRequirement already satisfied: protobuf in /opt/conda/lib/python3.10/site-packages (from onnxruntime-gpu) (3.20.3)\nRequirement already satisfied: sympy in /opt/conda/lib/python3.10/site-packages (from onnxruntime-gpu) (1.13.0)\nCollecting humanfriendly>=9.1 (from coloredlogs->onnxruntime-gpu)\n  Downloading humanfriendly-10.0-py2.py3-none-any.whl.metadata (9.2 kB)\nRequirement already satisfied: pyparsing!=3.0.5,>=2.0.2 in /opt/conda/lib/python3.10/site-packages (from packaging->onnxruntime-gpu) (3.1.1)\nRequirement already satisfied: mpmath<1.4,>=1.1.0 in /opt/conda/lib/python3.10/site-packages (from sympy->onnxruntime-gpu) (1.3.0)\nDownloading onnxruntime_gpu-1.18.1-cp310-cp310-manylinux_2_27_x86_64.manylinux_2_28_x86_64.whl (200.8 MB)\n\u001b[2K   \u001b[90m━━━━━━━━━━━━━━━━━━━━━━━━━━━━━━━━━━━━━━━\u001b[0m \u001b[32m200.8/200.8 MB\u001b[0m \u001b[31m219.7 MB/s\u001b[0m eta \u001b[36m0:00:00\u001b[0ma \u001b[36m0:00:01\u001b[0m\n\u001b[?25hDownloading coloredlogs-15.0.1-py2.py3-none-any.whl (46 kB)\n\u001b[2K   \u001b[90m━━━━━━━━━━━━━━━━━━━━━━━━━━━━━━━━━━━━━━━━\u001b[0m \u001b[32m46.0/46.0 kB\u001b[0m \u001b[31m175.9 MB/s\u001b[0m eta \u001b[36m0:00:00\u001b[0m\n\u001b[?25hDownloading humanfriendly-10.0-py2.py3-none-any.whl (86 kB)\n\u001b[2K   \u001b[90m━━━━━━━━━━━━━━━━━━━━━━━━━━━━━━━━━━━━━━━━\u001b[0m \u001b[32m86.8/86.8 kB\u001b[0m \u001b[31m244.0 MB/s\u001b[0m eta \u001b[36m0:00:00\u001b[0m\n\u001b[?25hInstalling collected packages: humanfriendly, coloredlogs, onnxruntime-gpu\nSuccessfully installed coloredlogs-15.0.1 humanfriendly-10.0 onnxruntime-gpu-1.18.1\n\n\u001b[31m\u001b[1mrequirements:\u001b[0m AutoUpdate success ✅ 18.9s, installed 1 package: ['onnxruntime-gpu']\n\u001b[31m\u001b[1mrequirements:\u001b[0m ⚠️ \u001b[1mRestart runtime or rerun command for updates to take effect\u001b[0m\n\n\nimage 1/1 /kaggle/working/ultralytics/ultralytics/assets/bus.jpg: 640x640 2 UNFITs, 76.2ms\nSpeed: 2.7ms preprocess, 76.2ms inference, 1.7ms postprocess per image at shape (1, 3, 640, 640)\nLoading ultralytics/runs/detect/train/weights/best.onnx for ONNX Runtime inference...\n",
          "output_type": "stream"
        },
        {
          "name": "stderr",
          "text": "\u001b[1;31m2024-08-12 08:57:26.751388965 [E:onnxruntime:Default, provider_bridge_ort.cc:1745 TryGetProviderInfo_CUDA] /onnxruntime_src/onnxruntime/core/session/provider_bridge_ort.cc:1426 onnxruntime::Provider& onnxruntime::ProviderLibrary::Get() [ONNXRuntimeError] : 1 : FAIL : Failed to load library libonnxruntime_providers_cuda.so with error: libcublasLt.so.11: cannot open shared object file: No such file or directory\n\u001b[m\n\u001b[0;93m2024-08-12 08:57:26.751429372 [W:onnxruntime:Default, onnxruntime_pybind_state.cc:895 CreateExecutionProviderInstance] Failed to create CUDAExecutionProvider. Please reference https://onnxruntime.ai/docs/execution-providers/CUDA-ExecutionProvider.html#requirementsto ensure all dependencies are met.\u001b[m\n\u001b[1;31m2024-08-12 08:57:27.036539675 [E:onnxruntime:Default, provider_bridge_ort.cc:1745 TryGetProviderInfo_CUDA] /onnxruntime_src/onnxruntime/core/session/provider_bridge_ort.cc:1426 onnxruntime::Provider& onnxruntime::ProviderLibrary::Get() [ONNXRuntimeError] : 1 : FAIL : Failed to load library libonnxruntime_providers_cuda.so with error: libcublasLt.so.11: cannot open shared object file: No such file or directory\n\u001b[m\n\u001b[0;93m2024-08-12 08:57:27.036578547 [W:onnxruntime:Default, onnxruntime_pybind_state.cc:895 CreateExecutionProviderInstance] Failed to create CUDAExecutionProvider. Please reference https://onnxruntime.ai/docs/execution-providers/CUDA-ExecutionProvider.html#requirementsto ensure all dependencies are met.\u001b[m\n",
          "output_type": "stream"
        },
        {
          "name": "stdout",
          "text": "Setting batch=1 input of shape (1, 3, 640, 640)\nERROR ❌️ Benchmark failure for ONNX: 'data.yaml' does not exist\nERROR ❌️ Benchmark failure for OpenVINO: inference not supported on GPU\n\n\u001b[34m\u001b[1mPyTorch:\u001b[0m starting from 'ultralytics/runs/detect/train/weights/best.pt' with input shape (1, 3, 640, 640) BCHW and output shape(s) (1, 6, 8400) (4.4 MB)\n\n\u001b[34m\u001b[1mONNX:\u001b[0m starting export with onnx 1.16.1 opset 17...\n\u001b[34m\u001b[1mONNX:\u001b[0m export success ✅ 1.4s, saved as 'ultralytics/runs/detect/train/weights/best.onnx' (8.3 MB)\n\u001b[31m\u001b[1mrequirements:\u001b[0m Ultralytics requirement ['tensorrt>7.0.0,<=10.1.0'] not found, attempting AutoUpdate...\nCollecting tensorrt<=10.1.0,>7.0.0\n  Downloading tensorrt-10.1.0.tar.gz (16 kB)\n  Preparing metadata (setup.py): started\n  Preparing metadata (setup.py): finished with status 'done'\nCollecting tensorrt-cu12 (from tensorrt<=10.1.0,>7.0.0)\n  Downloading tensorrt-cu12-10.3.0.tar.gz (18 kB)\n  Preparing metadata (setup.py): started\n  Preparing metadata (setup.py): finished with status 'done'\nBuilding wheels for collected packages: tensorrt, tensorrt-cu12\n  Building wheel for tensorrt (setup.py): started\n  Building wheel for tensorrt (setup.py): finished with status 'done'\n  Created wheel for tensorrt: filename=tensorrt-10.1.0-py2.py3-none-any.whl size=16333 sha256=0fb414d30bba0a7e894188280a4c7eec8e349f512f734909b23be01ccba7c2db\n  Stored in directory: /tmp/pip-ephem-wheel-cache-8zdtea86/wheels/f5/55/f5/a1836546c0d92da062e9365a0323953f5e6a0a5f51d46da503\n  Building wheel for tensorrt-cu12 (setup.py): started\n  Building wheel for tensorrt-cu12 (setup.py): still running...\n  Building wheel for tensorrt-cu12 (setup.py): finished with status 'done'\n  Created wheel for tensorrt-cu12: filename=tensorrt_cu12-10.3.0-py2.py3-none-any.whl size=17556 sha256=b17a98640dbe6c4d50f6d6e2e5e1e3f823f16e599c3d6ed610cfd5d92a9e9c02\n  Stored in directory: /tmp/pip-ephem-wheel-cache-8zdtea86/wheels/14/31/c2/a3ecb74def7087b76ef2a701e6823f03e40ab43348c668a571\nSuccessfully built tensorrt tensorrt-cu12\nInstalling collected packages: tensorrt-cu12, tensorrt\nSuccessfully installed tensorrt-10.1.0 tensorrt-cu12-10.3.0\n\n\u001b[31m\u001b[1mrequirements:\u001b[0m AutoUpdate success ✅ 102.5s, installed 1 package: ['tensorrt>7.0.0,<=10.1.0']\n\u001b[31m\u001b[1mrequirements:\u001b[0m ⚠️ \u001b[1mRestart runtime or rerun command for updates to take effect\u001b[0m\n\n\n\u001b[34m\u001b[1mTensorRT:\u001b[0m starting export with TensorRT 10.3.0...\n[08/12/2024-08:59:11] [TRT] [I] [MemUsageChange] Init CUDA: CPU +1, GPU +0, now: CPU 2096, GPU 618 (MiB)\n[08/12/2024-08:59:13] [TRT] [I] [MemUsageChange] Init builder kernel library: CPU +911, GPU +180, now: CPU 3163, GPU 798 (MiB)\n[08/12/2024-08:59:13] [TRT] [I] ----------------------------------------------------------------\n[08/12/2024-08:59:13] [TRT] [I] Input filename:   ultralytics/runs/detect/train/weights/best.onnx\n[08/12/2024-08:59:13] [TRT] [I] ONNX IR version:  0.0.8\n[08/12/2024-08:59:13] [TRT] [I] Opset version:    17\n[08/12/2024-08:59:13] [TRT] [I] Producer name:    pytorch\n[08/12/2024-08:59:13] [TRT] [I] Producer version: 2.1.2\n[08/12/2024-08:59:13] [TRT] [I] Domain:           \n[08/12/2024-08:59:13] [TRT] [I] Model version:    0\n[08/12/2024-08:59:13] [TRT] [I] Doc string:       \n[08/12/2024-08:59:13] [TRT] [I] ----------------------------------------------------------------\n\u001b[34m\u001b[1mTensorRT:\u001b[0m input \"images\" with shape(1, 3, 640, 640) DataType.FLOAT\n\u001b[34m\u001b[1mTensorRT:\u001b[0m output \"output0\" with shape(1, 6, 8400) DataType.FLOAT\n\u001b[34m\u001b[1mTensorRT:\u001b[0m building FP32 engine as ultralytics/runs/detect/train/weights/best.engine\n[08/12/2024-08:59:13] [TRT] [I] BuilderFlag::kTF32 is set but hardware does not support TF32. Disabling TF32.\n[08/12/2024-08:59:13] [TRT] [I] BuilderFlag::kTF32 is set but hardware does not support TF32. Disabling TF32.\n[08/12/2024-08:59:13] [TRT] [I] Local timing cache in use. Profiling results in this builder pass will not be stored.\n[08/12/2024-09:00:51] [TRT] [I] Detected 1 inputs and 3 output network tensors.\n[08/12/2024-09:00:52] [TRT] [I] Total Host Persistent Memory: 517120\n[08/12/2024-09:00:52] [TRT] [I] Total Device Persistent Memory: 877568\n[08/12/2024-09:00:52] [TRT] [I] Total Scratch Memory: 0\n[08/12/2024-09:00:52] [TRT] [I] [BlockAssignment] Started assigning block shifts. This will take 351 steps to complete.\n[08/12/2024-09:00:52] [TRT] [I] [BlockAssignment] Algorithm ShiftNTopDown took 38.6653ms to assign 11 blocks to 351 nodes requiring 11265536 bytes.\n[08/12/2024-09:00:52] [TRT] [I] Total Activation Memory: 11264000\n[08/12/2024-09:00:52] [TRT] [I] Total Weights Memory: 10866240\n[08/12/2024-09:00:52] [TRT] [I] Engine generation completed in 98.595 seconds.\n[08/12/2024-09:00:52] [TRT] [I] [MemUsageStats] Peak memory usage of TRT CPU/GPU memory allocators: CPU 1 MiB, GPU 134 MiB\n[08/12/2024-09:00:52] [TRT] [I] [MemUsageStats] Peak memory usage during Engine building and serialization: CPU: 5528 MiB\n\u001b[34m\u001b[1mTensorRT:\u001b[0m export success ✅ 205.3s, saved as 'ultralytics/runs/detect/train/weights/best.engine' (12.1 MB)\n\nExport complete (205.4s)\nResults saved to \u001b[1m/kaggle/working/ultralytics/runs/detect/train/weights\u001b[0m\nPredict:         yolo predict task=detect model=ultralytics/runs/detect/train/weights/best.engine imgsz=640  \nValidate:        yolo val task=detect model=ultralytics/runs/detect/train/weights/best.engine imgsz=640 data=np_mynp-2/data.yaml  \nVisualize:       https://netron.app\nLoading ultralytics/runs/detect/train/weights/best.engine for TensorRT inference...\n[08/12/2024-09:00:52] [TRT] [I] Loaded engine size: 12 MiB\n[08/12/2024-09:00:52] [TRT] [I] [MemUsageChange] TensorRT-managed allocation in IExecutionContext creation: CPU +0, GPU +11, now: CPU 0, GPU 22 (MiB)\n\nimage 1/1 /kaggle/working/ultralytics/ultralytics/assets/bus.jpg: 640x640 2 UNFITs, 2.8ms\nSpeed: 3.1ms preprocess, 2.8ms inference, 1.9ms postprocess per image at shape (1, 3, 640, 640)\nLoading ultralytics/runs/detect/train/weights/best.engine for TensorRT inference...\n[08/12/2024-09:00:52] [TRT] [I] The logger passed into createInferRuntime differs from one already provided for an existing builder, runtime, or refitter. Uses of the global logger, returned by nvinfer1::getLogger(), will return the existing value.\n[08/12/2024-09:00:52] [TRT] [I] Loaded engine size: 12 MiB\n[08/12/2024-09:00:52] [TRT] [I] [MemUsageChange] TensorRT-managed allocation in IExecutionContext creation: CPU +0, GPU +12, now: CPU 1, GPU 45 (MiB)\nERROR ❌️ Benchmark failure for TensorRT: 'data.yaml' does not exist\nERROR ❌️ Benchmark failure for CoreML: inference not supported on GPU\n\n\u001b[34m\u001b[1mPyTorch:\u001b[0m starting from 'ultralytics/runs/detect/train/weights/best.pt' with input shape (1, 3, 640, 640) BCHW and output shape(s) (1, 6, 8400) (4.4 MB)\n\u001b[31m\u001b[1mrequirements:\u001b[0m Ultralytics requirements ['sng4onnx>=1.0.1', 'onnx_graphsurgeon>=0.3.26', 'onnx2tf>1.17.5,<=1.22.3', 'onnxslim>=0.1.31', 'tflite_support'] not found, attempting AutoUpdate...\nLooking in indexes: https://pypi.org/simple, https://pypi.ngc.nvidia.com\nCollecting sng4onnx>=1.0.1\n  Downloading sng4onnx-1.0.4-py3-none-any.whl.metadata (4.6 kB)\nCollecting onnx_graphsurgeon>=0.3.26\n  Downloading onnx_graphsurgeon-0.5.2-py2.py3-none-any.whl.metadata (8.1 kB)\nCollecting onnx2tf<=1.22.3,>1.17.5\n  Downloading onnx2tf-1.22.3-py3-none-any.whl.metadata (136 kB)\n\u001b[2K     \u001b[90m━━━━━━━━━━━━━━━━━━━━━━━━━━━━━━━━━━━━━━\u001b[0m \u001b[32m136.6/136.6 kB\u001b[0m \u001b[31m12.0 MB/s\u001b[0m eta \u001b[36m0:00:00\u001b[0m\n\u001b[?25hCollecting onnxslim>=0.1.31\n  Downloading onnxslim-0.1.32-py3-none-any.whl.metadata (2.7 kB)\nCollecting tflite_support\n  Downloading tflite_support-0.4.4-cp310-cp310-manylinux2014_x86_64.whl.metadata (2.4 kB)\nRequirement already satisfied: numpy in /opt/conda/lib/python3.10/site-packages (from onnx_graphsurgeon>=0.3.26) (1.26.4)\nRequirement already satisfied: onnx>=1.14.0 in /opt/conda/lib/python3.10/site-packages (from onnx_graphsurgeon>=0.3.26) (1.16.1)\nRequirement already satisfied: sympy in /opt/conda/lib/python3.10/site-packages (from onnxslim>=0.1.31) (1.13.0)\nRequirement already satisfied: packaging in /opt/conda/lib/python3.10/site-packages (from onnxslim>=0.1.31) (21.3)\nRequirement already satisfied: absl-py>=0.7.0 in /opt/conda/lib/python3.10/site-packages (from tflite_support) (1.4.0)\nRequirement already satisfied: flatbuffers>=2.0 in /opt/conda/lib/python3.10/site-packages (from tflite_support) (23.5.26)\nRequirement already satisfied: protobuf<4,>=3.18.0 in /opt/conda/lib/python3.10/site-packages (from tflite_support) (3.20.3)\nCollecting sounddevice>=0.4.4 (from tflite_support)\n  Downloading sounddevice-0.5.0-py3-none-any.whl.metadata (1.4 kB)\nRequirement already satisfied: pybind11>=2.6.0 in /opt/conda/lib/python3.10/site-packages (from tflite_support) (2.13.1)\nRequirement already satisfied: CFFI>=1.0 in /opt/conda/lib/python3.10/site-packages (from sounddevice>=0.4.4->tflite_support) (1.16.0)\nRequirement already satisfied: pyparsing!=3.0.5,>=2.0.2 in /opt/conda/lib/python3.10/site-packages (from packaging->onnxslim>=0.1.31) (3.1.1)\nRequirement already satisfied: mpmath<1.4,>=1.1.0 in /opt/conda/lib/python3.10/site-packages (from sympy->onnxslim>=0.1.31) (1.3.0)\nRequirement already satisfied: pycparser in /opt/conda/lib/python3.10/site-packages (from CFFI>=1.0->sounddevice>=0.4.4->tflite_support) (2.21)\nDownloading sng4onnx-1.0.4-py3-none-any.whl (5.9 kB)\nDownloading onnx_graphsurgeon-0.5.2-py2.py3-none-any.whl (56 kB)\n\u001b[2K   \u001b[90m━━━━━━━━━━━━━━━━━━━━━━━━━━━━━━━━━━━━━━━━\u001b[0m \u001b[32m56.4/56.4 kB\u001b[0m \u001b[31m214.5 MB/s\u001b[0m eta \u001b[36m0:00:00\u001b[0m\n\u001b[?25hDownloading onnx2tf-1.22.3-py3-none-any.whl (435 kB)\n\u001b[2K   \u001b[90m━━━━━━━━━━━━━━━━━━━━━━━━━━━━━━━━━━━━━━━━\u001b[0m \u001b[32m435.0/435.0 kB\u001b[0m \u001b[31m65.8 MB/s\u001b[0m eta \u001b[36m0:00:00\u001b[0m\n\u001b[?25hDownloading onnxslim-0.1.32-py3-none-any.whl (130 kB)\n\u001b[2K   \u001b[90m━━━━━━━━━━━━━━━━━━━━━━━━━━━━━━━━━━━━━━━\u001b[0m \u001b[32m130.5/130.5 kB\u001b[0m \u001b[31m251.0 MB/s\u001b[0m eta \u001b[36m0:00:00\u001b[0m\n\u001b[?25hDownloading tflite_support-0.4.4-cp310-cp310-manylinux2014_x86_64.whl (60.8 MB)\n\u001b[2K   \u001b[90m━━━━━━━━━━━━━━━━━━━━━━━━━━━━━━━━━━━━━━━━\u001b[0m \u001b[32m60.8/60.8 MB\u001b[0m \u001b[31m237.1 MB/s\u001b[0m eta \u001b[36m0:00:00\u001b[0ma \u001b[36m0:00:01\u001b[0m\n\u001b[?25hDownloading sounddevice-0.5.0-py3-none-any.whl (32 kB)\nInstalling collected packages: sng4onnx, onnx2tf, sounddevice, onnxslim, onnx_graphsurgeon, tflite_support\nSuccessfully installed onnx2tf-1.22.3 onnx_graphsurgeon-0.5.2 onnxslim-0.1.32 sng4onnx-1.0.4 sounddevice-0.5.0 tflite_support-0.4.4\n\n\u001b[31m\u001b[1mrequirements:\u001b[0m AutoUpdate success ✅ 16.0s, installed 5 packages: ['sng4onnx>=1.0.1', 'onnx_graphsurgeon>=0.3.26', 'onnx2tf>1.17.5,<=1.22.3', 'onnxslim>=0.1.31', 'tflite_support']\n\u001b[31m\u001b[1mrequirements:\u001b[0m ⚠️ \u001b[1mRestart runtime or rerun command for updates to take effect\u001b[0m\n\n\n\u001b[34m\u001b[1mTensorFlow SavedModel:\u001b[0m starting export with tensorflow 2.15.0...\nDownloading https://github.com/ultralytics/assets/releases/download/v8.2.0/calibration_image_sample_data_20x128x128x3_float32.npy.zip to 'calibration_image_sample_data_20x128x128x3_float32.npy.zip'...\n",
          "output_type": "stream"
        },
        {
          "name": "stderr",
          "text": "100%|██████████| 1.11M/1.11M [00:00<00:00, 30.3MB/s]\nUnzipping calibration_image_sample_data_20x128x128x3_float32.npy.zip to /kaggle/working/calibration_image_sample_data_20x128x128x3_float32.npy...: 100%|██████████| 1/1 [00:00<00:00, 44.34file/s]",
          "output_type": "stream"
        },
        {
          "name": "stdout",
          "text": "\n\u001b[34m\u001b[1mONNX:\u001b[0m starting export with onnx 1.16.1 opset 17...\n",
          "output_type": "stream"
        },
        {
          "name": "stderr",
          "text": "\n",
          "output_type": "stream"
        },
        {
          "name": "stdout",
          "text": "\u001b[34m\u001b[1mONNX:\u001b[0m slimming with onnxslim 0.1.32...\n\u001b[34m\u001b[1mONNX:\u001b[0m export success ✅ 2.7s, saved as 'ultralytics/runs/detect/train/weights/best.onnx' (8.3 MB)\n\u001b[34m\u001b[1mTensorFlow SavedModel:\u001b[0m starting TFLite export with onnx2tf 1.22.3...\n",
          "output_type": "stream"
        }
      ]
    },
    {
      "cell_type": "code",
      "source": [
        "import ultralytics\n",
        "from ultralytics import YOLO\n",
        "\n",
        "model = YOLO(\"ultralytics/ultralytics/cfg/models/v8/newconf.yaml\")\n",
        "\n",
        "# Display model information (optional)\n",
        "model.info()\n",
        "#results = model.train(data=\"coco128.yaml\", epochs=100, imgsz=640)"
      ],
      "metadata": {
        "execution": {
          "iopub.status.busy": "2024-08-13T17:39:17.994859Z",
          "iopub.execute_input": "2024-08-13T17:39:17.99525Z",
          "iopub.status.idle": "2024-08-13T17:39:18.430307Z",
          "shell.execute_reply.started": "2024-08-13T17:39:17.995216Z",
          "shell.execute_reply": "2024-08-13T17:39:18.429396Z"
        },
        "trusted": true,
        "id": "NZ_5KKTqyCXO",
        "outputId": "3f1405ac-2ef5-4ac8-9f8b-d469f57e2351"
      },
      "execution_count": null,
      "outputs": [
        {
          "name": "stdout",
          "text": "WARNING ⚠️ no model scale passed. Assuming scale='n'.\nnewconf summary: 512 layers, 2,157,798 parameters, 2,157,782 gradients, 7.2 GFLOPs\n",
          "output_type": "stream"
        },
        {
          "execution_count": 22,
          "output_type": "execute_result",
          "data": {
            "text/plain": "(512, 2157798, 2157782, 7.17952)"
          },
          "metadata": {}
        }
      ]
    },
    {
      "cell_type": "code",
      "source": [
        "results = model.train(data=\"coco128.yaml\", epochs=100, imgsz=640)"
      ],
      "metadata": {
        "execution": {
          "iopub.status.busy": "2024-08-13T17:50:37.861419Z",
          "iopub.execute_input": "2024-08-13T17:50:37.862266Z",
          "iopub.status.idle": "2024-08-13T17:57:59.952137Z",
          "shell.execute_reply.started": "2024-08-13T17:50:37.86223Z",
          "shell.execute_reply": "2024-08-13T17:57:59.950983Z"
        },
        "trusted": true,
        "id": "K9P69mrnyCXO",
        "outputId": "9cd77281-7405-4904-cd0e-c7401f307d29"
      },
      "execution_count": null,
      "outputs": [
        {
          "name": "stdout",
          "text": "New https://pypi.org/project/ultralytics/8.2.77 available 😃 Update with 'pip install -U ultralytics'\nUltralytics YOLOv8.2.76 🚀 Python-3.10.13 torch-2.1.2 CUDA:0 (Tesla T4, 15095MiB)\n\u001b[34m\u001b[1mengine/trainer: \u001b[0mtask=detect, mode=train, model=ultralytics/ultralytics/cfg/models/v8/newconf.yaml, data=coco128.yaml, epochs=100, time=None, patience=100, batch=16, imgsz=640, save=True, save_period=-1, cache=False, device=None, workers=8, project=None, name=train6, exist_ok=False, pretrained=True, optimizer=auto, verbose=True, seed=0, deterministic=True, single_cls=False, rect=False, cos_lr=False, close_mosaic=10, resume=False, amp=True, fraction=1.0, profile=False, freeze=None, multi_scale=False, overlap_mask=True, mask_ratio=4, dropout=0.0, val=True, split=val, save_json=False, save_hybrid=False, conf=None, iou=0.7, max_det=300, half=False, dnn=False, plots=True, source=None, vid_stride=1, stream_buffer=False, visualize=False, augment=False, agnostic_nms=False, classes=None, retina_masks=False, embed=None, show=False, save_frames=False, save_txt=False, save_conf=False, save_crop=False, show_labels=True, show_conf=True, show_boxes=True, line_width=None, format=torchscript, keras=False, optimize=False, int8=False, dynamic=False, simplify=False, opset=None, workspace=4, nms=False, lr0=0.01, lrf=0.01, momentum=0.937, weight_decay=0.0005, warmup_epochs=3.0, warmup_momentum=0.8, warmup_bias_lr=0.1, box=7.5, cls=0.5, dfl=1.5, pose=12.0, kobj=1.0, label_smoothing=0.0, nbs=64, hsv_h=0.015, hsv_s=0.7, hsv_v=0.4, degrees=0.0, translate=0.1, scale=0.5, shear=0.0, perspective=0.0, flipud=0.0, fliplr=0.5, bgr=0.0, mosaic=1.0, mixup=0.0, copy_paste=0.0, auto_augment=randaugment, erasing=0.4, crop_fraction=1.0, cfg=None, tracker=botsort.yaml, save_dir=/kaggle/working/ultralytics/runs/detect/train6\nWARNING ⚠️ no model scale passed. Assuming scale='n'.\n\n                   from  n    params  module                                       arguments                     \n  0                  -1  1       464  ultralytics.nn.modules.conv.Conv             [3, 16, 3, 2]                 \n  1                  -1  1      4672  ultralytics.nn.modules.conv.Conv             [16, 32, 3, 2]                \n  2                  -1  1      7360  ultralytics.nn.modules.block.C2f             [32, 32, 1, True]             \n  3                  -1  1     18560  ultralytics.nn.modules.conv.Conv             [32, 64, 3, 2]                \n  4                  -1  1     58976  ultralytics.nn.modules.block.RepNCSPELAN4    [64, 16, 64, 32, 3]           \n  5                  -1  1      4672  ultralytics.nn.modules.conv.Conv             [16, 32, 3, 2]                \n  6                  -1  1    130144  ultralytics.nn.modules.block.RepNCSPELAN4    [32, 32, 128, 48, 3]          \n  7                  -1  1     18560  ultralytics.nn.modules.conv.Conv             [32, 64, 3, 2]                \n  8                  -1  1    254464  ultralytics.nn.modules.block.RepNCSPELAN4    [64, 64, 256, 64, 3]          \n  9                  -1  1     10432  ultralytics.nn.modules.block.SPPF            [64, 64, 5]                   \n 10                  -1  1         0  torch.nn.modules.upsampling.Upsample         [None, 2, 'nearest']          \n 11             [-1, 6]  1         0  ultralytics.nn.modules.conv.Concat           [1]                           \n 12                  -1  1    111360  ultralytics.nn.modules.block.C2f             [96, 128, 1]                  \n 13                  -1  1         0  torch.nn.modules.upsampling.Upsample         [None, 2, 'nearest']          \n 14             [-1, 4]  1         0  ultralytics.nn.modules.conv.Concat           [1]                           \n 15                  -1  1     34176  ultralytics.nn.modules.block.C2f             [144, 64, 1]                  \n 16                  -1  1     36992  ultralytics.nn.modules.conv.Conv             [64, 64, 3, 2]                \n 17            [-1, 12]  1         0  ultralytics.nn.modules.conv.Concat           [1]                           \n 18                  -1  1    123648  ultralytics.nn.modules.block.C2f             [192, 128, 1]                 \n 19                  -1  1    147712  ultralytics.nn.modules.conv.Conv             [128, 128, 3, 2]              \n 20             [-1, 9]  1         0  ultralytics.nn.modules.conv.Concat           [1]                           \n 21                  -1  1    443904  ultralytics.nn.modules.block.C2f             [192, 256, 1]                 \n 22        [15, 18, 21]  1    897664  ultralytics.nn.modules.head.Detect           [80, [64, 128, 256]]          \nnewconf summary: 512 layers, 2,303,760 parameters, 2,303,744 gradients, 7.8 GFLOPs\n\n\u001b[34m\u001b[1mTensorBoard: \u001b[0mStart with 'tensorboard --logdir /kaggle/working/ultralytics/runs/detect/train6', view at http://localhost:6006/\nFreezing layer 'model.22.dfl.conv.weight'\n\u001b[34m\u001b[1mAMP: \u001b[0mrunning Automatic Mixed Precision (AMP) checks with YOLOv8n...\n\u001b[34m\u001b[1mAMP: \u001b[0mchecks passed ✅\n",
          "output_type": "stream"
        },
        {
          "name": "stderr",
          "text": "\u001b[34m\u001b[1mtrain: \u001b[0mScanning /kaggle/working/datasets/coco128/labels/train2017.cache... 126 images, 2 backgrounds, 0 corrupt: 100%|██████████| 128/128 [00:00<?, ?it/s]",
          "output_type": "stream"
        },
        {
          "name": "stdout",
          "text": "\u001b[34m\u001b[1malbumentations: \u001b[0mBlur(p=0.01, blur_limit=(3, 7)), MedianBlur(p=0.01, blur_limit=(3, 7)), ToGray(p=0.01), CLAHE(p=0.01, clip_limit=(1, 4.0), tile_grid_size=(8, 8))\n",
          "output_type": "stream"
        },
        {
          "name": "stderr",
          "text": "\nos.fork() was called. os.fork() is incompatible with multithreaded code, and JAX is multithreaded, so this will likely lead to a deadlock.\n\u001b[34m\u001b[1mval: \u001b[0mScanning /kaggle/working/datasets/coco128/labels/train2017.cache... 126 images, 2 backgrounds, 0 corrupt: 100%|██████████| 128/128 [00:00<?, ?it/s]\n",
          "output_type": "stream"
        },
        {
          "name": "stdout",
          "text": "Plotting labels to /kaggle/working/ultralytics/runs/detect/train6/labels.jpg... \n\u001b[34m\u001b[1moptimizer:\u001b[0m 'optimizer=auto' found, ignoring 'lr0=0.01' and 'momentum=0.937' and determining best 'optimizer', 'lr0' and 'momentum' automatically... \n\u001b[34m\u001b[1moptimizer:\u001b[0m AdamW(lr=0.000119, momentum=0.9) with parameter groups 125 weight(decay=0.0), 132 weight(decay=0.0005), 131 bias(decay=0.0)\n\u001b[34m\u001b[1mTensorBoard: \u001b[0mmodel graph visualization added ✅\nImage sizes 640 train, 640 val\nUsing 2 dataloader workers\nLogging results to \u001b[1m/kaggle/working/ultralytics/runs/detect/train6\u001b[0m\nStarting training for 100 epochs...\n\n      Epoch    GPU_mem   box_loss   cls_loss   dfl_loss  Instances       Size\n",
          "output_type": "stream"
        },
        {
          "name": "stderr",
          "text": "      1/100      2.85G      3.446      5.749      4.277        130        640: 100%|██████████| 8/8 [00:05<00:00,  1.50it/s]\n                 Class     Images  Instances      Box(P          R      mAP50  mAP50-95): 100%|██████████| 4/4 [00:00<00:00,  6.47it/s]",
          "output_type": "stream"
        },
        {
          "name": "stdout",
          "text": "                   all        128        929          0          0          0          0\n",
          "output_type": "stream"
        },
        {
          "name": "stderr",
          "text": "\n",
          "output_type": "stream"
        },
        {
          "name": "stdout",
          "text": "\n      Epoch    GPU_mem   box_loss   cls_loss   dfl_loss  Instances       Size\n",
          "output_type": "stream"
        },
        {
          "name": "stderr",
          "text": "      2/100      2.96G      3.573      5.707      4.256        178        640: 100%|██████████| 8/8 [00:01<00:00,  4.00it/s]\n                 Class     Images  Instances      Box(P          R      mAP50  mAP50-95): 100%|██████████| 4/4 [00:00<00:00,  6.30it/s]",
          "output_type": "stream"
        },
        {
          "name": "stdout",
          "text": "                   all        128        929          0          0          0          0\n",
          "output_type": "stream"
        },
        {
          "name": "stderr",
          "text": "\n",
          "output_type": "stream"
        },
        {
          "name": "stdout",
          "text": "\n      Epoch    GPU_mem   box_loss   cls_loss   dfl_loss  Instances       Size\n",
          "output_type": "stream"
        },
        {
          "name": "stderr",
          "text": "      3/100      2.95G      3.564      5.758       4.28        280        640: 100%|██████████| 8/8 [00:01<00:00,  4.54it/s]\n                 Class     Images  Instances      Box(P          R      mAP50  mAP50-95): 100%|██████████| 4/4 [00:00<00:00,  6.48it/s]",
          "output_type": "stream"
        },
        {
          "name": "stdout",
          "text": "                   all        128        929          0          0          0          0\n",
          "output_type": "stream"
        },
        {
          "name": "stderr",
          "text": "\n",
          "output_type": "stream"
        },
        {
          "name": "stdout",
          "text": "\n      Epoch    GPU_mem   box_loss   cls_loss   dfl_loss  Instances       Size\n",
          "output_type": "stream"
        },
        {
          "name": "stderr",
          "text": "      4/100      2.82G      3.641      5.746      4.258        275        640: 100%|██████████| 8/8 [00:01<00:00,  4.56it/s]\n                 Class     Images  Instances      Box(P          R      mAP50  mAP50-95): 100%|██████████| 4/4 [00:00<00:00,  6.43it/s]",
          "output_type": "stream"
        },
        {
          "name": "stdout",
          "text": "                   all        128        929          0          0          0          0\n",
          "output_type": "stream"
        },
        {
          "name": "stderr",
          "text": "\n",
          "output_type": "stream"
        },
        {
          "name": "stdout",
          "text": "\n      Epoch    GPU_mem   box_loss   cls_loss   dfl_loss  Instances       Size\n",
          "output_type": "stream"
        },
        {
          "name": "stderr",
          "text": "      5/100      2.86G      3.646      5.727      4.271        155        640: 100%|██████████| 8/8 [00:01<00:00,  4.49it/s]\n                 Class     Images  Instances      Box(P          R      mAP50  mAP50-95): 100%|██████████| 4/4 [00:00<00:00,  6.49it/s]",
          "output_type": "stream"
        },
        {
          "name": "stdout",
          "text": "                   all        128        929          0          0          0          0\n",
          "output_type": "stream"
        },
        {
          "name": "stderr",
          "text": "\n",
          "output_type": "stream"
        },
        {
          "name": "stdout",
          "text": "\n      Epoch    GPU_mem   box_loss   cls_loss   dfl_loss  Instances       Size\n",
          "output_type": "stream"
        },
        {
          "name": "stderr",
          "text": "      6/100       2.8G       3.55      5.682      4.242        159        640: 100%|██████████| 8/8 [00:01<00:00,  4.25it/s]\n                 Class     Images  Instances      Box(P          R      mAP50  mAP50-95): 100%|██████████| 4/4 [00:00<00:00,  6.47it/s]",
          "output_type": "stream"
        },
        {
          "name": "stdout",
          "text": "                   all        128        929          0          0          0          0\n",
          "output_type": "stream"
        },
        {
          "name": "stderr",
          "text": "\n",
          "output_type": "stream"
        },
        {
          "name": "stdout",
          "text": "\n      Epoch    GPU_mem   box_loss   cls_loss   dfl_loss  Instances       Size\n",
          "output_type": "stream"
        },
        {
          "name": "stderr",
          "text": "      7/100      2.83G      3.627      5.726      4.239        215        640: 100%|██████████| 8/8 [00:01<00:00,  4.71it/s]\n                 Class     Images  Instances      Box(P          R      mAP50  mAP50-95): 100%|██████████| 4/4 [00:00<00:00,  6.34it/s]",
          "output_type": "stream"
        },
        {
          "name": "stdout",
          "text": "                   all        128        929          0          0          0          0\n",
          "output_type": "stream"
        },
        {
          "name": "stderr",
          "text": "\n",
          "output_type": "stream"
        },
        {
          "name": "stdout",
          "text": "\n      Epoch    GPU_mem   box_loss   cls_loss   dfl_loss  Instances       Size\n",
          "output_type": "stream"
        },
        {
          "name": "stderr",
          "text": "      8/100       2.8G      3.571      5.721      4.233        202        640: 100%|██████████| 8/8 [00:01<00:00,  4.68it/s]\n                 Class     Images  Instances      Box(P          R      mAP50  mAP50-95): 100%|██████████| 4/4 [00:00<00:00,  6.48it/s]",
          "output_type": "stream"
        },
        {
          "name": "stdout",
          "text": "                   all        128        929          0          0          0          0\n",
          "output_type": "stream"
        },
        {
          "name": "stderr",
          "text": "\n",
          "output_type": "stream"
        },
        {
          "name": "stdout",
          "text": "\n      Epoch    GPU_mem   box_loss   cls_loss   dfl_loss  Instances       Size\n",
          "output_type": "stream"
        },
        {
          "name": "stderr",
          "text": "      9/100      2.84G      3.565      5.712       4.24        181        640: 100%|██████████| 8/8 [00:01<00:00,  4.68it/s]\n                 Class     Images  Instances      Box(P          R      mAP50  mAP50-95): 100%|██████████| 4/4 [00:00<00:00,  6.37it/s]",
          "output_type": "stream"
        },
        {
          "name": "stdout",
          "text": "                   all        128        929          0          0          0          0\n",
          "output_type": "stream"
        },
        {
          "name": "stderr",
          "text": "\n",
          "output_type": "stream"
        },
        {
          "name": "stdout",
          "text": "\n      Epoch    GPU_mem   box_loss   cls_loss   dfl_loss  Instances       Size\n",
          "output_type": "stream"
        },
        {
          "name": "stderr",
          "text": "     10/100      2.73G      3.627      5.712      4.233        136        640: 100%|██████████| 8/8 [00:01<00:00,  4.77it/s]\n                 Class     Images  Instances      Box(P          R      mAP50  mAP50-95): 100%|██████████| 4/4 [00:00<00:00,  6.31it/s]",
          "output_type": "stream"
        },
        {
          "name": "stdout",
          "text": "                   all        128        929          0          0          0          0\n",
          "output_type": "stream"
        },
        {
          "name": "stderr",
          "text": "\n",
          "output_type": "stream"
        },
        {
          "name": "stdout",
          "text": "\n      Epoch    GPU_mem   box_loss   cls_loss   dfl_loss  Instances       Size\n",
          "output_type": "stream"
        },
        {
          "name": "stderr",
          "text": "     11/100      2.64G      3.527      5.683      4.209        219        640: 100%|██████████| 8/8 [00:01<00:00,  4.70it/s]\n                 Class     Images  Instances      Box(P          R      mAP50  mAP50-95): 100%|██████████| 4/4 [00:00<00:00,  6.72it/s]",
          "output_type": "stream"
        },
        {
          "name": "stdout",
          "text": "                   all        128        929          0          0          0          0\n",
          "output_type": "stream"
        },
        {
          "name": "stderr",
          "text": "\n",
          "output_type": "stream"
        },
        {
          "name": "stdout",
          "text": "\n      Epoch    GPU_mem   box_loss   cls_loss   dfl_loss  Instances       Size\n",
          "output_type": "stream"
        },
        {
          "name": "stderr",
          "text": "     12/100      2.77G      3.617      5.689      4.212        283        640: 100%|██████████| 8/8 [00:01<00:00,  4.70it/s]\n                 Class     Images  Instances      Box(P          R      mAP50  mAP50-95): 100%|██████████| 4/4 [00:00<00:00,  6.34it/s]",
          "output_type": "stream"
        },
        {
          "name": "stdout",
          "text": "                   all        128        929          0          0          0          0\n",
          "output_type": "stream"
        },
        {
          "name": "stderr",
          "text": "\n",
          "output_type": "stream"
        },
        {
          "name": "stdout",
          "text": "\n      Epoch    GPU_mem   box_loss   cls_loss   dfl_loss  Instances       Size\n",
          "output_type": "stream"
        },
        {
          "name": "stderr",
          "text": "     13/100      2.96G      3.687      5.669      4.207        298        640: 100%|██████████| 8/8 [00:01<00:00,  4.71it/s]\n                 Class     Images  Instances      Box(P          R      mAP50  mAP50-95): 100%|██████████| 4/4 [00:00<00:00,  6.43it/s]",
          "output_type": "stream"
        },
        {
          "name": "stdout",
          "text": "                   all        128        929          0          0          0          0\n",
          "output_type": "stream"
        },
        {
          "name": "stderr",
          "text": "\n",
          "output_type": "stream"
        },
        {
          "name": "stdout",
          "text": "\n      Epoch    GPU_mem   box_loss   cls_loss   dfl_loss  Instances       Size\n",
          "output_type": "stream"
        },
        {
          "name": "stderr",
          "text": "     14/100       2.8G      3.634      5.701      4.197        267        640: 100%|██████████| 8/8 [00:01<00:00,  4.45it/s]\n                 Class     Images  Instances      Box(P          R      mAP50  mAP50-95): 100%|██████████| 4/4 [00:00<00:00,  6.59it/s]",
          "output_type": "stream"
        },
        {
          "name": "stdout",
          "text": "                   all        128        929          0          0          0          0\n",
          "output_type": "stream"
        },
        {
          "name": "stderr",
          "text": "\n",
          "output_type": "stream"
        },
        {
          "name": "stdout",
          "text": "\n      Epoch    GPU_mem   box_loss   cls_loss   dfl_loss  Instances       Size\n",
          "output_type": "stream"
        },
        {
          "name": "stderr",
          "text": "     15/100      2.82G      3.525      5.659      4.189        226        640: 100%|██████████| 8/8 [00:01<00:00,  4.82it/s]\n                 Class     Images  Instances      Box(P          R      mAP50  mAP50-95): 100%|██████████| 4/4 [00:00<00:00,  6.54it/s]",
          "output_type": "stream"
        },
        {
          "name": "stdout",
          "text": "                   all        128        929          0          0          0          0\n",
          "output_type": "stream"
        },
        {
          "name": "stderr",
          "text": "\n",
          "output_type": "stream"
        },
        {
          "name": "stdout",
          "text": "\n      Epoch    GPU_mem   box_loss   cls_loss   dfl_loss  Instances       Size\n",
          "output_type": "stream"
        },
        {
          "name": "stderr",
          "text": "     16/100      2.73G      3.615      5.683      4.188        194        640: 100%|██████████| 8/8 [00:01<00:00,  4.88it/s]\n                 Class     Images  Instances      Box(P          R      mAP50  mAP50-95): 100%|██████████| 4/4 [00:00<00:00,  6.46it/s]",
          "output_type": "stream"
        },
        {
          "name": "stdout",
          "text": "                   all        128        929          0          0          0          0\n",
          "output_type": "stream"
        },
        {
          "name": "stderr",
          "text": "\n",
          "output_type": "stream"
        },
        {
          "name": "stdout",
          "text": "\n      Epoch    GPU_mem   box_loss   cls_loss   dfl_loss  Instances       Size\n",
          "output_type": "stream"
        },
        {
          "name": "stderr",
          "text": "     17/100       2.7G      3.613      5.645      4.175        204        640: 100%|██████████| 8/8 [00:01<00:00,  4.78it/s]\n                 Class     Images  Instances      Box(P          R      mAP50  mAP50-95): 100%|██████████| 4/4 [00:00<00:00,  6.48it/s]",
          "output_type": "stream"
        },
        {
          "name": "stdout",
          "text": "                   all        128        929          0          0          0          0\n",
          "output_type": "stream"
        },
        {
          "name": "stderr",
          "text": "\n",
          "output_type": "stream"
        },
        {
          "name": "stdout",
          "text": "\n      Epoch    GPU_mem   box_loss   cls_loss   dfl_loss  Instances       Size\n",
          "output_type": "stream"
        },
        {
          "name": "stderr",
          "text": "     18/100      2.77G      3.581      5.677       4.18        204        640: 100%|██████████| 8/8 [00:01<00:00,  4.84it/s]\n                 Class     Images  Instances      Box(P          R      mAP50  mAP50-95): 100%|██████████| 4/4 [00:00<00:00,  6.46it/s]",
          "output_type": "stream"
        },
        {
          "name": "stdout",
          "text": "                   all        128        929          0          0          0          0\n",
          "output_type": "stream"
        },
        {
          "name": "stderr",
          "text": "\n",
          "output_type": "stream"
        },
        {
          "name": "stdout",
          "text": "\n      Epoch    GPU_mem   box_loss   cls_loss   dfl_loss  Instances       Size\n",
          "output_type": "stream"
        },
        {
          "name": "stderr",
          "text": "     19/100      2.77G      3.566      5.646      4.178        239        640: 100%|██████████| 8/8 [00:01<00:00,  4.87it/s]\n                 Class     Images  Instances      Box(P          R      mAP50  mAP50-95): 100%|██████████| 4/4 [00:00<00:00,  6.40it/s]",
          "output_type": "stream"
        },
        {
          "name": "stdout",
          "text": "                   all        128        929          0          0          0          0\n",
          "output_type": "stream"
        },
        {
          "name": "stderr",
          "text": "\n",
          "output_type": "stream"
        },
        {
          "name": "stdout",
          "text": "\n      Epoch    GPU_mem   box_loss   cls_loss   dfl_loss  Instances       Size\n",
          "output_type": "stream"
        },
        {
          "name": "stderr",
          "text": "     20/100      2.77G      3.612      5.622      4.171        186        640: 100%|██████████| 8/8 [00:01<00:00,  4.92it/s]\n                 Class     Images  Instances      Box(P          R      mAP50  mAP50-95): 100%|██████████| 4/4 [00:00<00:00,  6.37it/s]",
          "output_type": "stream"
        },
        {
          "name": "stdout",
          "text": "                   all        128        929          0          0          0          0\n",
          "output_type": "stream"
        },
        {
          "name": "stderr",
          "text": "\n",
          "output_type": "stream"
        },
        {
          "name": "stdout",
          "text": "\n      Epoch    GPU_mem   box_loss   cls_loss   dfl_loss  Instances       Size\n",
          "output_type": "stream"
        },
        {
          "name": "stderr",
          "text": "     21/100      2.79G      3.645      5.641      4.165        165        640: 100%|██████████| 8/8 [00:01<00:00,  4.79it/s]\n                 Class     Images  Instances      Box(P          R      mAP50  mAP50-95): 100%|██████████| 4/4 [00:00<00:00,  6.35it/s]",
          "output_type": "stream"
        },
        {
          "name": "stdout",
          "text": "                   all        128        929          0          0          0          0\n",
          "output_type": "stream"
        },
        {
          "name": "stderr",
          "text": "\n",
          "output_type": "stream"
        },
        {
          "name": "stdout",
          "text": "\n      Epoch    GPU_mem   box_loss   cls_loss   dfl_loss  Instances       Size\n",
          "output_type": "stream"
        },
        {
          "name": "stderr",
          "text": "     22/100      2.84G      3.513      5.618      4.163        162        640: 100%|██████████| 8/8 [00:01<00:00,  4.46it/s]\n                 Class     Images  Instances      Box(P          R      mAP50  mAP50-95): 100%|██████████| 4/4 [00:00<00:00,  4.80it/s]",
          "output_type": "stream"
        },
        {
          "name": "stdout",
          "text": "                   all        128        929   0.000103    0.00116   6.22e-05   2.64e-05\n",
          "output_type": "stream"
        },
        {
          "name": "stderr",
          "text": "\n",
          "output_type": "stream"
        },
        {
          "name": "stdout",
          "text": "\n      Epoch    GPU_mem   box_loss   cls_loss   dfl_loss  Instances       Size\n",
          "output_type": "stream"
        },
        {
          "name": "stderr",
          "text": "     23/100      2.68G      3.703      5.638      4.169        232        640: 100%|██████████| 8/8 [00:01<00:00,  4.93it/s]\n                 Class     Images  Instances      Box(P          R      mAP50  mAP50-95): 100%|██████████| 4/4 [00:00<00:00,  4.92it/s]",
          "output_type": "stream"
        },
        {
          "name": "stdout",
          "text": "                   all        128        929    8.7e-05    0.00111   5.22e-05   2.35e-05\n",
          "output_type": "stream"
        },
        {
          "name": "stderr",
          "text": "\n",
          "output_type": "stream"
        },
        {
          "name": "stdout",
          "text": "\n      Epoch    GPU_mem   box_loss   cls_loss   dfl_loss  Instances       Size\n",
          "output_type": "stream"
        },
        {
          "name": "stderr",
          "text": "     24/100       2.8G      3.546      5.585      4.154        295        640: 100%|██████████| 8/8 [00:01<00:00,  4.79it/s]\n                 Class     Images  Instances      Box(P          R      mAP50  mAP50-95): 100%|██████████| 4/4 [00:00<00:00,  4.78it/s]",
          "output_type": "stream"
        },
        {
          "name": "stdout",
          "text": "                   all        128        929   8.44e-05    0.00116   5.03e-05   2.29e-05\n",
          "output_type": "stream"
        },
        {
          "name": "stderr",
          "text": "\n",
          "output_type": "stream"
        },
        {
          "name": "stdout",
          "text": "\n      Epoch    GPU_mem   box_loss   cls_loss   dfl_loss  Instances       Size\n",
          "output_type": "stream"
        },
        {
          "name": "stderr",
          "text": "     25/100      2.84G      3.497       5.56      4.147        181        640: 100%|██████████| 8/8 [00:01<00:00,  4.86it/s]\n                 Class     Images  Instances      Box(P          R      mAP50  mAP50-95): 100%|██████████| 4/4 [00:00<00:00,  4.84it/s]",
          "output_type": "stream"
        },
        {
          "name": "stdout",
          "text": "                   all        128        929   8.07e-05    0.00128   4.59e-05   1.79e-05\n",
          "output_type": "stream"
        },
        {
          "name": "stderr",
          "text": "\n",
          "output_type": "stream"
        },
        {
          "name": "stdout",
          "text": "\n      Epoch    GPU_mem   box_loss   cls_loss   dfl_loss  Instances       Size\n",
          "output_type": "stream"
        },
        {
          "name": "stderr",
          "text": "     26/100      2.84G      3.462      5.566      4.153        171        640: 100%|██████████| 8/8 [00:01<00:00,  4.77it/s]\n                 Class     Images  Instances      Box(P          R      mAP50  mAP50-95): 100%|██████████| 4/4 [00:00<00:00,  4.81it/s]",
          "output_type": "stream"
        },
        {
          "name": "stdout",
          "text": "                   all        128        929    0.00108    0.00306   0.000718   0.000217\n",
          "output_type": "stream"
        },
        {
          "name": "stderr",
          "text": "\n",
          "output_type": "stream"
        },
        {
          "name": "stdout",
          "text": "\n      Epoch    GPU_mem   box_loss   cls_loss   dfl_loss  Instances       Size\n",
          "output_type": "stream"
        },
        {
          "name": "stderr",
          "text": "     27/100      2.74G      3.579      5.547      4.137        201        640: 100%|██████████| 8/8 [00:01<00:00,  4.71it/s]\n                 Class     Images  Instances      Box(P          R      mAP50  mAP50-95): 100%|██████████| 4/4 [00:00<00:00,  4.95it/s]",
          "output_type": "stream"
        },
        {
          "name": "stdout",
          "text": "                   all        128        929   0.000671     0.0029   0.000438   9.32e-05\n",
          "output_type": "stream"
        },
        {
          "name": "stderr",
          "text": "\n",
          "output_type": "stream"
        },
        {
          "name": "stdout",
          "text": "\n      Epoch    GPU_mem   box_loss   cls_loss   dfl_loss  Instances       Size\n",
          "output_type": "stream"
        },
        {
          "name": "stderr",
          "text": "     28/100      2.82G       3.56      5.528       4.14        214        640: 100%|██████████| 8/8 [00:01<00:00,  4.83it/s]\n                 Class     Images  Instances      Box(P          R      mAP50  mAP50-95): 100%|██████████| 4/4 [00:00<00:00,  4.77it/s]",
          "output_type": "stream"
        },
        {
          "name": "stdout",
          "text": "                   all        128        929    0.00266    0.00577    0.00317   0.000663\n",
          "output_type": "stream"
        },
        {
          "name": "stderr",
          "text": "\n",
          "output_type": "stream"
        },
        {
          "name": "stdout",
          "text": "\n      Epoch    GPU_mem   box_loss   cls_loss   dfl_loss  Instances       Size\n",
          "output_type": "stream"
        },
        {
          "name": "stderr",
          "text": "     29/100      2.84G      3.517      5.549      4.135        169        640: 100%|██████████| 8/8 [00:01<00:00,  4.85it/s]\n                 Class     Images  Instances      Box(P          R      mAP50  mAP50-95): 100%|██████████| 4/4 [00:00<00:00,  4.81it/s]",
          "output_type": "stream"
        },
        {
          "name": "stdout",
          "text": "                   all        128        929    0.00138    0.00593    0.00119   0.000584\n",
          "output_type": "stream"
        },
        {
          "name": "stderr",
          "text": "\n",
          "output_type": "stream"
        },
        {
          "name": "stdout",
          "text": "\n      Epoch    GPU_mem   box_loss   cls_loss   dfl_loss  Instances       Size\n",
          "output_type": "stream"
        },
        {
          "name": "stderr",
          "text": "     30/100      2.74G      3.584      5.576      4.123        236        640: 100%|██████████| 8/8 [00:01<00:00,  4.60it/s]\n                 Class     Images  Instances      Box(P          R      mAP50  mAP50-95): 100%|██████████| 4/4 [00:00<00:00,  4.90it/s]",
          "output_type": "stream"
        },
        {
          "name": "stdout",
          "text": "                   all        128        929    0.00104    0.00605    0.00192   0.000847\n",
          "output_type": "stream"
        },
        {
          "name": "stderr",
          "text": "\n",
          "output_type": "stream"
        },
        {
          "name": "stdout",
          "text": "\n      Epoch    GPU_mem   box_loss   cls_loss   dfl_loss  Instances       Size\n",
          "output_type": "stream"
        },
        {
          "name": "stderr",
          "text": "     31/100      2.76G      3.602      5.558      4.119        246        640: 100%|██████████| 8/8 [00:01<00:00,  4.82it/s]\n                 Class     Images  Instances      Box(P          R      mAP50  mAP50-95): 100%|██████████| 4/4 [00:00<00:00,  4.79it/s]",
          "output_type": "stream"
        },
        {
          "name": "stdout",
          "text": "                   all        128        929    0.00094    0.00593    0.00188   0.000729\n",
          "output_type": "stream"
        },
        {
          "name": "stderr",
          "text": "\n",
          "output_type": "stream"
        },
        {
          "name": "stdout",
          "text": "\n      Epoch    GPU_mem   box_loss   cls_loss   dfl_loss  Instances       Size\n",
          "output_type": "stream"
        },
        {
          "name": "stderr",
          "text": "     32/100      2.91G      3.496      5.515      4.114        241        640: 100%|██████████| 8/8 [00:01<00:00,  4.82it/s]\n                 Class     Images  Instances      Box(P          R      mAP50  mAP50-95): 100%|██████████| 4/4 [00:00<00:00,  4.90it/s]",
          "output_type": "stream"
        },
        {
          "name": "stdout",
          "text": "                   all        128        929   0.000846    0.00605    0.00316    0.00155\n",
          "output_type": "stream"
        },
        {
          "name": "stderr",
          "text": "\n",
          "output_type": "stream"
        },
        {
          "name": "stdout",
          "text": "\n      Epoch    GPU_mem   box_loss   cls_loss   dfl_loss  Instances       Size\n",
          "output_type": "stream"
        },
        {
          "name": "stderr",
          "text": "     33/100      2.77G      3.586      5.515      4.116        240        640: 100%|██████████| 8/8 [00:01<00:00,  4.78it/s]\n                 Class     Images  Instances      Box(P          R      mAP50  mAP50-95): 100%|██████████| 4/4 [00:00<00:00,  4.82it/s]",
          "output_type": "stream"
        },
        {
          "name": "stdout",
          "text": "                   all        128        929    0.00141     0.0113    0.00141   0.000328\n",
          "output_type": "stream"
        },
        {
          "name": "stderr",
          "text": "\n",
          "output_type": "stream"
        },
        {
          "name": "stdout",
          "text": "\n      Epoch    GPU_mem   box_loss   cls_loss   dfl_loss  Instances       Size\n",
          "output_type": "stream"
        },
        {
          "name": "stderr",
          "text": "     34/100      2.84G      3.574      5.506      4.105        183        640: 100%|██████████| 8/8 [00:01<00:00,  4.82it/s]\n                 Class     Images  Instances      Box(P          R      mAP50  mAP50-95): 100%|██████████| 4/4 [00:00<00:00,  4.75it/s]",
          "output_type": "stream"
        },
        {
          "name": "stdout",
          "text": "                   all        128        929    0.00194    0.00937    0.00126   0.000301\n",
          "output_type": "stream"
        },
        {
          "name": "stderr",
          "text": "\n",
          "output_type": "stream"
        },
        {
          "name": "stdout",
          "text": "\n      Epoch    GPU_mem   box_loss   cls_loss   dfl_loss  Instances       Size\n",
          "output_type": "stream"
        },
        {
          "name": "stderr",
          "text": "     35/100       2.8G      3.585      5.539        4.1        261        640: 100%|██████████| 8/8 [00:01<00:00,  4.84it/s]\n                 Class     Images  Instances      Box(P          R      mAP50  mAP50-95): 100%|██████████| 4/4 [00:00<00:00,  4.92it/s]",
          "output_type": "stream"
        },
        {
          "name": "stdout",
          "text": "                   all        128        929    0.00052    0.00588   0.000736   0.000294\n",
          "output_type": "stream"
        },
        {
          "name": "stderr",
          "text": "\n",
          "output_type": "stream"
        },
        {
          "name": "stdout",
          "text": "\n      Epoch    GPU_mem   box_loss   cls_loss   dfl_loss  Instances       Size\n",
          "output_type": "stream"
        },
        {
          "name": "stderr",
          "text": "     36/100      2.96G      3.604      5.507      4.096        216        640: 100%|██████████| 8/8 [00:01<00:00,  4.85it/s]\n                 Class     Images  Instances      Box(P          R      mAP50  mAP50-95): 100%|██████████| 4/4 [00:00<00:00,  4.78it/s]",
          "output_type": "stream"
        },
        {
          "name": "stdout",
          "text": "                   all        128        929   0.000621    0.00593   0.000445   0.000228\n",
          "output_type": "stream"
        },
        {
          "name": "stderr",
          "text": "\n",
          "output_type": "stream"
        },
        {
          "name": "stdout",
          "text": "\n      Epoch    GPU_mem   box_loss   cls_loss   dfl_loss  Instances       Size\n",
          "output_type": "stream"
        },
        {
          "name": "stderr",
          "text": "     37/100      2.96G      3.514      5.465      4.079        213        640: 100%|██████████| 8/8 [00:01<00:00,  4.84it/s]\n                 Class     Images  Instances      Box(P          R      mAP50  mAP50-95): 100%|██████████| 4/4 [00:00<00:00,  4.80it/s]",
          "output_type": "stream"
        },
        {
          "name": "stdout",
          "text": "                   all        128        929   0.000622     0.0061   0.000464   0.000202\n",
          "output_type": "stream"
        },
        {
          "name": "stderr",
          "text": "\n",
          "output_type": "stream"
        },
        {
          "name": "stdout",
          "text": "\n      Epoch    GPU_mem   box_loss   cls_loss   dfl_loss  Instances       Size\n",
          "output_type": "stream"
        },
        {
          "name": "stderr",
          "text": "     38/100      2.77G      3.553      5.495       4.08        190        640: 100%|██████████| 8/8 [00:01<00:00,  4.84it/s]\n                 Class     Images  Instances      Box(P          R      mAP50  mAP50-95): 100%|██████████| 4/4 [00:00<00:00,  4.82it/s]",
          "output_type": "stream"
        },
        {
          "name": "stdout",
          "text": "                   all        128        929    0.00112      0.016    0.00102   0.000244\n",
          "output_type": "stream"
        },
        {
          "name": "stderr",
          "text": "\n",
          "output_type": "stream"
        },
        {
          "name": "stdout",
          "text": "\n      Epoch    GPU_mem   box_loss   cls_loss   dfl_loss  Instances       Size\n",
          "output_type": "stream"
        },
        {
          "name": "stderr",
          "text": "     39/100      2.95G      3.492      5.521      4.078        246        640: 100%|██████████| 8/8 [00:01<00:00,  4.76it/s]\n                 Class     Images  Instances      Box(P          R      mAP50  mAP50-95): 100%|██████████| 4/4 [00:00<00:00,  4.68it/s]",
          "output_type": "stream"
        },
        {
          "name": "stdout",
          "text": "                   all        128        929   0.000946     0.0136    0.00115   0.000233\n",
          "output_type": "stream"
        },
        {
          "name": "stderr",
          "text": "\n",
          "output_type": "stream"
        },
        {
          "name": "stdout",
          "text": "\n      Epoch    GPU_mem   box_loss   cls_loss   dfl_loss  Instances       Size\n",
          "output_type": "stream"
        },
        {
          "name": "stderr",
          "text": "     40/100      2.78G      3.498      5.428      4.056        260        640: 100%|██████████| 8/8 [00:01<00:00,  4.81it/s]\n                 Class     Images  Instances      Box(P          R      mAP50  mAP50-95): 100%|██████████| 4/4 [00:00<00:00,  4.92it/s]",
          "output_type": "stream"
        },
        {
          "name": "stdout",
          "text": "                   all        128        929   0.000771    0.00914   0.000705   0.000134\n",
          "output_type": "stream"
        },
        {
          "name": "stderr",
          "text": "\n",
          "output_type": "stream"
        },
        {
          "name": "stdout",
          "text": "\n      Epoch    GPU_mem   box_loss   cls_loss   dfl_loss  Instances       Size\n",
          "output_type": "stream"
        },
        {
          "name": "stderr",
          "text": "     41/100      2.81G      3.481      5.466      4.062        168        640: 100%|██████████| 8/8 [00:01<00:00,  4.83it/s]\n                 Class     Images  Instances      Box(P          R      mAP50  mAP50-95): 100%|██████████| 4/4 [00:00<00:00,  4.94it/s]",
          "output_type": "stream"
        },
        {
          "name": "stdout",
          "text": "                   all        128        929   0.000809     0.0111    0.00204   0.000534\n",
          "output_type": "stream"
        },
        {
          "name": "stderr",
          "text": "\n",
          "output_type": "stream"
        },
        {
          "name": "stdout",
          "text": "\n      Epoch    GPU_mem   box_loss   cls_loss   dfl_loss  Instances       Size\n",
          "output_type": "stream"
        },
        {
          "name": "stderr",
          "text": "     42/100      2.78G      3.575      5.469      4.062        214        640: 100%|██████████| 8/8 [00:01<00:00,  4.84it/s]\n                 Class     Images  Instances      Box(P          R      mAP50  mAP50-95): 100%|██████████| 4/4 [00:00<00:00,  4.99it/s]",
          "output_type": "stream"
        },
        {
          "name": "stdout",
          "text": "                   all        128        929    0.00076      0.011    0.00207   0.000584\n",
          "output_type": "stream"
        },
        {
          "name": "stderr",
          "text": "\n",
          "output_type": "stream"
        },
        {
          "name": "stdout",
          "text": "\n      Epoch    GPU_mem   box_loss   cls_loss   dfl_loss  Instances       Size\n",
          "output_type": "stream"
        },
        {
          "name": "stderr",
          "text": "     43/100      2.77G      3.501      5.494      4.046        275        640: 100%|██████████| 8/8 [00:01<00:00,  4.83it/s]\n                 Class     Images  Instances      Box(P          R      mAP50  mAP50-95): 100%|██████████| 4/4 [00:00<00:00,  4.83it/s]",
          "output_type": "stream"
        },
        {
          "name": "stdout",
          "text": "                   all        128        929   0.000793     0.0183     0.0018   0.000391\n",
          "output_type": "stream"
        },
        {
          "name": "stderr",
          "text": "\n",
          "output_type": "stream"
        },
        {
          "name": "stdout",
          "text": "\n      Epoch    GPU_mem   box_loss   cls_loss   dfl_loss  Instances       Size\n",
          "output_type": "stream"
        },
        {
          "name": "stderr",
          "text": "     44/100      2.79G       3.53      5.445       4.04        175        640: 100%|██████████| 8/8 [00:01<00:00,  4.83it/s]\n                 Class     Images  Instances      Box(P          R      mAP50  mAP50-95): 100%|██████████| 4/4 [00:00<00:00,  4.88it/s]",
          "output_type": "stream"
        },
        {
          "name": "stdout",
          "text": "                   all        128        929   0.000387     0.0138    0.00206   0.000388\n",
          "output_type": "stream"
        },
        {
          "name": "stderr",
          "text": "\n",
          "output_type": "stream"
        },
        {
          "name": "stdout",
          "text": "\n      Epoch    GPU_mem   box_loss   cls_loss   dfl_loss  Instances       Size\n",
          "output_type": "stream"
        },
        {
          "name": "stderr",
          "text": "     45/100      2.81G      3.527      5.399      4.036        234        640: 100%|██████████| 8/8 [00:01<00:00,  4.78it/s]\n                 Class     Images  Instances      Box(P          R      mAP50  mAP50-95): 100%|██████████| 4/4 [00:00<00:00,  4.21it/s]",
          "output_type": "stream"
        },
        {
          "name": "stdout",
          "text": "                   all        128        929   0.000437     0.0191   0.000961   0.000224\n",
          "output_type": "stream"
        },
        {
          "name": "stderr",
          "text": "\n",
          "output_type": "stream"
        },
        {
          "name": "stdout",
          "text": "\n      Epoch    GPU_mem   box_loss   cls_loss   dfl_loss  Instances       Size\n",
          "output_type": "stream"
        },
        {
          "name": "stderr",
          "text": "     46/100       2.8G      3.517      5.411      4.033        263        640: 100%|██████████| 8/8 [00:01<00:00,  4.72it/s]\n                 Class     Images  Instances      Box(P          R      mAP50  mAP50-95): 100%|██████████| 4/4 [00:00<00:00,  4.86it/s]",
          "output_type": "stream"
        },
        {
          "name": "stdout",
          "text": "                   all        128        929   0.000827     0.0186    0.00113   0.000228\n",
          "output_type": "stream"
        },
        {
          "name": "stderr",
          "text": "\n",
          "output_type": "stream"
        },
        {
          "name": "stdout",
          "text": "\n      Epoch    GPU_mem   box_loss   cls_loss   dfl_loss  Instances       Size\n",
          "output_type": "stream"
        },
        {
          "name": "stderr",
          "text": "     47/100      2.76G      3.461      5.407      4.022        233        640: 100%|██████████| 8/8 [00:01<00:00,  4.91it/s]\n                 Class     Images  Instances      Box(P          R      mAP50  mAP50-95): 100%|██████████| 4/4 [00:00<00:00,  4.87it/s]",
          "output_type": "stream"
        },
        {
          "name": "stdout",
          "text": "                   all        128        929   0.000641     0.0161    0.00131    0.00046\n",
          "output_type": "stream"
        },
        {
          "name": "stderr",
          "text": "\n",
          "output_type": "stream"
        },
        {
          "name": "stdout",
          "text": "\n      Epoch    GPU_mem   box_loss   cls_loss   dfl_loss  Instances       Size\n",
          "output_type": "stream"
        },
        {
          "name": "stderr",
          "text": "     48/100      2.84G      3.449      5.417      4.017        197        640: 100%|██████████| 8/8 [00:01<00:00,  4.80it/s]\n                 Class     Images  Instances      Box(P          R      mAP50  mAP50-95): 100%|██████████| 4/4 [00:00<00:00,  4.92it/s]",
          "output_type": "stream"
        },
        {
          "name": "stdout",
          "text": "                   all        128        929     0.0005     0.0189    0.00114   0.000252\n",
          "output_type": "stream"
        },
        {
          "name": "stderr",
          "text": "\n",
          "output_type": "stream"
        },
        {
          "name": "stdout",
          "text": "\n      Epoch    GPU_mem   box_loss   cls_loss   dfl_loss  Instances       Size\n",
          "output_type": "stream"
        },
        {
          "name": "stderr",
          "text": "     49/100      2.69G      3.522      5.422      4.012        198        640: 100%|██████████| 8/8 [00:01<00:00,  4.63it/s]\n                 Class     Images  Instances      Box(P          R      mAP50  mAP50-95): 100%|██████████| 4/4 [00:00<00:00,  4.74it/s]",
          "output_type": "stream"
        },
        {
          "name": "stdout",
          "text": "                   all        128        929   0.000723     0.0228    0.00134   0.000411\n",
          "output_type": "stream"
        },
        {
          "name": "stderr",
          "text": "\n",
          "output_type": "stream"
        },
        {
          "name": "stdout",
          "text": "\n      Epoch    GPU_mem   box_loss   cls_loss   dfl_loss  Instances       Size\n",
          "output_type": "stream"
        },
        {
          "name": "stderr",
          "text": "     50/100      2.76G      3.526      5.434      4.019        220        640: 100%|██████████| 8/8 [00:01<00:00,  4.73it/s]\n                 Class     Images  Instances      Box(P          R      mAP50  mAP50-95): 100%|██████████| 4/4 [00:00<00:00,  4.78it/s]",
          "output_type": "stream"
        },
        {
          "name": "stdout",
          "text": "                   all        128        929   0.000591     0.0228    0.00153   0.000663\n",
          "output_type": "stream"
        },
        {
          "name": "stderr",
          "text": "\n",
          "output_type": "stream"
        },
        {
          "name": "stdout",
          "text": "\n      Epoch    GPU_mem   box_loss   cls_loss   dfl_loss  Instances       Size\n",
          "output_type": "stream"
        },
        {
          "name": "stderr",
          "text": "     51/100      2.97G      3.547      5.357      3.982        334        640: 100%|██████████| 8/8 [00:01<00:00,  4.66it/s]\n                 Class     Images  Instances      Box(P          R      mAP50  mAP50-95): 100%|██████████| 4/4 [00:00<00:00,  4.78it/s]",
          "output_type": "stream"
        },
        {
          "name": "stdout",
          "text": "                   all        128        929   0.000545     0.0202    0.00139   0.000427\n",
          "output_type": "stream"
        },
        {
          "name": "stderr",
          "text": "\n",
          "output_type": "stream"
        },
        {
          "name": "stdout",
          "text": "\n      Epoch    GPU_mem   box_loss   cls_loss   dfl_loss  Instances       Size\n",
          "output_type": "stream"
        },
        {
          "name": "stderr",
          "text": "     52/100      2.74G      3.518      5.344      3.994        217        640: 100%|██████████| 8/8 [00:01<00:00,  4.85it/s]\n                 Class     Images  Instances      Box(P          R      mAP50  mAP50-95): 100%|██████████| 4/4 [00:00<00:00,  4.79it/s]",
          "output_type": "stream"
        },
        {
          "name": "stdout",
          "text": "                   all        128        929   0.000608     0.0203   0.000878   0.000231\n",
          "output_type": "stream"
        },
        {
          "name": "stderr",
          "text": "\n",
          "output_type": "stream"
        },
        {
          "name": "stdout",
          "text": "\n      Epoch    GPU_mem   box_loss   cls_loss   dfl_loss  Instances       Size\n",
          "output_type": "stream"
        },
        {
          "name": "stderr",
          "text": "     53/100      2.73G      3.498      5.372      3.978        169        640: 100%|██████████| 8/8 [00:01<00:00,  4.48it/s]\n                 Class     Images  Instances      Box(P          R      mAP50  mAP50-95): 100%|██████████| 4/4 [00:00<00:00,  4.78it/s]",
          "output_type": "stream"
        },
        {
          "name": "stdout",
          "text": "                   all        128        929   0.000628     0.0179   0.000775   0.000288\n",
          "output_type": "stream"
        },
        {
          "name": "stderr",
          "text": "\n",
          "output_type": "stream"
        },
        {
          "name": "stdout",
          "text": "\n      Epoch    GPU_mem   box_loss   cls_loss   dfl_loss  Instances       Size\n",
          "output_type": "stream"
        },
        {
          "name": "stderr",
          "text": "     54/100      2.81G      3.606      5.383      3.968        186        640: 100%|██████████| 8/8 [00:01<00:00,  4.69it/s]\n                 Class     Images  Instances      Box(P          R      mAP50  mAP50-95): 100%|██████████| 4/4 [00:00<00:00,  4.77it/s]",
          "output_type": "stream"
        },
        {
          "name": "stdout",
          "text": "                   all        128        929    0.00048     0.0153   0.000868   0.000373\n",
          "output_type": "stream"
        },
        {
          "name": "stderr",
          "text": "\n",
          "output_type": "stream"
        },
        {
          "name": "stdout",
          "text": "\n      Epoch    GPU_mem   box_loss   cls_loss   dfl_loss  Instances       Size\n",
          "output_type": "stream"
        },
        {
          "name": "stderr",
          "text": "     55/100      2.79G      3.602      5.395      4.004        151        640: 100%|██████████| 8/8 [00:01<00:00,  4.80it/s]\n                 Class     Images  Instances      Box(P          R      mAP50  mAP50-95): 100%|██████████| 4/4 [00:00<00:00,  4.78it/s]",
          "output_type": "stream"
        },
        {
          "name": "stdout",
          "text": "                   all        128        929   0.000486     0.0158    0.00312   0.000633\n",
          "output_type": "stream"
        },
        {
          "name": "stderr",
          "text": "\n",
          "output_type": "stream"
        },
        {
          "name": "stdout",
          "text": "\n      Epoch    GPU_mem   box_loss   cls_loss   dfl_loss  Instances       Size\n",
          "output_type": "stream"
        },
        {
          "name": "stderr",
          "text": "     56/100      2.77G      3.535      5.381      3.993        278        640: 100%|██████████| 8/8 [00:01<00:00,  4.75it/s]\n                 Class     Images  Instances      Box(P          R      mAP50  mAP50-95): 100%|██████████| 4/4 [00:00<00:00,  4.99it/s]",
          "output_type": "stream"
        },
        {
          "name": "stdout",
          "text": "                   all        128        929     0.0152     0.0233    0.00882    0.00262\n",
          "output_type": "stream"
        },
        {
          "name": "stderr",
          "text": "\n",
          "output_type": "stream"
        },
        {
          "name": "stdout",
          "text": "\n      Epoch    GPU_mem   box_loss   cls_loss   dfl_loss  Instances       Size\n",
          "output_type": "stream"
        },
        {
          "name": "stderr",
          "text": "     57/100      2.93G      3.488      5.382      3.981        202        640: 100%|██████████| 8/8 [00:01<00:00,  4.78it/s]\n                 Class     Images  Instances      Box(P          R      mAP50  mAP50-95): 100%|██████████| 4/4 [00:00<00:00,  4.78it/s]",
          "output_type": "stream"
        },
        {
          "name": "stdout",
          "text": "                   all        128        929   0.000954     0.0209    0.00143   0.000358\n",
          "output_type": "stream"
        },
        {
          "name": "stderr",
          "text": "\n",
          "output_type": "stream"
        },
        {
          "name": "stdout",
          "text": "\n      Epoch    GPU_mem   box_loss   cls_loss   dfl_loss  Instances       Size\n",
          "output_type": "stream"
        },
        {
          "name": "stderr",
          "text": "     58/100      2.83G      3.534      5.299      3.973        151        640: 100%|██████████| 8/8 [00:01<00:00,  4.92it/s]\n                 Class     Images  Instances      Box(P          R      mAP50  mAP50-95): 100%|██████████| 4/4 [00:00<00:00,  4.76it/s]",
          "output_type": "stream"
        },
        {
          "name": "stdout",
          "text": "                   all        128        929   0.000778     0.0273   0.000778   0.000124\n",
          "output_type": "stream"
        },
        {
          "name": "stderr",
          "text": "\n",
          "output_type": "stream"
        },
        {
          "name": "stdout",
          "text": "\n      Epoch    GPU_mem   box_loss   cls_loss   dfl_loss  Instances       Size\n",
          "output_type": "stream"
        },
        {
          "name": "stderr",
          "text": "     59/100      2.82G      3.502      5.324       3.98        210        640: 100%|██████████| 8/8 [00:01<00:00,  4.74it/s]\n                 Class     Images  Instances      Box(P          R      mAP50  mAP50-95): 100%|██████████| 4/4 [00:00<00:00,  4.78it/s]",
          "output_type": "stream"
        },
        {
          "name": "stdout",
          "text": "                   all        128        929   0.000516     0.0206   0.000508    0.00011\n",
          "output_type": "stream"
        },
        {
          "name": "stderr",
          "text": "\n",
          "output_type": "stream"
        },
        {
          "name": "stdout",
          "text": "\n      Epoch    GPU_mem   box_loss   cls_loss   dfl_loss  Instances       Size\n",
          "output_type": "stream"
        },
        {
          "name": "stderr",
          "text": "     60/100      2.79G      3.505      5.341      3.969        252        640: 100%|██████████| 8/8 [00:01<00:00,  4.81it/s]\n                 Class     Images  Instances      Box(P          R      mAP50  mAP50-95): 100%|██████████| 4/4 [00:00<00:00,  4.72it/s]",
          "output_type": "stream"
        },
        {
          "name": "stdout",
          "text": "                   all        128        929     0.0144     0.0219    0.00789   0.000911\n",
          "output_type": "stream"
        },
        {
          "name": "stderr",
          "text": "\n",
          "output_type": "stream"
        },
        {
          "name": "stdout",
          "text": "\n      Epoch    GPU_mem   box_loss   cls_loss   dfl_loss  Instances       Size\n",
          "output_type": "stream"
        },
        {
          "name": "stderr",
          "text": "     61/100       2.8G      3.502      5.285      3.965        153        640: 100%|██████████| 8/8 [00:01<00:00,  4.73it/s]\n                 Class     Images  Instances      Box(P          R      mAP50  mAP50-95): 100%|██████████| 4/4 [00:00<00:00,  4.78it/s]",
          "output_type": "stream"
        },
        {
          "name": "stdout",
          "text": "                   all        128        929   0.000432     0.0214   0.000408      8e-05\n",
          "output_type": "stream"
        },
        {
          "name": "stderr",
          "text": "\n",
          "output_type": "stream"
        },
        {
          "name": "stdout",
          "text": "\n      Epoch    GPU_mem   box_loss   cls_loss   dfl_loss  Instances       Size\n",
          "output_type": "stream"
        },
        {
          "name": "stderr",
          "text": "     62/100      2.97G      3.411      5.337      3.936        250        640: 100%|██████████| 8/8 [00:01<00:00,  4.80it/s]\n                 Class     Images  Instances      Box(P          R      mAP50  mAP50-95): 100%|██████████| 4/4 [00:00<00:00,  4.86it/s]",
          "output_type": "stream"
        },
        {
          "name": "stdout",
          "text": "                   all        128        929   0.000324      0.015   0.000439   0.000145\n",
          "output_type": "stream"
        },
        {
          "name": "stderr",
          "text": "\n",
          "output_type": "stream"
        },
        {
          "name": "stdout",
          "text": "\n      Epoch    GPU_mem   box_loss   cls_loss   dfl_loss  Instances       Size\n",
          "output_type": "stream"
        },
        {
          "name": "stderr",
          "text": "     63/100      2.72G      3.424      5.278      3.942        188        640: 100%|██████████| 8/8 [00:01<00:00,  4.78it/s]\n                 Class     Images  Instances      Box(P          R      mAP50  mAP50-95): 100%|██████████| 4/4 [00:00<00:00,  4.89it/s]",
          "output_type": "stream"
        },
        {
          "name": "stdout",
          "text": "                   all        128        929   0.000322     0.0129   0.000544   0.000272\n",
          "output_type": "stream"
        },
        {
          "name": "stderr",
          "text": "\n",
          "output_type": "stream"
        },
        {
          "name": "stdout",
          "text": "\n      Epoch    GPU_mem   box_loss   cls_loss   dfl_loss  Instances       Size\n",
          "output_type": "stream"
        },
        {
          "name": "stderr",
          "text": "     64/100      2.75G      3.464      5.288      3.922        239        640: 100%|██████████| 8/8 [00:01<00:00,  4.91it/s]\n                 Class     Images  Instances      Box(P          R      mAP50  mAP50-95): 100%|██████████| 4/4 [00:00<00:00,  4.67it/s]",
          "output_type": "stream"
        },
        {
          "name": "stdout",
          "text": "                   all        128        929   0.000352    0.00955    0.00111   0.000942\n",
          "output_type": "stream"
        },
        {
          "name": "stderr",
          "text": "\n",
          "output_type": "stream"
        },
        {
          "name": "stdout",
          "text": "\n      Epoch    GPU_mem   box_loss   cls_loss   dfl_loss  Instances       Size\n",
          "output_type": "stream"
        },
        {
          "name": "stderr",
          "text": "     65/100      2.61G      3.571      5.284      3.942        269        640: 100%|██████████| 8/8 [00:01<00:00,  5.00it/s]\n                 Class     Images  Instances      Box(P          R      mAP50  mAP50-95): 100%|██████████| 4/4 [00:00<00:00,  4.81it/s]",
          "output_type": "stream"
        },
        {
          "name": "stdout",
          "text": "                   all        128        929   0.000484     0.0149    0.00302    0.00112\n",
          "output_type": "stream"
        },
        {
          "name": "stderr",
          "text": "\n",
          "output_type": "stream"
        },
        {
          "name": "stdout",
          "text": "\n      Epoch    GPU_mem   box_loss   cls_loss   dfl_loss  Instances       Size\n",
          "output_type": "stream"
        },
        {
          "name": "stderr",
          "text": "     66/100      2.72G        3.4      5.362      3.938        212        640: 100%|██████████| 8/8 [00:01<00:00,  4.71it/s]\n                 Class     Images  Instances      Box(P          R      mAP50  mAP50-95): 100%|██████████| 4/4 [00:00<00:00,  4.97it/s]",
          "output_type": "stream"
        },
        {
          "name": "stdout",
          "text": "                   all        128        929    0.00039    0.00988    0.00159   0.000555\n",
          "output_type": "stream"
        },
        {
          "name": "stderr",
          "text": "\n",
          "output_type": "stream"
        },
        {
          "name": "stdout",
          "text": "\n      Epoch    GPU_mem   box_loss   cls_loss   dfl_loss  Instances       Size\n",
          "output_type": "stream"
        },
        {
          "name": "stderr",
          "text": "     67/100      2.77G      3.493      5.281       3.94        186        640: 100%|██████████| 8/8 [00:01<00:00,  4.83it/s]\n                 Class     Images  Instances      Box(P          R      mAP50  mAP50-95): 100%|██████████| 4/4 [00:00<00:00,  4.85it/s]",
          "output_type": "stream"
        },
        {
          "name": "stdout",
          "text": "                   all        128        929   0.000413     0.0105    0.00297    0.00195\n",
          "output_type": "stream"
        },
        {
          "name": "stderr",
          "text": "\n",
          "output_type": "stream"
        },
        {
          "name": "stdout",
          "text": "\n      Epoch    GPU_mem   box_loss   cls_loss   dfl_loss  Instances       Size\n",
          "output_type": "stream"
        },
        {
          "name": "stderr",
          "text": "     68/100      2.79G      3.443      5.296      3.947        201        640: 100%|██████████| 8/8 [00:01<00:00,  4.63it/s]\n                 Class     Images  Instances      Box(P          R      mAP50  mAP50-95): 100%|██████████| 4/4 [00:00<00:00,  4.13it/s]",
          "output_type": "stream"
        },
        {
          "name": "stdout",
          "text": "                   all        128        929   0.000322    0.00932    0.00109   0.000833\n",
          "output_type": "stream"
        },
        {
          "name": "stderr",
          "text": "\n",
          "output_type": "stream"
        },
        {
          "name": "stdout",
          "text": "\n      Epoch    GPU_mem   box_loss   cls_loss   dfl_loss  Instances       Size\n",
          "output_type": "stream"
        },
        {
          "name": "stderr",
          "text": "     69/100      2.82G      3.511      5.315      3.933        210        640: 100%|██████████| 8/8 [00:01<00:00,  4.87it/s]\n                 Class     Images  Instances      Box(P          R      mAP50  mAP50-95): 100%|██████████| 4/4 [00:00<00:00,  4.91it/s]",
          "output_type": "stream"
        },
        {
          "name": "stdout",
          "text": "                   all        128        929   0.000476     0.0144    0.00302     0.0015\n",
          "output_type": "stream"
        },
        {
          "name": "stderr",
          "text": "\n",
          "output_type": "stream"
        },
        {
          "name": "stdout",
          "text": "\n      Epoch    GPU_mem   box_loss   cls_loss   dfl_loss  Instances       Size\n",
          "output_type": "stream"
        },
        {
          "name": "stderr",
          "text": "     70/100      2.99G      3.458      5.284      3.918        190        640: 100%|██████████| 8/8 [00:01<00:00,  4.86it/s]\n                 Class     Images  Instances      Box(P          R      mAP50  mAP50-95): 100%|██████████| 4/4 [00:00<00:00,  4.99it/s]",
          "output_type": "stream"
        },
        {
          "name": "stdout",
          "text": "                   all        128        929   0.000272     0.0123    0.00291      0.002\n",
          "output_type": "stream"
        },
        {
          "name": "stderr",
          "text": "\n",
          "output_type": "stream"
        },
        {
          "name": "stdout",
          "text": "\n      Epoch    GPU_mem   box_loss   cls_loss   dfl_loss  Instances       Size\n",
          "output_type": "stream"
        },
        {
          "name": "stderr",
          "text": "     71/100      2.68G      3.518      5.336      3.933        219        640: 100%|██████████| 8/8 [00:01<00:00,  4.70it/s]\n                 Class     Images  Instances      Box(P          R      mAP50  mAP50-95): 100%|██████████| 4/4 [00:00<00:00,  4.94it/s]",
          "output_type": "stream"
        },
        {
          "name": "stdout",
          "text": "                   all        128        929   0.000527     0.0213     0.0031    0.00148\n",
          "output_type": "stream"
        },
        {
          "name": "stderr",
          "text": "\n",
          "output_type": "stream"
        },
        {
          "name": "stdout",
          "text": "\n      Epoch    GPU_mem   box_loss   cls_loss   dfl_loss  Instances       Size\n",
          "output_type": "stream"
        },
        {
          "name": "stderr",
          "text": "     72/100      2.99G       3.61      5.274      3.907        245        640: 100%|██████████| 8/8 [00:01<00:00,  4.79it/s]\n                 Class     Images  Instances      Box(P          R      mAP50  mAP50-95): 100%|██████████| 4/4 [00:00<00:00,  4.84it/s]",
          "output_type": "stream"
        },
        {
          "name": "stdout",
          "text": "                   all        128        929   0.000581      0.024    0.00316   0.000913\n",
          "output_type": "stream"
        },
        {
          "name": "stderr",
          "text": "\n",
          "output_type": "stream"
        },
        {
          "name": "stdout",
          "text": "\n      Epoch    GPU_mem   box_loss   cls_loss   dfl_loss  Instances       Size\n",
          "output_type": "stream"
        },
        {
          "name": "stderr",
          "text": "     73/100      2.82G      3.465      5.322      3.903        164        640: 100%|██████████| 8/8 [00:01<00:00,  4.80it/s]\n                 Class     Images  Instances      Box(P          R      mAP50  mAP50-95): 100%|██████████| 4/4 [00:00<00:00,  4.66it/s]",
          "output_type": "stream"
        },
        {
          "name": "stdout",
          "text": "                   all        128        929    0.00057     0.0281    0.00178   0.000559\n",
          "output_type": "stream"
        },
        {
          "name": "stderr",
          "text": "\n",
          "output_type": "stream"
        },
        {
          "name": "stdout",
          "text": "\n      Epoch    GPU_mem   box_loss   cls_loss   dfl_loss  Instances       Size\n",
          "output_type": "stream"
        },
        {
          "name": "stderr",
          "text": "     74/100      2.82G      3.519      5.287      3.919        202        640: 100%|██████████| 8/8 [00:01<00:00,  4.80it/s]\n                 Class     Images  Instances      Box(P          R      mAP50  mAP50-95): 100%|██████████| 4/4 [00:00<00:00,  4.73it/s]",
          "output_type": "stream"
        },
        {
          "name": "stdout",
          "text": "                   all        128        929   0.000568     0.0297    0.00314    0.00117\n",
          "output_type": "stream"
        },
        {
          "name": "stderr",
          "text": "\n",
          "output_type": "stream"
        },
        {
          "name": "stdout",
          "text": "\n      Epoch    GPU_mem   box_loss   cls_loss   dfl_loss  Instances       Size\n",
          "output_type": "stream"
        },
        {
          "name": "stderr",
          "text": "     75/100       2.8G      3.533      5.292      3.918        178        640: 100%|██████████| 8/8 [00:01<00:00,  4.74it/s]\n                 Class     Images  Instances      Box(P          R      mAP50  mAP50-95): 100%|██████████| 4/4 [00:00<00:00,  4.80it/s]",
          "output_type": "stream"
        },
        {
          "name": "stdout",
          "text": "                   all        128        929   0.000518     0.0255    0.00312    0.00158\n",
          "output_type": "stream"
        },
        {
          "name": "stderr",
          "text": "\n",
          "output_type": "stream"
        },
        {
          "name": "stdout",
          "text": "\n      Epoch    GPU_mem   box_loss   cls_loss   dfl_loss  Instances       Size\n",
          "output_type": "stream"
        },
        {
          "name": "stderr",
          "text": "     76/100      2.98G      3.461      5.288      3.904        228        640: 100%|██████████| 8/8 [00:01<00:00,  4.82it/s]\n                 Class     Images  Instances      Box(P          R      mAP50  mAP50-95): 100%|██████████| 4/4 [00:00<00:00,  4.78it/s]",
          "output_type": "stream"
        },
        {
          "name": "stdout",
          "text": "                   all        128        929   0.000461     0.0254    0.00124   0.000451\n",
          "output_type": "stream"
        },
        {
          "name": "stderr",
          "text": "\n",
          "output_type": "stream"
        },
        {
          "name": "stdout",
          "text": "\n      Epoch    GPU_mem   box_loss   cls_loss   dfl_loss  Instances       Size\n",
          "output_type": "stream"
        },
        {
          "name": "stderr",
          "text": "     77/100       2.8G      3.508      5.344      3.912        200        640: 100%|██████████| 8/8 [00:01<00:00,  4.81it/s]\n                 Class     Images  Instances      Box(P          R      mAP50  mAP50-95): 100%|██████████| 4/4 [00:00<00:00,  4.81it/s]",
          "output_type": "stream"
        },
        {
          "name": "stdout",
          "text": "                   all        128        929   0.000624     0.0278    0.00131   0.000545\n",
          "output_type": "stream"
        },
        {
          "name": "stderr",
          "text": "\n",
          "output_type": "stream"
        },
        {
          "name": "stdout",
          "text": "\n      Epoch    GPU_mem   box_loss   cls_loss   dfl_loss  Instances       Size\n",
          "output_type": "stream"
        },
        {
          "name": "stderr",
          "text": "     78/100      2.82G      3.503      5.306       3.91        242        640: 100%|██████████| 8/8 [00:01<00:00,  4.73it/s]\n                 Class     Images  Instances      Box(P          R      mAP50  mAP50-95): 100%|██████████| 4/4 [00:00<00:00,  4.69it/s]",
          "output_type": "stream"
        },
        {
          "name": "stdout",
          "text": "                   all        128        929   0.000597     0.0207    0.00132   0.000762\n",
          "output_type": "stream"
        },
        {
          "name": "stderr",
          "text": "\n",
          "output_type": "stream"
        },
        {
          "name": "stdout",
          "text": "\n      Epoch    GPU_mem   box_loss   cls_loss   dfl_loss  Instances       Size\n",
          "output_type": "stream"
        },
        {
          "name": "stderr",
          "text": "     79/100      2.77G      3.508      5.261      3.891        181        640: 100%|██████████| 8/8 [00:01<00:00,  4.80it/s]\n                 Class     Images  Instances      Box(P          R      mAP50  mAP50-95): 100%|██████████| 4/4 [00:00<00:00,  4.78it/s]",
          "output_type": "stream"
        },
        {
          "name": "stdout",
          "text": "                   all        128        929   0.000524     0.0216    0.00169   0.000529\n",
          "output_type": "stream"
        },
        {
          "name": "stderr",
          "text": "\n",
          "output_type": "stream"
        },
        {
          "name": "stdout",
          "text": "\n      Epoch    GPU_mem   box_loss   cls_loss   dfl_loss  Instances       Size\n",
          "output_type": "stream"
        },
        {
          "name": "stderr",
          "text": "     80/100      2.98G      3.473       5.34      3.894        252        640: 100%|██████████| 8/8 [00:01<00:00,  4.84it/s]\n                 Class     Images  Instances      Box(P          R      mAP50  mAP50-95): 100%|██████████| 4/4 [00:00<00:00,  4.85it/s]",
          "output_type": "stream"
        },
        {
          "name": "stdout",
          "text": "                   all        128        929   0.000414     0.0166   0.000439   0.000211\n",
          "output_type": "stream"
        },
        {
          "name": "stderr",
          "text": "\n",
          "output_type": "stream"
        },
        {
          "name": "stdout",
          "text": "\n      Epoch    GPU_mem   box_loss   cls_loss   dfl_loss  Instances       Size\n",
          "output_type": "stream"
        },
        {
          "name": "stderr",
          "text": "     81/100      2.84G      3.487      5.293      3.882        176        640: 100%|██████████| 8/8 [00:01<00:00,  4.85it/s]\n                 Class     Images  Instances      Box(P          R      mAP50  mAP50-95): 100%|██████████| 4/4 [00:00<00:00,  4.93it/s]",
          "output_type": "stream"
        },
        {
          "name": "stdout",
          "text": "                   all        128        929   0.000507     0.0208   0.000617   0.000272\n",
          "output_type": "stream"
        },
        {
          "name": "stderr",
          "text": "\n",
          "output_type": "stream"
        },
        {
          "name": "stdout",
          "text": "\n      Epoch    GPU_mem   box_loss   cls_loss   dfl_loss  Instances       Size\n",
          "output_type": "stream"
        },
        {
          "name": "stderr",
          "text": "     82/100      2.73G      3.492      5.304      3.892        149        640: 100%|██████████| 8/8 [00:01<00:00,  4.80it/s]\n                 Class     Images  Instances      Box(P          R      mAP50  mAP50-95): 100%|██████████| 4/4 [00:00<00:00,  4.77it/s]",
          "output_type": "stream"
        },
        {
          "name": "stdout",
          "text": "                   all        128        929   0.000586     0.0184   0.000946   0.000448\n",
          "output_type": "stream"
        },
        {
          "name": "stderr",
          "text": "\n",
          "output_type": "stream"
        },
        {
          "name": "stdout",
          "text": "\n      Epoch    GPU_mem   box_loss   cls_loss   dfl_loss  Instances       Size\n",
          "output_type": "stream"
        },
        {
          "name": "stderr",
          "text": "     83/100      2.74G      3.476      5.367      3.894        174        640: 100%|██████████| 8/8 [00:01<00:00,  4.75it/s]\n                 Class     Images  Instances      Box(P          R      mAP50  mAP50-95): 100%|██████████| 4/4 [00:00<00:00,  4.93it/s]",
          "output_type": "stream"
        },
        {
          "name": "stdout",
          "text": "                   all        128        929   0.000608     0.0224   0.000926   0.000406\n",
          "output_type": "stream"
        },
        {
          "name": "stderr",
          "text": "\n",
          "output_type": "stream"
        },
        {
          "name": "stdout",
          "text": "\n      Epoch    GPU_mem   box_loss   cls_loss   dfl_loss  Instances       Size\n",
          "output_type": "stream"
        },
        {
          "name": "stderr",
          "text": "     84/100      2.72G       3.33      5.327      3.912        213        640: 100%|██████████| 8/8 [00:01<00:00,  4.87it/s]\n                 Class     Images  Instances      Box(P          R      mAP50  mAP50-95): 100%|██████████| 4/4 [00:00<00:00,  4.80it/s]",
          "output_type": "stream"
        },
        {
          "name": "stdout",
          "text": "                   all        128        929   0.000735     0.0226   0.000996   0.000565\n",
          "output_type": "stream"
        },
        {
          "name": "stderr",
          "text": "\n",
          "output_type": "stream"
        },
        {
          "name": "stdout",
          "text": "\n      Epoch    GPU_mem   box_loss   cls_loss   dfl_loss  Instances       Size\n",
          "output_type": "stream"
        },
        {
          "name": "stderr",
          "text": "     85/100      2.77G      3.438      5.239      3.883        317        640: 100%|██████████| 8/8 [00:01<00:00,  4.74it/s]\n                 Class     Images  Instances      Box(P          R      mAP50  mAP50-95): 100%|██████████| 4/4 [00:00<00:00,  4.78it/s]",
          "output_type": "stream"
        },
        {
          "name": "stdout",
          "text": "                   all        128        929    0.00059     0.0163    0.00175    0.00109\n",
          "output_type": "stream"
        },
        {
          "name": "stderr",
          "text": "\n",
          "output_type": "stream"
        },
        {
          "name": "stdout",
          "text": "\n      Epoch    GPU_mem   box_loss   cls_loss   dfl_loss  Instances       Size\n",
          "output_type": "stream"
        },
        {
          "name": "stderr",
          "text": "     86/100      2.95G      3.431      5.261      3.876        249        640: 100%|██████████| 8/8 [00:01<00:00,  4.81it/s]\n                 Class     Images  Instances      Box(P          R      mAP50  mAP50-95): 100%|██████████| 4/4 [00:00<00:00,  4.73it/s]",
          "output_type": "stream"
        },
        {
          "name": "stdout",
          "text": "                   all        128        929   0.000586     0.0208    0.00178    0.00138\n",
          "output_type": "stream"
        },
        {
          "name": "stderr",
          "text": "\n",
          "output_type": "stream"
        },
        {
          "name": "stdout",
          "text": "\n      Epoch    GPU_mem   box_loss   cls_loss   dfl_loss  Instances       Size\n",
          "output_type": "stream"
        },
        {
          "name": "stderr",
          "text": "     87/100      2.82G      3.512      5.206      3.864        151        640: 100%|██████████| 8/8 [00:01<00:00,  4.84it/s]\n                 Class     Images  Instances      Box(P          R      mAP50  mAP50-95): 100%|██████████| 4/4 [00:00<00:00,  4.82it/s]",
          "output_type": "stream"
        },
        {
          "name": "stdout",
          "text": "                   all        128        929   0.000543     0.0193    0.00172   0.000869\n",
          "output_type": "stream"
        },
        {
          "name": "stderr",
          "text": "\n",
          "output_type": "stream"
        },
        {
          "name": "stdout",
          "text": "\n      Epoch    GPU_mem   box_loss   cls_loss   dfl_loss  Instances       Size\n",
          "output_type": "stream"
        },
        {
          "name": "stderr",
          "text": "     88/100      2.76G      3.428      5.311      3.893        169        640: 100%|██████████| 8/8 [00:01<00:00,  4.66it/s]\n                 Class     Images  Instances      Box(P          R      mAP50  mAP50-95): 100%|██████████| 4/4 [00:00<00:00,  4.85it/s]",
          "output_type": "stream"
        },
        {
          "name": "stdout",
          "text": "                   all        128        929    0.00051     0.0192    0.00307   0.000919\n",
          "output_type": "stream"
        },
        {
          "name": "stderr",
          "text": "\n",
          "output_type": "stream"
        },
        {
          "name": "stdout",
          "text": "\n      Epoch    GPU_mem   box_loss   cls_loss   dfl_loss  Instances       Size\n",
          "output_type": "stream"
        },
        {
          "name": "stderr",
          "text": "     89/100      2.72G      3.504      5.282      3.874        232        640: 100%|██████████| 8/8 [00:01<00:00,  4.78it/s]\n                 Class     Images  Instances      Box(P          R      mAP50  mAP50-95): 100%|██████████| 4/4 [00:00<00:00,  4.62it/s]",
          "output_type": "stream"
        },
        {
          "name": "stdout",
          "text": "                   all        128        929    0.00037     0.0173    0.00116    0.00072\n",
          "output_type": "stream"
        },
        {
          "name": "stderr",
          "text": "\n",
          "output_type": "stream"
        },
        {
          "name": "stdout",
          "text": "\n      Epoch    GPU_mem   box_loss   cls_loss   dfl_loss  Instances       Size\n",
          "output_type": "stream"
        },
        {
          "name": "stderr",
          "text": "     90/100      2.79G      3.518      5.327      3.922        220        640: 100%|██████████| 8/8 [00:01<00:00,  4.84it/s]\n                 Class     Images  Instances      Box(P          R      mAP50  mAP50-95): 100%|██████████| 4/4 [00:00<00:00,  4.80it/s]",
          "output_type": "stream"
        },
        {
          "name": "stdout",
          "text": "                   all        128        929   0.000434     0.0206   0.000768   0.000325\n",
          "output_type": "stream"
        },
        {
          "name": "stderr",
          "text": "\n",
          "output_type": "stream"
        },
        {
          "name": "stdout",
          "text": "Closing dataloader mosaic\n\u001b[34m\u001b[1malbumentations: \u001b[0mBlur(p=0.01, blur_limit=(3, 7)), MedianBlur(p=0.01, blur_limit=(3, 7)), ToGray(p=0.01), CLAHE(p=0.01, clip_limit=(1, 4.0), tile_grid_size=(8, 8))\n",
          "output_type": "stream"
        },
        {
          "name": "stderr",
          "text": "os.fork() was called. os.fork() is incompatible with multithreaded code, and JAX is multithreaded, so this will likely lead to a deadlock.\nos.fork() was called. os.fork() is incompatible with multithreaded code, and JAX is multithreaded, so this will likely lead to a deadlock.\n",
          "output_type": "stream"
        },
        {
          "name": "stdout",
          "text": "\n      Epoch    GPU_mem   box_loss   cls_loss   dfl_loss  Instances       Size\n",
          "output_type": "stream"
        },
        {
          "name": "stderr",
          "text": "     91/100      2.72G       3.46      5.504      3.833        101        640: 100%|██████████| 8/8 [00:04<00:00,  1.83it/s]\n                 Class     Images  Instances      Box(P          R      mAP50  mAP50-95): 100%|██████████| 4/4 [00:00<00:00,  4.78it/s]",
          "output_type": "stream"
        },
        {
          "name": "stdout",
          "text": "                   all        128        929   0.000467      0.018    0.00089   0.000377\n",
          "output_type": "stream"
        },
        {
          "name": "stderr",
          "text": "\n",
          "output_type": "stream"
        },
        {
          "name": "stdout",
          "text": "\n      Epoch    GPU_mem   box_loss   cls_loss   dfl_loss  Instances       Size\n",
          "output_type": "stream"
        },
        {
          "name": "stderr",
          "text": "     92/100      2.77G      3.406      5.436      3.843        163        640: 100%|██████████| 8/8 [00:01<00:00,  4.73it/s]\n                 Class     Images  Instances      Box(P          R      mAP50  mAP50-95): 100%|██████████| 4/4 [00:00<00:00,  4.69it/s]",
          "output_type": "stream"
        },
        {
          "name": "stdout",
          "text": "                   all        128        929   0.000451     0.0191    0.00304   0.000494\n",
          "output_type": "stream"
        },
        {
          "name": "stderr",
          "text": "\n",
          "output_type": "stream"
        },
        {
          "name": "stdout",
          "text": "\n      Epoch    GPU_mem   box_loss   cls_loss   dfl_loss  Instances       Size\n",
          "output_type": "stream"
        },
        {
          "name": "stderr",
          "text": "     93/100      2.77G      3.344       5.42      3.858        134        640: 100%|██████████| 8/8 [00:01<00:00,  4.98it/s]\n                 Class     Images  Instances      Box(P          R      mAP50  mAP50-95): 100%|██████████| 4/4 [00:00<00:00,  4.79it/s]",
          "output_type": "stream"
        },
        {
          "name": "stdout",
          "text": "                   all        128        929   0.000482     0.0196     0.0017   0.000735\n",
          "output_type": "stream"
        },
        {
          "name": "stderr",
          "text": "\n",
          "output_type": "stream"
        },
        {
          "name": "stdout",
          "text": "\n      Epoch    GPU_mem   box_loss   cls_loss   dfl_loss  Instances       Size\n",
          "output_type": "stream"
        },
        {
          "name": "stderr",
          "text": "     94/100      2.73G      3.403      5.402      3.819        124        640: 100%|██████████| 8/8 [00:01<00:00,  4.90it/s]\n                 Class     Images  Instances      Box(P          R      mAP50  mAP50-95): 100%|██████████| 4/4 [00:00<00:00,  4.66it/s]",
          "output_type": "stream"
        },
        {
          "name": "stdout",
          "text": "                   all        128        929    0.00325     0.0175    0.00223   0.000467\n",
          "output_type": "stream"
        },
        {
          "name": "stderr",
          "text": "\n",
          "output_type": "stream"
        },
        {
          "name": "stdout",
          "text": "\n      Epoch    GPU_mem   box_loss   cls_loss   dfl_loss  Instances       Size\n",
          "output_type": "stream"
        },
        {
          "name": "stderr",
          "text": "     95/100      2.84G      3.391       5.37      3.832        127        640: 100%|██████████| 8/8 [00:01<00:00,  4.98it/s]\n                 Class     Images  Instances      Box(P          R      mAP50  mAP50-95): 100%|██████████| 4/4 [00:00<00:00,  4.68it/s]",
          "output_type": "stream"
        },
        {
          "name": "stdout",
          "text": "                   all        128        929    0.00247     0.0202     0.0029    0.00093\n",
          "output_type": "stream"
        },
        {
          "name": "stderr",
          "text": "\n",
          "output_type": "stream"
        },
        {
          "name": "stdout",
          "text": "\n      Epoch    GPU_mem   box_loss   cls_loss   dfl_loss  Instances       Size\n",
          "output_type": "stream"
        },
        {
          "name": "stderr",
          "text": "     96/100      2.77G      3.358      5.379      3.817        120        640: 100%|██████████| 8/8 [00:01<00:00,  4.97it/s]\n                 Class     Images  Instances      Box(P          R      mAP50  mAP50-95): 100%|██████████| 4/4 [00:00<00:00,  4.68it/s]",
          "output_type": "stream"
        },
        {
          "name": "stdout",
          "text": "                   all        128        929    0.00251     0.0237    0.00345    0.00101\n",
          "output_type": "stream"
        },
        {
          "name": "stderr",
          "text": "\n",
          "output_type": "stream"
        },
        {
          "name": "stdout",
          "text": "\n      Epoch    GPU_mem   box_loss   cls_loss   dfl_loss  Instances       Size\n",
          "output_type": "stream"
        },
        {
          "name": "stderr",
          "text": "     97/100      2.72G      3.345      5.363      3.802        115        640: 100%|██████████| 8/8 [00:01<00:00,  4.83it/s]\n                 Class     Images  Instances      Box(P          R      mAP50  mAP50-95): 100%|██████████| 4/4 [00:00<00:00,  4.83it/s]",
          "output_type": "stream"
        },
        {
          "name": "stdout",
          "text": "                   all        128        929   0.000421     0.0198    0.00102   0.000295\n",
          "output_type": "stream"
        },
        {
          "name": "stderr",
          "text": "\n",
          "output_type": "stream"
        },
        {
          "name": "stdout",
          "text": "\n      Epoch    GPU_mem   box_loss   cls_loss   dfl_loss  Instances       Size\n",
          "output_type": "stream"
        },
        {
          "name": "stderr",
          "text": "     98/100      2.77G      3.368      5.363      3.825         96        640: 100%|██████████| 8/8 [00:01<00:00,  4.93it/s]\n                 Class     Images  Instances      Box(P          R      mAP50  mAP50-95): 100%|██████████| 4/4 [00:00<00:00,  4.80it/s]",
          "output_type": "stream"
        },
        {
          "name": "stdout",
          "text": "                   all        128        929     0.0029     0.0228     0.0019   0.000484\n",
          "output_type": "stream"
        },
        {
          "name": "stderr",
          "text": "\n",
          "output_type": "stream"
        },
        {
          "name": "stdout",
          "text": "\n      Epoch    GPU_mem   box_loss   cls_loss   dfl_loss  Instances       Size\n",
          "output_type": "stream"
        },
        {
          "name": "stderr",
          "text": "     99/100       2.8G      3.373      5.382      3.822        127        640: 100%|██████████| 8/8 [00:01<00:00,  4.90it/s]\n                 Class     Images  Instances      Box(P          R      mAP50  mAP50-95): 100%|██████████| 4/4 [00:00<00:00,  4.69it/s]",
          "output_type": "stream"
        },
        {
          "name": "stdout",
          "text": "                   all        128        929    0.00184     0.0225    0.00132   0.000364\n",
          "output_type": "stream"
        },
        {
          "name": "stderr",
          "text": "\n",
          "output_type": "stream"
        },
        {
          "name": "stdout",
          "text": "\n      Epoch    GPU_mem   box_loss   cls_loss   dfl_loss  Instances       Size\n",
          "output_type": "stream"
        },
        {
          "name": "stderr",
          "text": "    100/100      2.76G       3.35      5.403      3.849         72        640: 100%|██████████| 8/8 [00:01<00:00,  4.94it/s]\n                 Class     Images  Instances      Box(P          R      mAP50  mAP50-95): 100%|██████████| 4/4 [00:00<00:00,  4.82it/s]",
          "output_type": "stream"
        },
        {
          "name": "stdout",
          "text": "                   all        128        929    0.00218     0.0222    0.00162    0.00043\n",
          "output_type": "stream"
        },
        {
          "name": "stderr",
          "text": "\n",
          "output_type": "stream"
        },
        {
          "name": "stdout",
          "text": "\n100 epochs completed in 0.117 hours.\nOptimizer stripped from /kaggle/working/ultralytics/runs/detect/train6/weights/last.pt, 5.0MB\nOptimizer stripped from /kaggle/working/ultralytics/runs/detect/train6/weights/best.pt, 5.0MB\n\nValidating /kaggle/working/ultralytics/runs/detect/train6/weights/best.pt...\nUltralytics YOLOv8.2.76 🚀 Python-3.10.13 torch-2.1.2 CUDA:0 (Tesla T4, 15095MiB)\nnewconf summary (fused): 297 layers, 2,286,288 parameters, 0 gradients, 7.7 GFLOPs\n",
          "output_type": "stream"
        },
        {
          "name": "stderr",
          "text": "                 Class     Images  Instances      Box(P          R      mAP50  mAP50-95): 100%|██████████| 4/4 [00:02<00:00,  1.52it/s]\n",
          "output_type": "stream"
        },
        {
          "name": "stdout",
          "text": "                   all        128        929     0.0147       0.02    0.00818    0.00177\n                person         61        254    0.00377      0.165    0.00426   0.000938\n               bicycle          3          6          0          0          0          0\n                   car         12         46          0          0          0          0\n            motorcycle          4          5    0.00376        0.2    0.00302   0.000302\n              airplane          5          6          0          0          0          0\n                   bus          5          7    0.00385      0.143     0.0024    0.00024\n                 train          3          3          0          0          0          0\n                 truck          5         12          0          0          0          0\n                  boat          2          6          0          0          0          0\n         traffic light          4         14          0          0          0          0\n             stop sign          2          2          0          0          0          0\n                 bench          5          9          0          0          0          0\n                  bird          2         16          0          0          0          0\n                   cat          4          4          0          0          0          0\n                   dog          9          9    0.00305      0.111    0.00221   0.000221\n                 horse          1          2          0          0          0          0\n              elephant          4         17          1     0.0588      0.529      0.106\n                  bear          1          1          0          0          0          0\n                 zebra          2          4          0          0          0          0\n               giraffe          4          9          0          0          0          0\n              backpack          4          6          0          0          0          0\n              umbrella          4         18          0          0          0          0\n               handbag          9         19          0          0          0          0\n                   tie          6          7          0          0          0          0\n              suitcase          2          4          0          0          0          0\n               frisbee          5          5     0.0179        0.2     0.0267      0.016\n                  skis          1          1          0          0          0          0\n             snowboard          2          7    0.00559      0.143    0.00321   0.000321\n           sports ball          6          6          0          0          0          0\n                  kite          2         10          0          0          0          0\n          baseball bat          4          4          0          0          0          0\n        baseball glove          4          7          0          0          0          0\n            skateboard          3          5          0          0          0          0\n         tennis racket          5          7          0          0          0          0\n                bottle          6         18          0          0          0          0\n            wine glass          5         16          0          0          0          0\n                   cup         10         36          0          0          0          0\n                  fork          6          6          0          0          0          0\n                 knife          7         16          0          0          0          0\n                 spoon          5         22          0          0          0          0\n                  bowl          9         28          0          0          0          0\n                banana          1          1          0          0          0          0\n              sandwich          2          2          0          0          0          0\n                orange          1          4          0          0          0          0\n              broccoli          4         11          0          0          0          0\n                carrot          3         24          0          0          0          0\n               hot dog          1          2          0          0          0          0\n                 pizza          5          5    0.00602        0.4    0.00922     0.0015\n                 donut          2         14          0          0          0          0\n                  cake          4          4          0          0          0          0\n                 chair          9         35          0          0          0          0\n                 couch          5          6          0          0          0          0\n          potted plant          9         14          0          0          0          0\n                   bed          3          3          0          0          0          0\n          dining table         10         13          0          0          0          0\n                toilet          2          2          0          0          0          0\n                    tv          2          2          0          0          0          0\n                laptop          2          3          0          0          0          0\n                 mouse          2          2          0          0          0          0\n                remote          5          8          0          0          0          0\n            cell phone          5          8          0          0          0          0\n             microwave          3          3          0          0          0          0\n                  oven          5          5          0          0          0          0\n                  sink          4          6          0          0          0          0\n          refrigerator          5          5          0          0          0          0\n                  book          6         29          0          0          0          0\n                 clock          8          9          0          0          0          0\n                  vase          2          2          0          0          0          0\n              scissors          1          1          0          0          0          0\n            teddy bear          6         21          0          0          0          0\n            toothbrush          2          5          0          0          0          0\nSpeed: 0.2ms preprocess, 2.8ms inference, 0.0ms loss, 1.5ms postprocess per image\nResults saved to \u001b[1m/kaggle/working/ultralytics/runs/detect/train6\u001b[0m\n",
          "output_type": "stream"
        }
      ]
    },
    {
      "cell_type": "code",
      "source": [
        "%cd .."
      ],
      "metadata": {
        "execution": {
          "iopub.status.busy": "2024-08-13T17:49:09.100981Z",
          "iopub.execute_input": "2024-08-13T17:49:09.101755Z",
          "iopub.status.idle": "2024-08-13T17:49:09.108207Z",
          "shell.execute_reply.started": "2024-08-13T17:49:09.101702Z",
          "shell.execute_reply": "2024-08-13T17:49:09.107271Z"
        },
        "trusted": true,
        "id": "PX1axEbxyCXP",
        "outputId": "f05ad5d6-690c-4a60-dec9-c31a49c80d26"
      },
      "execution_count": null,
      "outputs": [
        {
          "name": "stdout",
          "text": "/kaggle/working\n",
          "output_type": "stream"
        }
      ]
    },
    {
      "cell_type": "code",
      "source": [
        "import ultralytics\n",
        "from ultralytics import YOLO\n",
        "\n",
        "model = YOLO(\"ultralytics/ultralytics/cfg/models/v8/yolov8n.yaml\")\n",
        "\n",
        "# Display model information (optional)\n",
        "model.info()\n",
        "results = model.train(data=\"coco128.yaml\", epochs=100, imgsz=640)"
      ],
      "metadata": {
        "execution": {
          "iopub.status.busy": "2024-08-13T18:00:03.907979Z",
          "iopub.execute_input": "2024-08-13T18:00:03.908351Z",
          "iopub.status.idle": "2024-08-13T18:06:05.995059Z",
          "shell.execute_reply.started": "2024-08-13T18:00:03.908314Z",
          "shell.execute_reply": "2024-08-13T18:06:05.993974Z"
        },
        "trusted": true,
        "id": "YrlffaAtyCXP",
        "outputId": "aee7f49d-a92d-4f53-b8f5-e008a4d87505"
      },
      "execution_count": null,
      "outputs": [
        {
          "name": "stdout",
          "text": "YOLOv8n summary: 225 layers, 3,157,200 parameters, 3,157,184 gradients, 8.9 GFLOPs\nNew https://pypi.org/project/ultralytics/8.2.77 available 😃 Update with 'pip install -U ultralytics'\nUltralytics YOLOv8.2.76 🚀 Python-3.10.13 torch-2.1.2 CUDA:0 (Tesla T4, 15095MiB)\n\u001b[34m\u001b[1mengine/trainer: \u001b[0mtask=detect, mode=train, model=ultralytics/ultralytics/cfg/models/v8/yolov8n.yaml, data=coco128.yaml, epochs=100, time=None, patience=100, batch=16, imgsz=640, save=True, save_period=-1, cache=False, device=None, workers=8, project=None, name=train7, exist_ok=False, pretrained=True, optimizer=auto, verbose=True, seed=0, deterministic=True, single_cls=False, rect=False, cos_lr=False, close_mosaic=10, resume=False, amp=True, fraction=1.0, profile=False, freeze=None, multi_scale=False, overlap_mask=True, mask_ratio=4, dropout=0.0, val=True, split=val, save_json=False, save_hybrid=False, conf=None, iou=0.7, max_det=300, half=False, dnn=False, plots=True, source=None, vid_stride=1, stream_buffer=False, visualize=False, augment=False, agnostic_nms=False, classes=None, retina_masks=False, embed=None, show=False, save_frames=False, save_txt=False, save_conf=False, save_crop=False, show_labels=True, show_conf=True, show_boxes=True, line_width=None, format=torchscript, keras=False, optimize=False, int8=False, dynamic=False, simplify=False, opset=None, workspace=4, nms=False, lr0=0.01, lrf=0.01, momentum=0.937, weight_decay=0.0005, warmup_epochs=3.0, warmup_momentum=0.8, warmup_bias_lr=0.1, box=7.5, cls=0.5, dfl=1.5, pose=12.0, kobj=1.0, label_smoothing=0.0, nbs=64, hsv_h=0.015, hsv_s=0.7, hsv_v=0.4, degrees=0.0, translate=0.1, scale=0.5, shear=0.0, perspective=0.0, flipud=0.0, fliplr=0.5, bgr=0.0, mosaic=1.0, mixup=0.0, copy_paste=0.0, auto_augment=randaugment, erasing=0.4, crop_fraction=1.0, cfg=None, tracker=botsort.yaml, save_dir=/kaggle/working/ultralytics/runs/detect/train7\n\n                   from  n    params  module                                       arguments                     \n  0                  -1  1       464  ultralytics.nn.modules.conv.Conv             [3, 16, 3, 2]                 \n  1                  -1  1      4672  ultralytics.nn.modules.conv.Conv             [16, 32, 3, 2]                \n  2                  -1  1      7360  ultralytics.nn.modules.block.C2f             [32, 32, 1, True]             \n  3                  -1  1     18560  ultralytics.nn.modules.conv.Conv             [32, 64, 3, 2]                \n  4                  -1  2     49664  ultralytics.nn.modules.block.C2f             [64, 64, 2, True]             \n  5                  -1  1     73984  ultralytics.nn.modules.conv.Conv             [64, 128, 3, 2]               \n  6                  -1  2    197632  ultralytics.nn.modules.block.C2f             [128, 128, 2, True]           \n  7                  -1  1    295424  ultralytics.nn.modules.conv.Conv             [128, 256, 3, 2]              \n  8                  -1  1    460288  ultralytics.nn.modules.block.C2f             [256, 256, 1, True]           \n  9                  -1  1    164608  ultralytics.nn.modules.block.SPPF            [256, 256, 5]                 \n 10                  -1  1         0  torch.nn.modules.upsampling.Upsample         [None, 2, 'nearest']          \n 11             [-1, 6]  1         0  ultralytics.nn.modules.conv.Concat           [1]                           \n 12                  -1  1    148224  ultralytics.nn.modules.block.C2f             [384, 128, 1]                 \n 13                  -1  1         0  torch.nn.modules.upsampling.Upsample         [None, 2, 'nearest']          \n 14             [-1, 4]  1         0  ultralytics.nn.modules.conv.Concat           [1]                           \n 15                  -1  1     37248  ultralytics.nn.modules.block.C2f             [192, 64, 1]                  \n 16                  -1  1     36992  ultralytics.nn.modules.conv.Conv             [64, 64, 3, 2]                \n 17            [-1, 12]  1         0  ultralytics.nn.modules.conv.Concat           [1]                           \n 18                  -1  1    123648  ultralytics.nn.modules.block.C2f             [192, 128, 1]                 \n 19                  -1  1    147712  ultralytics.nn.modules.conv.Conv             [128, 128, 3, 2]              \n 20             [-1, 9]  1         0  ultralytics.nn.modules.conv.Concat           [1]                           \n 21                  -1  1    493056  ultralytics.nn.modules.block.C2f             [384, 256, 1]                 \n 22        [15, 18, 21]  1    897664  ultralytics.nn.modules.head.Detect           [80, [64, 128, 256]]          \nYOLOv8n summary: 225 layers, 3,157,200 parameters, 3,157,184 gradients, 8.9 GFLOPs\n\n\u001b[34m\u001b[1mTensorBoard: \u001b[0mStart with 'tensorboard --logdir /kaggle/working/ultralytics/runs/detect/train7', view at http://localhost:6006/\nFreezing layer 'model.22.dfl.conv.weight'\n\u001b[34m\u001b[1mAMP: \u001b[0mrunning Automatic Mixed Precision (AMP) checks with YOLOv8n...\n\u001b[34m\u001b[1mAMP: \u001b[0mchecks passed ✅\n",
          "output_type": "stream"
        },
        {
          "name": "stderr",
          "text": "\u001b[34m\u001b[1mtrain: \u001b[0mScanning /kaggle/working/datasets/coco128/labels/train2017.cache... 126 images, 2 backgrounds, 0 corrupt: 100%|██████████| 128/128 [00:00<?, ?it/s]",
          "output_type": "stream"
        },
        {
          "name": "stdout",
          "text": "\u001b[34m\u001b[1malbumentations: \u001b[0mBlur(p=0.01, blur_limit=(3, 7)), MedianBlur(p=0.01, blur_limit=(3, 7)), ToGray(p=0.01), CLAHE(p=0.01, clip_limit=(1, 4.0), tile_grid_size=(8, 8))\n",
          "output_type": "stream"
        },
        {
          "name": "stderr",
          "text": "\nos.fork() was called. os.fork() is incompatible with multithreaded code, and JAX is multithreaded, so this will likely lead to a deadlock.\n\u001b[34m\u001b[1mval: \u001b[0mScanning /kaggle/working/datasets/coco128/labels/train2017.cache... 126 images, 2 backgrounds, 0 corrupt: 100%|██████████| 128/128 [00:00<?, ?it/s]\n",
          "output_type": "stream"
        },
        {
          "name": "stdout",
          "text": "Plotting labels to /kaggle/working/ultralytics/runs/detect/train7/labels.jpg... \n\u001b[34m\u001b[1moptimizer:\u001b[0m 'optimizer=auto' found, ignoring 'lr0=0.01' and 'momentum=0.937' and determining best 'optimizer', 'lr0' and 'momentum' automatically... \n\u001b[34m\u001b[1moptimizer:\u001b[0m AdamW(lr=0.000119, momentum=0.9) with parameter groups 57 weight(decay=0.0), 64 weight(decay=0.0005), 63 bias(decay=0.0)\n\u001b[34m\u001b[1mTensorBoard: \u001b[0mmodel graph visualization added ✅\nImage sizes 640 train, 640 val\nUsing 2 dataloader workers\nLogging results to \u001b[1m/kaggle/working/ultralytics/runs/detect/train7\u001b[0m\nStarting training for 100 epochs...\n\n      Epoch    GPU_mem   box_loss   cls_loss   dfl_loss  Instances       Size\n",
          "output_type": "stream"
        },
        {
          "name": "stderr",
          "text": "      1/100      2.66G       3.43      5.732       4.29        130        640: 100%|██████████| 8/8 [00:04<00:00,  1.62it/s]\n                 Class     Images  Instances      Box(P          R      mAP50  mAP50-95): 100%|██████████| 4/4 [00:00<00:00,  5.36it/s]",
          "output_type": "stream"
        },
        {
          "name": "stdout",
          "text": "                   all        128        929          0          0          0          0\n",
          "output_type": "stream"
        },
        {
          "name": "stderr",
          "text": "\n",
          "output_type": "stream"
        },
        {
          "name": "stdout",
          "text": "\n      Epoch    GPU_mem   box_loss   cls_loss   dfl_loss  Instances       Size\n",
          "output_type": "stream"
        },
        {
          "name": "stderr",
          "text": "      2/100       2.8G      3.547      5.695      4.262        178        640: 100%|██████████| 8/8 [00:01<00:00,  5.19it/s]\n                 Class     Images  Instances      Box(P          R      mAP50  mAP50-95): 100%|██████████| 4/4 [00:00<00:00,  6.29it/s]",
          "output_type": "stream"
        },
        {
          "name": "stdout",
          "text": "                   all        128        929          0          0          0          0\n",
          "output_type": "stream"
        },
        {
          "name": "stderr",
          "text": "\n",
          "output_type": "stream"
        },
        {
          "name": "stdout",
          "text": "\n      Epoch    GPU_mem   box_loss   cls_loss   dfl_loss  Instances       Size\n",
          "output_type": "stream"
        },
        {
          "name": "stderr",
          "text": "      3/100      2.78G      3.543      5.725      4.285        280        640: 100%|██████████| 8/8 [00:01<00:00,  5.42it/s]\n                 Class     Images  Instances      Box(P          R      mAP50  mAP50-95): 100%|██████████| 4/4 [00:00<00:00,  6.34it/s]",
          "output_type": "stream"
        },
        {
          "name": "stdout",
          "text": "                   all        128        929          0          0          0          0\n",
          "output_type": "stream"
        },
        {
          "name": "stderr",
          "text": "\n",
          "output_type": "stream"
        },
        {
          "name": "stdout",
          "text": "\n      Epoch    GPU_mem   box_loss   cls_loss   dfl_loss  Instances       Size\n",
          "output_type": "stream"
        },
        {
          "name": "stderr",
          "text": "      4/100      2.65G      3.621      5.714      4.269        275        640: 100%|██████████| 8/8 [00:01<00:00,  5.47it/s]\n                 Class     Images  Instances      Box(P          R      mAP50  mAP50-95): 100%|██████████| 4/4 [00:00<00:00,  6.66it/s]",
          "output_type": "stream"
        },
        {
          "name": "stdout",
          "text": "                   all        128        929          0          0          0          0\n",
          "output_type": "stream"
        },
        {
          "name": "stderr",
          "text": "\n",
          "output_type": "stream"
        },
        {
          "name": "stdout",
          "text": "\n      Epoch    GPU_mem   box_loss   cls_loss   dfl_loss  Instances       Size\n",
          "output_type": "stream"
        },
        {
          "name": "stderr",
          "text": "      5/100      2.69G      3.638      5.687      4.274        155        640: 100%|██████████| 8/8 [00:01<00:00,  5.46it/s]\n                 Class     Images  Instances      Box(P          R      mAP50  mAP50-95): 100%|██████████| 4/4 [00:00<00:00,  6.47it/s]",
          "output_type": "stream"
        },
        {
          "name": "stdout",
          "text": "                   all        128        929          0          0          0          0\n",
          "output_type": "stream"
        },
        {
          "name": "stderr",
          "text": "\n",
          "output_type": "stream"
        },
        {
          "name": "stdout",
          "text": "\n      Epoch    GPU_mem   box_loss   cls_loss   dfl_loss  Instances       Size\n",
          "output_type": "stream"
        },
        {
          "name": "stderr",
          "text": "      6/100      2.64G      3.547      5.646      4.247        159        640: 100%|██████████| 8/8 [00:01<00:00,  5.48it/s]\n                 Class     Images  Instances      Box(P          R      mAP50  mAP50-95): 100%|██████████| 4/4 [00:00<00:00,  6.31it/s]",
          "output_type": "stream"
        },
        {
          "name": "stdout",
          "text": "                   all        128        929          0          0          0          0\n",
          "output_type": "stream"
        },
        {
          "name": "stderr",
          "text": "\n",
          "output_type": "stream"
        },
        {
          "name": "stdout",
          "text": "\n      Epoch    GPU_mem   box_loss   cls_loss   dfl_loss  Instances       Size\n",
          "output_type": "stream"
        },
        {
          "name": "stderr",
          "text": "      7/100      2.67G      3.618      5.682       4.24        215        640: 100%|██████████| 8/8 [00:01<00:00,  5.58it/s]\n                 Class     Images  Instances      Box(P          R      mAP50  mAP50-95): 100%|██████████| 4/4 [00:00<00:00,  6.55it/s]",
          "output_type": "stream"
        },
        {
          "name": "stdout",
          "text": "                   all        128        929          0          0          0          0\n",
          "output_type": "stream"
        },
        {
          "name": "stderr",
          "text": "\n",
          "output_type": "stream"
        },
        {
          "name": "stdout",
          "text": "\n      Epoch    GPU_mem   box_loss   cls_loss   dfl_loss  Instances       Size\n",
          "output_type": "stream"
        },
        {
          "name": "stderr",
          "text": "      8/100      2.63G      3.558      5.687      4.222        202        640: 100%|██████████| 8/8 [00:01<00:00,  5.51it/s]\n                 Class     Images  Instances      Box(P          R      mAP50  mAP50-95): 100%|██████████| 4/4 [00:00<00:00,  6.61it/s]",
          "output_type": "stream"
        },
        {
          "name": "stdout",
          "text": "                   all        128        929          0          0          0          0\n",
          "output_type": "stream"
        },
        {
          "name": "stderr",
          "text": "\n",
          "output_type": "stream"
        },
        {
          "name": "stdout",
          "text": "\n      Epoch    GPU_mem   box_loss   cls_loss   dfl_loss  Instances       Size\n",
          "output_type": "stream"
        },
        {
          "name": "stderr",
          "text": "      9/100      2.67G      3.543      5.656      4.226        181        640: 100%|██████████| 8/8 [00:01<00:00,  5.60it/s]\n                 Class     Images  Instances      Box(P          R      mAP50  mAP50-95): 100%|██████████| 4/4 [00:00<00:00,  6.63it/s]",
          "output_type": "stream"
        },
        {
          "name": "stdout",
          "text": "                   all        128        929          0          0          0          0\n",
          "output_type": "stream"
        },
        {
          "name": "stderr",
          "text": "\n",
          "output_type": "stream"
        },
        {
          "name": "stdout",
          "text": "\n      Epoch    GPU_mem   box_loss   cls_loss   dfl_loss  Instances       Size\n",
          "output_type": "stream"
        },
        {
          "name": "stderr",
          "text": "     10/100      2.57G      3.629      5.665       4.21        136        640: 100%|██████████| 8/8 [00:01<00:00,  5.77it/s]\n                 Class     Images  Instances      Box(P          R      mAP50  mAP50-95): 100%|██████████| 4/4 [00:00<00:00,  6.50it/s]",
          "output_type": "stream"
        },
        {
          "name": "stdout",
          "text": "                   all        128        929          0          0          0          0\n",
          "output_type": "stream"
        },
        {
          "name": "stderr",
          "text": "\n",
          "output_type": "stream"
        },
        {
          "name": "stdout",
          "text": "\n      Epoch    GPU_mem   box_loss   cls_loss   dfl_loss  Instances       Size\n",
          "output_type": "stream"
        },
        {
          "name": "stderr",
          "text": "     11/100      2.62G      3.521      5.637      4.196        219        640: 100%|██████████| 8/8 [00:01<00:00,  5.43it/s]\n                 Class     Images  Instances      Box(P          R      mAP50  mAP50-95): 100%|██████████| 4/4 [00:00<00:00,  6.72it/s]",
          "output_type": "stream"
        },
        {
          "name": "stdout",
          "text": "                   all        128        929          0          0          0          0\n",
          "output_type": "stream"
        },
        {
          "name": "stderr",
          "text": "\n",
          "output_type": "stream"
        },
        {
          "name": "stdout",
          "text": "\n      Epoch    GPU_mem   box_loss   cls_loss   dfl_loss  Instances       Size\n",
          "output_type": "stream"
        },
        {
          "name": "stderr",
          "text": "     12/100       2.6G      3.597       5.61      4.194        283        640: 100%|██████████| 8/8 [00:01<00:00,  5.65it/s]\n                 Class     Images  Instances      Box(P          R      mAP50  mAP50-95): 100%|██████████| 4/4 [00:00<00:00,  6.19it/s]",
          "output_type": "stream"
        },
        {
          "name": "stdout",
          "text": "                   all        128        929          0          0          0          0\n",
          "output_type": "stream"
        },
        {
          "name": "stderr",
          "text": "\n",
          "output_type": "stream"
        },
        {
          "name": "stdout",
          "text": "\n      Epoch    GPU_mem   box_loss   cls_loss   dfl_loss  Instances       Size\n",
          "output_type": "stream"
        },
        {
          "name": "stderr",
          "text": "     13/100      2.94G      3.675      5.608      4.189        298        640: 100%|██████████| 8/8 [00:01<00:00,  5.61it/s]\n                 Class     Images  Instances      Box(P          R      mAP50  mAP50-95): 100%|██████████| 4/4 [00:00<00:00,  6.67it/s]",
          "output_type": "stream"
        },
        {
          "name": "stdout",
          "text": "                   all        128        929          0          0          0          0\n",
          "output_type": "stream"
        },
        {
          "name": "stderr",
          "text": "\n",
          "output_type": "stream"
        },
        {
          "name": "stdout",
          "text": "\n      Epoch    GPU_mem   box_loss   cls_loss   dfl_loss  Instances       Size\n",
          "output_type": "stream"
        },
        {
          "name": "stderr",
          "text": "     14/100      2.64G      3.626      5.613      4.186        267        640: 100%|██████████| 8/8 [00:01<00:00,  5.68it/s]\n                 Class     Images  Instances      Box(P          R      mAP50  mAP50-95): 100%|██████████| 4/4 [00:00<00:00,  6.35it/s]",
          "output_type": "stream"
        },
        {
          "name": "stdout",
          "text": "                   all        128        929          0          0          0          0\n",
          "output_type": "stream"
        },
        {
          "name": "stderr",
          "text": "\n",
          "output_type": "stream"
        },
        {
          "name": "stdout",
          "text": "\n      Epoch    GPU_mem   box_loss   cls_loss   dfl_loss  Instances       Size\n",
          "output_type": "stream"
        },
        {
          "name": "stderr",
          "text": "     15/100      2.66G      3.501      5.577      4.171        226        640: 100%|██████████| 8/8 [00:01<00:00,  5.63it/s]\n                 Class     Images  Instances      Box(P          R      mAP50  mAP50-95): 100%|██████████| 4/4 [00:00<00:00,  6.77it/s]",
          "output_type": "stream"
        },
        {
          "name": "stdout",
          "text": "                   all        128        929          0          0          0          0\n",
          "output_type": "stream"
        },
        {
          "name": "stderr",
          "text": "\n",
          "output_type": "stream"
        },
        {
          "name": "stdout",
          "text": "\n      Epoch    GPU_mem   box_loss   cls_loss   dfl_loss  Instances       Size\n",
          "output_type": "stream"
        },
        {
          "name": "stderr",
          "text": "     16/100      2.71G      3.576      5.615      4.168        194        640: 100%|██████████| 8/8 [00:01<00:00,  5.66it/s]\n                 Class     Images  Instances      Box(P          R      mAP50  mAP50-95): 100%|██████████| 4/4 [00:00<00:00,  6.73it/s]",
          "output_type": "stream"
        },
        {
          "name": "stdout",
          "text": "                   all        128        929          0          0          0          0\n",
          "output_type": "stream"
        },
        {
          "name": "stderr",
          "text": "\n",
          "output_type": "stream"
        },
        {
          "name": "stdout",
          "text": "\n      Epoch    GPU_mem   box_loss   cls_loss   dfl_loss  Instances       Size\n",
          "output_type": "stream"
        },
        {
          "name": "stderr",
          "text": "     17/100      2.67G      3.594      5.556      4.165        204        640: 100%|██████████| 8/8 [00:01<00:00,  5.64it/s]\n                 Class     Images  Instances      Box(P          R      mAP50  mAP50-95): 100%|██████████| 4/4 [00:00<00:00,  6.59it/s]",
          "output_type": "stream"
        },
        {
          "name": "stdout",
          "text": "                   all        128        929          0          0          0          0\n",
          "output_type": "stream"
        },
        {
          "name": "stderr",
          "text": "\n",
          "output_type": "stream"
        },
        {
          "name": "stdout",
          "text": "\n      Epoch    GPU_mem   box_loss   cls_loss   dfl_loss  Instances       Size\n",
          "output_type": "stream"
        },
        {
          "name": "stderr",
          "text": "     18/100       2.6G      3.565      5.564      4.165        204        640: 100%|██████████| 8/8 [00:01<00:00,  5.75it/s]\n                 Class     Images  Instances      Box(P          R      mAP50  mAP50-95): 100%|██████████| 4/4 [00:00<00:00,  6.50it/s]",
          "output_type": "stream"
        },
        {
          "name": "stdout",
          "text": "                   all        128        929          0          0          0          0\n",
          "output_type": "stream"
        },
        {
          "name": "stderr",
          "text": "\n",
          "output_type": "stream"
        },
        {
          "name": "stdout",
          "text": "\n      Epoch    GPU_mem   box_loss   cls_loss   dfl_loss  Instances       Size\n",
          "output_type": "stream"
        },
        {
          "name": "stderr",
          "text": "     19/100      2.61G      3.546      5.524       4.16        239        640: 100%|██████████| 8/8 [00:01<00:00,  5.77it/s]\n                 Class     Images  Instances      Box(P          R      mAP50  mAP50-95): 100%|██████████| 4/4 [00:00<00:00,  6.73it/s]",
          "output_type": "stream"
        },
        {
          "name": "stdout",
          "text": "                   all        128        929          0          0          0          0\n",
          "output_type": "stream"
        },
        {
          "name": "stderr",
          "text": "\n",
          "output_type": "stream"
        },
        {
          "name": "stdout",
          "text": "\n      Epoch    GPU_mem   box_loss   cls_loss   dfl_loss  Instances       Size\n",
          "output_type": "stream"
        },
        {
          "name": "stderr",
          "text": "     20/100      2.61G      3.581      5.515      4.155        186        640: 100%|██████████| 8/8 [00:01<00:00,  5.78it/s]\n                 Class     Images  Instances      Box(P          R      mAP50  mAP50-95): 100%|██████████| 4/4 [00:00<00:00,  5.03it/s]",
          "output_type": "stream"
        },
        {
          "name": "stdout",
          "text": "                   all        128        929   0.000112   0.000832   6.23e-05   2.26e-05\n",
          "output_type": "stream"
        },
        {
          "name": "stderr",
          "text": "\n",
          "output_type": "stream"
        },
        {
          "name": "stdout",
          "text": "\n      Epoch    GPU_mem   box_loss   cls_loss   dfl_loss  Instances       Size\n",
          "output_type": "stream"
        },
        {
          "name": "stderr",
          "text": "     21/100      2.76G       3.61      5.474      4.145        165        640: 100%|██████████| 8/8 [00:01<00:00,  5.64it/s]\n                 Class     Images  Instances      Box(P          R      mAP50  mAP50-95): 100%|██████████| 4/4 [00:00<00:00,  4.89it/s]",
          "output_type": "stream"
        },
        {
          "name": "stdout",
          "text": "                   all        128        929   0.000105   0.000998   5.79e-05   1.73e-05\n",
          "output_type": "stream"
        },
        {
          "name": "stderr",
          "text": "\n",
          "output_type": "stream"
        },
        {
          "name": "stdout",
          "text": "\n      Epoch    GPU_mem   box_loss   cls_loss   dfl_loss  Instances       Size\n",
          "output_type": "stream"
        },
        {
          "name": "stderr",
          "text": "     22/100      2.67G      3.494      5.499       4.15        162        640: 100%|██████████| 8/8 [00:01<00:00,  5.69it/s]\n                 Class     Images  Instances      Box(P          R      mAP50  mAP50-95): 100%|██████████| 4/4 [00:00<00:00,  4.44it/s]",
          "output_type": "stream"
        },
        {
          "name": "stdout",
          "text": "                   all        128        929   9.03e-05    0.00128   5.02e-05   1.67e-05\n",
          "output_type": "stream"
        },
        {
          "name": "stderr",
          "text": "\n",
          "output_type": "stream"
        },
        {
          "name": "stdout",
          "text": "\n      Epoch    GPU_mem   box_loss   cls_loss   dfl_loss  Instances       Size\n",
          "output_type": "stream"
        },
        {
          "name": "stderr",
          "text": "     23/100      2.51G      3.675      5.502      4.132        232        640: 100%|██████████| 8/8 [00:01<00:00,  5.67it/s]\n                 Class     Images  Instances      Box(P          R      mAP50  mAP50-95): 100%|██████████| 4/4 [00:00<00:00,  4.66it/s]",
          "output_type": "stream"
        },
        {
          "name": "stdout",
          "text": "                   all        128        929   7.56e-05    0.00133   4.32e-05   1.39e-05\n",
          "output_type": "stream"
        },
        {
          "name": "stderr",
          "text": "\n",
          "output_type": "stream"
        },
        {
          "name": "stdout",
          "text": "\n      Epoch    GPU_mem   box_loss   cls_loss   dfl_loss  Instances       Size\n",
          "output_type": "stream"
        },
        {
          "name": "stderr",
          "text": "     24/100      2.63G      3.507      5.444      4.136        295        640: 100%|██████████| 8/8 [00:01<00:00,  5.69it/s]\n                 Class     Images  Instances      Box(P          R      mAP50  mAP50-95): 100%|██████████| 4/4 [00:00<00:00,  4.72it/s]",
          "output_type": "stream"
        },
        {
          "name": "stdout",
          "text": "                   all        128        929   7.07e-05    0.00144   4.09e-05   1.28e-05\n",
          "output_type": "stream"
        },
        {
          "name": "stderr",
          "text": "\n",
          "output_type": "stream"
        },
        {
          "name": "stdout",
          "text": "\n      Epoch    GPU_mem   box_loss   cls_loss   dfl_loss  Instances       Size\n",
          "output_type": "stream"
        },
        {
          "name": "stderr",
          "text": "     25/100      2.68G      3.472      5.411      4.125        181        640: 100%|██████████| 8/8 [00:01<00:00,  5.71it/s]\n                 Class     Images  Instances      Box(P          R      mAP50  mAP50-95): 100%|██████████| 4/4 [00:00<00:00,  4.69it/s]",
          "output_type": "stream"
        },
        {
          "name": "stdout",
          "text": "                   all        128        929   5.55e-05    0.00144   3.22e-05   1.12e-05\n",
          "output_type": "stream"
        },
        {
          "name": "stderr",
          "text": "\n",
          "output_type": "stream"
        },
        {
          "name": "stdout",
          "text": "\n      Epoch    GPU_mem   box_loss   cls_loss   dfl_loss  Instances       Size\n",
          "output_type": "stream"
        },
        {
          "name": "stderr",
          "text": "     26/100      2.67G      3.436      5.445      4.127        171        640: 100%|██████████| 8/8 [00:01<00:00,  5.72it/s]\n                 Class     Images  Instances      Box(P          R      mAP50  mAP50-95): 100%|██████████| 4/4 [00:00<00:00,  4.73it/s]",
          "output_type": "stream"
        },
        {
          "name": "stdout",
          "text": "                   all        128        929    0.00024    0.00222   0.000131   3.96e-05\n",
          "output_type": "stream"
        },
        {
          "name": "stderr",
          "text": "\n",
          "output_type": "stream"
        },
        {
          "name": "stdout",
          "text": "\n      Epoch    GPU_mem   box_loss   cls_loss   dfl_loss  Instances       Size\n",
          "output_type": "stream"
        },
        {
          "name": "stderr",
          "text": "     27/100      2.58G      3.528      5.398      4.107        201        640: 100%|██████████| 8/8 [00:01<00:00,  5.73it/s]\n                 Class     Images  Instances      Box(P          R      mAP50  mAP50-95): 100%|██████████| 4/4 [00:00<00:00,  4.89it/s]",
          "output_type": "stream"
        },
        {
          "name": "stdout",
          "text": "                   all        128        929   0.000245    0.00509   0.000216   5.24e-05\n",
          "output_type": "stream"
        },
        {
          "name": "stderr",
          "text": "\n",
          "output_type": "stream"
        },
        {
          "name": "stdout",
          "text": "\n      Epoch    GPU_mem   box_loss   cls_loss   dfl_loss  Instances       Size\n",
          "output_type": "stream"
        },
        {
          "name": "stderr",
          "text": "     28/100      2.65G      3.529      5.413      4.108        214        640: 100%|██████████| 8/8 [00:01<00:00,  5.65it/s]\n                 Class     Images  Instances      Box(P          R      mAP50  mAP50-95): 100%|██████████| 4/4 [00:00<00:00,  4.94it/s]\n",
          "output_type": "stream"
        },
        {
          "name": "stdout",
          "text": "                   all        128        929   0.000663    0.00948   0.000494   0.000168\n\n      Epoch    GPU_mem   box_loss   cls_loss   dfl_loss  Instances       Size\n",
          "output_type": "stream"
        },
        {
          "name": "stderr",
          "text": "     29/100      2.67G      3.496      5.397      4.102        169        640: 100%|██████████| 8/8 [00:01<00:00,  5.77it/s]\n                 Class     Images  Instances      Box(P          R      mAP50  mAP50-95): 100%|██████████| 4/4 [00:00<00:00,  4.94it/s]",
          "output_type": "stream"
        },
        {
          "name": "stdout",
          "text": "                   all        128        929   0.000897     0.0155   0.000879   0.000159\n",
          "output_type": "stream"
        },
        {
          "name": "stderr",
          "text": "\n",
          "output_type": "stream"
        },
        {
          "name": "stdout",
          "text": "\n      Epoch    GPU_mem   box_loss   cls_loss   dfl_loss  Instances       Size\n",
          "output_type": "stream"
        },
        {
          "name": "stderr",
          "text": "     30/100      2.58G      3.546      5.422      4.094        236        640: 100%|██████████| 8/8 [00:01<00:00,  5.69it/s]\n                 Class     Images  Instances      Box(P          R      mAP50  mAP50-95): 100%|██████████| 4/4 [00:00<00:00,  4.65it/s]",
          "output_type": "stream"
        },
        {
          "name": "stdout",
          "text": "                   all        128        929   0.000737     0.0192   0.000944   0.000259\n",
          "output_type": "stream"
        },
        {
          "name": "stderr",
          "text": "\n",
          "output_type": "stream"
        },
        {
          "name": "stdout",
          "text": "\n      Epoch    GPU_mem   box_loss   cls_loss   dfl_loss  Instances       Size\n",
          "output_type": "stream"
        },
        {
          "name": "stderr",
          "text": "     31/100      2.59G      3.568      5.403      4.088        246        640: 100%|██████████| 8/8 [00:01<00:00,  5.62it/s]\n                 Class     Images  Instances      Box(P          R      mAP50  mAP50-95): 100%|██████████| 4/4 [00:00<00:00,  4.92it/s]",
          "output_type": "stream"
        },
        {
          "name": "stdout",
          "text": "                   all        128        929   0.000695     0.0198    0.00115   0.000282\n",
          "output_type": "stream"
        },
        {
          "name": "stderr",
          "text": "\n",
          "output_type": "stream"
        },
        {
          "name": "stdout",
          "text": "\n      Epoch    GPU_mem   box_loss   cls_loss   dfl_loss  Instances       Size\n",
          "output_type": "stream"
        },
        {
          "name": "stderr",
          "text": "     32/100      2.74G      3.464      5.365       4.08        241        640: 100%|██████████| 8/8 [00:01<00:00,  5.48it/s]\n                 Class     Images  Instances      Box(P          R      mAP50  mAP50-95): 100%|██████████| 4/4 [00:00<00:00,  4.75it/s]",
          "output_type": "stream"
        },
        {
          "name": "stdout",
          "text": "                   all        128        929   0.000589     0.0181    0.00183   0.000308\n",
          "output_type": "stream"
        },
        {
          "name": "stderr",
          "text": "\n",
          "output_type": "stream"
        },
        {
          "name": "stdout",
          "text": "\n      Epoch    GPU_mem   box_loss   cls_loss   dfl_loss  Instances       Size\n",
          "output_type": "stream"
        },
        {
          "name": "stderr",
          "text": "     33/100       2.6G      3.536      5.384      4.076        240        640: 100%|██████████| 8/8 [00:01<00:00,  5.68it/s]\n                 Class     Images  Instances      Box(P          R      mAP50  mAP50-95): 100%|██████████| 4/4 [00:00<00:00,  4.79it/s]",
          "output_type": "stream"
        },
        {
          "name": "stdout",
          "text": "                   all        128        929    0.00037      0.019   0.000837    0.00023\n",
          "output_type": "stream"
        },
        {
          "name": "stderr",
          "text": "\n",
          "output_type": "stream"
        },
        {
          "name": "stdout",
          "text": "\n      Epoch    GPU_mem   box_loss   cls_loss   dfl_loss  Instances       Size\n",
          "output_type": "stream"
        },
        {
          "name": "stderr",
          "text": "     34/100      2.67G      3.526      5.378      4.071        183        640: 100%|██████████| 8/8 [00:01<00:00,  5.75it/s]\n                 Class     Images  Instances      Box(P          R      mAP50  mAP50-95): 100%|██████████| 4/4 [00:00<00:00,  4.73it/s]",
          "output_type": "stream"
        },
        {
          "name": "stdout",
          "text": "                   all        128        929   0.000893     0.0274    0.00113   0.000275\n",
          "output_type": "stream"
        },
        {
          "name": "stderr",
          "text": "\n",
          "output_type": "stream"
        },
        {
          "name": "stdout",
          "text": "\n      Epoch    GPU_mem   box_loss   cls_loss   dfl_loss  Instances       Size\n",
          "output_type": "stream"
        },
        {
          "name": "stderr",
          "text": "     35/100      2.63G      3.547      5.345      4.058        261        640: 100%|██████████| 8/8 [00:01<00:00,  5.75it/s]\n                 Class     Images  Instances      Box(P          R      mAP50  mAP50-95): 100%|██████████| 4/4 [00:00<00:00,  4.79it/s]",
          "output_type": "stream"
        },
        {
          "name": "stdout",
          "text": "                   all        128        929   0.000962     0.0318    0.00123   0.000292\n",
          "output_type": "stream"
        },
        {
          "name": "stderr",
          "text": "\n",
          "output_type": "stream"
        },
        {
          "name": "stdout",
          "text": "\n      Epoch    GPU_mem   box_loss   cls_loss   dfl_loss  Instances       Size\n",
          "output_type": "stream"
        },
        {
          "name": "stderr",
          "text": "     36/100      2.79G      3.548       5.39      4.055        216        640: 100%|██████████| 8/8 [00:01<00:00,  5.67it/s]\n                 Class     Images  Instances      Box(P          R      mAP50  mAP50-95): 100%|██████████| 4/4 [00:00<00:00,  4.74it/s]",
          "output_type": "stream"
        },
        {
          "name": "stdout",
          "text": "                   all        128        929   0.000956     0.0289    0.00132   0.000245\n",
          "output_type": "stream"
        },
        {
          "name": "stderr",
          "text": "\n",
          "output_type": "stream"
        },
        {
          "name": "stdout",
          "text": "\n      Epoch    GPU_mem   box_loss   cls_loss   dfl_loss  Instances       Size\n",
          "output_type": "stream"
        },
        {
          "name": "stderr",
          "text": "     37/100      2.88G      3.487      5.314      4.044        213        640: 100%|██████████| 8/8 [00:01<00:00,  5.67it/s]\n                 Class     Images  Instances      Box(P          R      mAP50  mAP50-95): 100%|██████████| 4/4 [00:00<00:00,  4.82it/s]",
          "output_type": "stream"
        },
        {
          "name": "stdout",
          "text": "                   all        128        929    0.00146     0.0298    0.00177   0.000305\n",
          "output_type": "stream"
        },
        {
          "name": "stderr",
          "text": "\n",
          "output_type": "stream"
        },
        {
          "name": "stdout",
          "text": "\n      Epoch    GPU_mem   box_loss   cls_loss   dfl_loss  Instances       Size\n",
          "output_type": "stream"
        },
        {
          "name": "stderr",
          "text": "     38/100       2.6G      3.498      5.314       4.04        190        640: 100%|██████████| 8/8 [00:01<00:00,  5.59it/s]\n                 Class     Images  Instances      Box(P          R      mAP50  mAP50-95): 100%|██████████| 4/4 [00:00<00:00,  4.74it/s]",
          "output_type": "stream"
        },
        {
          "name": "stdout",
          "text": "                   all        128        929    0.00082     0.0324    0.00157   0.000274\n",
          "output_type": "stream"
        },
        {
          "name": "stderr",
          "text": "\n",
          "output_type": "stream"
        },
        {
          "name": "stdout",
          "text": "\n      Epoch    GPU_mem   box_loss   cls_loss   dfl_loss  Instances       Size\n",
          "output_type": "stream"
        },
        {
          "name": "stderr",
          "text": "     39/100      2.79G      3.426      5.386      4.026        246        640: 100%|██████████| 8/8 [00:01<00:00,  5.73it/s]\n                 Class     Images  Instances      Box(P          R      mAP50  mAP50-95): 100%|██████████| 4/4 [00:00<00:00,  4.81it/s]",
          "output_type": "stream"
        },
        {
          "name": "stdout",
          "text": "                   all        128        929    0.00105      0.028    0.00237   0.000347\n",
          "output_type": "stream"
        },
        {
          "name": "stderr",
          "text": "\n",
          "output_type": "stream"
        },
        {
          "name": "stdout",
          "text": "\n      Epoch    GPU_mem   box_loss   cls_loss   dfl_loss  Instances       Size\n",
          "output_type": "stream"
        },
        {
          "name": "stderr",
          "text": "     40/100      2.75G      3.432      5.262      4.008        260        640: 100%|██████████| 8/8 [00:01<00:00,  5.59it/s]\n                 Class     Images  Instances      Box(P          R      mAP50  mAP50-95): 100%|██████████| 4/4 [00:00<00:00,  4.86it/s]",
          "output_type": "stream"
        },
        {
          "name": "stdout",
          "text": "                   all        128        929    0.00137     0.0281    0.00238   0.000405\n",
          "output_type": "stream"
        },
        {
          "name": "stderr",
          "text": "\n",
          "output_type": "stream"
        },
        {
          "name": "stdout",
          "text": "\n      Epoch    GPU_mem   box_loss   cls_loss   dfl_loss  Instances       Size\n",
          "output_type": "stream"
        },
        {
          "name": "stderr",
          "text": "     41/100      2.64G      3.419      5.325      4.002        168        640: 100%|██████████| 8/8 [00:01<00:00,  5.52it/s]\n                 Class     Images  Instances      Box(P          R      mAP50  mAP50-95): 100%|██████████| 4/4 [00:00<00:00,  4.18it/s]",
          "output_type": "stream"
        },
        {
          "name": "stdout",
          "text": "                   all        128        929      0.298     0.0155    0.00219   0.000383\n",
          "output_type": "stream"
        },
        {
          "name": "stderr",
          "text": "\n",
          "output_type": "stream"
        },
        {
          "name": "stdout",
          "text": "\n      Epoch    GPU_mem   box_loss   cls_loss   dfl_loss  Instances       Size\n",
          "output_type": "stream"
        },
        {
          "name": "stderr",
          "text": "     42/100      2.62G      3.496      5.313      4.017        214        640: 100%|██████████| 8/8 [00:01<00:00,  5.77it/s]\n                 Class     Images  Instances      Box(P          R      mAP50  mAP50-95): 100%|██████████| 4/4 [00:00<00:00,  4.73it/s]",
          "output_type": "stream"
        },
        {
          "name": "stdout",
          "text": "                   all        128        929   0.000355      0.025    0.00147   0.000242\n",
          "output_type": "stream"
        },
        {
          "name": "stderr",
          "text": "\n",
          "output_type": "stream"
        },
        {
          "name": "stdout",
          "text": "\n      Epoch    GPU_mem   box_loss   cls_loss   dfl_loss  Instances       Size\n",
          "output_type": "stream"
        },
        {
          "name": "stderr",
          "text": "     43/100      2.61G      3.444      5.346      3.994        275        640: 100%|██████████| 8/8 [00:01<00:00,  5.77it/s]\n                 Class     Images  Instances      Box(P          R      mAP50  mAP50-95): 100%|██████████| 4/4 [00:00<00:00,  4.74it/s]",
          "output_type": "stream"
        },
        {
          "name": "stdout",
          "text": "                   all        128        929   0.000888     0.0293    0.00193   0.000411\n",
          "output_type": "stream"
        },
        {
          "name": "stderr",
          "text": "\n",
          "output_type": "stream"
        },
        {
          "name": "stdout",
          "text": "\n      Epoch    GPU_mem   box_loss   cls_loss   dfl_loss  Instances       Size\n",
          "output_type": "stream"
        },
        {
          "name": "stderr",
          "text": "     44/100      2.63G      3.476       5.31      3.999        175        640: 100%|██████████| 8/8 [00:01<00:00,  5.67it/s]\n                 Class     Images  Instances      Box(P          R      mAP50  mAP50-95): 100%|██████████| 4/4 [00:00<00:00,  4.90it/s]",
          "output_type": "stream"
        },
        {
          "name": "stdout",
          "text": "                   all        128        929   0.000723     0.0355    0.00228   0.000364\n",
          "output_type": "stream"
        },
        {
          "name": "stderr",
          "text": "\n",
          "output_type": "stream"
        },
        {
          "name": "stdout",
          "text": "\n      Epoch    GPU_mem   box_loss   cls_loss   dfl_loss  Instances       Size\n",
          "output_type": "stream"
        },
        {
          "name": "stderr",
          "text": "     45/100      2.78G      3.419      5.239      3.982        234        640: 100%|██████████| 8/8 [00:01<00:00,  5.62it/s]\n                 Class     Images  Instances      Box(P          R      mAP50  mAP50-95): 100%|██████████| 4/4 [00:00<00:00,  4.75it/s]",
          "output_type": "stream"
        },
        {
          "name": "stdout",
          "text": "                   all        128        929   0.000714     0.0321    0.00209   0.000306\n",
          "output_type": "stream"
        },
        {
          "name": "stderr",
          "text": "\n",
          "output_type": "stream"
        },
        {
          "name": "stdout",
          "text": "\n      Epoch    GPU_mem   box_loss   cls_loss   dfl_loss  Instances       Size\n",
          "output_type": "stream"
        },
        {
          "name": "stderr",
          "text": "     46/100      2.63G      3.428      5.308      3.981        263        640: 100%|██████████| 8/8 [00:01<00:00,  5.68it/s]\n                 Class     Images  Instances      Box(P          R      mAP50  mAP50-95): 100%|██████████| 4/4 [00:00<00:00,  4.71it/s]",
          "output_type": "stream"
        },
        {
          "name": "stdout",
          "text": "                   all        128        929   0.000818     0.0349    0.00215   0.000401\n",
          "output_type": "stream"
        },
        {
          "name": "stderr",
          "text": "\n",
          "output_type": "stream"
        },
        {
          "name": "stdout",
          "text": "\n      Epoch    GPU_mem   box_loss   cls_loss   dfl_loss  Instances       Size\n",
          "output_type": "stream"
        },
        {
          "name": "stderr",
          "text": "     47/100       2.6G       3.42      5.242      3.975        233        640: 100%|██████████| 8/8 [00:01<00:00,  5.68it/s]\n                 Class     Images  Instances      Box(P          R      mAP50  mAP50-95): 100%|██████████| 4/4 [00:00<00:00,  4.63it/s]",
          "output_type": "stream"
        },
        {
          "name": "stdout",
          "text": "                   all        128        929   0.000437     0.0324    0.00356   0.000782\n",
          "output_type": "stream"
        },
        {
          "name": "stderr",
          "text": "\n",
          "output_type": "stream"
        },
        {
          "name": "stdout",
          "text": "\n      Epoch    GPU_mem   box_loss   cls_loss   dfl_loss  Instances       Size\n",
          "output_type": "stream"
        },
        {
          "name": "stderr",
          "text": "     48/100      2.67G      3.347      5.263      3.962        197        640: 100%|██████████| 8/8 [00:01<00:00,  5.75it/s]\n                 Class     Images  Instances      Box(P          R      mAP50  mAP50-95): 100%|██████████| 4/4 [00:00<00:00,  4.79it/s]",
          "output_type": "stream"
        },
        {
          "name": "stdout",
          "text": "                   all        128        929   0.000444     0.0325    0.00356    0.00078\n",
          "output_type": "stream"
        },
        {
          "name": "stderr",
          "text": "\n",
          "output_type": "stream"
        },
        {
          "name": "stdout",
          "text": "\n      Epoch    GPU_mem   box_loss   cls_loss   dfl_loss  Instances       Size\n",
          "output_type": "stream"
        },
        {
          "name": "stderr",
          "text": "     49/100      2.66G      3.474      5.237      3.957        198        640: 100%|██████████| 8/8 [00:01<00:00,  5.71it/s]\n                 Class     Images  Instances      Box(P          R      mAP50  mAP50-95): 100%|██████████| 4/4 [00:00<00:00,  4.75it/s]",
          "output_type": "stream"
        },
        {
          "name": "stdout",
          "text": "                   all        128        929   0.000514     0.0348    0.00443   0.000929\n",
          "output_type": "stream"
        },
        {
          "name": "stderr",
          "text": "\n",
          "output_type": "stream"
        },
        {
          "name": "stdout",
          "text": "\n      Epoch    GPU_mem   box_loss   cls_loss   dfl_loss  Instances       Size\n",
          "output_type": "stream"
        },
        {
          "name": "stderr",
          "text": "     50/100      2.59G      3.459      5.275      3.972        220        640: 100%|██████████| 8/8 [00:01<00:00,  5.70it/s]\n                 Class     Images  Instances      Box(P          R      mAP50  mAP50-95): 100%|██████████| 4/4 [00:00<00:00,  4.76it/s]",
          "output_type": "stream"
        },
        {
          "name": "stdout",
          "text": "                   all        128        929      0.317    0.00387    0.00376   0.000812\n",
          "output_type": "stream"
        },
        {
          "name": "stderr",
          "text": "\n",
          "output_type": "stream"
        },
        {
          "name": "stdout",
          "text": "\n      Epoch    GPU_mem   box_loss   cls_loss   dfl_loss  Instances       Size\n",
          "output_type": "stream"
        },
        {
          "name": "stderr",
          "text": "     51/100      2.81G      3.466      5.224      3.917        334        640: 100%|██████████| 8/8 [00:01<00:00,  5.71it/s]\n                 Class     Images  Instances      Box(P          R      mAP50  mAP50-95): 100%|██████████| 4/4 [00:00<00:00,  4.72it/s]",
          "output_type": "stream"
        },
        {
          "name": "stdout",
          "text": "                   all        128        929        0.3    0.00382    0.00395   0.000577\n",
          "output_type": "stream"
        },
        {
          "name": "stderr",
          "text": "\n",
          "output_type": "stream"
        },
        {
          "name": "stdout",
          "text": "\n      Epoch    GPU_mem   box_loss   cls_loss   dfl_loss  Instances       Size\n",
          "output_type": "stream"
        },
        {
          "name": "stderr",
          "text": "     52/100      2.57G       3.45      5.195      3.924        217        640: 100%|██████████| 8/8 [00:01<00:00,  5.82it/s]\n                 Class     Images  Instances      Box(P          R      mAP50  mAP50-95): 100%|██████████| 4/4 [00:00<00:00,  4.79it/s]",
          "output_type": "stream"
        },
        {
          "name": "stdout",
          "text": "                   all        128        929      0.271     0.0109     0.0022   0.000488\n",
          "output_type": "stream"
        },
        {
          "name": "stderr",
          "text": "\n",
          "output_type": "stream"
        },
        {
          "name": "stdout",
          "text": "\n      Epoch    GPU_mem   box_loss   cls_loss   dfl_loss  Instances       Size\n",
          "output_type": "stream"
        },
        {
          "name": "stderr",
          "text": "     53/100      2.57G        3.4      5.192      3.908        169        640: 100%|██████████| 8/8 [00:01<00:00,  5.75it/s]\n                 Class     Images  Instances      Box(P          R      mAP50  mAP50-95): 100%|██████████| 4/4 [00:00<00:00,  4.84it/s]",
          "output_type": "stream"
        },
        {
          "name": "stdout",
          "text": "                   all        128        929   0.000516     0.0347    0.00246   0.000702\n",
          "output_type": "stream"
        },
        {
          "name": "stderr",
          "text": "\n",
          "output_type": "stream"
        },
        {
          "name": "stdout",
          "text": "\n      Epoch    GPU_mem   box_loss   cls_loss   dfl_loss  Instances       Size\n",
          "output_type": "stream"
        },
        {
          "name": "stderr",
          "text": "     54/100      2.64G      3.514      5.201      3.909        186        640: 100%|██████████| 8/8 [00:01<00:00,  5.73it/s]\n                 Class     Images  Instances      Box(P          R      mAP50  mAP50-95): 100%|██████████| 4/4 [00:00<00:00,  4.62it/s]",
          "output_type": "stream"
        },
        {
          "name": "stdout",
          "text": "                   all        128        929      0.353   0.000947     0.0021   0.000468\n",
          "output_type": "stream"
        },
        {
          "name": "stderr",
          "text": "\n",
          "output_type": "stream"
        },
        {
          "name": "stdout",
          "text": "\n      Epoch    GPU_mem   box_loss   cls_loss   dfl_loss  Instances       Size\n",
          "output_type": "stream"
        },
        {
          "name": "stderr",
          "text": "     55/100      2.62G       3.54       5.22      3.935        151        640: 100%|██████████| 8/8 [00:01<00:00,  5.71it/s]\n                 Class     Images  Instances      Box(P          R      mAP50  mAP50-95): 100%|██████████| 4/4 [00:00<00:00,  4.68it/s]",
          "output_type": "stream"
        },
        {
          "name": "stdout",
          "text": "                   all        128        929      0.381    0.00169     0.0011   0.000273\n",
          "output_type": "stream"
        },
        {
          "name": "stderr",
          "text": "\n",
          "output_type": "stream"
        },
        {
          "name": "stdout",
          "text": "\n      Epoch    GPU_mem   box_loss   cls_loss   dfl_loss  Instances       Size\n",
          "output_type": "stream"
        },
        {
          "name": "stderr",
          "text": "     56/100      2.61G      3.435      5.218      3.917        278        640: 100%|██████████| 8/8 [00:01<00:00,  5.69it/s]\n                 Class     Images  Instances      Box(P          R      mAP50  mAP50-95): 100%|██████████| 4/4 [00:00<00:00,  4.75it/s]",
          "output_type": "stream"
        },
        {
          "name": "stdout",
          "text": "                   all        128        929   0.000438     0.0303   0.000992   0.000308\n",
          "output_type": "stream"
        },
        {
          "name": "stderr",
          "text": "\n",
          "output_type": "stream"
        },
        {
          "name": "stdout",
          "text": "\n      Epoch    GPU_mem   box_loss   cls_loss   dfl_loss  Instances       Size\n",
          "output_type": "stream"
        },
        {
          "name": "stderr",
          "text": "     57/100      2.77G      3.382      5.204      3.922        202        640: 100%|██████████| 8/8 [00:01<00:00,  5.64it/s]\n                 Class     Images  Instances      Box(P          R      mAP50  mAP50-95): 100%|██████████| 4/4 [00:00<00:00,  4.72it/s]",
          "output_type": "stream"
        },
        {
          "name": "stdout",
          "text": "                   all        128        929   0.000463     0.0378   0.000844   0.000235\n",
          "output_type": "stream"
        },
        {
          "name": "stderr",
          "text": "\n",
          "output_type": "stream"
        },
        {
          "name": "stdout",
          "text": "\n      Epoch    GPU_mem   box_loss   cls_loss   dfl_loss  Instances       Size\n",
          "output_type": "stream"
        },
        {
          "name": "stderr",
          "text": "     58/100      2.67G      3.475       5.12      3.911        151        640: 100%|██████████| 8/8 [00:01<00:00,  5.64it/s]\n                 Class     Images  Instances      Box(P          R      mAP50  mAP50-95): 100%|██████████| 4/4 [00:00<00:00,  4.74it/s]",
          "output_type": "stream"
        },
        {
          "name": "stdout",
          "text": "                   all        128        929   0.000411     0.0345   0.000694   0.000197\n",
          "output_type": "stream"
        },
        {
          "name": "stderr",
          "text": "\n",
          "output_type": "stream"
        },
        {
          "name": "stdout",
          "text": "\n      Epoch    GPU_mem   box_loss   cls_loss   dfl_loss  Instances       Size\n",
          "output_type": "stream"
        },
        {
          "name": "stderr",
          "text": "     59/100      2.65G      3.399      5.141      3.912        210        640: 100%|██████████| 8/8 [00:01<00:00,  5.74it/s]\n                 Class     Images  Instances      Box(P          R      mAP50  mAP50-95): 100%|██████████| 4/4 [00:00<00:00,  4.73it/s]",
          "output_type": "stream"
        },
        {
          "name": "stdout",
          "text": "                   all        128        929   0.000395     0.0351   0.000542   0.000154\n",
          "output_type": "stream"
        },
        {
          "name": "stderr",
          "text": "\n",
          "output_type": "stream"
        },
        {
          "name": "stdout",
          "text": "\n      Epoch    GPU_mem   box_loss   cls_loss   dfl_loss  Instances       Size\n",
          "output_type": "stream"
        },
        {
          "name": "stderr",
          "text": "     60/100      2.62G      3.414      5.204      3.901        252        640: 100%|██████████| 8/8 [00:01<00:00,  5.32it/s]\n                 Class     Images  Instances      Box(P          R      mAP50  mAP50-95): 100%|██████████| 4/4 [00:00<00:00,  4.63it/s]",
          "output_type": "stream"
        },
        {
          "name": "stdout",
          "text": "                   all        128        929      0.282    0.00229   0.000478   0.000156\n",
          "output_type": "stream"
        },
        {
          "name": "stderr",
          "text": "\n",
          "output_type": "stream"
        },
        {
          "name": "stdout",
          "text": "\n      Epoch    GPU_mem   box_loss   cls_loss   dfl_loss  Instances       Size\n",
          "output_type": "stream"
        },
        {
          "name": "stderr",
          "text": "     61/100      2.63G      3.437      5.099      3.912        153        640: 100%|██████████| 8/8 [00:01<00:00,  5.61it/s]\n                 Class     Images  Instances      Box(P          R      mAP50  mAP50-95): 100%|██████████| 4/4 [00:00<00:00,  4.80it/s]",
          "output_type": "stream"
        },
        {
          "name": "stdout",
          "text": "                   all        128        929      0.339   0.000947   0.000435   0.000119\n",
          "output_type": "stream"
        },
        {
          "name": "stderr",
          "text": "\n",
          "output_type": "stream"
        },
        {
          "name": "stdout",
          "text": "\n      Epoch    GPU_mem   box_loss   cls_loss   dfl_loss  Instances       Size\n",
          "output_type": "stream"
        },
        {
          "name": "stderr",
          "text": "     62/100      2.81G      3.297      5.163      3.891        250        640: 100%|██████████| 8/8 [00:01<00:00,  5.67it/s]\n                 Class     Images  Instances      Box(P          R      mAP50  mAP50-95): 100%|██████████| 4/4 [00:00<00:00,  4.54it/s]",
          "output_type": "stream"
        },
        {
          "name": "stdout",
          "text": "                   all        128        929      0.184     0.0189   0.000832   0.000158\n",
          "output_type": "stream"
        },
        {
          "name": "stderr",
          "text": "\n",
          "output_type": "stream"
        },
        {
          "name": "stdout",
          "text": "\n      Epoch    GPU_mem   box_loss   cls_loss   dfl_loss  Instances       Size\n",
          "output_type": "stream"
        },
        {
          "name": "stderr",
          "text": "     63/100      2.55G      3.325      5.092      3.879        188        640: 100%|██████████| 8/8 [00:01<00:00,  5.75it/s]\n                 Class     Images  Instances      Box(P          R      mAP50  mAP50-95): 100%|██████████| 4/4 [00:00<00:00,  4.83it/s]",
          "output_type": "stream"
        },
        {
          "name": "stdout",
          "text": "                   all        128        929   0.000819     0.0332   0.000788   0.000148\n",
          "output_type": "stream"
        },
        {
          "name": "stderr",
          "text": "\n",
          "output_type": "stream"
        },
        {
          "name": "stdout",
          "text": "\n      Epoch    GPU_mem   box_loss   cls_loss   dfl_loss  Instances       Size\n",
          "output_type": "stream"
        },
        {
          "name": "stderr",
          "text": "     64/100      2.58G      3.394        5.1      3.842        239        640: 100%|██████████| 8/8 [00:01<00:00,  5.63it/s]\n                 Class     Images  Instances      Box(P          R      mAP50  mAP50-95): 100%|██████████| 4/4 [00:00<00:00,  4.97it/s]",
          "output_type": "stream"
        },
        {
          "name": "stdout",
          "text": "                   all        128        929   0.000664     0.0342   0.000742    0.00017\n",
          "output_type": "stream"
        },
        {
          "name": "stderr",
          "text": "\n",
          "output_type": "stream"
        },
        {
          "name": "stdout",
          "text": "\n      Epoch    GPU_mem   box_loss   cls_loss   dfl_loss  Instances       Size\n",
          "output_type": "stream"
        },
        {
          "name": "stderr",
          "text": "     65/100      2.58G      3.437      5.125      3.882        269        640: 100%|██████████| 8/8 [00:01<00:00,  5.60it/s]\n                 Class     Images  Instances      Box(P          R      mAP50  mAP50-95): 100%|██████████| 4/4 [00:00<00:00,  4.79it/s]",
          "output_type": "stream"
        },
        {
          "name": "stdout",
          "text": "                   all        128        929      0.227     0.0156    0.00225   0.000337\n",
          "output_type": "stream"
        },
        {
          "name": "stderr",
          "text": "\n",
          "output_type": "stream"
        },
        {
          "name": "stdout",
          "text": "\n      Epoch    GPU_mem   box_loss   cls_loss   dfl_loss  Instances       Size\n",
          "output_type": "stream"
        },
        {
          "name": "stderr",
          "text": "     66/100      2.55G      3.343      5.144      3.879        212        640: 100%|██████████| 8/8 [00:01<00:00,  5.65it/s]\n                 Class     Images  Instances      Box(P          R      mAP50  mAP50-95): 100%|██████████| 4/4 [00:00<00:00,  4.64it/s]",
          "output_type": "stream"
        },
        {
          "name": "stdout",
          "text": "                   all        128        929    0.00132      0.045    0.00311   0.000821\n",
          "output_type": "stream"
        },
        {
          "name": "stderr",
          "text": "\n",
          "output_type": "stream"
        },
        {
          "name": "stdout",
          "text": "\n      Epoch    GPU_mem   box_loss   cls_loss   dfl_loss  Instances       Size\n",
          "output_type": "stream"
        },
        {
          "name": "stderr",
          "text": "     67/100       2.6G      3.406      5.121      3.876        186        640: 100%|██████████| 8/8 [00:01<00:00,  5.72it/s]\n                 Class     Images  Instances      Box(P          R      mAP50  mAP50-95): 100%|██████████| 4/4 [00:00<00:00,  4.79it/s]",
          "output_type": "stream"
        },
        {
          "name": "stdout",
          "text": "                   all        128        929     0.0013      0.048    0.00521    0.00132\n",
          "output_type": "stream"
        },
        {
          "name": "stderr",
          "text": "\n",
          "output_type": "stream"
        },
        {
          "name": "stdout",
          "text": "\n      Epoch    GPU_mem   box_loss   cls_loss   dfl_loss  Instances       Size\n",
          "output_type": "stream"
        },
        {
          "name": "stderr",
          "text": "     68/100      2.62G      3.333      5.149      3.895        201        640: 100%|██████████| 8/8 [00:01<00:00,  5.68it/s]\n                 Class     Images  Instances      Box(P          R      mAP50  mAP50-95): 100%|██████████| 4/4 [00:00<00:00,  4.70it/s]",
          "output_type": "stream"
        },
        {
          "name": "stdout",
          "text": "                   all        128        929    0.00254     0.0553    0.00637    0.00177\n",
          "output_type": "stream"
        },
        {
          "name": "stderr",
          "text": "\n",
          "output_type": "stream"
        },
        {
          "name": "stdout",
          "text": "\n      Epoch    GPU_mem   box_loss   cls_loss   dfl_loss  Instances       Size\n",
          "output_type": "stream"
        },
        {
          "name": "stderr",
          "text": "     69/100      2.65G      3.407      5.069      3.859        210        640: 100%|██████████| 8/8 [00:01<00:00,  5.71it/s]\n                 Class     Images  Instances      Box(P          R      mAP50  mAP50-95): 100%|██████████| 4/4 [00:00<00:00,  4.43it/s]",
          "output_type": "stream"
        },
        {
          "name": "stdout",
          "text": "                   all        128        929    0.00187     0.0485    0.00607    0.00154\n",
          "output_type": "stream"
        },
        {
          "name": "stderr",
          "text": "\n",
          "output_type": "stream"
        },
        {
          "name": "stdout",
          "text": "\n      Epoch    GPU_mem   box_loss   cls_loss   dfl_loss  Instances       Size\n",
          "output_type": "stream"
        },
        {
          "name": "stderr",
          "text": "     70/100      2.82G      3.374      5.083      3.867        190        640: 100%|██████████| 8/8 [00:01<00:00,  5.65it/s]\n                 Class     Images  Instances      Box(P          R      mAP50  mAP50-95): 100%|██████████| 4/4 [00:00<00:00,  4.70it/s]",
          "output_type": "stream"
        },
        {
          "name": "stdout",
          "text": "                   all        128        929    0.00195     0.0496    0.00396   0.000984\n",
          "output_type": "stream"
        },
        {
          "name": "stderr",
          "text": "\n",
          "output_type": "stream"
        },
        {
          "name": "stdout",
          "text": "\n      Epoch    GPU_mem   box_loss   cls_loss   dfl_loss  Instances       Size\n",
          "output_type": "stream"
        },
        {
          "name": "stderr",
          "text": "     71/100       2.6G      3.437      5.159      3.856        219        640: 100%|██████████| 8/8 [00:01<00:00,  5.72it/s]\n                 Class     Images  Instances      Box(P          R      mAP50  mAP50-95): 100%|██████████| 4/4 [00:00<00:00,  4.80it/s]",
          "output_type": "stream"
        },
        {
          "name": "stdout",
          "text": "                   all        128        929    0.00156     0.0446    0.00333   0.000733\n",
          "output_type": "stream"
        },
        {
          "name": "stderr",
          "text": "\n",
          "output_type": "stream"
        },
        {
          "name": "stdout",
          "text": "\n      Epoch    GPU_mem   box_loss   cls_loss   dfl_loss  Instances       Size\n",
          "output_type": "stream"
        },
        {
          "name": "stderr",
          "text": "     72/100      2.82G      3.505      5.079      3.854        245        640: 100%|██████████| 8/8 [00:01<00:00,  5.65it/s]\n                 Class     Images  Instances      Box(P          R      mAP50  mAP50-95): 100%|██████████| 4/4 [00:00<00:00,  4.81it/s]",
          "output_type": "stream"
        },
        {
          "name": "stdout",
          "text": "                   all        128        929   0.000692     0.0319    0.00138   0.000264\n",
          "output_type": "stream"
        },
        {
          "name": "stderr",
          "text": "\n",
          "output_type": "stream"
        },
        {
          "name": "stdout",
          "text": "\n      Epoch    GPU_mem   box_loss   cls_loss   dfl_loss  Instances       Size\n",
          "output_type": "stream"
        },
        {
          "name": "stderr",
          "text": "     73/100      2.65G      3.414      5.125      3.865        164        640: 100%|██████████| 8/8 [00:01<00:00,  5.64it/s]\n                 Class     Images  Instances      Box(P          R      mAP50  mAP50-95): 100%|██████████| 4/4 [00:00<00:00,  4.71it/s]",
          "output_type": "stream"
        },
        {
          "name": "stdout",
          "text": "                   all        128        929       0.24     0.0198    0.00136     0.0003\n",
          "output_type": "stream"
        },
        {
          "name": "stderr",
          "text": "\n",
          "output_type": "stream"
        },
        {
          "name": "stdout",
          "text": "\n      Epoch    GPU_mem   box_loss   cls_loss   dfl_loss  Instances       Size\n",
          "output_type": "stream"
        },
        {
          "name": "stderr",
          "text": "     74/100      2.65G        3.4      5.062      3.846        202        640: 100%|██████████| 8/8 [00:01<00:00,  5.69it/s]\n                 Class     Images  Instances      Box(P          R      mAP50  mAP50-95): 100%|██████████| 4/4 [00:00<00:00,  4.73it/s]",
          "output_type": "stream"
        },
        {
          "name": "stdout",
          "text": "                   all        128        929    0.00184     0.0508    0.00231   0.000527\n",
          "output_type": "stream"
        },
        {
          "name": "stderr",
          "text": "\n",
          "output_type": "stream"
        },
        {
          "name": "stdout",
          "text": "\n      Epoch    GPU_mem   box_loss   cls_loss   dfl_loss  Instances       Size\n",
          "output_type": "stream"
        },
        {
          "name": "stderr",
          "text": "     75/100      2.63G      3.402      5.116      3.848        178        640: 100%|██████████| 8/8 [00:01<00:00,  5.69it/s]\n                 Class     Images  Instances      Box(P          R      mAP50  mAP50-95): 100%|██████████| 4/4 [00:00<00:00,  4.79it/s]",
          "output_type": "stream"
        },
        {
          "name": "stdout",
          "text": "                   all        128        929    0.00199     0.0566    0.00517   0.000863\n",
          "output_type": "stream"
        },
        {
          "name": "stderr",
          "text": "\n",
          "output_type": "stream"
        },
        {
          "name": "stdout",
          "text": "\n      Epoch    GPU_mem   box_loss   cls_loss   dfl_loss  Instances       Size\n",
          "output_type": "stream"
        },
        {
          "name": "stderr",
          "text": "     76/100      2.81G      3.355      5.061      3.829        228        640: 100%|██████████| 8/8 [00:01<00:00,  5.67it/s]\n                 Class     Images  Instances      Box(P          R      mAP50  mAP50-95): 100%|██████████| 4/4 [00:00<00:00,  4.89it/s]",
          "output_type": "stream"
        },
        {
          "name": "stdout",
          "text": "                   all        128        929    0.00181     0.0594    0.00387   0.000737\n",
          "output_type": "stream"
        },
        {
          "name": "stderr",
          "text": "\n",
          "output_type": "stream"
        },
        {
          "name": "stdout",
          "text": "\n      Epoch    GPU_mem   box_loss   cls_loss   dfl_loss  Instances       Size\n",
          "output_type": "stream"
        },
        {
          "name": "stderr",
          "text": "     77/100      2.62G      3.399      5.116      3.841        200        640: 100%|██████████| 8/8 [00:01<00:00,  5.61it/s]\n                 Class     Images  Instances      Box(P          R      mAP50  mAP50-95): 100%|██████████| 4/4 [00:00<00:00,  4.88it/s]",
          "output_type": "stream"
        },
        {
          "name": "stdout",
          "text": "                   all        128        929    0.00142     0.0566    0.00239   0.000579\n",
          "output_type": "stream"
        },
        {
          "name": "stderr",
          "text": "\n",
          "output_type": "stream"
        },
        {
          "name": "stdout",
          "text": "\n      Epoch    GPU_mem   box_loss   cls_loss   dfl_loss  Instances       Size\n",
          "output_type": "stream"
        },
        {
          "name": "stderr",
          "text": "     78/100      2.65G      3.381      5.112      3.858        242        640: 100%|██████████| 8/8 [00:01<00:00,  5.64it/s]\n                 Class     Images  Instances      Box(P          R      mAP50  mAP50-95): 100%|██████████| 4/4 [00:00<00:00,  4.62it/s]",
          "output_type": "stream"
        },
        {
          "name": "stdout",
          "text": "                   all        128        929    0.00148     0.0594    0.00258   0.000586\n",
          "output_type": "stream"
        },
        {
          "name": "stderr",
          "text": "\n",
          "output_type": "stream"
        },
        {
          "name": "stdout",
          "text": "\n      Epoch    GPU_mem   box_loss   cls_loss   dfl_loss  Instances       Size\n",
          "output_type": "stream"
        },
        {
          "name": "stderr",
          "text": "     79/100      2.59G      3.432      5.012      3.831        181        640: 100%|██████████| 8/8 [00:01<00:00,  5.59it/s]\n                 Class     Images  Instances      Box(P          R      mAP50  mAP50-95): 100%|██████████| 4/4 [00:00<00:00,  4.70it/s]",
          "output_type": "stream"
        },
        {
          "name": "stdout",
          "text": "                   all        128        929    0.00208     0.0582    0.00273   0.000721\n",
          "output_type": "stream"
        },
        {
          "name": "stderr",
          "text": "\n",
          "output_type": "stream"
        },
        {
          "name": "stdout",
          "text": "\n      Epoch    GPU_mem   box_loss   cls_loss   dfl_loss  Instances       Size\n",
          "output_type": "stream"
        },
        {
          "name": "stderr",
          "text": "     80/100      2.89G      3.338      5.119      3.822        252        640: 100%|██████████| 8/8 [00:01<00:00,  5.57it/s]\n                 Class     Images  Instances      Box(P          R      mAP50  mAP50-95): 100%|██████████| 4/4 [00:00<00:00,  4.88it/s]",
          "output_type": "stream"
        },
        {
          "name": "stdout",
          "text": "                   all        128        929    0.00186     0.0562    0.00278   0.000641\n",
          "output_type": "stream"
        },
        {
          "name": "stderr",
          "text": "\n",
          "output_type": "stream"
        },
        {
          "name": "stdout",
          "text": "\n      Epoch    GPU_mem   box_loss   cls_loss   dfl_loss  Instances       Size\n",
          "output_type": "stream"
        },
        {
          "name": "stderr",
          "text": "     81/100      2.66G      3.414      5.075      3.834        176        640: 100%|██████████| 8/8 [00:01<00:00,  5.75it/s]\n                 Class     Images  Instances      Box(P          R      mAP50  mAP50-95): 100%|██████████| 4/4 [00:00<00:00,  4.73it/s]",
          "output_type": "stream"
        },
        {
          "name": "stdout",
          "text": "                   all        128        929    0.00217     0.0499    0.00274   0.000637\n",
          "output_type": "stream"
        },
        {
          "name": "stderr",
          "text": "\n",
          "output_type": "stream"
        },
        {
          "name": "stdout",
          "text": "\n      Epoch    GPU_mem   box_loss   cls_loss   dfl_loss  Instances       Size\n",
          "output_type": "stream"
        },
        {
          "name": "stderr",
          "text": "     82/100      2.56G      3.362      5.055      3.821        149        640: 100%|██████████| 8/8 [00:01<00:00,  5.72it/s]\n                 Class     Images  Instances      Box(P          R      mAP50  mAP50-95): 100%|██████████| 4/4 [00:00<00:00,  4.67it/s]",
          "output_type": "stream"
        },
        {
          "name": "stdout",
          "text": "                   all        128        929    0.00208     0.0527    0.00283   0.000632\n",
          "output_type": "stream"
        },
        {
          "name": "stderr",
          "text": "\n",
          "output_type": "stream"
        },
        {
          "name": "stdout",
          "text": "\n      Epoch    GPU_mem   box_loss   cls_loss   dfl_loss  Instances       Size\n",
          "output_type": "stream"
        },
        {
          "name": "stderr",
          "text": "     83/100      2.56G      3.343      5.123      3.816        174        640: 100%|██████████| 8/8 [00:01<00:00,  5.67it/s]\n                 Class     Images  Instances      Box(P          R      mAP50  mAP50-95): 100%|██████████| 4/4 [00:00<00:00,  4.60it/s]",
          "output_type": "stream"
        },
        {
          "name": "stdout",
          "text": "                   all        128        929    0.00176      0.052    0.00291   0.000608\n",
          "output_type": "stream"
        },
        {
          "name": "stderr",
          "text": "\n",
          "output_type": "stream"
        },
        {
          "name": "stdout",
          "text": "\n      Epoch    GPU_mem   box_loss   cls_loss   dfl_loss  Instances       Size\n",
          "output_type": "stream"
        },
        {
          "name": "stderr",
          "text": "     84/100      2.55G      3.269      5.103      3.864        213        640: 100%|██████████| 8/8 [00:01<00:00,  5.68it/s]\n                 Class     Images  Instances      Box(P          R      mAP50  mAP50-95): 100%|██████████| 4/4 [00:00<00:00,  4.91it/s]",
          "output_type": "stream"
        },
        {
          "name": "stdout",
          "text": "                   all        128        929    0.00179     0.0522    0.00338   0.000688\n",
          "output_type": "stream"
        },
        {
          "name": "stderr",
          "text": "\n",
          "output_type": "stream"
        },
        {
          "name": "stdout",
          "text": "\n      Epoch    GPU_mem   box_loss   cls_loss   dfl_loss  Instances       Size\n",
          "output_type": "stream"
        },
        {
          "name": "stderr",
          "text": "     85/100      2.68G      3.384      5.014      3.826        317        640: 100%|██████████| 8/8 [00:01<00:00,  5.69it/s]\n                 Class     Images  Instances      Box(P          R      mAP50  mAP50-95): 100%|██████████| 4/4 [00:00<00:00,  4.75it/s]",
          "output_type": "stream"
        },
        {
          "name": "stdout",
          "text": "                   all        128        929    0.00187      0.052    0.00377   0.000737\n",
          "output_type": "stream"
        },
        {
          "name": "stderr",
          "text": "\n",
          "output_type": "stream"
        },
        {
          "name": "stdout",
          "text": "\n      Epoch    GPU_mem   box_loss   cls_loss   dfl_loss  Instances       Size\n",
          "output_type": "stream"
        },
        {
          "name": "stderr",
          "text": "     86/100      2.77G      3.299      5.108      3.816        249        640: 100%|██████████| 8/8 [00:01<00:00,  5.57it/s]\n                 Class     Images  Instances      Box(P          R      mAP50  mAP50-95): 100%|██████████| 4/4 [00:00<00:00,  4.79it/s]",
          "output_type": "stream"
        },
        {
          "name": "stdout",
          "text": "                   all        128        929    0.00186     0.0521    0.00407   0.000745\n",
          "output_type": "stream"
        },
        {
          "name": "stderr",
          "text": "\n",
          "output_type": "stream"
        },
        {
          "name": "stdout",
          "text": "\n      Epoch    GPU_mem   box_loss   cls_loss   dfl_loss  Instances       Size\n",
          "output_type": "stream"
        },
        {
          "name": "stderr",
          "text": "     87/100      2.79G       3.41      5.009      3.815        151        640: 100%|██████████| 8/8 [00:01<00:00,  5.73it/s]\n                 Class     Images  Instances      Box(P          R      mAP50  mAP50-95): 100%|██████████| 4/4 [00:00<00:00,  4.79it/s]",
          "output_type": "stream"
        },
        {
          "name": "stdout",
          "text": "                   all        128        929    0.00182     0.0521    0.00342   0.000647\n",
          "output_type": "stream"
        },
        {
          "name": "stderr",
          "text": "\n",
          "output_type": "stream"
        },
        {
          "name": "stdout",
          "text": "\n      Epoch    GPU_mem   box_loss   cls_loss   dfl_loss  Instances       Size\n",
          "output_type": "stream"
        },
        {
          "name": "stderr",
          "text": "     88/100      2.58G      3.324      5.045      3.826        169        640: 100%|██████████| 8/8 [00:01<00:00,  5.43it/s]\n                 Class     Images  Instances      Box(P          R      mAP50  mAP50-95): 100%|██████████| 4/4 [00:00<00:00,  4.55it/s]",
          "output_type": "stream"
        },
        {
          "name": "stdout",
          "text": "                   all        128        929    0.00191     0.0541    0.00366   0.000678\n",
          "output_type": "stream"
        },
        {
          "name": "stderr",
          "text": "\n",
          "output_type": "stream"
        },
        {
          "name": "stdout",
          "text": "\n      Epoch    GPU_mem   box_loss   cls_loss   dfl_loss  Instances       Size\n",
          "output_type": "stream"
        },
        {
          "name": "stderr",
          "text": "     89/100      2.64G      3.385      5.028      3.813        232        640: 100%|██████████| 8/8 [00:01<00:00,  5.63it/s]\n                 Class     Images  Instances      Box(P          R      mAP50  mAP50-95): 100%|██████████| 4/4 [00:00<00:00,  4.58it/s]",
          "output_type": "stream"
        },
        {
          "name": "stdout",
          "text": "                   all        128        929    0.00214     0.0546    0.00364    0.00073\n",
          "output_type": "stream"
        },
        {
          "name": "stderr",
          "text": "\n",
          "output_type": "stream"
        },
        {
          "name": "stdout",
          "text": "\n      Epoch    GPU_mem   box_loss   cls_loss   dfl_loss  Instances       Size\n",
          "output_type": "stream"
        },
        {
          "name": "stderr",
          "text": "     90/100      2.61G      3.417      5.141      3.853        220        640: 100%|██████████| 8/8 [00:01<00:00,  5.72it/s]\n                 Class     Images  Instances      Box(P          R      mAP50  mAP50-95): 100%|██████████| 4/4 [00:00<00:00,  4.69it/s]",
          "output_type": "stream"
        },
        {
          "name": "stdout",
          "text": "                   all        128        929    0.00158     0.0493    0.00335    0.00061\n",
          "output_type": "stream"
        },
        {
          "name": "stderr",
          "text": "\n",
          "output_type": "stream"
        },
        {
          "name": "stdout",
          "text": "Closing dataloader mosaic\n\u001b[34m\u001b[1malbumentations: \u001b[0mBlur(p=0.01, blur_limit=(3, 7)), MedianBlur(p=0.01, blur_limit=(3, 7)), ToGray(p=0.01), CLAHE(p=0.01, clip_limit=(1, 4.0), tile_grid_size=(8, 8))\n",
          "output_type": "stream"
        },
        {
          "name": "stderr",
          "text": "os.fork() was called. os.fork() is incompatible with multithreaded code, and JAX is multithreaded, so this will likely lead to a deadlock.\nos.fork() was called. os.fork() is incompatible with multithreaded code, and JAX is multithreaded, so this will likely lead to a deadlock.\n",
          "output_type": "stream"
        },
        {
          "name": "stdout",
          "text": "\n      Epoch    GPU_mem   box_loss   cls_loss   dfl_loss  Instances       Size\n",
          "output_type": "stream"
        },
        {
          "name": "stderr",
          "text": "     91/100      2.54G      3.308      5.342      3.765        101        640: 100%|██████████| 8/8 [00:04<00:00,  1.90it/s]\n                 Class     Images  Instances      Box(P          R      mAP50  mAP50-95): 100%|██████████| 4/4 [00:00<00:00,  4.53it/s]",
          "output_type": "stream"
        },
        {
          "name": "stdout",
          "text": "                   all        128        929    0.00142     0.0531    0.00332   0.000769\n",
          "output_type": "stream"
        },
        {
          "name": "stderr",
          "text": "\n",
          "output_type": "stream"
        },
        {
          "name": "stdout",
          "text": "\n      Epoch    GPU_mem   box_loss   cls_loss   dfl_loss  Instances       Size\n",
          "output_type": "stream"
        },
        {
          "name": "stderr",
          "text": "     92/100       2.6G      3.227      5.268      3.778        163        640: 100%|██████████| 8/8 [00:01<00:00,  5.83it/s]\n                 Class     Images  Instances      Box(P          R      mAP50  mAP50-95): 100%|██████████| 4/4 [00:00<00:00,  4.73it/s]",
          "output_type": "stream"
        },
        {
          "name": "stdout",
          "text": "                   all        128        929      0.241     0.0153    0.00397    0.00107\n",
          "output_type": "stream"
        },
        {
          "name": "stderr",
          "text": "\n",
          "output_type": "stream"
        },
        {
          "name": "stdout",
          "text": "\n      Epoch    GPU_mem   box_loss   cls_loss   dfl_loss  Instances       Size\n",
          "output_type": "stream"
        },
        {
          "name": "stderr",
          "text": "     93/100       2.6G      3.212      5.269      3.798        134        640: 100%|██████████| 8/8 [00:01<00:00,  5.78it/s]\n                 Class     Images  Instances      Box(P          R      mAP50  mAP50-95): 100%|██████████| 4/4 [00:00<00:00,  4.65it/s]",
          "output_type": "stream"
        },
        {
          "name": "stdout",
          "text": "                   all        128        929      0.199     0.0191    0.00407    0.00119\n",
          "output_type": "stream"
        },
        {
          "name": "stderr",
          "text": "\n",
          "output_type": "stream"
        },
        {
          "name": "stdout",
          "text": "\n      Epoch    GPU_mem   box_loss   cls_loss   dfl_loss  Instances       Size\n",
          "output_type": "stream"
        },
        {
          "name": "stderr",
          "text": "     94/100      2.55G      3.259      5.167      3.764        124        640: 100%|██████████| 8/8 [00:01<00:00,  5.75it/s]\n                 Class     Images  Instances      Box(P          R      mAP50  mAP50-95): 100%|██████████| 4/4 [00:00<00:00,  4.66it/s]",
          "output_type": "stream"
        },
        {
          "name": "stdout",
          "text": "                   all        128        929    0.00235      0.056    0.00468     0.0013\n",
          "output_type": "stream"
        },
        {
          "name": "stderr",
          "text": "\n",
          "output_type": "stream"
        },
        {
          "name": "stdout",
          "text": "\n      Epoch    GPU_mem   box_loss   cls_loss   dfl_loss  Instances       Size\n",
          "output_type": "stream"
        },
        {
          "name": "stderr",
          "text": "     95/100      2.66G      3.265      5.235      3.772        127        640: 100%|██████████| 8/8 [00:01<00:00,  5.78it/s]\n                 Class     Images  Instances      Box(P          R      mAP50  mAP50-95): 100%|██████████| 4/4 [00:00<00:00,  4.57it/s]",
          "output_type": "stream"
        },
        {
          "name": "stdout",
          "text": "                   all        128        929    0.00255     0.0526    0.00481     0.0013\n",
          "output_type": "stream"
        },
        {
          "name": "stderr",
          "text": "\n",
          "output_type": "stream"
        },
        {
          "name": "stdout",
          "text": "\n      Epoch    GPU_mem   box_loss   cls_loss   dfl_loss  Instances       Size\n",
          "output_type": "stream"
        },
        {
          "name": "stderr",
          "text": "     96/100       2.6G      3.217      5.169      3.768        120        640: 100%|██████████| 8/8 [00:01<00:00,  5.85it/s]\n                 Class     Images  Instances      Box(P          R      mAP50  mAP50-95): 100%|██████████| 4/4 [00:00<00:00,  4.64it/s]",
          "output_type": "stream"
        },
        {
          "name": "stdout",
          "text": "                   all        128        929      0.346    0.00393    0.00482    0.00121\n",
          "output_type": "stream"
        },
        {
          "name": "stderr",
          "text": "\n",
          "output_type": "stream"
        },
        {
          "name": "stdout",
          "text": "\n      Epoch    GPU_mem   box_loss   cls_loss   dfl_loss  Instances       Size\n",
          "output_type": "stream"
        },
        {
          "name": "stderr",
          "text": "     97/100      2.54G      3.192      5.193      3.729        115        640: 100%|██████████| 8/8 [00:01<00:00,  5.84it/s]\n                 Class     Images  Instances      Box(P          R      mAP50  mAP50-95): 100%|██████████| 4/4 [00:00<00:00,  4.73it/s]",
          "output_type": "stream"
        },
        {
          "name": "stdout",
          "text": "                   all        128        929    0.00249      0.056    0.00465    0.00113\n",
          "output_type": "stream"
        },
        {
          "name": "stderr",
          "text": "\n",
          "output_type": "stream"
        },
        {
          "name": "stdout",
          "text": "\n      Epoch    GPU_mem   box_loss   cls_loss   dfl_loss  Instances       Size\n",
          "output_type": "stream"
        },
        {
          "name": "stderr",
          "text": "     98/100       2.6G      3.251      5.185      3.755         96        640: 100%|██████████| 8/8 [00:01<00:00,  5.81it/s]\n                 Class     Images  Instances      Box(P          R      mAP50  mAP50-95): 100%|██████████| 4/4 [00:00<00:00,  4.76it/s]",
          "output_type": "stream"
        },
        {
          "name": "stdout",
          "text": "                   all        128        929    0.00239     0.0572    0.00477    0.00137\n",
          "output_type": "stream"
        },
        {
          "name": "stderr",
          "text": "\n",
          "output_type": "stream"
        },
        {
          "name": "stdout",
          "text": "\n      Epoch    GPU_mem   box_loss   cls_loss   dfl_loss  Instances       Size\n",
          "output_type": "stream"
        },
        {
          "name": "stderr",
          "text": "     99/100      2.62G      3.239      5.198      3.756        127        640: 100%|██████████| 8/8 [00:01<00:00,  5.82it/s]\n                 Class     Images  Instances      Box(P          R      mAP50  mAP50-95): 100%|██████████| 4/4 [00:00<00:00,  4.78it/s]",
          "output_type": "stream"
        },
        {
          "name": "stdout",
          "text": "                   all        128        929    0.00252      0.058    0.00581     0.0017\n",
          "output_type": "stream"
        },
        {
          "name": "stderr",
          "text": "\n",
          "output_type": "stream"
        },
        {
          "name": "stdout",
          "text": "\n      Epoch    GPU_mem   box_loss   cls_loss   dfl_loss  Instances       Size\n",
          "output_type": "stream"
        },
        {
          "name": "stderr",
          "text": "    100/100      2.59G      3.266      5.205      3.766         72        640: 100%|██████████| 8/8 [00:01<00:00,  5.74it/s]\n                 Class     Images  Instances      Box(P          R      mAP50  mAP50-95): 100%|██████████| 4/4 [00:00<00:00,  4.69it/s]",
          "output_type": "stream"
        },
        {
          "name": "stdout",
          "text": "                   all        128        929    0.00249     0.0581    0.00508    0.00138\n",
          "output_type": "stream"
        },
        {
          "name": "stderr",
          "text": "\n",
          "output_type": "stream"
        },
        {
          "name": "stdout",
          "text": "\n100 epochs completed in 0.095 hours.\nOptimizer stripped from /kaggle/working/ultralytics/runs/detect/train7/weights/last.pt, 6.5MB\nOptimizer stripped from /kaggle/working/ultralytics/runs/detect/train7/weights/best.pt, 6.5MB\n\nValidating /kaggle/working/ultralytics/runs/detect/train7/weights/best.pt...\nUltralytics YOLOv8.2.76 🚀 Python-3.10.13 torch-2.1.2 CUDA:0 (Tesla T4, 15095MiB)\nYOLOv8n summary (fused): 168 layers, 3,151,904 parameters, 0 gradients, 8.7 GFLOPs\n",
          "output_type": "stream"
        },
        {
          "name": "stderr",
          "text": "                 Class     Images  Instances      Box(P          R      mAP50  mAP50-95): 100%|██████████| 4/4 [00:02<00:00,  1.41it/s]\n",
          "output_type": "stream"
        },
        {
          "name": "stdout",
          "text": "                   all        128        929    0.00254     0.0553    0.00631    0.00176\n                person         61        254    0.00401       0.28    0.00736    0.00198\n               bicycle          3          6          0          0          0          0\n                   car         12         46          0          0          0          0\n            motorcycle          4          5    0.00371        0.8     0.0372    0.00872\n              airplane          5          6     0.0112      0.167     0.0069    0.00207\n                   bus          5          7    0.00395      0.143    0.00274    0.00137\n                 train          3          3    0.00377      0.333    0.00272   0.000272\n                 truck          5         12          0          0          0          0\n                  boat          2          6          0          0          0          0\n         traffic light          4         14          0          0          0          0\n             stop sign          2          2          0          0          0          0\n                 bench          5          9          0          0          0          0\n                  bird          2         16          0          0          0          0\n                   cat          4          4          0          0          0          0\n                   dog          9          9     0.0323      0.111     0.0194    0.00194\n                 horse          1          2          0          0          0          0\n              elephant          4         17          0          0          0          0\n                  bear          1          1          0          0          0          0\n                 zebra          2          4          0          0          0          0\n               giraffe          4          9          0          0          0          0\n              backpack          4          6          0          0          0          0\n              umbrella          4         18          0          0          0          0\n               handbag          9         19          0          0          0          0\n                   tie          6          7          0          0          0          0\n              suitcase          2          4          0          0          0          0\n               frisbee          5          5    0.00943        0.2      0.199     0.0232\n                  skis          1          1          0          0          0          0\n             snowboard          2          7          0          0          0          0\n           sports ball          6          6          0          0          0          0\n                  kite          2         10          0          0          0          0\n          baseball bat          4          4          0          0          0          0\n        baseball glove          4          7          0          0          0          0\n            skateboard          3          5          0          0          0          0\n         tennis racket          5          7          0          0          0          0\n                bottle          6         18          0          0          0          0\n            wine glass          5         16          0          0          0          0\n                   cup         10         36          0          0          0          0\n                  fork          6          6          0          0          0          0\n                 knife          7         16          0          0          0          0\n                 spoon          5         22          0          0          0          0\n                  bowl          9         28     0.0049      0.179     0.0206    0.00655\n                banana          1          1          0          0          0          0\n              sandwich          2          2     0.0323        0.5     0.0907     0.0553\n                orange          1          4          0          0          0          0\n              broccoli          4         11          0          0          0          0\n                carrot          3         24          0          0          0          0\n               hot dog          1          2          0          0          0          0\n                 pizza          5          5    0.00462        0.6     0.0107    0.00147\n                 donut          2         14          0          0          0          0\n                  cake          4          4          0          0          0          0\n                 chair          9         35          0          0          0          0\n                 couch          5          6          0          0          0          0\n          potted plant          9         14          0          0          0          0\n                   bed          3          3     0.0556      0.333     0.0424     0.0212\n          dining table         10         13     0.0036      0.231    0.00245   0.000376\n                toilet          2          2          0          0          0          0\n                    tv          2          2          0          0          0          0\n                laptop          2          3          0          0          0          0\n                 mouse          2          2          0          0          0          0\n                remote          5          8          0          0          0          0\n            cell phone          5          8          0          0          0          0\n             microwave          3          3          0          0          0          0\n                  oven          5          5          0          0          0          0\n                  sink          4          6          0          0          0          0\n          refrigerator          5          5          0          0          0          0\n                  book          6         29          0          0          0          0\n                 clock          8          9          0          0          0          0\n                  vase          2          2          0          0          0          0\n              scissors          1          1          0          0          0          0\n            teddy bear          6         21     0.0109     0.0476    0.00589   0.000589\n            toothbrush          2          5          0          0          0          0\nSpeed: 0.2ms preprocess, 3.0ms inference, 0.0ms loss, 2.0ms postprocess per image\nResults saved to \u001b[1m/kaggle/working/ultralytics/runs/detect/train7\u001b[0m\n",
          "output_type": "stream"
        }
      ]
    }
  ]
}